{
 "cells": [
  {
   "cell_type": "markdown",
   "metadata": {},
   "source": [
    "# MODELO DE MERCADO CAPM"
   ]
  },
  {
   "cell_type": "markdown",
   "metadata": {},
   "source": [
    "- **Modelo de Markowitz - Modelo Normativo:**\n",
    "  - Sirve como guía para inversores que buscan maximizar su utilidad esperada.\n",
    "  - Indica en qué activos financieros invertir y su ponderación.\n",
    "\n",
    "- **Generalización del Modelo de Markowitz - Modelo \"Capital Asset Pricing Model\" (CAPM):**\n",
    "  - Examina los precios de equilibrio de los activos financieros en el mercado.\n",
    "  - Basado en decisiones de los inversores conforme al modelo de selección de cartera de Markowitz.\n",
    "\n",
    "- **CAPM:**\n",
    "  - Considera el equilibrio en mercados de bienes de consumo, factores productivos y mercado monetario.\n",
    "  - Enfoca en determinar los precios de equilibrio de activos financieros arriesgados.\n",
    "\n",
    "- **Supuestos del Modelo CAPM:**\n",
    "  - Supuestos del comportamiento de inversores y características de activos y mercados financieros del modelo de Markowitz.\n",
    "  - Supuestos adicionales sobre mercados financieros: expectativas homogéneas de inversores y equilibrio de mercados de capitales al inicio del período de planificación.\n",
    "\n",
    "- **Teoría de Separación de Tobin y CAPM:**\n",
    "  - Carteras compuestas por activo libre de riesgo y cartera tangente.\n",
    "  - La cartera tangente se convierte en la cartera de mercado, representando todos los títulos arriesgados en proporciones de su valor en el mercado.\n",
    "\n",
    "- **Línea de Mercado de Capitales (CML):**\n",
    "  - Representa la frontera eficiente para inversores con carteras mixtas de activo libre de riesgo y cartera de mercado.\n"
   ]
  },
  {
   "cell_type": "markdown",
   "metadata": {},
   "source": [
    "- **Cartera de mercado $\\bold{C_M}$**\n",
    "  - Independiente de la función de utilidad o tolerancia al riesgo de los inversores\n",
    "  - La proporción de cada activo en la cartera de mercado corresponde al porcentaje que ese activo representa en la capitalización total del mercado:\n",
    "\n",
    "$\\qquad \\qquad w^M_i = \\displaystyle \\frac{P_i Q_i}{\\sum_{i=1}^{N}P_i Q_i} \\qquad \\text{siendo:} \\qquad \\sum_{i=1}^{N} w_i = 1 $"
   ]
  }
 ],
 "metadata": {
  "kernelspec": {
   "display_name": "Python 3",
   "language": "python",
   "name": "python3"
  },
  "language_info": {
   "name": "python",
   "version": "3.11.6"
  }
 },
 "nbformat": 4,
 "nbformat_minor": 2
}
