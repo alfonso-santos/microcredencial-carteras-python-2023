{
 "cells": [
  {
   "cell_type": "code",
   "execution_count": 1,
   "metadata": {},
   "outputs": [
    {
     "data": {
      "text/html": [
       "<link rel='stylesheet' href='../../design/custom.css'>"
      ],
      "text/plain": [
       "<IPython.core.display.HTML object>"
      ]
     },
     "metadata": {},
     "output_type": "display_data"
    }
   ],
   "source": [
    "from IPython.display import HTML, display\n",
    "css_file_path = \"../../design/custom.css\"\n",
    "styles = \"<link rel='stylesheet' href='%s'>\" % css_file_path\n",
    "display(HTML(styles))"
   ]
  },
  {
   "cell_type": "markdown",
   "metadata": {},
   "source": [
    "# 4.3 $\\quad$ Modelo de mercado"
   ]
  },
  {
   "attachments": {},
   "cell_type": "markdown",
   "metadata": {},
   "source": [
    "Supongamos que el mercado está compuesto por de 500 títulos. Para estimar la cartera $M$ necesitamos la matriz de varianzas covarianzas es decir una matriz de 500x500= 250,000 celdas. Es decir, 500 varianzas y 124.750 covarianzas. Por ello, se propuso utilizar los indices de mercado como una proxy de la cartera $M$. Y estimar la beta mediante la siguiente regresión:  \n",
    "\n",
    "$$\\Large  R_{i,t} - R_f = \\alpha_i + \\beta_i (R_{Mt} - R_f) + \\epsilon_{i,t} $$\n",
    "\n",
    "$$\\Large \\pi_i=\\alpha_i + \\beta_i \\pi_{Mt}+ \\epsilon_{i,t}$$\n",
    "\n",
    "donde:\n",
    "\n",
    "- $ R_{it} $: Rendimiento del activo individual\n",
    "- $ \\alpha_i $: Alpha del activo\n",
    "- $ \\beta_i $: Beta del activo\n",
    "- $ R_{mt} $: Rendimiento del indice de mercado\n",
    "- $ \\epsilon_i $: Término de error\n",
    "- $ \\pi_i = R_i - R_f $: Premio por riesgo\n",
    "\n",
    "Veámoslo representado en la siguiente figura, donde se compara el activo `META` con el Nasdaq Composite Index (^IXIC). La imagen ha sido extraída del apéndice del capítulo **3.2. Conceptos Iniciales de Optimización**:"
   ]
  },
  {
   "cell_type": "markdown",
   "metadata": {},
   "source": [
    "<img src=\"../imgs/capm_ejemplo.jpg\">"
   ]
  },
  {
   "attachments": {},
   "cell_type": "markdown",
   "metadata": {},
   "source": [
    "- La recta naranja (el modelo) define la relación \"promedio\" entre el activo y el mercado.\n",
    "\n",
    "- Los puntos azules representan el comportamiento del activo frente al mercado. Cuando los puntos azules están por encima de la recta, el activo ha ofrecido una rentabilidad superior a la media y cuanto está por debajo inferior a la media.\n",
    "\n",
    "- Los puntos azules están más o menos \"pegados\" a la recta naranja según el caso. Cuando los puntos están más pegados, significa que el modelo expica mejor el comportamiento del título y el error cometido es menor. En el caso contrario, cuando los puntos están más alejados, significa que el modelo se está aproximando peor, es decir, el error cometido es mayor.\n",
    "\n",
    "La estimación del modelo exige que se cumplan un conjunto de hipótesis:\n",
    "1. $E(\\varepsilon_{it})=0$\n",
    "2. $\\sigma^2(\\varepsilon_{it})=\\sigma^2_i, \\forall t$\n",
    "3. $cov(\\varepsilon_{it},r_{it})=0,\\forall t$\n",
    "4. $cov(\\varepsilon_{it},\\varepsilon_{it'})=0, \\forall t\\neq t'$\n",
    "5. $cov(\\varepsilon_{it},\\varepsilon_{jt})=0, \\forall i\\neq j$\n",
    "6. $N[0,\\sigma^2_\\varepsilon ]$"
   ]
  },
  {
   "attachments": {},
   "cell_type": "markdown",
   "metadata": {},
   "source": [
    "## 1. Análisis de Rendimiento de una empresa, cartera o fondo: Alpha y Beta\n",
    "\n",
    "- $\\alpha_i$ es la parte del rendimiento del activo que es constante en el tiempo y que no depende del riesgo sistemático.  \n",
    "- $\\beta_i$ la parte de la rentabilidad que depende del comportamiento del mercado, es por tanto el **riesgo sistemático**.\n",
    "- $\\varepsilon_{it}$ perturbación aleatoria del título, provocado por acontecimientos no predecibles, por tanto es una medida del **riesgo específico**."
   ]
  },
  {
   "attachments": {},
   "cell_type": "markdown",
   "metadata": {},
   "source": [
    "### Interpretación del modelo a nivel empresa\n",
    "\n",
    "**Beta** ($\\beta_i$) define la pendiente del modelo. Es un indicador de cuánto del rendimiento del activo está correlacionado con el rendimiento del mercado.\n",
    "\n",
    "- **Interpretación**:\n",
    "  - **Beta > 1**: El activo amplifica el comportamiento del mercado, presenta un elevado nivel de riesgo sistemático, por tanto deberá ofrecer más rentabilidad que el mercado.\n",
    "  - **Beta < 1**: El activo atenúa el comportamiento del mercado. Tiene un menor nivel de riesgo sistemático y por tanto deberán ofrecer menos rentabilidad que el mercado.\n",
    "  - **Beta ≈ 1**: El activo se comporta como el mercado, debe ofrecer la rentabilidad del mercado. \n",
    "\n",
    "La **Beta** nos ayuda a entender qué parte del rendimiento del activo es atribuible a los movimientos del mercado. \n",
    "\n",
    "#### Factores que Influyen en el Valor de la Beta de Mercado de una Empresa\n",
    "\n",
    "- **Tipo de Sector**: impacto del ciclo económico en el sector.\n",
    "\n",
    "- **Diversificación de Productos**: Empresas con diversificación en productos o servicios tienden a tener betas más bajos.\n",
    "\n",
    "- **Diversisificación Geográfica**: El impacto de la diversificación geográfica de la actividad sobre el riesgo sistemático no es obvia pues confluyen efectos contradictorios. Por una lado la diversificación geográfica de la actividad debe reducir el riesgo sistemática, pero dicho proceso exigen asumir nuevas fuentes de riesgo como el riesgo de tipo de cambio y el riesgo país, con un resultado incierto sobre la beta.\n",
    "\n",
    "- **Estructura Financiera**: Mayor apalancamiento financiero (deuda) implica mayor beta.\n",
    "\n",
    "**Alpha**\n",
    "\n",
    "Si definimos el exceso de rentabilidad de una cartera $\\pi_i=\\mu_i-r_f$ el modelo de mercado propone:\n",
    "\n",
    "$$\\pi_i=\\alpha_i+ \\beta_i \\pi_M$$\n",
    "\n",
    "Si $\\alpha_i \\neq 0$ que por alguna razón al activo se le exige una rentabilidad por encima o por debajo de la que debería ofrecer en función de su nivel de riesgo sistemático. Esto cuestiona el CAPM y podría interpretarse de la siguiente manera:\n",
    "- $\\alpha_i <0$ el activo está sobrevalorado\n",
    "- $\\alpha_i >0$ el activo está infravalorado\n",
    "\n",
    "#### El riesgo de un título\n",
    "\n",
    "La volatilidad de una activo viene definida por la siguiente expresión:\n",
    "\n",
    "$$\\sigma^2(\\pi_{it})=\\sigma^2(\\alpha_i+\\beta_i \\pi_{M,t}\\varepsilon_{it})=$$\n",
    "$$\\beta_i^2\\sigma^2(\\pi_{Mt})+\\sigma^2(\\varepsilon_{it})$$\n",
    "\n",
    "La primera parte de la ecuación representa el riesgo sistemático y la segunda el específico, pero recuerda que el mercado retribuye únicamente el riesgo sistemático.\n"
   ]
  },
  {
   "cell_type": "markdown",
   "metadata": {},
   "source": [
    "## 2. Resultados del modelo con algunos activos"
   ]
  },
  {
   "cell_type": "code",
   "execution_count": 2,
   "metadata": {},
   "outputs": [],
   "source": [
    "import numpy as np\n",
    "import pandas as pd\n",
    "import matplotlib.pyplot as plt\n",
    "import seaborn as sns\n",
    "import yfinance as yf\n",
    "import cvxpy as cp\n",
    "import plotly.graph_objects as go\n",
    "from tqdm.auto import tqdm\n",
    "import statsmodels.api as sm\n",
    "import warnings\n",
    "from datetime import datetime, timedelta\n",
    "\n",
    "# print(plt.style.available) #list of available styles\n",
    "#plt.style.use('ggplot')\n",
    "# Configura el estilo de Seaborn para que los gráficos se vean más atractivos\n",
    "sns.set(style=\"whitegrid\")\n",
    "\n",
    "plt.rcParams['figure.figsize'] = [16, 9]\n",
    "plt.rcParams['figure.dpi'] = 100\n",
    "warnings.simplefilter(action='ignore', category=FutureWarning)"
   ]
  },
  {
   "cell_type": "markdown",
   "metadata": {},
   "source": [
    "### ANALIZAR ALGUNAS ACCIONES INDIVIDUALES"
   ]
  },
  {
   "cell_type": "markdown",
   "metadata": {},
   "source": [
    "Vamos a analizar un activo empleando del modelo de mercado. Elegimos la acción de Endesa y como índice de mercado usamos el IBEX35:"
   ]
  },
  {
   "cell_type": "code",
   "execution_count": 3,
   "metadata": {},
   "outputs": [
    {
     "name": "stderr",
     "output_type": "stream",
     "text": [
      "[*********************100%%**********************]  1 of 1 completed\n",
      "/usr/local/lib/python3.11/site-packages/pandas/core/arraylike.py:396: RuntimeWarning: invalid value encountered in log\n",
      "  result = getattr(ufunc, method)(*inputs, **kwargs)\n",
      "[*********************100%%**********************]  1 of 1 completed\n"
     ]
    }
   ],
   "source": [
    "precios_endesa = yf.download(\"ELE.MC\", start=\"2000-01-01\", end=\"2023-11-30\")[\"Adj Close\"] # Precios ajustados al cierre\n",
    "precios_endesa = precios_endesa.dropna() # Eliminar filas con NA's\n",
    "rendimientos_endesa = np.log(precios_endesa).diff().dropna()\n",
    "\n",
    "precios_ibex35 = yf.download(\"^IBEX\", start=\"2000-01-01\", end=\"2023-11-30\")[\"Adj Close\"] # Precios ajustados al cierre\n",
    "precios_ibex35 = precios_ibex35.dropna() # Eliminar filas con NA's\n",
    "rendimientos_ibex35 = np.log(precios_ibex35).diff().dropna()\n"
   ]
  },
  {
   "cell_type": "code",
   "execution_count": 5,
   "metadata": {},
   "outputs": [
    {
     "ename": "ValueError",
     "evalue": "The indices for endog and exog are not aligned",
     "output_type": "error",
     "traceback": [
      "\u001b[0;31m---------------------------------------------------------------------------\u001b[0m",
      "\u001b[0;31mValueError\u001b[0m                                Traceback (most recent call last)",
      "Cell \u001b[0;32mIn[5], line 6\u001b[0m\n\u001b[1;32m      3\u001b[0m X_sm \u001b[38;5;241m=\u001b[39m sm\u001b[38;5;241m.\u001b[39madd_constant(X)  \u001b[38;5;66;03m# Añadir una constante a la variable X\u001b[39;00m\n\u001b[1;32m      5\u001b[0m \u001b[38;5;66;03m# Crear y ajustar el modelo\u001b[39;00m\n\u001b[0;32m----> 6\u001b[0m modelo \u001b[38;5;241m=\u001b[39m \u001b[43msm\u001b[49m\u001b[38;5;241;43m.\u001b[39;49m\u001b[43mOLS\u001b[49m\u001b[43m(\u001b[49m\u001b[43my\u001b[49m\u001b[43m,\u001b[49m\u001b[43m \u001b[49m\u001b[43mX_sm\u001b[49m\u001b[43m)\u001b[49m\u001b[38;5;241m.\u001b[39mfit()\n",
      "File \u001b[0;32m/usr/local/lib/python3.11/site-packages/statsmodels/regression/linear_model.py:923\u001b[0m, in \u001b[0;36mOLS.__init__\u001b[0;34m(self, endog, exog, missing, hasconst, **kwargs)\u001b[0m\n\u001b[1;32m    920\u001b[0m     msg \u001b[38;5;241m=\u001b[39m (\u001b[38;5;124m\"\u001b[39m\u001b[38;5;124mWeights are not supported in OLS and will be ignored\u001b[39m\u001b[38;5;124m\"\u001b[39m\n\u001b[1;32m    921\u001b[0m            \u001b[38;5;124m\"\u001b[39m\u001b[38;5;124mAn exception will be raised in the next version.\u001b[39m\u001b[38;5;124m\"\u001b[39m)\n\u001b[1;32m    922\u001b[0m     warnings\u001b[38;5;241m.\u001b[39mwarn(msg, ValueWarning)\n\u001b[0;32m--> 923\u001b[0m \u001b[38;5;28;43msuper\u001b[39;49m\u001b[43m(\u001b[49m\u001b[43mOLS\u001b[49m\u001b[43m,\u001b[49m\u001b[43m \u001b[49m\u001b[38;5;28;43mself\u001b[39;49m\u001b[43m)\u001b[49m\u001b[38;5;241;43m.\u001b[39;49m\u001b[38;5;21;43m__init__\u001b[39;49m\u001b[43m(\u001b[49m\u001b[43mendog\u001b[49m\u001b[43m,\u001b[49m\u001b[43m \u001b[49m\u001b[43mexog\u001b[49m\u001b[43m,\u001b[49m\u001b[43m \u001b[49m\u001b[43mmissing\u001b[49m\u001b[38;5;241;43m=\u001b[39;49m\u001b[43mmissing\u001b[49m\u001b[43m,\u001b[49m\n\u001b[1;32m    924\u001b[0m \u001b[43m                          \u001b[49m\u001b[43mhasconst\u001b[49m\u001b[38;5;241;43m=\u001b[39;49m\u001b[43mhasconst\u001b[49m\u001b[43m,\u001b[49m\u001b[43m \u001b[49m\u001b[38;5;241;43m*\u001b[39;49m\u001b[38;5;241;43m*\u001b[39;49m\u001b[43mkwargs\u001b[49m\u001b[43m)\u001b[49m\n\u001b[1;32m    925\u001b[0m \u001b[38;5;28;01mif\u001b[39;00m \u001b[38;5;124m\"\u001b[39m\u001b[38;5;124mweights\u001b[39m\u001b[38;5;124m\"\u001b[39m \u001b[38;5;129;01min\u001b[39;00m \u001b[38;5;28mself\u001b[39m\u001b[38;5;241m.\u001b[39m_init_keys:\n\u001b[1;32m    926\u001b[0m     \u001b[38;5;28mself\u001b[39m\u001b[38;5;241m.\u001b[39m_init_keys\u001b[38;5;241m.\u001b[39mremove(\u001b[38;5;124m\"\u001b[39m\u001b[38;5;124mweights\u001b[39m\u001b[38;5;124m\"\u001b[39m)\n",
      "File \u001b[0;32m/usr/local/lib/python3.11/site-packages/statsmodels/regression/linear_model.py:748\u001b[0m, in \u001b[0;36mWLS.__init__\u001b[0;34m(self, endog, exog, weights, missing, hasconst, **kwargs)\u001b[0m\n\u001b[1;32m    746\u001b[0m \u001b[38;5;28;01melse\u001b[39;00m:\n\u001b[1;32m    747\u001b[0m     weights \u001b[38;5;241m=\u001b[39m weights\u001b[38;5;241m.\u001b[39msqueeze()\n\u001b[0;32m--> 748\u001b[0m \u001b[38;5;28;43msuper\u001b[39;49m\u001b[43m(\u001b[49m\u001b[43mWLS\u001b[49m\u001b[43m,\u001b[49m\u001b[43m \u001b[49m\u001b[38;5;28;43mself\u001b[39;49m\u001b[43m)\u001b[49m\u001b[38;5;241;43m.\u001b[39;49m\u001b[38;5;21;43m__init__\u001b[39;49m\u001b[43m(\u001b[49m\u001b[43mendog\u001b[49m\u001b[43m,\u001b[49m\u001b[43m \u001b[49m\u001b[43mexog\u001b[49m\u001b[43m,\u001b[49m\u001b[43m \u001b[49m\u001b[43mmissing\u001b[49m\u001b[38;5;241;43m=\u001b[39;49m\u001b[43mmissing\u001b[49m\u001b[43m,\u001b[49m\n\u001b[1;32m    749\u001b[0m \u001b[43m                          \u001b[49m\u001b[43mweights\u001b[49m\u001b[38;5;241;43m=\u001b[39;49m\u001b[43mweights\u001b[49m\u001b[43m,\u001b[49m\u001b[43m \u001b[49m\u001b[43mhasconst\u001b[49m\u001b[38;5;241;43m=\u001b[39;49m\u001b[43mhasconst\u001b[49m\u001b[43m,\u001b[49m\u001b[43m \u001b[49m\u001b[38;5;241;43m*\u001b[39;49m\u001b[38;5;241;43m*\u001b[39;49m\u001b[43mkwargs\u001b[49m\u001b[43m)\u001b[49m\n\u001b[1;32m    750\u001b[0m nobs \u001b[38;5;241m=\u001b[39m \u001b[38;5;28mself\u001b[39m\u001b[38;5;241m.\u001b[39mexog\u001b[38;5;241m.\u001b[39mshape[\u001b[38;5;241m0\u001b[39m]\n\u001b[1;32m    751\u001b[0m weights \u001b[38;5;241m=\u001b[39m \u001b[38;5;28mself\u001b[39m\u001b[38;5;241m.\u001b[39mweights\n",
      "File \u001b[0;32m/usr/local/lib/python3.11/site-packages/statsmodels/regression/linear_model.py:202\u001b[0m, in \u001b[0;36mRegressionModel.__init__\u001b[0;34m(self, endog, exog, **kwargs)\u001b[0m\n\u001b[1;32m    201\u001b[0m \u001b[38;5;28;01mdef\u001b[39;00m \u001b[38;5;21m__init__\u001b[39m(\u001b[38;5;28mself\u001b[39m, endog, exog, \u001b[38;5;241m*\u001b[39m\u001b[38;5;241m*\u001b[39mkwargs):\n\u001b[0;32m--> 202\u001b[0m     \u001b[38;5;28;43msuper\u001b[39;49m\u001b[43m(\u001b[49m\u001b[43mRegressionModel\u001b[49m\u001b[43m,\u001b[49m\u001b[43m \u001b[49m\u001b[38;5;28;43mself\u001b[39;49m\u001b[43m)\u001b[49m\u001b[38;5;241;43m.\u001b[39;49m\u001b[38;5;21;43m__init__\u001b[39;49m\u001b[43m(\u001b[49m\u001b[43mendog\u001b[49m\u001b[43m,\u001b[49m\u001b[43m \u001b[49m\u001b[43mexog\u001b[49m\u001b[43m,\u001b[49m\u001b[43m \u001b[49m\u001b[38;5;241;43m*\u001b[39;49m\u001b[38;5;241;43m*\u001b[39;49m\u001b[43mkwargs\u001b[49m\u001b[43m)\u001b[49m\n\u001b[1;32m    203\u001b[0m     \u001b[38;5;28mself\u001b[39m\u001b[38;5;241m.\u001b[39mpinv_wexog: Float64Array \u001b[38;5;241m|\u001b[39m \u001b[38;5;28;01mNone\u001b[39;00m \u001b[38;5;241m=\u001b[39m \u001b[38;5;28;01mNone\u001b[39;00m\n\u001b[1;32m    204\u001b[0m     \u001b[38;5;28mself\u001b[39m\u001b[38;5;241m.\u001b[39m_data_attr\u001b[38;5;241m.\u001b[39mextend([\u001b[38;5;124m'\u001b[39m\u001b[38;5;124mpinv_wexog\u001b[39m\u001b[38;5;124m'\u001b[39m, \u001b[38;5;124m'\u001b[39m\u001b[38;5;124mwendog\u001b[39m\u001b[38;5;124m'\u001b[39m, \u001b[38;5;124m'\u001b[39m\u001b[38;5;124mwexog\u001b[39m\u001b[38;5;124m'\u001b[39m, \u001b[38;5;124m'\u001b[39m\u001b[38;5;124mweights\u001b[39m\u001b[38;5;124m'\u001b[39m])\n",
      "File \u001b[0;32m/usr/local/lib/python3.11/site-packages/statsmodels/base/model.py:270\u001b[0m, in \u001b[0;36mLikelihoodModel.__init__\u001b[0;34m(self, endog, exog, **kwargs)\u001b[0m\n\u001b[1;32m    269\u001b[0m \u001b[38;5;28;01mdef\u001b[39;00m \u001b[38;5;21m__init__\u001b[39m(\u001b[38;5;28mself\u001b[39m, endog, exog\u001b[38;5;241m=\u001b[39m\u001b[38;5;28;01mNone\u001b[39;00m, \u001b[38;5;241m*\u001b[39m\u001b[38;5;241m*\u001b[39mkwargs):\n\u001b[0;32m--> 270\u001b[0m     \u001b[38;5;28;43msuper\u001b[39;49m\u001b[43m(\u001b[49m\u001b[43m)\u001b[49m\u001b[38;5;241;43m.\u001b[39;49m\u001b[38;5;21;43m__init__\u001b[39;49m\u001b[43m(\u001b[49m\u001b[43mendog\u001b[49m\u001b[43m,\u001b[49m\u001b[43m \u001b[49m\u001b[43mexog\u001b[49m\u001b[43m,\u001b[49m\u001b[43m \u001b[49m\u001b[38;5;241;43m*\u001b[39;49m\u001b[38;5;241;43m*\u001b[39;49m\u001b[43mkwargs\u001b[49m\u001b[43m)\u001b[49m\n\u001b[1;32m    271\u001b[0m     \u001b[38;5;28mself\u001b[39m\u001b[38;5;241m.\u001b[39minitialize()\n",
      "File \u001b[0;32m/usr/local/lib/python3.11/site-packages/statsmodels/base/model.py:95\u001b[0m, in \u001b[0;36mModel.__init__\u001b[0;34m(self, endog, exog, **kwargs)\u001b[0m\n\u001b[1;32m     93\u001b[0m missing \u001b[38;5;241m=\u001b[39m kwargs\u001b[38;5;241m.\u001b[39mpop(\u001b[38;5;124m'\u001b[39m\u001b[38;5;124mmissing\u001b[39m\u001b[38;5;124m'\u001b[39m, \u001b[38;5;124m'\u001b[39m\u001b[38;5;124mnone\u001b[39m\u001b[38;5;124m'\u001b[39m)\n\u001b[1;32m     94\u001b[0m hasconst \u001b[38;5;241m=\u001b[39m kwargs\u001b[38;5;241m.\u001b[39mpop(\u001b[38;5;124m'\u001b[39m\u001b[38;5;124mhasconst\u001b[39m\u001b[38;5;124m'\u001b[39m, \u001b[38;5;28;01mNone\u001b[39;00m)\n\u001b[0;32m---> 95\u001b[0m \u001b[38;5;28mself\u001b[39m\u001b[38;5;241m.\u001b[39mdata \u001b[38;5;241m=\u001b[39m \u001b[38;5;28;43mself\u001b[39;49m\u001b[38;5;241;43m.\u001b[39;49m\u001b[43m_handle_data\u001b[49m\u001b[43m(\u001b[49m\u001b[43mendog\u001b[49m\u001b[43m,\u001b[49m\u001b[43m \u001b[49m\u001b[43mexog\u001b[49m\u001b[43m,\u001b[49m\u001b[43m \u001b[49m\u001b[43mmissing\u001b[49m\u001b[43m,\u001b[49m\u001b[43m \u001b[49m\u001b[43mhasconst\u001b[49m\u001b[43m,\u001b[49m\n\u001b[1;32m     96\u001b[0m \u001b[43m                              \u001b[49m\u001b[38;5;241;43m*\u001b[39;49m\u001b[38;5;241;43m*\u001b[39;49m\u001b[43mkwargs\u001b[49m\u001b[43m)\u001b[49m\n\u001b[1;32m     97\u001b[0m \u001b[38;5;28mself\u001b[39m\u001b[38;5;241m.\u001b[39mk_constant \u001b[38;5;241m=\u001b[39m \u001b[38;5;28mself\u001b[39m\u001b[38;5;241m.\u001b[39mdata\u001b[38;5;241m.\u001b[39mk_constant\n\u001b[1;32m     98\u001b[0m \u001b[38;5;28mself\u001b[39m\u001b[38;5;241m.\u001b[39mexog \u001b[38;5;241m=\u001b[39m \u001b[38;5;28mself\u001b[39m\u001b[38;5;241m.\u001b[39mdata\u001b[38;5;241m.\u001b[39mexog\n",
      "File \u001b[0;32m/usr/local/lib/python3.11/site-packages/statsmodels/base/model.py:135\u001b[0m, in \u001b[0;36mModel._handle_data\u001b[0;34m(self, endog, exog, missing, hasconst, **kwargs)\u001b[0m\n\u001b[1;32m    134\u001b[0m \u001b[38;5;28;01mdef\u001b[39;00m \u001b[38;5;21m_handle_data\u001b[39m(\u001b[38;5;28mself\u001b[39m, endog, exog, missing, hasconst, \u001b[38;5;241m*\u001b[39m\u001b[38;5;241m*\u001b[39mkwargs):\n\u001b[0;32m--> 135\u001b[0m     data \u001b[38;5;241m=\u001b[39m \u001b[43mhandle_data\u001b[49m\u001b[43m(\u001b[49m\u001b[43mendog\u001b[49m\u001b[43m,\u001b[49m\u001b[43m \u001b[49m\u001b[43mexog\u001b[49m\u001b[43m,\u001b[49m\u001b[43m \u001b[49m\u001b[43mmissing\u001b[49m\u001b[43m,\u001b[49m\u001b[43m \u001b[49m\u001b[43mhasconst\u001b[49m\u001b[43m,\u001b[49m\u001b[43m \u001b[49m\u001b[38;5;241;43m*\u001b[39;49m\u001b[38;5;241;43m*\u001b[39;49m\u001b[43mkwargs\u001b[49m\u001b[43m)\u001b[49m\n\u001b[1;32m    136\u001b[0m     \u001b[38;5;66;03m# kwargs arrays could have changed, easier to just attach here\u001b[39;00m\n\u001b[1;32m    137\u001b[0m     \u001b[38;5;28;01mfor\u001b[39;00m key \u001b[38;5;129;01min\u001b[39;00m kwargs:\n",
      "File \u001b[0;32m/usr/local/lib/python3.11/site-packages/statsmodels/base/data.py:675\u001b[0m, in \u001b[0;36mhandle_data\u001b[0;34m(endog, exog, missing, hasconst, **kwargs)\u001b[0m\n\u001b[1;32m    672\u001b[0m     exog \u001b[38;5;241m=\u001b[39m np\u001b[38;5;241m.\u001b[39masarray(exog)\n\u001b[1;32m    674\u001b[0m klass \u001b[38;5;241m=\u001b[39m handle_data_class_factory(endog, exog)\n\u001b[0;32m--> 675\u001b[0m \u001b[38;5;28;01mreturn\u001b[39;00m \u001b[43mklass\u001b[49m\u001b[43m(\u001b[49m\u001b[43mendog\u001b[49m\u001b[43m,\u001b[49m\u001b[43m \u001b[49m\u001b[43mexog\u001b[49m\u001b[38;5;241;43m=\u001b[39;49m\u001b[43mexog\u001b[49m\u001b[43m,\u001b[49m\u001b[43m \u001b[49m\u001b[43mmissing\u001b[49m\u001b[38;5;241;43m=\u001b[39;49m\u001b[43mmissing\u001b[49m\u001b[43m,\u001b[49m\u001b[43m \u001b[49m\u001b[43mhasconst\u001b[49m\u001b[38;5;241;43m=\u001b[39;49m\u001b[43mhasconst\u001b[49m\u001b[43m,\u001b[49m\n\u001b[1;32m    676\u001b[0m \u001b[43m             \u001b[49m\u001b[38;5;241;43m*\u001b[39;49m\u001b[38;5;241;43m*\u001b[39;49m\u001b[43mkwargs\u001b[49m\u001b[43m)\u001b[49m\n",
      "File \u001b[0;32m/usr/local/lib/python3.11/site-packages/statsmodels/base/data.py:89\u001b[0m, in \u001b[0;36mModelData.__init__\u001b[0;34m(self, endog, exog, missing, hasconst, **kwargs)\u001b[0m\n\u001b[1;32m     87\u001b[0m \u001b[38;5;28mself\u001b[39m\u001b[38;5;241m.\u001b[39mk_constant \u001b[38;5;241m=\u001b[39m \u001b[38;5;241m0\u001b[39m\n\u001b[1;32m     88\u001b[0m \u001b[38;5;28mself\u001b[39m\u001b[38;5;241m.\u001b[39m_handle_constant(hasconst)\n\u001b[0;32m---> 89\u001b[0m \u001b[38;5;28;43mself\u001b[39;49m\u001b[38;5;241;43m.\u001b[39;49m\u001b[43m_check_integrity\u001b[49m\u001b[43m(\u001b[49m\u001b[43m)\u001b[49m\n\u001b[1;32m     90\u001b[0m \u001b[38;5;28mself\u001b[39m\u001b[38;5;241m.\u001b[39m_cache \u001b[38;5;241m=\u001b[39m {}\n",
      "File \u001b[0;32m/usr/local/lib/python3.11/site-packages/statsmodels/base/data.py:533\u001b[0m, in \u001b[0;36mPandasData._check_integrity\u001b[0;34m(self)\u001b[0m\n\u001b[1;32m    529\u001b[0m \u001b[38;5;66;03m# exog can be None and we could be upcasting one or the other\u001b[39;00m\n\u001b[1;32m    530\u001b[0m \u001b[38;5;28;01mif\u001b[39;00m (exog \u001b[38;5;129;01mis\u001b[39;00m \u001b[38;5;129;01mnot\u001b[39;00m \u001b[38;5;28;01mNone\u001b[39;00m \u001b[38;5;129;01mand\u001b[39;00m\n\u001b[1;32m    531\u001b[0m         (\u001b[38;5;28mhasattr\u001b[39m(endog, \u001b[38;5;124m'\u001b[39m\u001b[38;5;124mindex\u001b[39m\u001b[38;5;124m'\u001b[39m) \u001b[38;5;129;01mand\u001b[39;00m \u001b[38;5;28mhasattr\u001b[39m(exog, \u001b[38;5;124m'\u001b[39m\u001b[38;5;124mindex\u001b[39m\u001b[38;5;124m'\u001b[39m)) \u001b[38;5;129;01mand\u001b[39;00m\n\u001b[1;32m    532\u001b[0m         \u001b[38;5;129;01mnot\u001b[39;00m \u001b[38;5;28mself\u001b[39m\u001b[38;5;241m.\u001b[39morig_endog\u001b[38;5;241m.\u001b[39mindex\u001b[38;5;241m.\u001b[39mequals(\u001b[38;5;28mself\u001b[39m\u001b[38;5;241m.\u001b[39morig_exog\u001b[38;5;241m.\u001b[39mindex)):\n\u001b[0;32m--> 533\u001b[0m     \u001b[38;5;28;01mraise\u001b[39;00m \u001b[38;5;167;01mValueError\u001b[39;00m(\u001b[38;5;124m\"\u001b[39m\u001b[38;5;124mThe indices for endog and exog are not aligned\u001b[39m\u001b[38;5;124m\"\u001b[39m)\n\u001b[1;32m    534\u001b[0m \u001b[38;5;28msuper\u001b[39m(PandasData, \u001b[38;5;28mself\u001b[39m)\u001b[38;5;241m.\u001b[39m_check_integrity()\n",
      "\u001b[0;31mValueError\u001b[0m: The indices for endog and exog are not aligned"
     ]
    }
   ],
   "source": [
    "X = rendimientos_ibex35 # Rendimientos del mercado\n",
    "y = rendimientos_endesa # Rendimientos del activo\n",
    "X_sm = sm.add_constant(X)  # Añadir una constante a la variable X\n",
    "\n",
    "# Crear y ajustar el modelo\n",
    "modelo = sm.OLS(y, X_sm).fit()"
   ]
  },
  {
   "cell_type": "code",
   "execution_count": 6,
   "metadata": {},
   "outputs": [
    {
     "data": {
      "text/plain": [
       "((6081,), (6014,))"
      ]
     },
     "execution_count": 6,
     "metadata": {},
     "output_type": "execute_result"
    }
   ],
   "source": [
    "rendimientos_ibex35.shape, rendimientos_endesa.shape"
   ]
  },
  {
   "cell_type": "code",
   "execution_count": 7,
   "metadata": {},
   "outputs": [
    {
     "name": "stdout",
     "output_type": "stream",
     "text": [
      "Únicos en IBEX35: {Timestamp('2000-01-24 00:00:00'), Timestamp('2000-05-23 00:00:00'), Timestamp('2000-06-29 00:00:00'), Timestamp('2000-03-23 00:00:00'), Timestamp('2000-02-04 00:00:00'), Timestamp('2000-06-05 00:00:00'), Timestamp('2000-04-11 00:00:00'), Timestamp('2000-04-28 00:00:00'), Timestamp('2000-04-05 00:00:00'), Timestamp('2000-03-02 00:00:00'), Timestamp('2000-05-24 00:00:00'), Timestamp('2018-09-20 00:00:00'), Timestamp('2000-05-22 00:00:00'), Timestamp('2000-03-21 00:00:00'), Timestamp('2000-03-14 00:00:00'), Timestamp('2000-03-24 00:00:00'), Timestamp('2000-03-06 00:00:00'), Timestamp('2000-01-27 00:00:00'), Timestamp('2000-03-22 00:00:00'), Timestamp('2000-03-08 00:00:00'), Timestamp('2000-02-23 00:00:00'), Timestamp('2000-06-21 00:00:00'), Timestamp('2000-01-28 00:00:00'), Timestamp('2000-05-17 00:00:00'), Timestamp('2000-01-14 00:00:00'), Timestamp('2000-02-03 00:00:00'), Timestamp('2000-03-01 00:00:00'), Timestamp('2000-02-15 00:00:00'), Timestamp('2000-05-18 00:00:00'), Timestamp('2000-01-31 00:00:00'), Timestamp('2000-03-28 00:00:00'), Timestamp('2000-06-20 00:00:00'), Timestamp('2000-04-25 00:00:00'), Timestamp('2000-04-27 00:00:00'), Timestamp('2000-06-07 00:00:00'), Timestamp('2000-02-16 00:00:00'), Timestamp('2000-05-10 00:00:00'), Timestamp('2000-06-23 00:00:00'), Timestamp('2000-03-15 00:00:00'), Timestamp('2000-06-13 00:00:00'), Timestamp('2000-05-29 00:00:00'), Timestamp('2000-05-08 00:00:00'), Timestamp('2000-04-17 00:00:00'), Timestamp('2000-01-25 00:00:00'), Timestamp('2000-03-09 00:00:00'), Timestamp('2000-05-04 00:00:00'), Timestamp('2000-05-03 00:00:00'), Timestamp('2000-02-11 00:00:00'), Timestamp('2000-01-12 00:00:00'), Timestamp('2000-04-20 00:00:00'), Timestamp('2000-05-16 00:00:00'), Timestamp('2000-04-06 00:00:00'), Timestamp('2000-05-31 00:00:00'), Timestamp('2000-01-19 00:00:00'), Timestamp('2000-06-19 00:00:00'), Timestamp('2000-05-12 00:00:00'), Timestamp('2000-02-28 00:00:00'), Timestamp('2000-06-09 00:00:00'), Timestamp('2000-06-01 00:00:00'), Timestamp('2000-05-15 00:00:00'), Timestamp('2000-01-20 00:00:00'), Timestamp('2000-03-03 00:00:00'), Timestamp('2000-04-07 00:00:00'), Timestamp('2000-03-17 00:00:00'), Timestamp('2000-02-09 00:00:00'), Timestamp('2000-02-14 00:00:00'), Timestamp('2000-02-08 00:00:00'), Timestamp('2000-01-04 00:00:00'), Timestamp('2000-04-13 00:00:00'), Timestamp('2000-06-14 00:00:00'), Timestamp('2000-06-15 00:00:00'), Timestamp('2000-01-11 00:00:00'), Timestamp('2000-07-03 00:00:00'), Timestamp('2000-01-07 00:00:00'), Timestamp('2000-04-14 00:00:00'), Timestamp('2000-02-29 00:00:00'), Timestamp('2000-01-17 00:00:00'), Timestamp('2000-03-27 00:00:00'), Timestamp('2000-06-02 00:00:00'), Timestamp('2000-04-03 00:00:00'), Timestamp('2000-02-02 00:00:00'), Timestamp('2000-05-25 00:00:00'), Timestamp('2000-02-21 00:00:00'), Timestamp('2000-01-13 00:00:00'), Timestamp('2000-06-28 00:00:00'), Timestamp('2000-01-21 00:00:00'), Timestamp('2000-01-10 00:00:00'), Timestamp('2000-02-07 00:00:00'), Timestamp('2000-05-19 00:00:00'), Timestamp('2000-04-26 00:00:00'), Timestamp('2000-06-22 00:00:00'), Timestamp('2000-02-18 00:00:00'), Timestamp('2000-04-10 00:00:00'), Timestamp('2000-05-30 00:00:00'), Timestamp('2000-01-26 00:00:00'), Timestamp('2000-03-13 00:00:00'), Timestamp('2000-04-04 00:00:00'), Timestamp('2000-06-30 00:00:00'), Timestamp('2000-05-11 00:00:00'), Timestamp('2000-03-29 00:00:00'), Timestamp('2000-04-19 00:00:00'), Timestamp('2000-02-01 00:00:00'), Timestamp('2000-03-07 00:00:00'), Timestamp('2000-04-18 00:00:00'), Timestamp('2000-05-26 00:00:00'), Timestamp('2000-04-12 00:00:00'), Timestamp('2000-02-22 00:00:00'), Timestamp('2000-05-02 00:00:00'), Timestamp('2000-03-20 00:00:00'), Timestamp('2000-03-16 00:00:00'), Timestamp('2000-05-09 00:00:00'), Timestamp('2000-06-08 00:00:00'), Timestamp('2000-02-17 00:00:00'), Timestamp('2000-03-31 00:00:00'), Timestamp('2000-01-05 00:00:00'), Timestamp('2000-05-05 00:00:00'), Timestamp('2000-03-30 00:00:00'), Timestamp('2000-02-25 00:00:00'), Timestamp('2000-06-12 00:00:00'), Timestamp('2000-01-18 00:00:00'), Timestamp('2000-02-10 00:00:00'), Timestamp('2000-02-24 00:00:00'), Timestamp('2000-06-16 00:00:00'), Timestamp('2000-03-10 00:00:00'), Timestamp('2000-06-27 00:00:00'), Timestamp('2000-06-26 00:00:00'), Timestamp('2000-06-06 00:00:00')}\n",
      "Únicos en Endesa: {Timestamp('2003-01-01 00:00:00'), Timestamp('2001-12-31 00:00:00'), Timestamp('2005-03-25 00:00:00'), Timestamp('2019-12-25 00:00:00'), Timestamp('2004-08-16 00:00:00'), Timestamp('2001-01-01 00:00:00'), Timestamp('2000-12-06 00:00:00'), Timestamp('2004-04-12 00:00:00'), Timestamp('2004-11-01 00:00:00'), Timestamp('2003-12-24 00:00:00'), Timestamp('2004-01-06 00:00:00'), Timestamp('2001-04-13 00:00:00'), Timestamp('2002-12-06 00:00:00'), Timestamp('2001-05-01 00:00:00'), Timestamp('2002-12-25 00:00:00'), Timestamp('2004-12-06 00:00:00'), Timestamp('2000-10-12 00:00:00'), Timestamp('2002-11-01 00:00:00'), Timestamp('2002-12-26 00:00:00'), Timestamp('2003-04-18 00:00:00'), Timestamp('2005-03-28 00:00:00'), Timestamp('2007-12-24 00:00:00'), Timestamp('2003-04-21 00:00:00'), Timestamp('2002-12-31 00:00:00'), Timestamp('2004-01-01 00:00:00'), Timestamp('2004-12-31 00:00:00'), Timestamp('2003-12-25 00:00:00'), Timestamp('2002-05-01 00:00:00'), Timestamp('2007-01-01 00:00:00'), Timestamp('2012-01-02 00:00:00'), Timestamp('2005-12-26 00:00:00'), Timestamp('2004-10-12 00:00:00'), Timestamp('2003-12-08 00:00:00'), Timestamp('2002-12-24 00:00:00'), Timestamp('2003-08-15 00:00:00'), Timestamp('2003-12-26 00:00:00'), Timestamp('2017-01-02 00:00:00'), Timestamp('2005-01-06 00:00:00'), Timestamp('2001-12-06 00:00:00'), Timestamp('2001-04-16 00:00:00'), Timestamp('2003-05-01 00:00:00'), Timestamp('2002-01-01 00:00:00'), Timestamp('2000-12-08 00:00:00'), Timestamp('2004-04-09 00:00:00'), Timestamp('2001-10-12 00:00:00'), Timestamp('2003-12-31 00:00:00'), Timestamp('2000-12-25 00:00:00'), Timestamp('2004-12-08 00:00:00'), Timestamp('2001-12-24 00:00:00'), Timestamp('2001-12-26 00:00:00'), Timestamp('2002-04-01 00:00:00'), Timestamp('2001-12-25 00:00:00'), Timestamp('2003-01-06 00:00:00'), Timestamp('2001-09-11 00:00:00'), Timestamp('2002-03-29 00:00:00'), Timestamp('2004-12-24 00:00:00'), Timestamp('2002-08-15 00:00:00'), Timestamp('2001-08-15 00:00:00'), Timestamp('2000-12-26 00:00:00'), Timestamp('2000-11-01 00:00:00')}\n"
     ]
    }
   ],
   "source": [
    "# Índices del DataFrame rendimientos_ibex35\n",
    "indices_ibex35 = set(rendimientos_ibex35.index)\n",
    "\n",
    "# Índices del DataFrame rendimientos_endesa\n",
    "indices_endesa = set(rendimientos_endesa.index)\n",
    "\n",
    "# Valores en rendimientos_ibex35 que no están en rendimientos_endesa\n",
    "unicos_ibex35 = indices_ibex35.difference(indices_endesa)\n",
    "\n",
    "# Valores en rendimientos_endesa que no están en rendimientos_ibex35\n",
    "unicos_endesa = indices_endesa.difference(indices_ibex35)\n",
    "\n",
    "# Ahora unicos_ibex35 y unicos_endesa contienen los índices únicos de cada DataFrame\n",
    "print(\"Únicos en IBEX35:\", unicos_ibex35)\n",
    "print(\"Únicos en Endesa:\", unicos_endesa)\n"
   ]
  },
  {
   "cell_type": "code",
   "execution_count": 8,
   "metadata": {},
   "outputs": [],
   "source": [
    "# Índices comunes en ambos DataFrames\n",
    "indices_comunes = rendimientos_ibex35.index.intersection(rendimientos_endesa.index)\n",
    "\n",
    "rendimientos_endesa = rendimientos_endesa.loc[indices_comunes]\n",
    "rendimientos_ibex35 = rendimientos_ibex35.loc[indices_comunes]\n"
   ]
  },
  {
   "cell_type": "code",
   "execution_count": 9,
   "metadata": {},
   "outputs": [],
   "source": [
    "X = rendimientos_ibex35 # Rendimientos del mercado\n",
    "y = rendimientos_endesa # Rendimientos del activo\n",
    "X_sm = sm.add_constant(X)  # Añadir una constante a la variable X\n",
    "\n",
    "# Crear y ajustar el modelo\n",
    "modelo = sm.OLS(y, X_sm).fit()"
   ]
  },
  {
   "cell_type": "markdown",
   "metadata": {},
   "source": [
    "Una vez entrenado, el modelo contiene mucha información que puede verse en [resultados modelo OLS](https://www.statsmodels.org/stable/generated/statsmodels.regression.linear_model.OLSResults.html#statsmodels.regression.linear_model.OLSResults)\n",
    "\n",
    "Para ver un listado de la información contenida podemos usar la **función dir()**:"
   ]
  },
  {
   "cell_type": "code",
   "execution_count": 10,
   "metadata": {},
   "outputs": [
    {
     "name": "stdout",
     "output_type": "stream",
     "text": [
      "['HC0_se', 'HC1_se', 'HC2_se', 'HC3_se', 'aic', 'bic', 'bse', 'centered_tss', 'compare_f_test', 'compare_lm_test', 'compare_lr_test', 'condition_number', 'conf_int', 'conf_int_el', 'cov_HC0', 'cov_HC1', 'cov_HC2', 'cov_HC3', 'cov_kwds', 'cov_params', 'cov_type', 'df_model', 'df_resid', 'eigenvals', 'el_test', 'ess', 'f_pvalue', 'f_test', 'fittedvalues', 'fvalue', 'get_influence', 'get_prediction', 'get_robustcov_results', 'info_criteria', 'initialize', 'k_constant', 'llf', 'load', 'model', 'mse_model', 'mse_resid', 'mse_total', 'nobs', 'normalized_cov_params', 'outlier_test', 'params', 'predict', 'pvalues', 'remove_data', 'resid', 'resid_pearson', 'rsquared', 'rsquared_adj', 'save', 'scale', 'ssr', 'summary', 'summary2', 't_test', 't_test_pairwise', 'tvalues', 'uncentered_tss', 'use_t', 'wald_test', 'wald_test_terms', 'wresid']\n"
     ]
    }
   ],
   "source": [
    "atributos = dir(modelo)\n",
    "\n",
    "# Filtrar para excluir los nombres que comienzan con '__' o por '_'\n",
    "atributos_filtrados = [a for a in atributos if not a.startswith('__') and not a.startswith('_')]\n",
    "\n",
    "# Ahora atributos_filtrados \n",
    "print(atributos_filtrados)"
   ]
  },
  {
   "cell_type": "markdown",
   "metadata": {},
   "source": [
    "Los valores más usados son:"
   ]
  },
  {
   "cell_type": "code",
   "execution_count": 11,
   "metadata": {},
   "outputs": [
    {
     "name": "stdout",
     "output_type": "stream",
     "text": [
      "Coeficientes: const        0.000359\n",
      "Adj Close    0.687630\n",
      "dtype: float64\n",
      "Valores P: const        0.026112\n",
      "Adj Close    0.000000\n",
      "dtype: float64\n",
      "R-cuadrado ajustado: 0.3860897016638025\n"
     ]
    }
   ],
   "source": [
    "coeficientes_endesa = modelo.params\n",
    "pvalues_endesa = modelo.pvalues\n",
    "rsquared_adj_endesa = modelo.rsquared_adj\n",
    "\n",
    "print(\"Coeficientes:\", coeficientes_endesa)\n",
    "print(\"Valores P:\", pvalues_endesa)\n",
    "print(\"R-cuadrado ajustado:\", rsquared_adj_endesa)"
   ]
  },
  {
   "cell_type": "markdown",
   "metadata": {},
   "source": [
    "El modelo proporciona un summary que es muy útil para analizar los resultados:"
   ]
  },
  {
   "cell_type": "code",
   "execution_count": 12,
   "metadata": {},
   "outputs": [
    {
     "name": "stdout",
     "output_type": "stream",
     "text": [
      "                            OLS Regression Results                            \n",
      "==============================================================================\n",
      "Dep. Variable:              Adj Close   R-squared:                       0.386\n",
      "Model:                            OLS   Adj. R-squared:                  0.386\n",
      "Method:                 Least Squares   F-statistic:                     3745.\n",
      "Date:                Thu, 04 Apr 2024   Prob (F-statistic):               0.00\n",
      "Time:                        09:15:33   Log-Likelihood:                 17673.\n",
      "No. Observations:                5954   AIC:                        -3.534e+04\n",
      "Df Residuals:                    5952   BIC:                        -3.533e+04\n",
      "Df Model:                           1                                         \n",
      "Covariance Type:            nonrobust                                         \n",
      "==============================================================================\n",
      "                 coef    std err          t      P>|t|      [0.025      0.975]\n",
      "------------------------------------------------------------------------------\n",
      "const          0.0004      0.000      2.225      0.026    4.27e-05       0.001\n",
      "Adj Close      0.6876      0.011     61.195      0.000       0.666       0.710\n",
      "==============================================================================\n",
      "Omnibus:                      943.504   Durbin-Watson:                   2.012\n",
      "Prob(Omnibus):                  0.000   Jarque-Bera (JB):            16555.681\n",
      "Skew:                           0.129   Prob(JB):                         0.00\n",
      "Kurtosis:                      11.165   Cond. No.                         69.7\n",
      "==============================================================================\n",
      "\n",
      "Notes:\n",
      "[1] Standard Errors assume that the covariance matrix of the errors is correctly specified.\n"
     ]
    }
   ],
   "source": [
    "print(modelo.summary())"
   ]
  },
  {
   "cell_type": "markdown",
   "metadata": {},
   "source": [
    "Hay que realizar la interpretación tanto **estadística** como **económica** de los resultados de la regresión lineal:\n",
    "\n",
    "1- ¿CÓMO SE INTERPRETAN LOS VALORES DEL SUMMARY?\n",
    "\n",
    "2- ¿QUÉ EXPLICACIÓN ECONÓMICA TIENEN LOS VALORES DEL MODELO?"
   ]
  },
  {
   "cell_type": "markdown",
   "metadata": {},
   "source": [
    "#### EJERCICIO:\n",
    "\n",
    "Analizar las acciones de  Telefónica y Johnson & Johnson. Para Telefónoca usad el IBEX35 y en el caso de Johnson & Johnson utilizad los índice SP100 y el Dow Jones Industrial Average.\n",
    "\n",
    "Utilizad el periodo entre 2000-01-01 y 2023-11-30"
   ]
  },
  {
   "cell_type": "markdown",
   "metadata": {},
   "source": [
    "**Telefónica**"
   ]
  },
  {
   "cell_type": "code",
   "execution_count": 13,
   "metadata": {},
   "outputs": [
    {
     "name": "stderr",
     "output_type": "stream",
     "text": [
      "[*********************100%%**********************]  1 of 1 completed\n"
     ]
    }
   ],
   "source": [
    "precios_tef = yf.download(\"TEF.MC\", start=\"2000-01-01\", end=\"2023-11-30\")[\"Adj Close\"] # Precios ajustados al cierre   \n",
    "precios_tef = precios_tef.dropna() # Eliminar filas con NA's\n",
    "rendimientos_tef = np.log(precios_tef).diff().dropna()"
   ]
  },
  {
   "cell_type": "code",
   "execution_count": 14,
   "metadata": {},
   "outputs": [
    {
     "data": {
      "text/plain": [
       "((6144,), (5954,))"
      ]
     },
     "execution_count": 14,
     "metadata": {},
     "output_type": "execute_result"
    }
   ],
   "source": [
    "rendimientos_tef.shape, rendimientos_ibex35.shape"
   ]
  },
  {
   "cell_type": "code",
   "execution_count": 15,
   "metadata": {},
   "outputs": [],
   "source": [
    "# Índices comunes en ambos DataFrames\n",
    "indices_comunes = rendimientos_ibex35.index.intersection(rendimientos_tef.index)\n",
    "\n",
    "rendimientos_tef = rendimientos_tef.loc[indices_comunes]\n",
    "rendimientos_ibex35 = rendimientos_ibex35.loc[indices_comunes]"
   ]
  },
  {
   "cell_type": "code",
   "execution_count": 16,
   "metadata": {},
   "outputs": [
    {
     "name": "stdout",
     "output_type": "stream",
     "text": [
      "                            OLS Regression Results                            \n",
      "==============================================================================\n",
      "Dep. Variable:              Adj Close   R-squared:                       0.620\n",
      "Model:                            OLS   Adj. R-squared:                  0.620\n",
      "Method:                 Least Squares   F-statistic:                     9718.\n",
      "Date:                Thu, 04 Apr 2024   Prob (F-statistic):               0.00\n",
      "Time:                        09:15:34   Log-Likelihood:                 18374.\n",
      "No. Observations:                5954   AIC:                        -3.674e+04\n",
      "Df Residuals:                    5952   BIC:                        -3.673e+04\n",
      "Df Model:                           1                                         \n",
      "Covariance Type:            nonrobust                                         \n",
      "==============================================================================\n",
      "                 coef    std err          t      P>|t|      [0.025      0.975]\n",
      "------------------------------------------------------------------------------\n",
      "const      -8.535e-05      0.000     -0.596      0.551      -0.000       0.000\n",
      "Adj Close      0.9848      0.010     98.582      0.000       0.965       1.004\n",
      "==============================================================================\n",
      "Omnibus:                     1843.572   Durbin-Watson:                   2.016\n",
      "Prob(Omnibus):                  0.000   Jarque-Bera (JB):           298714.489\n",
      "Skew:                           0.241   Prob(JB):                         0.00\n",
      "Kurtosis:                      37.697   Cond. No.                         69.7\n",
      "==============================================================================\n",
      "\n",
      "Notes:\n",
      "[1] Standard Errors assume that the covariance matrix of the errors is correctly specified.\n"
     ]
    }
   ],
   "source": [
    "X = rendimientos_ibex35 # Rendimientos del mercado\n",
    "y = rendimientos_tef # Rendimientos del activo\n",
    "X_sm = sm.add_constant(X)  # Añadir una constante a la variable X\n",
    "\n",
    "# Crear y ajustar el modelo\n",
    "modelo = sm.OLS(y, X_sm).fit()\n",
    "\n",
    "print(modelo.summary())"
   ]
  },
  {
   "cell_type": "markdown",
   "metadata": {},
   "source": [
    "**Johnson & Johnson**"
   ]
  },
  {
   "cell_type": "markdown",
   "metadata": {},
   "source": [
    "ÍNDICE SP100"
   ]
  },
  {
   "cell_type": "code",
   "execution_count": 17,
   "metadata": {},
   "outputs": [
    {
     "name": "stderr",
     "output_type": "stream",
     "text": [
      "[*********************100%%**********************]  1 of 1 completed\n",
      "[*********************100%%**********************]  1 of 1 completed\n"
     ]
    }
   ],
   "source": [
    "precios_jnj = yf.download(\"JNJ\", start=\"2000-01-01\", end=\"2023-11-30\")[\"Adj Close\"] # Precios ajustados al cierre\n",
    "rendimientos_jnj = np.log(precios_jnj).diff().dropna()\n",
    "\n",
    "precios_sp100 = yf.download(\"^SP100\", start=\"2000-01-01\", end=\"2023-11-30\")[\"Adj Close\"] # Precios ajustados al cierre\n",
    "rendimientos_sp100 = np.log(precios_sp100).diff().dropna()"
   ]
  },
  {
   "cell_type": "code",
   "execution_count": 18,
   "metadata": {},
   "outputs": [],
   "source": [
    "indices_comunes = rendimientos_jnj.index.intersection(rendimientos_sp100.index)\n",
    "\n",
    "rendimientos_jnj = rendimientos_jnj.loc[indices_comunes]\n",
    "rendimientos_sp100 = rendimientos_sp100.loc[indices_comunes]\n"
   ]
  },
  {
   "cell_type": "code",
   "execution_count": 19,
   "metadata": {},
   "outputs": [
    {
     "name": "stdout",
     "output_type": "stream",
     "text": [
      "                            OLS Regression Results                            \n",
      "==============================================================================\n",
      "Dep. Variable:              Adj Close   R-squared:                       0.295\n",
      "Model:                            OLS   Adj. R-squared:                  0.295\n",
      "Method:                 Least Squares   F-statistic:                     2520.\n",
      "Date:                Thu, 04 Apr 2024   Prob (F-statistic):               0.00\n",
      "Time:                        09:15:34   Log-Likelihood:                 19038.\n",
      "No. Observations:                6015   AIC:                        -3.807e+04\n",
      "Df Residuals:                    6013   BIC:                        -3.806e+04\n",
      "Df Model:                           1                                         \n",
      "Covariance Type:            nonrobust                                         \n",
      "==============================================================================\n",
      "                 coef    std err          t      P>|t|      [0.025      0.975]\n",
      "------------------------------------------------------------------------------\n",
      "const          0.0002      0.000      1.610      0.107   -4.62e-05       0.000\n",
      "Adj Close      0.5332      0.011     50.202      0.000       0.512       0.554\n",
      "==============================================================================\n",
      "Omnibus:                     1682.158   Durbin-Watson:                   1.932\n",
      "Prob(Omnibus):                  0.000   Jarque-Bera (JB):            58682.437\n",
      "Skew:                          -0.665   Prob(JB):                         0.00\n",
      "Kurtosis:                      18.244   Cond. No.                         80.6\n",
      "==============================================================================\n",
      "\n",
      "Notes:\n",
      "[1] Standard Errors assume that the covariance matrix of the errors is correctly specified.\n"
     ]
    }
   ],
   "source": [
    "X = rendimientos_sp100 # Rendimientos del mercado\n",
    "y = rendimientos_jnj # Rendimientos del activo\n",
    "X_sm = sm.add_constant(X)  # Añadir una constante a la variable X\n",
    "\n",
    "# Crear y ajustar el modelo\n",
    "modelo = sm.OLS(y, X_sm).fit()\n",
    "\n",
    "print(modelo.summary())"
   ]
  },
  {
   "cell_type": "markdown",
   "metadata": {},
   "source": [
    "ÍNDICE Dow Jones Industrial Average"
   ]
  },
  {
   "cell_type": "code",
   "execution_count": 20,
   "metadata": {},
   "outputs": [
    {
     "name": "stderr",
     "output_type": "stream",
     "text": [
      "[*********************100%%**********************]  1 of 1 completed\n"
     ]
    }
   ],
   "source": [
    "precios_dji = yf.download(\"^DJI\", start=\"2000-01-01\", end=\"2023-11-30\")[\"Adj Close\"] # Precios ajustados al cierre\n",
    "rendimientos_dji = np.log(precios_dji).diff().dropna()"
   ]
  },
  {
   "cell_type": "code",
   "execution_count": 21,
   "metadata": {},
   "outputs": [],
   "source": [
    "indices_comunes = rendimientos_jnj.index.intersection(rendimientos_dji.index)\n",
    "\n",
    "rendimientos_jnj = rendimientos_jnj.loc[indices_comunes]\n",
    "rendimientos_dji = rendimientos_sp100.loc[indices_comunes]"
   ]
  },
  {
   "cell_type": "code",
   "execution_count": 22,
   "metadata": {},
   "outputs": [
    {
     "name": "stdout",
     "output_type": "stream",
     "text": [
      "                            OLS Regression Results                            \n",
      "==============================================================================\n",
      "Dep. Variable:              Adj Close   R-squared:                       0.295\n",
      "Model:                            OLS   Adj. R-squared:                  0.295\n",
      "Method:                 Least Squares   F-statistic:                     2520.\n",
      "Date:                Thu, 04 Apr 2024   Prob (F-statistic):               0.00\n",
      "Time:                        09:15:34   Log-Likelihood:                 19038.\n",
      "No. Observations:                6015   AIC:                        -3.807e+04\n",
      "Df Residuals:                    6013   BIC:                        -3.806e+04\n",
      "Df Model:                           1                                         \n",
      "Covariance Type:            nonrobust                                         \n",
      "==============================================================================\n",
      "                 coef    std err          t      P>|t|      [0.025      0.975]\n",
      "------------------------------------------------------------------------------\n",
      "const          0.0002      0.000      1.610      0.107   -4.62e-05       0.000\n",
      "Adj Close      0.5332      0.011     50.202      0.000       0.512       0.554\n",
      "==============================================================================\n",
      "Omnibus:                     1682.158   Durbin-Watson:                   1.932\n",
      "Prob(Omnibus):                  0.000   Jarque-Bera (JB):            58682.437\n",
      "Skew:                          -0.665   Prob(JB):                         0.00\n",
      "Kurtosis:                      18.244   Cond. No.                         80.6\n",
      "==============================================================================\n",
      "\n",
      "Notes:\n",
      "[1] Standard Errors assume that the covariance matrix of the errors is correctly specified.\n"
     ]
    }
   ],
   "source": [
    "X = rendimientos_dji # Rendimientos del mercado\n",
    "y = rendimientos_jnj # Rendimientos del activo\n",
    "X_sm = sm.add_constant(X)  # Añadir una constante a la variable X\n",
    "\n",
    "# Crear y ajustar el modelo\n",
    "modelo = sm.OLS(y, X_sm).fit()\n",
    "\n",
    "print(modelo.summary())"
   ]
  },
  {
   "cell_type": "markdown",
   "metadata": {},
   "source": [
    "¿QUÉ PASA SI USAMOS DISTINTOS INTERVALOS DE  TIEMPO?. "
   ]
  },
  {
   "cell_type": "markdown",
   "metadata": {},
   "source": [
    "**EJERCICIO:**\n",
    "\n",
    "En el caso anterior de Endes, calcular las $\\beta$ pero empleando datos primero semanales y luego anuales"
   ]
  },
  {
   "cell_type": "markdown",
   "metadata": {},
   "source": [
    "SEMANAL:"
   ]
  },
  {
   "cell_type": "code",
   "execution_count": 23,
   "metadata": {},
   "outputs": [
    {
     "name": "stderr",
     "output_type": "stream",
     "text": [
      "/usr/local/lib/python3.11/site-packages/pandas/core/arraylike.py:396: RuntimeWarning: invalid value encountered in log\n",
      "  result = getattr(ufunc, method)(*inputs, **kwargs)\n"
     ]
    }
   ],
   "source": [
    "precios_endesa_sem = precios_endesa.resample('W').last()\n",
    "retornos_endesa_semana = np.log(precios_endesa_sem).diff().dropna()\n",
    "\n",
    "precios_ibex35_sem = precios_ibex35.resample('W').last()\n",
    "retornos_ibex35_semana = np.log(precios_ibex35_sem).diff().dropna()"
   ]
  },
  {
   "cell_type": "code",
   "execution_count": 24,
   "metadata": {},
   "outputs": [],
   "source": [
    "# Índices comunes en ambos DataFrames\n",
    "indices_comunes = retornos_ibex35_semana.index.intersection(retornos_endesa_semana.index)\n",
    "\n",
    "retornos_endesa_semana = retornos_endesa_semana.loc[indices_comunes]\n",
    "retornos_ibex35_semana = retornos_ibex35_semana.loc[indices_comunes]"
   ]
  },
  {
   "cell_type": "code",
   "execution_count": 25,
   "metadata": {},
   "outputs": [
    {
     "name": "stdout",
     "output_type": "stream",
     "text": [
      "                            OLS Regression Results                            \n",
      "==============================================================================\n",
      "Dep. Variable:              Adj Close   R-squared:                       0.396\n",
      "Model:                            OLS   Adj. R-squared:                  0.395\n",
      "Method:                 Least Squares   F-statistic:                     798.5\n",
      "Date:                Thu, 04 Apr 2024   Prob (F-statistic):          1.56e-135\n",
      "Time:                        09:15:35   Log-Likelihood:                 2654.3\n",
      "No. Observations:                1221   AIC:                            -5305.\n",
      "Df Residuals:                    1219   BIC:                            -5294.\n",
      "Df Model:                           1                                         \n",
      "Covariance Type:            nonrobust                                         \n",
      "==============================================================================\n",
      "                 coef    std err          t      P>|t|      [0.025      0.975]\n",
      "------------------------------------------------------------------------------\n",
      "const          0.0016      0.001      2.089      0.037       0.000       0.003\n",
      "Adj Close      0.7155      0.025     28.258      0.000       0.666       0.765\n",
      "==============================================================================\n",
      "Omnibus:                      147.493   Durbin-Watson:                   2.093\n",
      "Prob(Omnibus):                  0.000   Jarque-Bera (JB):              968.656\n",
      "Skew:                          -0.332   Prob(JB):                    4.56e-211\n",
      "Kurtosis:                       7.313   Cond. No.                         32.1\n",
      "==============================================================================\n",
      "\n",
      "Notes:\n",
      "[1] Standard Errors assume that the covariance matrix of the errors is correctly specified.\n"
     ]
    }
   ],
   "source": [
    "X = retornos_ibex35_semana # Rendimientos del mercado\n",
    "y = retornos_endesa_semana # Rendimientos del activo\n",
    "X_sm = sm.add_constant(X)  # Añadir una constante a la variable X\n",
    "\n",
    "# Crear y ajustar el modelo\n",
    "modelo = sm.OLS(y, X_sm).fit()\n",
    "\n",
    "coeficientes_endesa_semana = modelo.params\n",
    "\n",
    "print(modelo.summary())"
   ]
  },
  {
   "cell_type": "markdown",
   "metadata": {},
   "source": [
    "ANUAL"
   ]
  },
  {
   "cell_type": "code",
   "execution_count": 26,
   "metadata": {},
   "outputs": [
    {
     "name": "stdout",
     "output_type": "stream",
     "text": [
      "                            OLS Regression Results                            \n",
      "==============================================================================\n",
      "Dep. Variable:              Adj Close   R-squared:                       1.000\n",
      "Model:                            OLS   Adj. R-squared:                  1.000\n",
      "Method:                 Least Squares   F-statistic:                 1.449e+32\n",
      "Date:                Thu, 04 Apr 2024   Prob (F-statistic):               0.00\n",
      "Time:                        09:15:35   Log-Likelihood:                 819.63\n",
      "No. Observations:                  23   AIC:                            -1635.\n",
      "Df Residuals:                      21   BIC:                            -1633.\n",
      "Df Model:                           1                                         \n",
      "Covariance Type:            nonrobust                                         \n",
      "==============================================================================\n",
      "                 coef    std err          t      P>|t|      [0.025      0.975]\n",
      "------------------------------------------------------------------------------\n",
      "const       1.382e-17   1.94e-17      0.713      0.484   -2.65e-17    5.41e-17\n",
      "Adj Close      1.0000   8.31e-17    1.2e+16      0.000       1.000       1.000\n",
      "==============================================================================\n",
      "Omnibus:                        1.045   Durbin-Watson:                   1.369\n",
      "Prob(Omnibus):                  0.593   Jarque-Bera (JB):                0.486\n",
      "Skew:                           0.356   Prob(JB):                        0.784\n",
      "Kurtosis:                       3.019   Cond. No.                         4.76\n",
      "==============================================================================\n",
      "\n",
      "Notes:\n",
      "[1] Standard Errors assume that the covariance matrix of the errors is correctly specified.\n"
     ]
    }
   ],
   "source": [
    "precios_endesa_año = precios_endesa.resample('Y').last()\n",
    "retornos_endesa_año = np.log(precios_endesa_año).diff().dropna()\n",
    "\n",
    "precios_ibex35_año = precios_ibex35.resample('Y').last()\n",
    "retornos_ibex35_año = np.log(precios_ibex35_año).diff().dropna()\n",
    "\n",
    "X = retornos_endesa_año # Rendimientos del mercado\n",
    "y = retornos_endesa_año # Rendimientos del activo\n",
    "X_sm = sm.add_constant(X)  # Añadir una constante a la variable X\n",
    "\n",
    "# Crear y ajustar el modelo\n",
    "modelo = sm.OLS(y, X_sm).fit()\n",
    "\n",
    "coeficientes_endesa_año = modelo.params\n",
    "\n",
    "print(modelo.summary())"
   ]
  },
  {
   "cell_type": "code",
   "execution_count": 27,
   "metadata": {},
   "outputs": [
    {
     "name": "stdout",
     "output_type": "stream",
     "text": [
      "Beta con datos diarios (Endesa): 0.6876302973121572\n",
      "Beta con datos semanales (Endesa): 0.715529993764702\n",
      "Beta con datos anuales (Endesa): 0.9999999999999997\n"
     ]
    }
   ],
   "source": [
    "print(\"Beta con datos diarios (Endesa):\", coeficientes_endesa[1])\n",
    "print(\"Beta con datos semanales (Endesa):\", coeficientes_endesa_semana[1])\n",
    "print(\"Beta con datos anuales (Endesa):\", coeficientes_endesa_año[1])"
   ]
  },
  {
   "cell_type": "markdown",
   "metadata": {},
   "source": [
    "#### Varios activos americanos"
   ]
  },
  {
   "cell_type": "markdown",
   "metadata": {},
   "source": [
    "Vamos a descargar algunos activos y los vamos a comparar con el índice `S&P 500`, que vamos a considerar como índice representativo del mercado."
   ]
  },
  {
   "cell_type": "code",
   "execution_count": 28,
   "metadata": {},
   "outputs": [],
   "source": [
    "tickers = [\n",
    "    \"AAPL\",  # Apple Inc.\n",
    "    \"WFC\",   # Wells Fargo & Co\n",
    "    \"XOM\",   # Exxon Mobil Corp\n",
    "    \"JNJ\",   # Johnson & Johnson\n",
    "    \"SBUX\",  # Starbucks Corp\n",
    "    \"GLD\" # ETF de oro\n",
    "]\n",
    "\n",
    "# Diccionario con tickers, nombres de empresas y sectores\n",
    "empresas_dict = {\n",
    "    \"AAPL\": {\"nombre\": \"Apple Inc.\", \"sector\": \"Tecnología / Electrónica de Consumo\", \"alcance\": \"Global\"},\n",
    "    \"WFC\": {\"nombre\": \"Wells Fargo & Co\", \"sector\": \"Servicios Financieros / Bancario\", \"alcance\": \"Local\"},\n",
    "    \"XOM\": {\"nombre\": \"Exxon Mobil Corp\", \"sector\": \"Petróleo y Gas\", \"alcance\": \"Global\"},\n",
    "    \"JNJ\": {\"nombre\": \"Johnson & Johnson\", \"sector\": \"Farmacéutica y Productos de Consumo\", \"alcance\": \"Global/Local\"},\n",
    "    \"SBUX\": {\"nombre\": \"Starbucks Corp\", \"sector\": \"Alimentación y Bebidas / Servicio de Cafeterías\", \"alcance\": \"Local\"},\n",
    "    \"GLD\": {\"nombre\": \"SPDR Gold Shares (GLD)\", \"sector\": \"\", \"alcance\": \"\"}\n",
    "}\n"
   ]
  },
  {
   "cell_type": "code",
   "execution_count": 29,
   "metadata": {},
   "outputs": [
    {
     "name": "stderr",
     "output_type": "stream",
     "text": [
      "[*********************100%%**********************]  6 of 6 completed\n",
      "[*********************100%%**********************]  1 of 1 completed\n"
     ]
    }
   ],
   "source": [
    "precios = yf.download(tickers, start=\"2018-01-01\", end=\"2023-11-30\")[\"Adj Close\"] # Precios ajustados al cierre\n",
    "indice = yf.download(\"SPY\", start=\"2018-01-01\", end=\"2023-11-30\")[[\"Adj Close\"]] # Precios ajustados al cierre\n",
    "precios = precios.dropna() # Eliminar filas con NA's\n",
    "indice = indice.dropna() # Eliminar filas con NA's\n",
    "indice.columns = [\"MERCADO\"] # Renombrar columna\n",
    "\n",
    "# Calcular rendimientos logarítmicos\n",
    "rendimientos = np.log(precios / precios.shift(1)).dropna()\n",
    "\n",
    "rent_indice = np.log(indice / indice.shift(1)).dropna()\n"
   ]
  },
  {
   "cell_type": "code",
   "execution_count": 30,
   "metadata": {},
   "outputs": [],
   "source": [
    "def calc_regresion(r_ind, r):\n",
    "    res = []\n",
    "    summary = []\n",
    "    \n",
    "    for activo in r.columns:\n",
    "        X = r_ind\n",
    "        y = r[activo]\n",
    "        X_sm = sm.add_constant(X)\n",
    "        \n",
    "        modelo = sm.OLS(y, X_sm).fit()\n",
    "        \n",
    "        resultado = {\n",
    "        'activo': activo,\n",
    "        'alpha': modelo.params[0],\n",
    "        'beta': modelo.params[1],\n",
    "        'p_value_alpha': modelo.pvalues[0],\n",
    "        'p_value_beta': modelo.pvalues[1],\n",
    "        't_value_alpha': modelo.tvalues[0],\n",
    "        't_value_beta': modelo.tvalues[1],\n",
    "        'rsquared': modelo.rsquared,\n",
    "        'fvalue': modelo.fvalue,\n",
    "        'conf_int_alpha_low': modelo.conf_int()[0][0],\n",
    "        'conf_int_alpha_high': modelo.conf_int()[0][1],\n",
    "        'conf_int_beta_low': modelo.conf_int()[1][0],\n",
    "        'conf_int_beta_high': modelo.conf_int()[1][1],\n",
    "        'aic': modelo.aic,\n",
    "        'bic': modelo.bic\n",
    "        }\n",
    "        \n",
    "        res.append(resultado)\n",
    "        summary.append(modelo.summary())\n",
    "        \n",
    "    df_resul = pd.DataFrame(res)\n",
    "    df_resul = df_resul.set_index('activo')\n",
    "    \n",
    "    df_summ = pd.DataFrame(summary)\n",
    "    df_summ.index = r.columns\n",
    "    \n",
    "    return df_resul, df_summ"
   ]
  },
  {
   "cell_type": "markdown",
   "metadata": {},
   "source": [
    "Calculemos el $R^2$, $\\alpha$ y $\\beta$ para cada activo:"
   ]
  },
  {
   "cell_type": "code",
   "execution_count": 31,
   "metadata": {},
   "outputs": [],
   "source": [
    "df_resul, df_summary = calc_regresion(rent_indice, rendimientos)"
   ]
  },
  {
   "cell_type": "code",
   "execution_count": 32,
   "metadata": {},
   "outputs": [
    {
     "data": {
      "image/png": "[encoded data removed]",
      "text/plain": [
       "<Figure size 1400x500 with 3 Axes>"
      ]
     },
     "metadata": {},
     "output_type": "display_data"
    }
   ],
   "source": [
    "\n",
    "# Configura el tamaño de la figura y el número de subplots\n",
    "fig, axs = plt.subplots(1,3, figsize=(14, 5))\n",
    "\n",
    "# Primera gráfica: Alphas\n",
    "axs[0].bar(df_resul.index, df_resul['alpha'])\n",
    "axs[0].set_title('Alpha de cada activo')\n",
    "axs[0].set_ylabel('Alpha')\n",
    "axs[0].tick_params(axis='x', rotation=45)  # Rota las etiquetas del eje X si son demasiado largas\n",
    "\n",
    "# Segunda gráfica: Betas\n",
    "axs[1].bar(df_resul.index, df_resul['beta'])\n",
    "axs[1].set_title('Beta de cada activo')\n",
    "axs[1].set_ylabel('Beta')\n",
    "axs[1].tick_params(axis='x', rotation=45)  # Rota las etiquetas del eje X si son demasiado largas\n",
    "\n",
    "# Segunda gráfica: R2\n",
    "axs[2].bar(df_resul.index, df_resul['rsquared'])\n",
    "axs[2].set_title('R2 de cada activo')\n",
    "axs[2].set_ylabel('R2')\n",
    "axs[2].tick_params(axis='x', rotation=45)  # Rota las etiquetas del eje X si son demasiado largas\n",
    "\n",
    "# Ajustar el layout para evitar la superposición de elementos\n",
    "plt.tight_layout()\n",
    "\n",
    "# Mostrar la gráfica\n",
    "plt.show()"
   ]
  },
  {
   "cell_type": "code",
   "execution_count": 33,
   "metadata": {},
   "outputs": [
    {
     "data": {
      "text/html": [
       "<div>\n",
       "<style scoped>\n",
       "    .dataframe tbody tr th:only-of-type {\n",
       "        vertical-align: middle;\n",
       "    }\n",
       "\n",
       "    .dataframe tbody tr th {\n",
       "        vertical-align: top;\n",
       "    }\n",
       "\n",
       "    .dataframe thead th {\n",
       "        text-align: right;\n",
       "    }\n",
       "</style>\n",
       "<table border=\"1\" class=\"dataframe\">\n",
       "  <thead>\n",
       "    <tr style=\"text-align: right;\">\n",
       "      <th></th>\n",
       "      <th>beta</th>\n",
       "      <th>p_value_beta</th>\n",
       "      <th>t_value_beta</th>\n",
       "    </tr>\n",
       "    <tr>\n",
       "      <th>activo</th>\n",
       "      <th></th>\n",
       "      <th></th>\n",
       "      <th></th>\n",
       "    </tr>\n",
       "  </thead>\n",
       "  <tbody>\n",
       "    <tr>\n",
       "      <th>AAPL</th>\n",
       "      <td>1.237180</td>\n",
       "      <td>0.000000e+00</td>\n",
       "      <td>51.176780</td>\n",
       "    </tr>\n",
       "    <tr>\n",
       "      <th>WFC</th>\n",
       "      <td>1.184850</td>\n",
       "      <td>1.358324e-197</td>\n",
       "      <td>35.165779</td>\n",
       "    </tr>\n",
       "    <tr>\n",
       "      <th>XOM</th>\n",
       "      <td>0.901047</td>\n",
       "      <td>4.441664e-127</td>\n",
       "      <td>26.505988</td>\n",
       "    </tr>\n",
       "    <tr>\n",
       "      <th>JNJ</th>\n",
       "      <td>0.550291</td>\n",
       "      <td>4.450535e-122</td>\n",
       "      <td>25.864108</td>\n",
       "    </tr>\n",
       "    <tr>\n",
       "      <th>SBUX</th>\n",
       "      <td>1.031838</td>\n",
       "      <td>3.945208e-230</td>\n",
       "      <td>39.055855</td>\n",
       "    </tr>\n",
       "    <tr>\n",
       "      <th>GLD</th>\n",
       "      <td>0.062931</td>\n",
       "      <td>4.239186e-04</td>\n",
       "      <td>3.532709</td>\n",
       "    </tr>\n",
       "  </tbody>\n",
       "</table>\n",
       "</div>"
      ],
      "text/plain": [
       "            beta   p_value_beta  t_value_beta\n",
       "activo                                       \n",
       "AAPL    1.237180   0.000000e+00     51.176780\n",
       "WFC     1.184850  1.358324e-197     35.165779\n",
       "XOM     0.901047  4.441664e-127     26.505988\n",
       "JNJ     0.550291  4.450535e-122     25.864108\n",
       "SBUX    1.031838  3.945208e-230     39.055855\n",
       "GLD     0.062931   4.239186e-04      3.532709"
      ]
     },
     "execution_count": 33,
     "metadata": {},
     "output_type": "execute_result"
    }
   ],
   "source": [
    "df_resul.loc[['AAPL', 'WFC', 'XOM', 'JNJ', 'SBUX', 'GLD'], ['beta', 'p_value_beta', 't_value_beta']]"
   ]
  },
  {
   "cell_type": "code",
   "execution_count": 34,
   "metadata": {},
   "outputs": [
    {
     "data": {
      "text/html": [
       "<div>\n",
       "<style scoped>\n",
       "    .dataframe tbody tr th:only-of-type {\n",
       "        vertical-align: middle;\n",
       "    }\n",
       "\n",
       "    .dataframe tbody tr th {\n",
       "        vertical-align: top;\n",
       "    }\n",
       "\n",
       "    .dataframe thead th {\n",
       "        text-align: right;\n",
       "    }\n",
       "</style>\n",
       "<table border=\"1\" class=\"dataframe\">\n",
       "  <thead>\n",
       "    <tr style=\"text-align: right;\">\n",
       "      <th></th>\n",
       "      <th>alpha</th>\n",
       "      <th>p_value_alpha</th>\n",
       "      <th>t_value_alpha</th>\n",
       "    </tr>\n",
       "    <tr>\n",
       "      <th>activo</th>\n",
       "      <th></th>\n",
       "      <th></th>\n",
       "      <th></th>\n",
       "    </tr>\n",
       "  </thead>\n",
       "  <tbody>\n",
       "    <tr>\n",
       "      <th>AAPL</th>\n",
       "      <td>0.000516</td>\n",
       "      <td>0.099960</td>\n",
       "      <td>1.646075</td>\n",
       "    </tr>\n",
       "    <tr>\n",
       "      <th>WFC</th>\n",
       "      <td>-0.000602</td>\n",
       "      <td>0.168534</td>\n",
       "      <td>-1.377600</td>\n",
       "    </tr>\n",
       "    <tr>\n",
       "      <th>XOM</th>\n",
       "      <td>-0.000053</td>\n",
       "      <td>0.904318</td>\n",
       "      <td>-0.120229</td>\n",
       "    </tr>\n",
       "    <tr>\n",
       "      <th>JNJ</th>\n",
       "      <td>-0.000062</td>\n",
       "      <td>0.823130</td>\n",
       "      <td>-0.223560</td>\n",
       "    </tr>\n",
       "    <tr>\n",
       "      <th>SBUX</th>\n",
       "      <td>0.000020</td>\n",
       "      <td>0.952473</td>\n",
       "      <td>0.059611</td>\n",
       "    </tr>\n",
       "    <tr>\n",
       "      <th>GLD</th>\n",
       "      <td>0.000253</td>\n",
       "      <td>0.273946</td>\n",
       "      <td>1.094424</td>\n",
       "    </tr>\n",
       "  </tbody>\n",
       "</table>\n",
       "</div>"
      ],
      "text/plain": [
       "           alpha  p_value_alpha  t_value_alpha\n",
       "activo                                        \n",
       "AAPL    0.000516       0.099960       1.646075\n",
       "WFC    -0.000602       0.168534      -1.377600\n",
       "XOM    -0.000053       0.904318      -0.120229\n",
       "JNJ    -0.000062       0.823130      -0.223560\n",
       "SBUX    0.000020       0.952473       0.059611\n",
       "GLD     0.000253       0.273946       1.094424"
      ]
     },
     "execution_count": 34,
     "metadata": {},
     "output_type": "execute_result"
    }
   ],
   "source": [
    "df_resul.loc[['AAPL', 'WFC', 'XOM', 'JNJ', 'SBUX', 'GLD'], ['alpha', 'p_value_alpha', 't_value_alpha']]"
   ]
  },
  {
   "cell_type": "markdown",
   "metadata": {},
   "source": [
    "## 3. Todos los activos del SP500"
   ]
  },
  {
   "cell_type": "code",
   "execution_count": 35,
   "metadata": {},
   "outputs": [
    {
     "data": {
      "text/html": [
       "<div>\n",
       "<style scoped>\n",
       "    .dataframe tbody tr th:only-of-type {\n",
       "        vertical-align: middle;\n",
       "    }\n",
       "\n",
       "    .dataframe tbody tr th {\n",
       "        vertical-align: top;\n",
       "    }\n",
       "\n",
       "    .dataframe thead th {\n",
       "        text-align: right;\n",
       "    }\n",
       "</style>\n",
       "<table border=\"1\" class=\"dataframe\">\n",
       "  <thead>\n",
       "    <tr style=\"text-align: right;\">\n",
       "      <th></th>\n",
       "      <th>A</th>\n",
       "      <th>AAL</th>\n",
       "      <th>AAPL</th>\n",
       "      <th>ABBV</th>\n",
       "      <th>ABT</th>\n",
       "      <th>ACGL</th>\n",
       "      <th>ACN</th>\n",
       "      <th>ADBE</th>\n",
       "      <th>ADI</th>\n",
       "      <th>ADM</th>\n",
       "      <th>...</th>\n",
       "      <th>XEL</th>\n",
       "      <th>XOM</th>\n",
       "      <th>XRAY</th>\n",
       "      <th>XYL</th>\n",
       "      <th>YUM</th>\n",
       "      <th>ZBH</th>\n",
       "      <th>ZBRA</th>\n",
       "      <th>ZION</th>\n",
       "      <th>ZTS</th>\n",
       "      <th>SPY</th>\n",
       "    </tr>\n",
       "    <tr>\n",
       "      <th>Date</th>\n",
       "      <th></th>\n",
       "      <th></th>\n",
       "      <th></th>\n",
       "      <th></th>\n",
       "      <th></th>\n",
       "      <th></th>\n",
       "      <th></th>\n",
       "      <th></th>\n",
       "      <th></th>\n",
       "      <th></th>\n",
       "      <th></th>\n",
       "      <th></th>\n",
       "      <th></th>\n",
       "      <th></th>\n",
       "      <th></th>\n",
       "      <th></th>\n",
       "      <th></th>\n",
       "      <th></th>\n",
       "      <th></th>\n",
       "      <th></th>\n",
       "      <th></th>\n",
       "    </tr>\n",
       "  </thead>\n",
       "  <tbody>\n",
       "    <tr>\n",
       "      <th>2019-01-02</th>\n",
       "      <td>63.381710</td>\n",
       "      <td>31.963160</td>\n",
       "      <td>37.893341</td>\n",
       "      <td>70.646538</td>\n",
       "      <td>63.908173</td>\n",
       "      <td>26.190001</td>\n",
       "      <td>131.077469</td>\n",
       "      <td>224.570007</td>\n",
       "      <td>78.138260</td>\n",
       "      <td>35.836353</td>\n",
       "      <td>...</td>\n",
       "      <td>41.850040</td>\n",
       "      <td>53.962513</td>\n",
       "      <td>35.926987</td>\n",
       "      <td>62.568439</td>\n",
       "      <td>83.576164</td>\n",
       "      <td>95.619514</td>\n",
       "      <td>156.240005</td>\n",
       "      <td>35.226196</td>\n",
       "      <td>81.659958</td>\n",
       "      <td>230.557449</td>\n",
       "    </tr>\n",
       "    <tr>\n",
       "      <th>2019-01-03</th>\n",
       "      <td>61.046745</td>\n",
       "      <td>29.581663</td>\n",
       "      <td>34.118874</td>\n",
       "      <td>68.318840</td>\n",
       "      <td>60.892082</td>\n",
       "      <td>25.780001</td>\n",
       "      <td>126.602242</td>\n",
       "      <td>215.699997</td>\n",
       "      <td>73.418312</td>\n",
       "      <td>35.678822</td>\n",
       "      <td>...</td>\n",
       "      <td>41.685143</td>\n",
       "      <td>53.133984</td>\n",
       "      <td>35.945953</td>\n",
       "      <td>60.423553</td>\n",
       "      <td>81.473938</td>\n",
       "      <td>93.889969</td>\n",
       "      <td>146.880005</td>\n",
       "      <td>35.031338</td>\n",
       "      <td>78.837448</td>\n",
       "      <td>225.055740</td>\n",
       "    </tr>\n",
       "    <tr>\n",
       "      <th>2019-01-04</th>\n",
       "      <td>63.159786</td>\n",
       "      <td>31.530161</td>\n",
       "      <td>35.575378</td>\n",
       "      <td>70.519852</td>\n",
       "      <td>62.630009</td>\n",
       "      <td>26.389999</td>\n",
       "      <td>131.524994</td>\n",
       "      <td>226.190002</td>\n",
       "      <td>75.200783</td>\n",
       "      <td>36.501442</td>\n",
       "      <td>...</td>\n",
       "      <td>42.093063</td>\n",
       "      <td>55.093021</td>\n",
       "      <td>36.988953</td>\n",
       "      <td>62.972939</td>\n",
       "      <td>83.594421</td>\n",
       "      <td>97.096619</td>\n",
       "      <td>152.970001</td>\n",
       "      <td>36.107277</td>\n",
       "      <td>81.930641</td>\n",
       "      <td>232.594147</td>\n",
       "    </tr>\n",
       "    <tr>\n",
       "      <th>2019-01-07</th>\n",
       "      <td>64.500923</td>\n",
       "      <td>32.425674</td>\n",
       "      <td>35.496204</td>\n",
       "      <td>71.549126</td>\n",
       "      <td>63.567928</td>\n",
       "      <td>26.330000</td>\n",
       "      <td>131.981812</td>\n",
       "      <td>229.259995</td>\n",
       "      <td>75.673691</td>\n",
       "      <td>36.685211</td>\n",
       "      <td>...</td>\n",
       "      <td>41.910801</td>\n",
       "      <td>55.379513</td>\n",
       "      <td>37.652691</td>\n",
       "      <td>62.041607</td>\n",
       "      <td>83.503029</td>\n",
       "      <td>97.134010</td>\n",
       "      <td>155.289993</td>\n",
       "      <td>36.251289</td>\n",
       "      <td>82.423607</td>\n",
       "      <td>234.428024</td>\n",
       "    </tr>\n",
       "    <tr>\n",
       "      <th>2019-01-08</th>\n",
       "      <td>65.446503</td>\n",
       "      <td>31.904114</td>\n",
       "      <td>36.172874</td>\n",
       "      <td>71.881653</td>\n",
       "      <td>62.804718</td>\n",
       "      <td>26.430000</td>\n",
       "      <td>135.319580</td>\n",
       "      <td>232.679993</td>\n",
       "      <td>77.519836</td>\n",
       "      <td>37.367813</td>\n",
       "      <td>...</td>\n",
       "      <td>42.396820</td>\n",
       "      <td>55.782177</td>\n",
       "      <td>37.396687</td>\n",
       "      <td>62.624863</td>\n",
       "      <td>83.338516</td>\n",
       "      <td>94.955734</td>\n",
       "      <td>156.330002</td>\n",
       "      <td>36.581703</td>\n",
       "      <td>83.651207</td>\n",
       "      <td>236.630554</td>\n",
       "    </tr>\n",
       "  </tbody>\n",
       "</table>\n",
       "<p>5 rows × 490 columns</p>\n",
       "</div>"
      ],
      "text/plain": [
       "                    A        AAL       AAPL       ABBV        ABT       ACGL  \\\n",
       "Date                                                                           \n",
       "2019-01-02  63.381710  31.963160  37.893341  70.646538  63.908173  26.190001   \n",
       "2019-01-03  61.046745  29.581663  34.118874  68.318840  60.892082  25.780001   \n",
       "2019-01-04  63.159786  31.530161  35.575378  70.519852  62.630009  26.389999   \n",
       "2019-01-07  64.500923  32.425674  35.496204  71.549126  63.567928  26.330000   \n",
       "2019-01-08  65.446503  31.904114  36.172874  71.881653  62.804718  26.430000   \n",
       "\n",
       "                   ACN        ADBE        ADI        ADM  ...        XEL  \\\n",
       "Date                                                      ...              \n",
       "2019-01-02  131.077469  224.570007  78.138260  35.836353  ...  41.850040   \n",
       "2019-01-03  126.602242  215.699997  73.418312  35.678822  ...  41.685143   \n",
       "2019-01-04  131.524994  226.190002  75.200783  36.501442  ...  42.093063   \n",
       "2019-01-07  131.981812  229.259995  75.673691  36.685211  ...  41.910801   \n",
       "2019-01-08  135.319580  232.679993  77.519836  37.367813  ...  42.396820   \n",
       "\n",
       "                  XOM       XRAY        XYL        YUM        ZBH        ZBRA  \\\n",
       "Date                                                                            \n",
       "2019-01-02  53.962513  35.926987  62.568439  83.576164  95.619514  156.240005   \n",
       "2019-01-03  53.133984  35.945953  60.423553  81.473938  93.889969  146.880005   \n",
       "2019-01-04  55.093021  36.988953  62.972939  83.594421  97.096619  152.970001   \n",
       "2019-01-07  55.379513  37.652691  62.041607  83.503029  97.134010  155.289993   \n",
       "2019-01-08  55.782177  37.396687  62.624863  83.338516  94.955734  156.330002   \n",
       "\n",
       "                 ZION        ZTS         SPY  \n",
       "Date                                          \n",
       "2019-01-02  35.226196  81.659958  230.557449  \n",
       "2019-01-03  35.031338  78.837448  225.055740  \n",
       "2019-01-04  36.107277  81.930641  232.594147  \n",
       "2019-01-07  36.251289  82.423607  234.428024  \n",
       "2019-01-08  36.581703  83.651207  236.630554  \n",
       "\n",
       "[5 rows x 490 columns]"
      ]
     },
     "execution_count": 35,
     "metadata": {},
     "output_type": "execute_result"
    }
   ],
   "source": [
    "precios_sp500 = pd.read_csv(\"../data/sp500_precios.csv\", index_col=0, parse_dates=True)\n",
    "precios_sp500.head(5)"
   ]
  },
  {
   "cell_type": "code",
   "execution_count": 36,
   "metadata": {},
   "outputs": [],
   "source": [
    "# Calcular rendimientos logarítmicos\n",
    "rendimientos_sp500 = np.log(precios_sp500).diff().dropna()"
   ]
  },
  {
   "cell_type": "code",
   "execution_count": 37,
   "metadata": {},
   "outputs": [
    {
     "name": "stderr",
     "output_type": "stream",
     "text": [
      "[*********************100%%**********************]  1 of 1 completed\n"
     ]
    }
   ],
   "source": [
    "start_date = precios_sp500.index[0].date()\n",
    "end_date = precios_sp500.index[-1].date()+ timedelta(days=1)\n",
    "\n",
    "indice = yf.download(\"SPY\", start=start_date, end=end_date)[[\"Adj Close\"]] # Precios ajustados al cierre\n",
    "\n",
    "rent_indice_sp500 = np.log(indice).diff().dropna()"
   ]
  },
  {
   "cell_type": "code",
   "execution_count": 38,
   "metadata": {},
   "outputs": [],
   "source": [
    "df_resul_SP500, df_summary_SP500 = calc_regresion(rent_indice_sp500, rendimientos_sp500)"
   ]
  },
  {
   "cell_type": "code",
   "execution_count": 39,
   "metadata": {},
   "outputs": [
    {
     "name": "stdout",
     "output_type": "stream",
     "text": [
      "El 0.00% de los betas no son significativos\n",
      "El 99.18% de los alphas no son significativos\n"
     ]
    }
   ],
   "source": [
    "beta_sig = 100 * (df_resul_SP500['p_value_beta']>0.05).sum()/len(df_resul_SP500)\n",
    "alpha_sig = 100 * (df_resul_SP500['p_value_alpha']>0.05).sum()/len(df_resul_SP500)\n",
    "\n",
    "print(f\"El {beta_sig:.2f}% de los betas no son significativos\")\n",
    "\n",
    "print(f\"El {alpha_sig:.2f}% de los alphas no son significativos\")"
   ]
  },
  {
   "cell_type": "code",
   "execution_count": 40,
   "metadata": {},
   "outputs": [],
   "source": [
    "beta_mayor_1 = 100 * (df_resul_SP500['beta']>1).sum()/len(df_resul_SP500)"
   ]
  },
  {
   "cell_type": "code",
   "execution_count": 41,
   "metadata": {},
   "outputs": [
    {
     "data": {
      "image/png": "[encoded data removed]",
      "text/plain": [
       "<Figure size 1400x500 with 1 Axes>"
      ]
     },
     "metadata": {},
     "output_type": "display_data"
    }
   ],
   "source": [
    "# Configura el estilo de Seaborn para que los gráficos se vean más atractivos\n",
    "sns.set(style=\"whitegrid\")\n",
    "\n",
    "# Configura el tamaño de la figura y el número de subplots (1 fila, 2 columnas)\n",
    "fig, axs = plt.subplots(figsize=(14, 5))\n",
    "\n",
    "# Histograma para Beta\n",
    "sns.histplot(df_resul_SP500['beta'], ax=axs, color='skyblue', kde=True)\n",
    "axs.set_title('Distribución de los betas de los activos del SP500')\n",
    "axs.set_xlabel('Beta')\n",
    "#axs[0].set_ylabel('Frecuencia')\n",
    "\n",
    "# Añade una nota en la gráfica de la izquierda\n",
    "nota = f\"{int(beta_mayor_1)} % compañías\\ntienen $\\\\beta > 1$\"\n",
    "axs.text(1.8, 50, nota, ha='center', va='center', fontsize=18, color='black')\n",
    "\n",
    "\n",
    "\n",
    "# Mostrar la gráfica\n",
    "plt.show()\n"
   ]
  },
  {
   "cell_type": "code",
   "execution_count": 42,
   "metadata": {},
   "outputs": [
    {
     "data": {
      "text/html": [
       "<div>\n",
       "<style scoped>\n",
       "    .dataframe tbody tr th:only-of-type {\n",
       "        vertical-align: middle;\n",
       "    }\n",
       "\n",
       "    .dataframe tbody tr th {\n",
       "        vertical-align: top;\n",
       "    }\n",
       "\n",
       "    .dataframe thead th {\n",
       "        text-align: right;\n",
       "    }\n",
       "</style>\n",
       "<table border=\"1\" class=\"dataframe\">\n",
       "  <thead>\n",
       "    <tr style=\"text-align: right;\">\n",
       "      <th></th>\n",
       "      <th>alpha</th>\n",
       "      <th>beta</th>\n",
       "      <th>p_value_alpha</th>\n",
       "      <th>p_value_beta</th>\n",
       "      <th>t_value_alpha</th>\n",
       "      <th>t_value_beta</th>\n",
       "      <th>rsquared</th>\n",
       "      <th>fvalue</th>\n",
       "      <th>conf_int_alpha_low</th>\n",
       "      <th>conf_int_alpha_high</th>\n",
       "      <th>conf_int_beta_low</th>\n",
       "      <th>conf_int_beta_high</th>\n",
       "      <th>aic</th>\n",
       "      <th>bic</th>\n",
       "    </tr>\n",
       "    <tr>\n",
       "      <th>activo</th>\n",
       "      <th></th>\n",
       "      <th></th>\n",
       "      <th></th>\n",
       "      <th></th>\n",
       "      <th></th>\n",
       "      <th></th>\n",
       "      <th></th>\n",
       "      <th></th>\n",
       "      <th></th>\n",
       "      <th></th>\n",
       "      <th></th>\n",
       "      <th></th>\n",
       "      <th></th>\n",
       "      <th></th>\n",
       "    </tr>\n",
       "  </thead>\n",
       "  <tbody>\n",
       "    <tr>\n",
       "      <th>LLY</th>\n",
       "      <td>0.000986</td>\n",
       "      <td>0.642527</td>\n",
       "      <td>0.043651</td>\n",
       "      <td>2.113457e-61</td>\n",
       "      <td>2.019469</td>\n",
       "      <td>17.479567</td>\n",
       "      <td>0.195789</td>\n",
       "      <td>305.535256</td>\n",
       "      <td>0.000028</td>\n",
       "      <td>0.570411</td>\n",
       "      <td>0.001945</td>\n",
       "      <td>0.714642</td>\n",
       "      <td>-6629.995111</td>\n",
       "      <td>-6619.722145</td>\n",
       "    </tr>\n",
       "    <tr>\n",
       "      <th>PWR</th>\n",
       "      <td>0.000965</td>\n",
       "      <td>1.076068</td>\n",
       "      <td>0.045810</td>\n",
       "      <td>1.088359e-146</td>\n",
       "      <td>1.999127</td>\n",
       "      <td>29.626473</td>\n",
       "      <td>0.411552</td>\n",
       "      <td>877.727882</td>\n",
       "      <td>0.000018</td>\n",
       "      <td>1.004811</td>\n",
       "      <td>0.001912</td>\n",
       "      <td>1.147324</td>\n",
       "      <td>-6660.100892</td>\n",
       "      <td>-6649.827926</td>\n",
       "    </tr>\n",
       "    <tr>\n",
       "      <th>VFC</th>\n",
       "      <td>-0.001592</td>\n",
       "      <td>1.244189</td>\n",
       "      <td>0.012658</td>\n",
       "      <td>4.671186e-119</td>\n",
       "      <td>-2.496824</td>\n",
       "      <td>25.929347</td>\n",
       "      <td>0.348840</td>\n",
       "      <td>672.331028</td>\n",
       "      <td>-0.002843</td>\n",
       "      <td>1.150052</td>\n",
       "      <td>-0.000341</td>\n",
       "      <td>1.338326</td>\n",
       "      <td>-5960.043594</td>\n",
       "      <td>-5949.770628</td>\n",
       "    </tr>\n",
       "    <tr>\n",
       "      <th>WBA</th>\n",
       "      <td>-0.001051</td>\n",
       "      <td>0.814386</td>\n",
       "      <td>0.048026</td>\n",
       "      <td>4.986958e-80</td>\n",
       "      <td>-1.979070</td>\n",
       "      <td>20.386602</td>\n",
       "      <td>0.248779</td>\n",
       "      <td>415.613551</td>\n",
       "      <td>-0.002092</td>\n",
       "      <td>0.736016</td>\n",
       "      <td>-0.000009</td>\n",
       "      <td>0.892757</td>\n",
       "      <td>-6420.876587</td>\n",
       "      <td>-6410.603621</td>\n",
       "    </tr>\n",
       "  </tbody>\n",
       "</table>\n",
       "</div>"
      ],
      "text/plain": [
       "           alpha      beta  p_value_alpha   p_value_beta  t_value_alpha  \\\n",
       "activo                                                                    \n",
       "LLY     0.000986  0.642527       0.043651   2.113457e-61       2.019469   \n",
       "PWR     0.000965  1.076068       0.045810  1.088359e-146       1.999127   \n",
       "VFC    -0.001592  1.244189       0.012658  4.671186e-119      -2.496824   \n",
       "WBA    -0.001051  0.814386       0.048026   4.986958e-80      -1.979070   \n",
       "\n",
       "        t_value_beta  rsquared      fvalue  conf_int_alpha_low  \\\n",
       "activo                                                           \n",
       "LLY        17.479567  0.195789  305.535256            0.000028   \n",
       "PWR        29.626473  0.411552  877.727882            0.000018   \n",
       "VFC        25.929347  0.348840  672.331028           -0.002843   \n",
       "WBA        20.386602  0.248779  415.613551           -0.002092   \n",
       "\n",
       "        conf_int_alpha_high  conf_int_beta_low  conf_int_beta_high  \\\n",
       "activo                                                               \n",
       "LLY                0.570411           0.001945            0.714642   \n",
       "PWR                1.004811           0.001912            1.147324   \n",
       "VFC                1.150052          -0.000341            1.338326   \n",
       "WBA                0.736016          -0.000009            0.892757   \n",
       "\n",
       "                aic          bic  \n",
       "activo                            \n",
       "LLY    -6629.995111 -6619.722145  \n",
       "PWR    -6660.100892 -6649.827926  \n",
       "VFC    -5960.043594 -5949.770628  \n",
       "WBA    -6420.876587 -6410.603621  "
      ]
     },
     "execution_count": 42,
     "metadata": {},
     "output_type": "execute_result"
    }
   ],
   "source": [
    "# Veamos los activos con alpha significativo\n",
    "df_resul_SP500[(df_resul_SP500['p_value_alpha']<0.05)]"
   ]
  }
 ],
 "metadata": {
  "kernelspec": {
   "display_name": "Python 3 (ipykernel)",
   "language": "python",
   "name": "python3"
  },
  "language_info": {
   "codemirror_mode": {
    "name": "ipython",
    "version": 3
   },
   "file_extension": ".py",
   "mimetype": "text/x-python",
   "name": "python",
   "nbconvert_exporter": "python",
   "pygments_lexer": "ipython3",
   "version": "3.11.6"
  }
 },
 "nbformat": 4,
 "nbformat_minor": 2
}
