{
 "cells": [
  {
   "cell_type": "code",
   "execution_count": 1,
   "metadata": {},
   "outputs": [],
   "source": [
    "import numpy as np\n",
    "import pandas as pd\n",
    "import matplotlib.pyplot as plt\n",
    "import seaborn as sns\n",
    "import yfinance as yf\n",
    "import cvxpy as cp\n",
    "import plotly.graph_objects as go\n"
   ]
  },
  {
   "cell_type": "code",
   "execution_count": 8,
   "metadata": {},
   "outputs": [],
   "source": [
    "tickers = [\n",
    "    \"SPY\",   # SPDR S&P 500 ETF Trust\n",
    "    \"AAPL\",  # Apple Inc.\n",
    "    \"WFC\",   # Wells Fargo & Co\n",
    "    \"XOM\",   # Exxon Mobil Corp\n",
    "    \"JNJ\",   # Johnson & Johnson\n",
    "    \"SBUX\"   # Starbucks Corp\n",
    "]\n",
    "\n",
    "# Diccionario con tickers, nombres de empresas y sectores\n",
    "empresas_dict = {\n",
    "    \"SPY\": {\"nombre\": \"S&P 500 ETF\", \"sector\": \"Índice\", \"alcance\": \"Global\"},\n",
    "    \"AAPL\": {\"nombre\": \"Apple Inc.\", \"sector\": \"Tecnología / Electrónica de Consumo\", \"alcance\": \"Global\"},\n",
    "    \"WFC\": {\"nombre\": \"Wells Fargo & Co\", \"sector\": \"Servicios Financieros / Bancario\", \"alcance\": \"Local\"},\n",
    "    \"XOM\": {\"nombre\": \"Exxon Mobil Corp\", \"sector\": \"Petróleo y Gas\", \"alcance\": \"Global\"},\n",
    "    \"JNJ\": {\"nombre\": \"Johnson & Johnson\", \"sector\": \"Farmacéutica y Productos de Consumo\", \"alcance\": \"Global/Local\"},\n",
    "    \"SBUX\": {\"nombre\": \"Starbucks Corp\", \"sector\": \"Alimentación y Bebidas / Servicio de Cafeterías\", \"alcance\": \"Local\"}\n",
    "}\n"
   ]
  },
  {
   "cell_type": "code",
   "execution_count": 9,
   "metadata": {},
   "outputs": [
    {
     "name": "stdout",
     "output_type": "stream",
     "text": [
      "[*********************100%%**********************]  6 of 6 completed\n"
     ]
    }
   ],
   "source": [
    "precios = yf.download(tickers, start=\"2019-01-01\", end=\"2020-12-31\")[\"Adj Close\"] # Precios ajustados al cierre\n",
    "precios = precios.dropna() # Eliminar filas con NA's\n",
    "\n",
    "# Calcular rendimientos logarítmicos\n",
    "rendimientos = np.log(precios / precios.shift(1)).dropna()\n"
   ]
  },
  {
   "cell_type": "code",
   "execution_count": 6,
   "metadata": {},
   "outputs": [
    {
     "name": "stdout",
     "output_type": "stream",
     "text": [
      "Beta of AAPL with respect to SPY: 1.206456322945742\n",
      "Beta of JNJ with respect to SPY: 0.6647198042550472\n",
      "Beta of SBUX with respect to SPY: 1.1161350551619378\n",
      "Beta of SPY with respect to SPY: 1.00199203187251\n",
      "Beta of WFC with respect to SPY: 1.3616428835255525\n",
      "Beta of XOM with respect to SPY: 1.1229811944254695\n"
     ]
    }
   ],
   "source": [
    "# Calculate betas\n",
    "betas = {}\n",
    "for column in rendimientos.columns:\n",
    "    cov = np.cov(rendimientos['SPY'], rendimientos[column])[0, 1]\n",
    "    var = np.var(rendimientos['SPY'])\n",
    "    beta = cov / var\n",
    "    betas[column] = beta\n",
    "\n",
    "# Print betas\n",
    "for asset, beta in betas.items():\n",
    "    print(f\"Beta of {asset} with respect to SPY: {beta}\")"
   ]
  },
  {
   "cell_type": "code",
   "execution_count": 2,
   "metadata": {},
   "outputs": [],
   "source": [
    "companies = pd.read_csv(\"../data/index-components-01-11-2024.csv\",)\n",
    "companies = companies.iloc[:-1,:] # Eliminar última fila\n",
    "\n",
    "companies_dict = {companies[\"Symbol\"][i]: {\"name\": companies[\"Name\"][i]} for i in range(len(companies))}"
   ]
  },
  {
   "cell_type": "code",
   "execution_count": 18,
   "metadata": {},
   "outputs": [
    {
     "name": "stdout",
     "output_type": "stream",
     "text": [
      "[*********************100%%**********************]  503 of 503 completed"
     ]
    },
    {
     "name": "stderr",
     "output_type": "stream",
     "text": [
      "\n",
      "2 Failed downloads:\n",
      "['BRK.B']: Exception('%ticker%: No timezone found, symbol may be delisted')\n",
      "['BF.B']: Exception('%ticker%: No price data found, symbol may be delisted (1d 2019-01-01 -> 2023-12-31)')\n"
     ]
    },
    {
     "name": "stdout",
     "output_type": "stream",
     "text": [
      "\n"
     ]
    }
   ],
   "source": [
    "precios = yf.download(list(companies_dict.keys()), start=\"2019-01-01\", end=\"2023-12-31\")[\"Adj Close\"] # Precios ajustados al cierre"
   ]
  },
  {
   "cell_type": "code",
   "execution_count": 9,
   "metadata": {},
   "outputs": [
    {
     "data": {
      "text/html": [
       "<div>\n",
       "<style scoped>\n",
       "    .dataframe tbody tr th:only-of-type {\n",
       "        vertical-align: middle;\n",
       "    }\n",
       "\n",
       "    .dataframe tbody tr th {\n",
       "        vertical-align: top;\n",
       "    }\n",
       "\n",
       "    .dataframe thead th {\n",
       "        text-align: right;\n",
       "    }\n",
       "</style>\n",
       "<table border=\"1\" class=\"dataframe\">\n",
       "  <thead>\n",
       "    <tr style=\"text-align: right;\">\n",
       "      <th></th>\n",
       "      <th>A</th>\n",
       "      <th>AAL</th>\n",
       "      <th>AAPL</th>\n",
       "      <th>ABBV</th>\n",
       "      <th>ABNB</th>\n",
       "      <th>ABT</th>\n",
       "      <th>ACGL</th>\n",
       "      <th>ACN</th>\n",
       "      <th>ADBE</th>\n",
       "      <th>ADI</th>\n",
       "      <th>...</th>\n",
       "      <th>WYNN</th>\n",
       "      <th>XEL</th>\n",
       "      <th>XOM</th>\n",
       "      <th>XRAY</th>\n",
       "      <th>XYL</th>\n",
       "      <th>YUM</th>\n",
       "      <th>ZBH</th>\n",
       "      <th>ZBRA</th>\n",
       "      <th>ZION</th>\n",
       "      <th>ZTS</th>\n",
       "    </tr>\n",
       "    <tr>\n",
       "      <th>Date</th>\n",
       "      <th></th>\n",
       "      <th></th>\n",
       "      <th></th>\n",
       "      <th></th>\n",
       "      <th></th>\n",
       "      <th></th>\n",
       "      <th></th>\n",
       "      <th></th>\n",
       "      <th></th>\n",
       "      <th></th>\n",
       "      <th></th>\n",
       "      <th></th>\n",
       "      <th></th>\n",
       "      <th></th>\n",
       "      <th></th>\n",
       "      <th></th>\n",
       "      <th></th>\n",
       "      <th></th>\n",
       "      <th></th>\n",
       "      <th></th>\n",
       "      <th></th>\n",
       "    </tr>\n",
       "  </thead>\n",
       "  <tbody>\n",
       "    <tr>\n",
       "      <th>2019-01-02</th>\n",
       "      <td>63.381710</td>\n",
       "      <td>31.963160</td>\n",
       "      <td>37.893341</td>\n",
       "      <td>70.646538</td>\n",
       "      <td>NaN</td>\n",
       "      <td>63.908173</td>\n",
       "      <td>26.190001</td>\n",
       "      <td>131.077469</td>\n",
       "      <td>224.570007</td>\n",
       "      <td>78.138260</td>\n",
       "      <td>...</td>\n",
       "      <td>99.469666</td>\n",
       "      <td>41.850040</td>\n",
       "      <td>53.962513</td>\n",
       "      <td>35.926987</td>\n",
       "      <td>62.568439</td>\n",
       "      <td>83.576164</td>\n",
       "      <td>95.619514</td>\n",
       "      <td>156.240005</td>\n",
       "      <td>35.226196</td>\n",
       "      <td>81.659958</td>\n",
       "    </tr>\n",
       "    <tr>\n",
       "      <th>2019-01-03</th>\n",
       "      <td>61.046745</td>\n",
       "      <td>29.581663</td>\n",
       "      <td>34.118874</td>\n",
       "      <td>68.318840</td>\n",
       "      <td>NaN</td>\n",
       "      <td>60.892082</td>\n",
       "      <td>25.780001</td>\n",
       "      <td>126.602242</td>\n",
       "      <td>215.699997</td>\n",
       "      <td>73.418312</td>\n",
       "      <td>...</td>\n",
       "      <td>98.507370</td>\n",
       "      <td>41.685143</td>\n",
       "      <td>53.133984</td>\n",
       "      <td>35.945953</td>\n",
       "      <td>60.423553</td>\n",
       "      <td>81.473938</td>\n",
       "      <td>93.889969</td>\n",
       "      <td>146.880005</td>\n",
       "      <td>35.031338</td>\n",
       "      <td>78.837448</td>\n",
       "    </tr>\n",
       "    <tr>\n",
       "      <th>2019-01-04</th>\n",
       "      <td>63.159786</td>\n",
       "      <td>31.530161</td>\n",
       "      <td>35.575378</td>\n",
       "      <td>70.519852</td>\n",
       "      <td>NaN</td>\n",
       "      <td>62.630009</td>\n",
       "      <td>26.389999</td>\n",
       "      <td>131.524994</td>\n",
       "      <td>226.190002</td>\n",
       "      <td>75.200783</td>\n",
       "      <td>...</td>\n",
       "      <td>102.480431</td>\n",
       "      <td>42.093063</td>\n",
       "      <td>55.093021</td>\n",
       "      <td>36.988953</td>\n",
       "      <td>62.972939</td>\n",
       "      <td>83.594421</td>\n",
       "      <td>97.096619</td>\n",
       "      <td>152.970001</td>\n",
       "      <td>36.107277</td>\n",
       "      <td>81.930641</td>\n",
       "    </tr>\n",
       "    <tr>\n",
       "      <th>2019-01-07</th>\n",
       "      <td>64.500923</td>\n",
       "      <td>32.425674</td>\n",
       "      <td>35.496204</td>\n",
       "      <td>71.549126</td>\n",
       "      <td>NaN</td>\n",
       "      <td>63.567928</td>\n",
       "      <td>26.330000</td>\n",
       "      <td>131.981812</td>\n",
       "      <td>229.259995</td>\n",
       "      <td>75.673691</td>\n",
       "      <td>...</td>\n",
       "      <td>104.300240</td>\n",
       "      <td>41.910801</td>\n",
       "      <td>55.379513</td>\n",
       "      <td>37.652691</td>\n",
       "      <td>62.041607</td>\n",
       "      <td>83.503029</td>\n",
       "      <td>97.134010</td>\n",
       "      <td>155.289993</td>\n",
       "      <td>36.251289</td>\n",
       "      <td>82.423607</td>\n",
       "    </tr>\n",
       "    <tr>\n",
       "      <th>2019-01-08</th>\n",
       "      <td>65.446503</td>\n",
       "      <td>31.904114</td>\n",
       "      <td>36.172874</td>\n",
       "      <td>71.881653</td>\n",
       "      <td>NaN</td>\n",
       "      <td>62.804718</td>\n",
       "      <td>26.430000</td>\n",
       "      <td>135.319580</td>\n",
       "      <td>232.679993</td>\n",
       "      <td>77.519836</td>\n",
       "      <td>...</td>\n",
       "      <td>107.568253</td>\n",
       "      <td>42.396820</td>\n",
       "      <td>55.782177</td>\n",
       "      <td>37.396687</td>\n",
       "      <td>62.624863</td>\n",
       "      <td>83.338516</td>\n",
       "      <td>94.955734</td>\n",
       "      <td>156.330002</td>\n",
       "      <td>36.581703</td>\n",
       "      <td>83.651207</td>\n",
       "    </tr>\n",
       "  </tbody>\n",
       "</table>\n",
       "<p>5 rows × 503 columns</p>\n",
       "</div>"
      ],
      "text/plain": [
       "                    A        AAL       AAPL       ABBV  ABNB        ABT  \\\n",
       "Date                                                                      \n",
       "2019-01-02  63.381710  31.963160  37.893341  70.646538   NaN  63.908173   \n",
       "2019-01-03  61.046745  29.581663  34.118874  68.318840   NaN  60.892082   \n",
       "2019-01-04  63.159786  31.530161  35.575378  70.519852   NaN  62.630009   \n",
       "2019-01-07  64.500923  32.425674  35.496204  71.549126   NaN  63.567928   \n",
       "2019-01-08  65.446503  31.904114  36.172874  71.881653   NaN  62.804718   \n",
       "\n",
       "                 ACGL         ACN        ADBE        ADI  ...        WYNN  \\\n",
       "Date                                                      ...               \n",
       "2019-01-02  26.190001  131.077469  224.570007  78.138260  ...   99.469666   \n",
       "2019-01-03  25.780001  126.602242  215.699997  73.418312  ...   98.507370   \n",
       "2019-01-04  26.389999  131.524994  226.190002  75.200783  ...  102.480431   \n",
       "2019-01-07  26.330000  131.981812  229.259995  75.673691  ...  104.300240   \n",
       "2019-01-08  26.430000  135.319580  232.679993  77.519836  ...  107.568253   \n",
       "\n",
       "                  XEL        XOM       XRAY        XYL        YUM        ZBH  \\\n",
       "Date                                                                           \n",
       "2019-01-02  41.850040  53.962513  35.926987  62.568439  83.576164  95.619514   \n",
       "2019-01-03  41.685143  53.133984  35.945953  60.423553  81.473938  93.889969   \n",
       "2019-01-04  42.093063  55.093021  36.988953  62.972939  83.594421  97.096619   \n",
       "2019-01-07  41.910801  55.379513  37.652691  62.041607  83.503029  97.134010   \n",
       "2019-01-08  42.396820  55.782177  37.396687  62.624863  83.338516  94.955734   \n",
       "\n",
       "                  ZBRA       ZION        ZTS  \n",
       "Date                                          \n",
       "2019-01-02  156.240005  35.226196  81.659958  \n",
       "2019-01-03  146.880005  35.031338  78.837448  \n",
       "2019-01-04  152.970001  36.107277  81.930641  \n",
       "2019-01-07  155.289993  36.251289  82.423607  \n",
       "2019-01-08  156.330002  36.581703  83.651207  \n",
       "\n",
       "[5 rows x 503 columns]"
      ]
     },
     "execution_count": 9,
     "metadata": {},
     "output_type": "execute_result"
    }
   ],
   "source": [
    "precios = pd.read_csv(\"../data/sp500_precios.csv\", index_col=0, parse_dates=True)\n",
    "precios = precios.dropna(axis=1) # Eliminar columnas con NA's\n",
    "precios.head(5)"
   ]
  },
  {
   "cell_type": "code",
   "execution_count": 13,
   "metadata": {},
   "outputs": [
    {
     "data": {
      "text/plain": [
       "Index(['ABNB', 'BF.B', 'BRK.B', 'CARR', 'CEG', 'CTVA', 'DOW', 'FOX', 'FOXA',\n",
       "       'GEHC', 'KVUE', 'OTIS', 'UBER', 'VLTO'],\n",
       "      dtype='object')"
      ]
     },
     "execution_count": 13,
     "metadata": {},
     "output_type": "execute_result"
    }
   ],
   "source": [
    "ceros = precios.columns[precios.isna().sum() != 0]\n",
    "ceros"
   ]
  },
  {
   "cell_type": "code",
   "execution_count": 14,
   "metadata": {},
   "outputs": [
    {
     "data": {
      "text/plain": [
       "ABNB      490\n",
       "BF.B     1258\n",
       "BRK.B    1258\n",
       "CARR      305\n",
       "CEG       768\n",
       "CTVA       99\n",
       "DOW        53\n",
       "FOX        48\n",
       "FOXA       47\n",
       "GEHC      997\n",
       "KVUE     1092\n",
       "OTIS      305\n",
       "UBER       89\n",
       "VLTO     1197\n",
       "dtype: int64"
      ]
     },
     "execution_count": 14,
     "metadata": {},
     "output_type": "execute_result"
    }
   ],
   "source": [
    "precios.loc[:, ceros].isna().sum()"
   ]
  },
  {
   "cell_type": "code",
   "execution_count": null,
   "metadata": {},
   "outputs": [],
   "source": [
    "retornos = np.log(precios / precios.shift(1)).dropna()"
   ]
  }
 ],
 "metadata": {
  "kernelspec": {
   "display_name": "Python 3",
   "language": "python",
   "name": "python3"
  },
  "language_info": {
   "codemirror_mode": {
    "name": "ipython",
    "version": 3
   },
   "file_extension": ".py",
   "mimetype": "text/x-python",
   "name": "python",
   "nbconvert_exporter": "python",
   "pygments_lexer": "ipython3",
   "version": "3.11.6"
  }
 },
 "nbformat": 4,
 "nbformat_minor": 2
}
