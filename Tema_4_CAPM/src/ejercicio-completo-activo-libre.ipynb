{
 "cells": [
  {
   "cell_type": "code",
   "execution_count": 1,
   "id": "37e8e030",
   "metadata": {},
   "outputs": [
    {
     "data": {
      "text/html": [
       "<link rel='stylesheet' href='../../design/custom.css'>"
      ],
      "text/plain": [
       "<IPython.core.display.HTML object>"
      ]
     },
     "metadata": {},
     "output_type": "display_data"
    }
   ],
   "source": [
    "from IPython.display import HTML, display\n",
    "css_file_path = \"../../design/custom.css\"\n",
    "styles = \"<link rel='stylesheet' href='%s'>\" % css_file_path\n",
    "display(HTML(styles))"
   ]
  },
  {
   "cell_type": "markdown",
   "id": "10c3e9e4",
   "metadata": {},
   "source": [
    "# Ejercicio completo con activo libre de riesgo"
   ]
  },
  {
   "cell_type": "code",
   "execution_count": 2,
   "id": "fa3ca3f3",
   "metadata": {},
   "outputs": [],
   "source": [
    "import numpy as np\n",
    "import pandas as pd\n",
    "import matplotlib.pyplot as plt\n",
    "import cvxpy as cp\n",
    "import yfinance as yf"
   ]
  },
  {
   "cell_type": "markdown",
   "id": "99c796e4",
   "metadata": {},
   "source": [
    "Dada la lista de tickers en el fichero `../data/tickers_ejercicio_completo.csv`, realiza los siguientes ejercicios:\n",
    "\n",
    "1. Descarga los precios de la lista de tickers a partir del 1 de enero de 2020 y píntalos en el espacio rentabilidad-riesgo.\n",
    "\n",
    "2. Calcula la cartera de mínimo riesgo.\n",
    "\n",
    "3. Dibuja la frontera eficiente.\n",
    "\n",
    "4. Calcula la cartera con riesgo máximo del 17% anual.\n",
    "\n",
    "5. Calcula la cartera con una rentabilidad del 36% anual.\n",
    "\n",
    "6. Si introduces el activo libre de riesgo con una rentabilidad del 1% anual, calcula de nuevo la cartera con una rentabilidad del 36% anual. Compara el riesgo de la nueva cartera con la cartera anterior. ¿Qué ha pasado?\n",
    "\n",
    "7. Dibuja todo el procedimiento y explícalo.\n",
    "\n",
    "**NOTA** No se permiten posiciones cortas."
   ]
  },
  {
   "cell_type": "code",
   "execution_count": 3,
   "id": "4fae53ca",
   "metadata": {},
   "outputs": [],
   "source": [
    "tickers = list(pd.read_csv(\"../data/tickers_ejercicio_completo.csv\", index_col=0)[\"Tickers\"])"
   ]
  },
  {
   "cell_type": "code",
   "execution_count": 4,
   "id": "d2ccacdf",
   "metadata": {},
   "outputs": [],
   "source": [
    "# 1. Descarga los precios de la lista de tickers a partir del 1 de enero de 2020 y píntalos \n",
    "#    en el espacio rentabilidad-riesgo\n"
   ]
  },
  {
   "cell_type": "code",
   "execution_count": 5,
   "id": "db1cc7f0",
   "metadata": {},
   "outputs": [],
   "source": [
    "# 2. Calcula la cartera de mínimo riesgo.\n"
   ]
  },
  {
   "cell_type": "code",
   "execution_count": 6,
   "id": "ffbd8127",
   "metadata": {},
   "outputs": [],
   "source": [
    "# 3. Dibuja la frontera eficiente.\n"
   ]
  },
  {
   "cell_type": "code",
   "execution_count": 7,
   "id": "3d31ae75",
   "metadata": {},
   "outputs": [],
   "source": [
    "# 4. Calcula la cartera con riesgo máximo del 17% anual.\n"
   ]
  },
  {
   "cell_type": "code",
   "execution_count": 8,
   "id": "f2643f4a",
   "metadata": {},
   "outputs": [],
   "source": [
    "# 5. Calcula la cartera con una rentabilidad del 36% anual.\n"
   ]
  },
  {
   "cell_type": "code",
   "execution_count": 9,
   "id": "4930512d",
   "metadata": {},
   "outputs": [],
   "source": [
    "# 6. Si introduces el activo libre de riesgo con una rentabilidad del 1% anual, calcula de \n",
    "#    nuevo la cartera con una rentabilidad del 36% anual. Compara el riesgo de \n",
    "#    la nueva cartera con la cartera anterior. ¿Qué ha pasado?\n"
   ]
  },
  {
   "cell_type": "code",
   "execution_count": null,
   "id": "5e717c54",
   "metadata": {},
   "outputs": [],
   "source": [
    "# 7. Dibuja todo el procedimiento y explícalo."
   ]
  }
 ],
 "metadata": {
  "kernelspec": {
   "display_name": "Python 3 (ipykernel)",
   "language": "python",
   "name": "python3"
  },
  "language_info": {
   "codemirror_mode": {
    "name": "ipython",
    "version": 3
   },
   "file_extension": ".py",
   "mimetype": "text/x-python",
   "name": "python",
   "nbconvert_exporter": "python",
   "pygments_lexer": "ipython3",
   "version": "3.11.5"
  }
 },
 "nbformat": 4,
 "nbformat_minor": 5
}
