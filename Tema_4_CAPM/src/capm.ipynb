{
 "cells": [
  {
   "cell_type": "code",
   "execution_count": 1,
   "metadata": {},
   "outputs": [
    {
     "data": {
      "text/html": [
       "<link rel='stylesheet' href='../../design/custom.css'>"
      ],
      "text/plain": [
       "<IPython.core.display.HTML object>"
      ]
     },
     "metadata": {},
     "output_type": "display_data"
    }
   ],
   "source": [
    "from IPython.display import HTML, display\n",
    "css_file_path = \"../../design/custom.css\"\n",
    "styles = \"<link rel='stylesheet' href='%s'>\" % css_file_path\n",
    "display(HTML(styles))"
   ]
  },
  {
   "cell_type": "markdown",
   "metadata": {},
   "source": [
    "# 4.2 $\\quad$ Modelo de mercado CAPM"
   ]
  },
  {
   "cell_type": "markdown",
   "metadata": {},
   "source": [
    "El CAPM es un modelo de equilibrio propuesto por Sharpe, Lintner y Mossin. Como resultado del mismo obtenemos una relación entre el premio de mercado de un activo y su riesgo sistemático."
   ]
  },
  {
   "cell_type": "markdown",
   "metadata": {},
   "source": [
    "Repasemos lo que hemos visto hasta ahora y cómo encaja el CAPM:\n",
    "\n",
    "- **Modelo de Markowitz:**\n",
    "  - Sirve como guía para inversores que buscan maximizar su utilidad esperada.\n",
    "  - Indica en qué activos financieros invertir y su ponderación.\n",
    "\n",
    "\n",
    "- **Activo libre de riesgo y Teoría de Separación de Tobin:**\n",
    "  - Carteras compuestas por activo libre de riesgo y cartera tangente.\n",
    "\n",
    "- **Línea de Mercado de Capitales (CML):**\n",
    "  - Representa la frontera eficiente para inversores con carteras mixtas de activo libre de riesgo y cartera tangente.\n",
    "  -  Las carteras comprendidas entre $R_f$ y $M$ invierten tanto en el activo libre de riesgo como en la cartera M.\n",
    "  - Las carteras que quedan por encima de la cartera $M$ se apalancan en $R_f$ e invierten en la cartera $M$\n",
    "\n",
    "- **Generalización del Modelo de Markowitz - Modelo \"Capital Asset Pricing Model\" (CAPM):**\n",
    "  - Considera el equilibrio en mercados de bienes de consumo, factores productivos y mercado monetario.\n",
    "  - Enfoca en determinar los precios de equilibrio de activos financieros arriesgados.a\n",
    "\n",
    "- **Supuestos del Modelo CAPM:**\n",
    "  - Las decisiones de los inversores conforme al modelo de selección de cartera de Markowitz.\n",
    "  - Expectativas homogéneas de inversores y equilibrio de mercados de capitales al inicio del período de planificación.\n",
    "\n",
    "\n"
   ]
  },
  {
   "cell_type": "markdown",
   "metadata": {},
   "source": [
    "## 1. FÓRMULA DEL CAPM"
   ]
  },
  {
   "cell_type": "markdown",
   "metadata": {},
   "source": [
    "El CAPM es un modelo de equilibrio porpuesto por Sharpe, Lintner y Mossin. Como resultado del mismo obtenemos una relación entre el premio de mercado de un activo y su riesgo sistemático:\n",
    "\n",
    "$$E[\\tilde{r}_i]-r_f=\\beta_i(E[\\tilde{r}_M-r_f]) \\tag{1}$$\n",
    "$$\\beta_i=\\frac{Cov(\\tilde{r_i},\\tilde{r_M})}{\\sigma^2_M} \\tag{2}$$\n",
    "\n",
    "Las hipótesis de partida del modelo de equilibrio son:\n",
    "- Los inversores son precio aceptantes. Ningún inversor puede manipular los precios.\n",
    "- El horizonte de inversión es un periodo.\n",
    "- Sólo se puede invertir en accciones cotizadas.\n",
    "- No tenemos costes de transacción ni impuestos.\n",
    "- El inversor es racional y optimiza el ratio media-varianza.\n",
    "- Sólo se aborda la decisión de selección de activos para una cartera.\n",
    "- La información no tiene coste y está disponible para todos los inversores.\n",
    "\n",
    "**El principio del CAPM**. Según los supuestos del CAPM, todos los inversores utilizan, como activo de riesgo, la misma cartera de mercado $M$. Por lo tanto, la cartera tangente debe ser esa cartera de mercado $M$. Dicho principio tiene implicaciones:\n",
    "- La cartera de mercado $M$ es eficiente y maximiza el ratio de Sharpe.\n",
    "- La **línea del mercado de capitales** $(CML)$ es la recta que une el activo libre de riesgo y la cartera $M$ y representa la relación entre rentabilidad y riesgo.\n",
    "    - Las carteras comprendidas entre $R_f$ y $M$ invierten tanto en el activo libre de riesgo como en la cartera $M$.\n",
    "    - Las carteras que quedan por encima de la cartera $M$ se apalancan en $R_f$ e invierten en la cartera $M$."
   ]
  },
  {
   "cell_type": "markdown",
   "metadata": {},
   "source": [
    "FIGURA 4.1: Línea del mercado de capitales\n",
    "\n",
    "<img src=\"../imgs/curva-capm.jpg\"  alt=\"drawing\" width=\"300\"/>\n",
    "\n",
    "Fuente: Brandimarte(2008)"
   ]
  },
  {
   "cell_type": "markdown",
   "metadata": {},
   "source": [
    "¿DE DÓNDE SALE LA FÓRMULA?\n",
    "\n",
    "Supongamos que tenemos un activo $i$ y creamos una cartera en la que invertimos $w$ en el activo $i$ y el resto en la cartera $M$. Por tanto:\n",
    "\n",
    "$$\\tilde{r}_p=w\\tilde{r}_i+(1-w)\\tilde{r}_M \\tag{3}$$\n",
    "\n",
    "La rentabilidad esperada y la volatilidad de la cartera es:\n",
    "\n",
    "$$\\begin{align}\n",
    "\\mu_p(w)&=w\\mu_i+(1-w)\\mu_M \\tag{4} \\\\\n",
    "\\sigma_p(w)&=\\left[w^2\\sigma^2_i+2w(1-w)\\sigma_{iM}+(1-w)^2\\sigma^2_M \\right]\\tag{5}\n",
    "\\end{align}$$"
   ]
  },
  {
   "cell_type": "markdown",
   "metadata": {},
   "source": [
    "La modificación de las ponderaciones generaría la curva discontinua representada en la Figura 4.2.\n",
    "\n",
    "Lógicamente la **cartera sólo será eficiente cuando $\\bf{w=0}$**.\n",
    "\n",
    "En primer lugar vamos a estimar la derivada  de la rentabilidad y la volatilidad con respecto a $w$:\n",
    "\n",
    "$$\\begin{align}\n",
    "\\frac{d\\mu_p(w)}{dw}&=\\mu_i-\\mu_M \\tag{6} \\\\\n",
    "\\frac{d\\sigma_p(w)}{dw} &=\\frac{w\\sigma^2_i+(1-2w)\\sigma_{iM}+(w-1)^2\\sigma^2_M}{\\sigma_p(w)} \\tag{7}\n",
    "\\end{align}$$"
   ]
  },
  {
   "cell_type": "markdown",
   "metadata": {},
   "source": [
    "El ratio de las ecuaciones 6 y 7 nos muestra:\n",
    "\n",
    "$$\\left.\\frac{d\\mu_p(w)}{d\\sigma_p(w)}\\right|_{w=0} =\\left.\\frac{\\frac{d\\mu_p(w)}{dw}}{\\frac{d\\sigma_p(w)}{dw}}\\right|_{w=0}=\\frac{(\\mu_i-\\mu_M)\\sigma_M}{\\sigma_{iM}-\\sigma^2_M} \\tag{8} $$\n",
    "\n",
    "Es la pendiente de la línea tangente a la curva de carteras posibles, que debe ser igual al ratio de Sharpe que la cartera de mercado. \n",
    "$$\\frac{(\\mu_i-\\mu_M)\\sigma_M}{\\sigma_{iM}-\\sigma^2_M}=\\frac{\\mu_M-r_f}{\\sigma_M} \\Longrightarrow \\mu_i=r_f+\\frac{\\sigma_{iM}}{\\sigma^2_M}(\\mu_M-r_f)\\tag{9}$$"
   ]
  },
  {
   "cell_type": "markdown",
   "metadata": {},
   "source": [
    "### ¿Qué nos propone el CAPM?\n",
    "\n",
    "Podemos reescribir la fórmula de CAPM:\n",
    "\n",
    "$$\\frac{E[\\tilde{r}_i]-r_f}{\\sigma_{iM}}=\\frac{E[\\tilde{r}_M]-r_f}{\\sigma^2_M} \\tag{10}$$\n",
    "\n",
    "<font color=\"red\">Dale una vuelta a la frase siguiente</font>\n",
    "\n",
    "El ratio puede ser interpretado como la **retribución** (lo que te pagan) **por el riesgo**.\n",
    "\n",
    "Observamos que la retribución del activo $i$ se hace en función de la covarianza con respecto a la cartera de mercado, es decir por el riesgo aportado por el activo a la cartera de mercado y es lo que se denomina **riesgo sistemático**.\n",
    "\n",
    "Por tanto el **riesgo específico** puede ser diversificado y el sistemático debe ser retribuido. Además la retribución con unidad de riesgo es constante para todos los activos. "
   ]
  },
  {
   "cell_type": "markdown",
   "metadata": {},
   "source": [
    "Como consecuencia de ello la medida del riesgo debería ser la $\\beta$ del activo en lugar de la volatilidad.\n",
    "\n",
    "Ello nos permite definir la **línea de mercado de los títulos (SML)** (Véase Figura 4).\n",
    "\n",
    "La SML puede interpretarse de la siguiente manera:\n",
    "- Cuando $\\beta=0$ se ofrece la rentabilidad libre de riesgo $r_f$.\n",
    "- Cuando $\\beta=1$ se ofrece la rentabilidad del mercado $\\mu_M$, es decir de la cartera $M$\n",
    "- Las betas de las carteras $P_1$ y $P_3$ vienen definidos por la SML en función del riesgo sistemático de la cartera $\\beta$.\n",
    "- La cartera $P_2$ sería una anomalía, ya que se supone que ofrece una rentabilidad por encima de su riesgo sistemático."
   ]
  },
  {
   "cell_type": "markdown",
   "metadata": {},
   "source": [
    "Figura 4: Línea del mercado de los títulos (SML)\n",
    "\n",
    "<img src=\"../imgs/sml.jpg\"  alt=\"drawing\" width=\"400\"/>\n",
    "\n",
    "Fuente:Brandimarte(2018)"
   ]
  }
 ],
 "metadata": {
  "kernelspec": {
   "display_name": "Python 3 (ipykernel)",
   "language": "python",
   "name": "python3"
  },
  "language_info": {
   "codemirror_mode": {
    "name": "ipython",
    "version": 3
   },
   "file_extension": ".py",
   "mimetype": "text/x-python",
   "name": "python",
   "nbconvert_exporter": "python",
   "pygments_lexer": "ipython3",
   "version": "3.11.5"
  }
 },
 "nbformat": 4,
 "nbformat_minor": 2
}
