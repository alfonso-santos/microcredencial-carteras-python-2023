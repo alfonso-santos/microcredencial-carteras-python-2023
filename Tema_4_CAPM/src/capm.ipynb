{
 "cells": [
  {
   "cell_type": "code",
   "execution_count": null,
   "metadata": {},
   "outputs": [
    {
     "data": {
      "text/html": [
       "<link rel='stylesheet' href='../../design/custom.css'>"
      ],
      "text/plain": [
       "<IPython.core.display.HTML object>"
      ]
     },
     "metadata": {},
     "output_type": "display_data"
    }
   ],
   "source": [
    "from IPython.display import HTML, display\n",
    "css_file_path = \"../../design/custom.css\"\n",
    "styles = \"<link rel='stylesheet' href='%s'>\" % css_file_path\n",
    "display(HTML(styles))"
   ]
  },
  {
   "cell_type": "markdown",
   "metadata": {},
   "source": [
    "# 4.2 $\\quad$ Modelo de mercado CAPM"
   ]
  },
  {
   "cell_type": "markdown",
   "metadata": {},
   "source": [
    "El CAPM es un modelo de equilibrio propuesto por Sharpe, Lintner y Mossin. Como resultado del mismo obtenemos una relación entre el premio de mercado de un activo y su riesgo sistemático."
   ]
  },
  {
   "cell_type": "markdown",
   "metadata": {},
   "source": [
    "Repasemos lo que hemos visto hasta ahora y cómo encaja el CAPM:\n",
    "\n",
    "- **Modelo de Markowitz:**\n",
    "  - Sirve como guía para inversores que buscan maximizar su utilidad esperada.\n",
    "  - Indica en qué activos financieros invertir y su ponderación.\n",
    "\n",
    "\n",
    "- **Activo libre de riesgo y Teoría de Separación de Tobin:**\n",
    "  - Carteras compuestas por activo libre de riesgo y cartera tangente.\n",
    "\n",
    "- **Línea de Mercado de Capitales (CML):**\n",
    "  - Representa la frontera eficiente para inversores con carteras mixtas de activo libre de riesgo y cartera tangente.\n",
    "  -  Las carteras comprendidas entre $R_f$ y $M$ invierten tanto en el activo libre de riesgo como en la cartera M.\n",
    "  - Las carteras que quedan por encima de la cartera $M$ se apalancan en $R_f$ e invierten en la cartera $M$\n",
    "\n",
    "- **Generalización del Modelo de Markowitz - Modelo \"Capital Asset Pricing Model\" (CAPM):**\n",
    "  - Considera el equilibrio en mercados de bienes de consumo, factores productivos y mercado monetario.\n",
    "  - Enfoca en determinar los precios de equilibrio de activos financieros arriesgados.a\n",
    "\n",
    "- **Supuestos del Modelo CAPM:**\n",
    "  - Las decisiones de los inversores conforme al modelo de selección de cartera de Markowitz.\n",
    "  - Expectativas homogéneas de inversores y equilibrio de mercados de capitales al inicio del período de planificación.\n",
    "\n",
    "\n"
   ]
  },
  {
   "cell_type": "markdown",
   "metadata": {},
   "source": [
    "## 1. FÓRMULA DEL CAPM"
   ]
  },
  {
   "attachments": {},
   "cell_type": "markdown",
   "metadata": {},
   "source": [
    "El CAPM es un modelo de equilibrio porpuesto por Sharpe, Lintner y Mossin. Como resultado del mismo obtenemos una relación entre el premio de mercado de un activo y su riesgo sistemático:\n",
    "\n",
    "$$E[\\tilde{r}_i]-r_f=\\beta_i(E[\\tilde{r}_M-r_f]) $$\n",
    "$$\\beta_i=\\frac{Cov(\\tilde{r_i},\\tilde{r_M})}{\\sigma^2_M} $$\n",
    "\n",
    "Las hipótesis de partida del modelo de equilibrio son:\n",
    "- Los inversores son precio aceptantes. Ningún inversor puede manipular los precios.\n",
    "- El horizonte de inversión es un periodo.\n",
    "- Sólo se puede invertir en accciones cotizadas.\n",
    "- No tenemos costes de transacción ni impuestos.\n",
    "- El inversor es racional y optimiza el ratio media-varianza.\n",
    "- Sólo se aborda la decisión de selección de activos para una cartera.\n",
    "- La información no tiene coste y está disponible para todos los inversores.\n",
    "\n",
    "**El principio del CAPM**. Según los supuestos del CAPM, todos los inversores utilizan, como activo de riesgo, la misma cartera de mercado $M$. Por lo tanto, la cartera tangente debe ser esa cartera de mercado $M$. Dicho principio tiene implicaciones:\n",
    "- La cartera de mercado $M$ es eficiente y maximiza el ratio de Sharpe.\n",
    "- La **línea del mercado de capitales** $(CML)$ es la recta que une el activo libre de riesgo y la cartera $M$ y representa la relación entre rentabilidad y riesgo.\n",
    "    - Las carteras comprendidas entre $R_f$ y $M$ invierten tanto en el activo libre de riesgo como en la cartera $M$.\n",
    "    - Las carteras que quedan por encima de la cartera $M$ se apalancan en $R_f$ e invierten en la cartera $M$."
   ]
  },
  {
   "attachments": {},
   "cell_type": "markdown",
   "metadata": {},
   "source": [
    "### Características de la CML\n",
    "\n",
    "Cualquier cartera eficiente está en la CML y viene definida por $w$ que representa la inversión en el activo libre de riesgo:\n",
    "$$\\mu_p= w r_f+ (1-w) \\mu_M  $$\n",
    "$$\\sigma_p= [(1-w)^2\\sigma_M^2 ]^{1/2}=(1-w)\\sigma_M $$\n",
    "$$(1-w)=\\frac{\\sigma_p}{\\sigma_M} $$\n",
    "\n",
    "Esta expresión nos permite relacionar rentabilidad de un activo con su riesgo:\n",
    "$$\\mu_p=\\left(1-\\frac{\\sigma_p}{\\sigma_M} \\right)r_f +\\frac{\\sigma_p}{\\sigma_M}\\mu_M $$\n",
    "$$\\mu_p=r_f+\\left(\\frac{\\mu_M-r_f}{\\sigma_M} \\right)\\sigma_p$$"
   ]
  },
  {
   "attachments": {},
   "cell_type": "markdown",
   "metadata": {},
   "source": [
    "### Línea del mercado de los títulos\n",
    "\n",
    "Necesitamos determinar la relación que existe entre el riesgos sitemático y la rentabilidad de culquier cartera o título. Para ello vamos a desarrollar la formula anterior únicamente para las cateras eficientes.\n",
    "\n",
    "Es importante recordar que el riesgo de cualquier cartera eficiente viene provocado únicamente por la carter $M$ por tanto:\n",
    "$$\\rho_{pM}=\\frac{\\sigma_{pM}}{\\sigma_p \\sigma_M}=1 \\rightarrow \\sigma_p=\\frac{\\sigma_{pM}}{ \\sigma_M} $$\n",
    "$$\\mu_p=r_f+\\left(\\frac{\\mu_M)-r_f}{\\sigma_M} \\right)\\sigma_p=r_f+\\left(\\frac{\\mu_M-r_f}{\\sigma_M} \\right)\\frac{\\sigma_{pM}}{ \\sigma_M} $$\n",
    "$$\\mu_p=r_f+(\\mu_M-r_f)\\frac{\\sigma_{pM}}{ \\sigma^2_M} $$\n",
    "\n",
    "De donde $\\beta_p=\\frac{\\sigma_{pM}}{ \\sigma^2_M}$ es el coeficiente de una regresión entre la rentabilidad de la cartera $p$ y el comportamiento del mercado $M$\n",
    "\n",
    "$$ \\mu_p=r_f+\\beta_p (\\mu_M-r_f) $$\n",
    "\n",
    "Queda por demostrar que esta relación es aplicable a cualquier tipo de activo no eficiente."
   ]
  },
  {
   "attachments": {},
   "cell_type": "markdown",
   "metadata": {},
   "source": [
    "### La generalización del CAPM\n",
    "\n",
    "Supongamos que tenemos un activo $i$ y creamos una cartera en la que invertimos $w$ en el activo $i$ y el resto en la cartera $M$. Por tanto:\n",
    "\n",
    "$$r_p=wr_i+(1-w)r_M $$\n",
    "\n",
    "La rentabilidad esperada y la volatilidad de la cartera es:\n",
    "\n",
    "$$\\mu_p(w)=w\\mu_i+(1-w)\\mu_M $$\n",
    "$$\\sigma_p(w)=\\left[w^2\\sigma^2_i+2w(1-w)\\sigma_{iM}+(1-w)^2\\sigma^2_M \\right]$$\n",
    "\n",
    "La modificación de las ponderaciones generaría la curva discontinua representada en la Figura 2. Lógicamente la cartera sólo será eficiente cuando $w=0$. La relación entre el riesgo y la rentabilidad viene definida por la pendiente de la CML en cuando $w=0$. Es decir, necesitamos estimar $\\left.\\frac{d\\mu_p(w)}{d\\sigma_p(w)}\\right|_{w=0}$.\n",
    "\n",
    "Por ello estimamos las derivadas parciales de la esperanza y la desviación típica con respecto a $w$:\n",
    "\n",
    "$$\\frac{d\\mu_p(w)}{dw}=\\mu_i-\\mu_M  $$\n",
    "$$\\frac{d\\sigma_p(w)}{dw} =\\frac{w\\sigma^2_i+(1-2w)\\sigma_{iM}+(w-1)^2\\sigma^2_M}{\\sigma_p(w)} $$\n",
    "\n",
    "Ahora estimamos el cociente de ambas ecuaciones cuando $w=0$:\n",
    "\n",
    "$$\\left.\\frac{d\\mu_p(w)}{d\\sigma_p(w)}\\right|_{w=0} =\\left.\\frac{\\frac{d\\mu_p(w)}{dw}}{\\frac{d\\sigma_p(w)}{dw}}\\right|_{w=0}=\\frac{(\\mu_i-\\mu_M)\\sigma_M}{\\sigma_{iM}-\\sigma^2_M} $$\n",
    "\n",
    "Obtenemos la pendiente de la CML que debe ser igual al ratio de Sharpe de la cartera de mercado. \n",
    "\n",
    "$$\\frac{(\\mu_i-\\mu_M)\\sigma_M}{\\sigma_{iM}-\\sigma^2_M}=\\frac{\\mu_M-r_f}{\\sigma_M}$$\n",
    "$$\\mu_i\\sigma^2_M-\\mu_M\\sigma^2_M=(\\mu_M-r_f)\\sigma_{iM}-\\mu_M\\sigma^2_M+r_f\\sigma^2_M $$\n",
    "$$\\mu_i=r_f+\\frac{\\sigma_{iM}}{\\sigma^2_M}(\\mu_M-r_f)$$\n",
    "$$\\mu_i=r_f+\\beta_i(\\mu_M-r_f)$$\n"
   ]
  },
  {
   "cell_type": "markdown",
   "metadata": {},
   "source": [
    "<center>\n",
    "    <img src=\"../imgs/curva-capm.jpg\"  alt=\"drawing\" width=\"400\"/>\n",
    "</center>\n"
   ]
  },
  {
   "cell_type": "markdown",
   "metadata": {},
   "source": [
    "<!---\n",
    "\n",
    "El ratio de las ecuaciones 6 y 7 nos muestra:\n",
    "\n",
    "$$\\left.\\frac{d\\mu_p(w)}{d\\sigma_p(w)}\\right|_{w=0} =\\left.\\frac{\\frac{d\\mu_p(w)}{dw}}{\\frac{d\\sigma_p(w)}{dw}}\\right|_{w=0}=\\frac{(\\mu_i-\\mu_M)\\sigma_M}{\\sigma_{iM}-\\sigma^2_M} \\tag{8} $$\n",
    "\n",
    "Es la pendiente de la línea tangente a la curva de carteras posibles, que debe ser igual al ratio de Sharpe que la cartera de mercado. \n",
    "$$\\frac{(\\mu_i-\\mu_M)\\sigma_M}{\\sigma_{iM}-\\sigma^2_M}=\\frac{\\mu_M-r_f}{\\sigma_M} \\Longrightarrow \\mu_i=r_f+\\frac{\\sigma_{iM}}{\\sigma^2_M}(\\mu_M-r_f)\\tag{9}$$\n",
    "\n",
    "-->"
   ]
  },
  {
   "attachments": {},
   "cell_type": "markdown",
   "metadata": {},
   "source": [
    "### ¿Qué nos propone el CAPM?\n",
    "\n",
    "Podemos reescribir la ecuación anterior en el contexto del Modelo de Valoración de Activos de Capital (CAPM):\n",
    "\n",
    "$$\\frac{\\mu_i-r_f}{\\sigma_{iM}}=\\frac{\\mu_M-r_f}{\\sigma_M} $$\n",
    "\n",
    "El lado izquierdo de la ecuación indica que el exceso de rentabilidad esperado de un activo $i$ depende de su contribución al riesgo del mercado $\\sigma_{iM}$. Por tanto, la ratio indica cuánto exceso de retorno se espera obtener por cada unidad de riesgo sistémico que el activo aporta a la cartera de mercado. Esta relación es fundamental para entender cómo se compensa el riesgo en los mercados financieros. \n",
    "\n",
    "El lado derecho de la ecuación, representa la relación entre el exceso de retorno esperado del mercado y su varianza, y se interpreta como la recompensa por unidad de riesgo del mercado en su conjunto.\n",
    "\n",
    "La igualdad de estas dos expresiones subraya dos principios clave del CAPM:\n",
    "\n",
    "**Riesgo Sistemático**: La compensación que un inversor recibe por invertir en un activo arriesgado se basa únicamente en el riesgo sistemático, es decir, el riesgo que el activo contribuye al mercado en general. Este es el riesgo que no puede ser eliminado mediante la diversificación.\n",
    "\n",
    "**Homogeneidad de la recompensa por riesgo**: La relación sugiere que la recompensa por unidad de riesgo sistémico es constante en el mercado. Todos los activos, independientemente de sus características individuales, ofrecen la misma recompensa por riesgo sistemático. Esto implica que el riesgo específico de un activo, o el riesgo idiosincrático, no se recompensa, ya que puede ser diversificado.\n",
    "\n",
    "Como consecuencia de ello la medida del riesgo debería ser la $\\beta$ del activo en lugar de la volatilidad.\n",
    "\n",
    "Ello nos permite definir la **línea de mercado de los títulos (SML)** (Véase Figura 4).\n",
    "\n",
    "La SML puede interpretarse de la siguiente manera:\n",
    "- Cuando $\\beta=0$ se ofrece la rentabilidad libre de riesgo $r_f$.\n",
    "- Cuando $\\beta=1$ se ofrece la rentabilidad del mercado $\\mu_M$, es decir de la cartera $M$\n",
    "- Las betas de las carteras $P_1$ y $P_3$ vienen definidos por la SML en función del riesgo sistemático de la cartera $\\beta$.\n",
    "- La cartera $P_2$ sería una anomalía, ya que se supone que ofrece una rentabilidad por encima de su riesgo sistemático."
   ]
  },
  {
   "cell_type": "markdown",
   "metadata": {},
   "source": [
    "<center>\n",
    "    <img src=\"../imgs/sml.jpg\"  alt=\"drawing\" width=\"500\"/>\n",
    "</center>"
   ]
  }
 ],
 "metadata": {
  "kernelspec": {
   "display_name": "Python 3 (ipykernel)",
   "language": "python",
   "name": "python3"
  },
  "language_info": {
   "codemirror_mode": {
    "name": "ipython",
    "version": 3
   },
   "file_extension": ".py",
   "mimetype": "text/x-python",
   "name": "python",
   "nbconvert_exporter": "python",
   "pygments_lexer": "ipython3",
   "version": "3.11.5"
  }
 },
 "nbformat": 4,
 "nbformat_minor": 2
}
