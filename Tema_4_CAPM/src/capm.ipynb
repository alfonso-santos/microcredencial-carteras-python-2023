{
 "cells": [
  {
   "cell_type": "markdown",
   "metadata": {},
   "source": [
    "# MODELO DE MERCADO CAPM"
   ]
  },
  {
   "cell_type": "markdown",
   "metadata": {},
   "source": [
    "El CAPM es un modelo de equilibrio porpuesto por Sharpe, Lintner y Mossin. Como resultado del mismo obtenemos una relación entre el premio de mercado de un activo y su riesgo sistemático."
   ]
  },
  {
   "cell_type": "markdown",
   "metadata": {},
   "source": [
    "Repasemos lo que hemos visto hasta ahora y cómo encaja el CAPM:\n",
    "\n",
    "- **Modelo de Markowitz - Modelo Normativo:**\n",
    "  - Sirve como guía para inversores que buscan maximizar su utilidad esperada.\n",
    "  - Indica en qué activos financieros invertir y su ponderación.\n",
    "\n",
    "\n",
    "- **Activo libre de riesgo y Teoría de Separación de Tobin:**\n",
    "  - Carteras compuestas por activo libre de riesgo y cartera tangente.\n",
    "\n",
    "- **Línea de Mercado de Capitales (CML):**\n",
    "  - Representa la frontera eficiente para inversores con carteras mixtas de activo libre de riesgo y cartera tangente.\n",
    "  -     - Las carteras comprendidas entre $R_f$ y $M$ invierten tanto en el activo libre de riesgo como en la cartera M.\n",
    "    - Las carteras que quedan por encima de la cartera $M$ se apalancan en $R_f$ e invierten en la cartera $M$\n",
    "\n",
    "- **Generalización del Modelo de Markowitz - Modelo \"Capital Asset Pricing Model\" (CAPM):**\n",
    "  - Considera el equilibrio en mercados de bienes de consumo, factores productivos y mercado monetario.\n",
    "  - Enfoca en determinar los precios de equilibrio de activos financieros arriesgados.a\n",
    "\n",
    "- **Supuestos del Modelo CAPM:**\n",
    "  - Las decisiones de los inversores conforme al modelo de selección de cartera de Markowitz.\n",
    "  - Expectativas homogéneas de inversores y equilibrio de mercados de capitales al inicio del período de planificación.\n",
    "\n",
    "\n"
   ]
  },
  {
   "cell_type": "markdown",
   "metadata": {},
   "source": [
    "- **Cartera de mercado $\\bold{C_M}$**\n",
    "  - Independiente de la función de utilidad o tolerancia al riesgo de los inversores\n",
    "  - La proporción de cada activo en la cartera de mercado corresponde al porcentaje que ese activo representa en la capitalización total del mercado:\n",
    "\n",
    "$\\qquad \\qquad w^M_i = \\displaystyle \\frac{P_i Q_i}{\\sum_{i=1}^{N}P_i Q_i} \\qquad \\text{siendo:} \\qquad \\sum_{i=1}^{N} w_i = 1 $"
   ]
  }
 ],
 "metadata": {
  "kernelspec": {
   "display_name": "Python 3",
   "language": "python",
   "name": "python3"
  },
  "language_info": {
   "name": "python",
   "version": "3.11.6"
  }
 },
 "nbformat": 4,
 "nbformat_minor": 2
}
