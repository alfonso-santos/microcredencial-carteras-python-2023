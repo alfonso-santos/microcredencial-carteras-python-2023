{
 "cells": [
  {
   "cell_type": "code",
   "execution_count": 4,
   "metadata": {},
   "outputs": [
    {
     "data": {
      "text/html": [
       "<link rel='stylesheet' href='design/custom.css'>"
      ],
      "text/plain": [
       "<IPython.core.display.HTML object>"
      ]
     },
     "metadata": {},
     "output_type": "display_data"
    }
   ],
   "source": [
    "from IPython.display import HTML, display\n",
    "css_file_path = \"design/custom.css\"\n",
    "styles = \"<link rel='stylesheet' href='%s'>\" % css_file_path\n",
    "display(HTML(styles))"
   ]
  },
  {
   "cell_type": "markdown",
   "metadata": {},
   "source": [
    "# MICROCREDENCIAL: Python Aplicado a la Gestión de Carteras"
   ]
  },
  {
   "cell_type": "markdown",
   "metadata": {},
   "source": [
    "<img src=\"imgs/python-and-uam-logo.jpg\" alt=\"Logos de Python y la UAM\" style=\"max-width:70%\">"
   ]
  },
  {
   "cell_type": "markdown",
   "metadata": {},
   "source": [
    "**PROFESORES:**\n",
    "\n",
    "- [Fernando Úbeda](https://www.uam.es/Economicas/%C3%9Abeda-Mellina,-Fernando/1234888497623.htm?language=es&pid=1234888496695&title=?beda%20Mellina,%20Fernando).\n",
    "\n",
    "    - Doctor en Economía y Empresa. Universidad Autónoma de Madrid.\n",
    "\n",
    "    - Profesor Titular Dpto Financiación e Investigación Comercial. Facultad Económicas y Empresariales. Universidad Autónoma de Madrid.\n",
    "    \n",
    "\n",
    "- [Alfonso Santos](https://www.uam.es/Economicas/santos-ramon-alfonso/1242667903456.htm?language=es&pid=1242653687745&title=Santos%20Ram?n%20Alfonso). \n",
    "\n",
    "    - Master de IA aplicado a los Mercados Financieros del Instituto  BME.\n",
    "    \n",
    "    - Grado Economía y Finanzas Universidad Autónoma de Madrid.\n",
    "\n",
    "    - Ingeniero Superior de Telecomunicaciones Universidad Politécnica de Madrid.\n",
    "\n",
    "    - Profesor Asociado Dpto Financiación e Investigación Comercial. Facultad Económicas y Empresariales Universidad Autónoma de Madrid.\n",
    "    \n",
    "- [Christian Oliva](https://www.linkedin.com/in/christian-oliva-moya-ingeniero/).\n",
    "\n",
    "    - Doctorando en Ingeniería Informática y Telecomunicaciones. Universidad Autónoma de Madrid\n",
    "    \n",
    "    - Master en Investigación e Innovación en Inteligencia Computacional y Sistemas Interactivos - UAM\n",
    "    \n",
    "    - Grado en Ingeniería Informática - UAM\n",
    "    \n",
    "    - Profesor Ayudante Dpto. Ingeniería Informática. Escuela Politécnica Superior - UAM\n",
    "    \n",
    "    - Profesor en el Master en IA y Computación Cuántica aplicada a los mercados financieros (MIAX) - BME"
   ]
  },
  {
   "cell_type": "markdown",
   "metadata": {},
   "source": [
    " El curso **Python Aplicado a la Gestión de Carteras**, es una propuesta académica diseñada para fusionar la teoría financiera con la aplicación práctica mediante herramientas computacionales.\n",
    " \n",
    " La gestión de carteras es un campo esencial en el mundo financiero, y su correcto entendimiento es una demanda del mercado.\n",
    "\n",
    " En este curso, no solo abordaremos los pilares fundamentales de la teoría de carteras, tales como:\n",
    " \n",
    " - La frontera eficiente de Markowitz\n",
    " \n",
    " - Los modelos CAPM, APT y Black-Litterman\n",
    " \n",
    " sino que también aprenderemos a implementar y validar estos conceptos utilizando Python, uno de los lenguajes de programación más versátiles y demandados en el ámbito financiero."
   ]
  },
  {
   "cell_type": "markdown",
   "metadata": {},
   "source": [
    "Los **objetivos específicos** del curso son:\n",
    "\n",
    "* Fundamentos Teóricos: Profundizar en la teoría moderna de carteras, comprendiendo conceptos esenciales que rigen la gestión de inversiones.\n",
    "\n",
    "* Aplicación Práctica con Python: Utilizar Python para simular, optimizar y validar estrategias de inversión basadas en los conceptos teóricos aprendidos."
   ]
  },
  {
   "cell_type": "markdown",
   "metadata": {},
   "source": [
    "El curso está basado en los libros:\n",
    "\n",
    "<img src=\"imgs/libros_recomendados.jpg\" alt=\"Libros recomendados\" style=\"max-width:100%\">\n",
    "\n",
    "\n"
   ]
  },
  {
   "cell_type": "markdown",
   "metadata": {},
   "source": [
    "\n",
    "\n",
    "## MÓDULO 1: INTRODUCCIÓN"
   ]
  },
  {
   "cell_type": "markdown",
   "metadata": {},
   "source": [
    "**TEMA 1: INTRODUCCIÓN ACTIVOS**\n",
    "\n",
    "[1.1](Tema_1_Activos_Intro/src/descarga-datos.ipynb) Descarga de datos\n",
    "\n",
    "[1.2](Tema_1_Activos_Intro/src/analisis-inicial.ipynb) Análisis Inicial de los datos de un activo\n",
    "\n",
    "[1.3](Tema_1_Activos_Intro/src/simulacion-montercalo-1-activo.ipynb) Simulación de Montecarlo con un activo\n",
    "\n",
    "[1.4](Tema_1_Activos_Intro/src/volatilidad.ipynb) Análisis de volatilidad de un activo"
   ]
  },
  {
   "cell_type": "markdown",
   "metadata": {
    "vscode": {
     "languageId": "plaintext"
    }
   },
   "source": [
    "**TEMA 2: INTRODUCCIÓN CARTERAS**\n",
    "\n",
    "[2.1](Tema_2_Carteras_Intro/src/cartera-dos-activos.ipynb) Carteras con dos activos\n",
    "\n",
    "[2.2](Tema_2_Carteras_Intro/src/cartera-reales.ipynb) Carteras con datos de dos activos reales\n",
    "\n",
    "[2.3](Tema_2_Carteras_Intro/src/cartera-cuatro-activos.ipynb) Carteras con cuatro activos\n",
    "\n",
    "[2.4](Tema_2_Carteras_Intro/src/analisis-diversificacion.ipynb) Análisis del efecto de la diversificación\n",
    "\n",
    "[Apéndice](Tema_2_Carteras_Intro/src/carteras-inicial.ipynb) Fórmulas matemáticas carteras"
   ]
  },
  {
   "cell_type": "markdown",
   "metadata": {},
   "source": [
    "## MÓDULO 2: SELECCIÓN DE CARTERAS"
   ]
  },
  {
   "cell_type": "markdown",
   "metadata": {},
   "source": [
    "**TEMA 3: CARTERAS MEDIA-VARIANZA EFICIENTES (TEORÍA DE MARKOWITZ)**\n",
    "\n",
    "[3.1](Tema_3_Markowitz/src/markowitz-intro.ipynb) Introducción a la optimización media-varianza\n",
    "\n",
    "[3.2](Tema_3_Markowitz/src/optimizacion-intro.ipynb) Conceptos iniciales de optimización\n",
    "\n",
    "[3.3](Tema_3_Markowitz/src/cvxpy-intro.ipynb) Introducción a la librería CVXPY\n",
    "\n",
    "[3.4](Tema_3_Markowitz/src/ejemplos-optimizacion-markowitz.ipynb) Ejemplos de  optimización de carteras (Markowitz)\n",
    "\n",
    "[3.5](Tema_3_Markowitz/src/ejemplos-optimizacion-markowitz-cortas.ipynb) Ejemplos de  optimización de carteras con posiciones cortas (Markowitz)\n",
    "\n",
    "[3.6](Tema_3_Markowitz/src/ejemplos-riskfolio.ipynb) Ejemplos avanzados de  optimización usando la librería Riskfolio\n",
    "\n",
    "[3.7](Tema_3_Markowitz/src/Simulaciones-muchos-activos.ipynb) Problemas de simulaciones de carteras con muchos activos\n",
    "\n",
    "\n",
    "\n",
    "\n",
    "OTROS TEMAS:\n",
    "- Problemas modelo Markpwitz\n",
    "- Estimación retornos y matrices de covarianzas (modelos de matrices aleatorias)\n",
    "- Carteras Risk Parity, HRP\n",
    "- Optimización Var, Cvar, Max Drawdown, Worst Case\n",
    "- Modelos genéticos "
   ]
  },
  {
   "cell_type": "markdown",
   "metadata": {},
   "source": [
    "## MÓDULO 3: MODELOS DE VALORACIÓN DE ACTIVOS FINANCIEROS"
   ]
  },
  {
   "cell_type": "markdown",
   "metadata": {},
   "source": [
    "**TEMA 4: CAPM Y MODELO DE MERCADO**\n",
    "\n",
    "[4.1](Tema_4_CAPM/src/activo-libre-intro.ipynb) Introducción del activo libre de riesgo: Teoría de Tobin\n",
    "\n",
    "[4.2](Tema_4_CAPM/src/capm.ipynb) CAPM\n",
    "\n",
    "[4.3](Tema_4_CAPM/src/modelo-mercado.ipynb) Modelo de mercado\n",
    "\n"
   ]
  },
  {
   "cell_type": "markdown",
   "metadata": {},
   "source": [
    "**TEMA 5: APT**"
   ]
  },
  {
   "cell_type": "markdown",
   "metadata": {},
   "source": [
    "**TEMA 6: MODELO BLACK LITTERMAN**"
   ]
  }
 ],
 "metadata": {
  "kernelspec": {
   "display_name": "Python 3 (ipykernel)",
   "language": "python",
   "name": "python3"
  },
  "language_info": {
   "codemirror_mode": {
    "name": "ipython",
    "version": 3
   },
   "file_extension": ".py",
   "mimetype": "text/x-python",
   "name": "python",
   "nbconvert_exporter": "python",
   "pygments_lexer": "ipython3",
   "version": "3.11.6"
  }
 },
 "nbformat": 4,
 "nbformat_minor": 2
}
