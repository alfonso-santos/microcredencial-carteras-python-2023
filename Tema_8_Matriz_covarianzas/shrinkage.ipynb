{
 "cells": [
  {
   "cell_type": "markdown",
   "metadata": {},
   "source": []
  },
  {
   "cell_type": "markdown",
   "metadata": {},
   "source": []
  },
  {
   "cell_type": "markdown",
   "metadata": {},
   "source": []
  },
  {
   "cell_type": "code",
   "execution_count": 1,
   "metadata": {},
   "outputs": [],
   "source": [
    "import numpy as np\n",
    "import pandas as pd\n",
    "import matplotlib.pyplot as plt\n",
    "import seaborn as sns\n",
    "import yfinance as yf"
   ]
  },
  {
   "cell_type": "code",
   "execution_count": 14,
   "metadata": {},
   "outputs": [],
   "source": [
    "def calcular_matriz_covarianza_escalar(retornos):\n",
    "    \"\"\"\n",
    "    Calcula una matriz de covarianza escalar para un conjunto dado de retornos de activos.\n",
    "    \n",
    "    Parameters:\n",
    "    retornos (pd.DataFrame): DataFrame de pandas que contiene los retornos de los activos.\n",
    "                             Cada columna representa un activo y cada fila representa una observación.\n",
    "    \n",
    "    Returns:\n",
    "    np.ndarray: Una matriz de covarianza escalar donde todas las varianzas son iguales a la varianza\n",
    "                media de los activos y todas las covarianzas son cero.\n",
    "    \n",
    "    Raises:\n",
    "    ValueError: Si 'retornos' no es un DataFrame.\n",
    "    ValueError: Si 'retornos' tiene menos de una columna (activo).\n",
    "    ValueError: Si 'retornos' contiene alguna fila con todos valores NaN.\n",
    "    \"\"\"\n",
    "    \n",
    "    # Verificar que 'retornos' sea un DataFrame\n",
    "    if not isinstance(retornos, pd.DataFrame):\n",
    "        raise ValueError(\"El parámetro 'retornos' debe ser un pd.DataFrame.\")\n",
    "    \n",
    "    # Verificar que hay suficientes activos\n",
    "    if retornos.shape[1] < 1:\n",
    "        raise ValueError(\"El DataFrame 'retornos' debe contener los retornos de al menos un activo.\")\n",
    "    \n",
    "    # Verificar que no hay filas completamente vacías\n",
    "    if retornos.dropna(how='all').empty:\n",
    "        raise ValueError(\"El DataFrame 'retornos' no debe tener filas completamente vacías.\")\n",
    "\n",
    "    # Calcular la varianza media de todos los activos\n",
    "    varianza_media = retornos.var().mean()\n",
    "    \n",
    "    # Obtener el número de activos\n",
    "    n_activos = retornos.shape[1]\n",
    "    \n",
    "    # Crear una matriz de covarianza escalar\n",
    "    matriz_covarianza_escalar = np.zeros((n_activos, n_activos))\n",
    "    np.fill_diagonal(matriz_covarianza_escalar, varianza_media)\n",
    "    \n",
    "    return matriz_covarianza_escalar"
   ]
  },
  {
   "cell_type": "code",
   "execution_count": 18,
   "metadata": {},
   "outputs": [],
   "source": [
    "def calcular_shrinkage_ledoit_wolf(retornos):\n",
    "    \"\"\"\n",
    "    Calcula la matriz de covarianza shrinked utilizando el método de Ledoit-Wolf.\n",
    "    \n",
    "    Parameters:\n",
    "    retornos (pd.DataFrame): DataFrame que contiene los retornos de los activos,\n",
    "                             donde cada columna representa un activo y cada fila\n",
    "                             representa una observación.\n",
    "                             \n",
    "    Returns:\n",
    "    np.ndarray: Matriz de covarianza shrinked, donde la varianza de cada activo\n",
    "                está ajustada para mejorar la estabilidad y precisión de la matriz.\n",
    "    \n",
    "    Raises:\n",
    "    ValueError: Si 'retornos' no es un DataFrame.\n",
    "    ValueError: Si 'retornos' tiene menos de dos columnas o menos de una fila.\n",
    "    \"\"\"\n",
    "    \n",
    "    # Verificaciones de integridad de la entrada\n",
    "    if not isinstance(retornos, pd.DataFrame):\n",
    "        raise ValueError(\"El parámetro 'retornos' debe ser un pd.DataFrame.\")\n",
    "    if retornos.shape[1] < 2 or retornos.shape[0] < 1:\n",
    "        raise ValueError(\"El DataFrame 'retornos' debe contener al menos dos activos y una observación.\")\n",
    "\n",
    "    # Calcula la matriz de covarianza muestral\n",
    "    matriz_covarianza_muestral = retornos.cov().values\n",
    "\n",
    "    # Estimar la matriz de covarianza escalar\n",
    "    matriz_covarianza_escalar = calcular_matriz_covarianza_escalar(retornos)\n",
    "    \n",
    "    # Número de observaciones y activos\n",
    "    n, p = retornos.shape\n",
    "    \n",
    "    # Media de cada activo\n",
    "    retornos_media = retornos.mean()\n",
    "    \n",
    "    # Centrar los datos\n",
    "    retornos_cent = retornos - retornos_media\n",
    "    \n",
    "    # Calcular la matriz de varianza de los retornos centrados usando covarianza con ddof=0\n",
    "    matriz_varianza = retornos_cent.cov(ddof=0).values\n",
    "    \n",
    "    # Diferencia entre la matriz de varianza y la matriz escalar\n",
    "    matriz_diferencia = matriz_varianza - matriz_covarianza_escalar\n",
    "    \n",
    "    # Calcular el numerador (suma de cuadrados de las diferencias)\n",
    "    numerador = np.sum(matriz_diferencia ** 2)\n",
    "    \n",
    "    # Calcular el denominador (error de predicción de la matriz muestral)\n",
    "    denominador = 0\n",
    "    for i in range(n):\n",
    "        x = retornos_cent.iloc[i].values\n",
    "        matriz_omega = np.outer(x, x)\n",
    "        matriz_omega -= matriz_varianza\n",
    "        denominador += np.sum(matriz_omega ** 2)\n",
    "    denominador /= n\n",
    "    \n",
    "    # Calcular el parámetro de encogimiento\n",
    "    if denominador != 0:\n",
    "        shrinkage = numerador / denominador\n",
    "    else:\n",
    "        shrinkage = 0\n",
    "    shrinkage = max(0, min(1, shrinkage))  # Asegura que el encogimiento esté entre 0 y 1\n",
    "    \n",
    "    # Calcular la matriz de covarianza shrinked\n",
    "    matriz_covarianza_shrinked = shrinkage * matriz_covarianza_escalar + (1 - shrinkage) * matriz_covarianza_muestral\n",
    "    \n",
    "    return matriz_covarianza_shrinked\n"
   ]
  },
  {
   "cell_type": "code",
   "execution_count": null,
   "metadata": {},
   "outputs": [],
   "source": [
    "def cartera_min_vol (ret, metodo=):\n",
    "    \n",
    "    ''' Función que calcula la cartera de mínima varianza para un DataFrame de rendimientos\n",
    "    ret: DataFrame de rendimientos\n",
    "    Retorna pesos_ajustados: Array con los pesos de la cartera de mínima varianza'''\n",
    "    \n",
    "    if isinstance(ret, pd.DataFrame): # Verifico que el argumento sea un DataFrame\n",
    "    \n",
    "        num_act = ret.shape[1]\n",
    "        matriz_cov = ret.cov().to_numpy()\n",
    "        \n",
    "            #Variables de decisión\n",
    "        pesos = cp.Variable(num_act)\n",
    "        \n",
    "        #Restricciones\n",
    "        constraints = [pesos >= 0,\n",
    "                    cp.sum(pesos) == 1,\n",
    "                    ]\n",
    "        \n",
    "        riesgo = cp.quad_form(pesos, matriz_cov) # Riesgo de la cartera\n",
    "        objective = cp.Minimize(riesgo) # Minimizar la varianza\n",
    "\n",
    "        #Problema y resuelvo\n",
    "        prob = cp.Problem(objective, constraints)\n",
    "        resultado = prob.solve()\n",
    "\n",
    "        pesos_ajustados = np.array([np.round(x, 3) if x > 10**-4 else 0  for x in pesos.value]) #Pongo a cero los pesos menores a 10^-4 y redondeo a 3 decimales\n",
    "\n",
    "        return pesos_ajustados\n",
    "    \n",
    "    else:\n",
    "        raise ValueError('La función cartera_min_vol solo acepta un DataFrame como argumento') # Si el argumento no es un DataFrame, lanzo un error"
   ]
  },
  {
   "cell_type": "code",
   "execution_count": 21,
   "metadata": {},
   "outputs": [],
   "source": [
    "retornos_media = retornos_activos_mes_ini.mean()\n",
    "retornos_cent = retornos_activos_mes_ini - retornos_media\n",
    "\n",
    "x = retornos_cent.iloc[0].values\n",
    "matriz_omega = np.outer(x, x)"
   ]
  },
  {
   "cell_type": "code",
   "execution_count": 24,
   "metadata": {},
   "outputs": [
    {
     "data": {
      "text/plain": [
       "((50, 50), (351, 50))"
      ]
     },
     "execution_count": 24,
     "metadata": {},
     "output_type": "execute_result"
    }
   ],
   "source": [
    "matriz_omega.shape, retornos_activos_mes_ini.shape"
   ]
  },
  {
   "cell_type": "code",
   "execution_count": 2,
   "metadata": {},
   "outputs": [
    {
     "name": "stderr",
     "output_type": "stream",
     "text": [
      "[*********************100%%**********************]  1 of 1 completed\n"
     ]
    }
   ],
   "source": [
    "start_date = '1995-01-01'\n",
    "precios_indice = yf.download(\"SPY\", start=start_date)[[\"Adj Close\"]] # Precios ajustados al cierre"
   ]
  },
  {
   "cell_type": "code",
   "execution_count": 3,
   "metadata": {},
   "outputs": [
    {
     "name": "stderr",
     "output_type": "stream",
     "text": [
      "[*********************100%%**********************]  503 of 503 completed\n",
      "\n",
      "3 Failed downloads:\n",
      "['CDAY', 'BRK.B']: Exception('%ticker%: No timezone found, symbol may be delisted')\n",
      "['BF.B']: Exception('%ticker%: No price data found, symbol may be delisted (1d 1995-01-01 -> 2024-04-28)')\n"
     ]
    }
   ],
   "source": [
    "filepath = 'https://raw.githubusercontent.com/alfonso-santos/microcredencial-carteras-python-2023/main/Tema_5_APT/data/sp500_tickers.csv'\n",
    "tickers_sp500 = list(pd.read_csv(filepath))\n",
    "\n",
    "precios = yf.download(tickers_sp500, start=start_date)['Adj Close']\n",
    "\n",
    "precios_activos_sp500 = precios.copy()\n",
    "precios_activos_sp500.dropna(axis=1, inplace=True)\n",
    "#ret_activos_sp500 = np.log(precios_activos_sp500).diff().dropna()"
   ]
  },
  {
   "cell_type": "code",
   "execution_count": 4,
   "metadata": {},
   "outputs": [],
   "source": [
    "num_act_max = 100\n",
    "\n",
    "num_columnas = precios_activos_sp500.shape[1]\n",
    "\n",
    "# Generar índices aleatorios para seleccionar num_act_max activos sin repetición\n",
    "\n",
    "# Fijar la semilla del generador de números aleatorios\n",
    "np.random.seed(42)  # Puedes usar cualquier número entero como semilla\n",
    "\n",
    "indices_aleatorios = np.random.choice(num_columnas, size=50, replace=False)\n",
    "\n",
    "# Seleccionar las columnas del array original usando los índices aleatorios\n",
    "precios_activos_select = precios_activos_sp500.iloc[:, indices_aleatorios]\n"
   ]
  },
  {
   "cell_type": "code",
   "execution_count": 9,
   "metadata": {},
   "outputs": [],
   "source": [
    "fechas_primer_dia = precios_activos_select.groupby([precios_activos_select.index.year, precios_activos_select.index.month]).apply(lambda x: x.index.min()).values\n",
    "precios_activos_mes_ini = precios_activos_select.loc[fechas_primer_dia]\n",
    "retornos_activos_mes_ini = np.log(precios_activos_mes_ini).diff().dropna()"
   ]
  },
  {
   "cell_type": "code",
   "execution_count": 19,
   "metadata": {},
   "outputs": [
    {
     "data": {
      "text/plain": [
       "array([[0.00425563, 0.00182844, 0.00180102, ..., 0.00183856, 0.00113357,\n",
       "        0.00247931],\n",
       "       [0.00182844, 0.00701708, 0.00210287, ..., 0.00216841, 0.00181315,\n",
       "        0.00308253],\n",
       "       [0.00180102, 0.00210287, 0.01563449, ..., 0.00287252, 0.00079934,\n",
       "        0.00305878],\n",
       "       ...,\n",
       "       [0.00183856, 0.00216841, 0.00287252, ..., 0.0051405 , 0.00166928,\n",
       "        0.00259277],\n",
       "       [0.00113357, 0.00181315, 0.00079934, ..., 0.00166928, 0.00642201,\n",
       "        0.0018885 ],\n",
       "       [0.00247931, 0.00308253, 0.00305878, ..., 0.00259277, 0.0018885 ,\n",
       "        0.00835626]])"
      ]
     },
     "execution_count": 19,
     "metadata": {},
     "output_type": "execute_result"
    }
   ],
   "source": [
    "calcular_shrinkage_ledoit_wolf(retornos_activos_mes_ini)"
   ]
  },
  {
   "cell_type": "code",
   "execution_count": 12,
   "metadata": {},
   "outputs": [
    {
     "data": {
      "text/plain": [
       "False"
      ]
     },
     "execution_count": 12,
     "metadata": {},
     "output_type": "execute_result"
    }
   ],
   "source": [
    "\n",
    "np.issubdtype(retornos_activos_mes_ini.dtypes, np.number)"
   ]
  }
 ],
 "metadata": {
  "kernelspec": {
   "display_name": "Python 3",
   "language": "python",
   "name": "python3"
  },
  "language_info": {
   "codemirror_mode": {
    "name": "ipython",
    "version": 3
   },
   "file_extension": ".py",
   "mimetype": "text/x-python",
   "name": "python",
   "nbconvert_exporter": "python",
   "pygments_lexer": "ipython3",
   "version": "3.11.6"
  }
 },
 "nbformat": 4,
 "nbformat_minor": 2
}
