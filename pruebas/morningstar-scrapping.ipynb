{
 "cells": [
  {
   "cell_type": "code",
   "execution_count": 23,
   "metadata": {},
   "outputs": [],
   "source": [
    "import requests\n",
    "import pandas as pd\n",
    "import numpy as np\n",
    "import matplotlib.pyplot as plt\n",
    "from bs4 import BeautifulSoup\n",
    "from fake_useragent import UserAgent\n",
    "import requests\n",
    "from io import StringIO"
   ]
  },
  {
   "cell_type": "code",
   "execution_count": 7,
   "metadata": {},
   "outputs": [],
   "source": [
    "url = \"https://tools.morningstar.co.uk/api/rest.svc/klr5zyak8x/security/screener\"\n",
    "params = {\n",
    "    'page': 1,\n",
    "    'pageSize': 50,\n",
    "    'sortOrder': 'LegalName asc',\n",
    "    'outputType': 'json',\n",
    "    'version': 1,\n",
    "    'languageId': 'es-ES',\n",
    "    'currencyId': 'EUR',\n",
    "    'universeIds': 'FOESP$$ALL',\n",
    "    'securityDataPoints': 'SecId|Name|PriceCurrency|TenforeId|LegalName|ClosePrice|Yield_M12|CategoryName|Medalist_RatingNumber|StarRatingM255|SustainabilityRank|ReturnD1|ReturnW1|ReturnM1|ReturnM3|ReturnM6|ReturnM0|ReturnM12|ReturnM36|ReturnM60|ReturnM120|FeeLevel|ManagerTenure|MaxDeferredLoad|InitialPurchase|FundTNAV|EquityStyleBox|BondStyleBox|AverageMarketCapital|AverageCreditQualityCode|EffectiveDuration|MorningstarRiskM255|AlphaM36|BetaM36|R2M36|StandardDeviationM36|SharpeM36|TrackRecordExtension',\n",
    "    'filters': '',\n",
    "    'term': '',\n",
    "    'subUniverseId': ''\n",
    "}\n",
    "\n",
    "headers = {\n",
    "#    'User-Agent': 'Mozilla/5.0 (Windows NT 10.0; Win64; x64) AppleWebKit/537.36 (KHTML, like Gecko) Chrome/58.0.3029.110 Safari/537.3',\n",
    "    'User-Agent': UserAgent().random,\n",
    "    'Accept': 'application/json, text/plain, */*',\n",
    "}\n",
    "\n",
    "# Realizar la solicitud GET\n",
    "response = requests.get(url, headers=headers, params=params)\n",
    "\n",
    "# Verificar que la solicitud fue exitosa\n",
    "if response.status_code == 200:\n",
    "    # Convertir la respuesta a JSON\n",
    "    data = response.json()\n",
    "    #print(data)\n",
    "else:\n",
    "    print(\"Error:\", response.status_code)\n"
   ]
  },
  {
   "cell_type": "markdown",
   "metadata": {},
   "source": [
    "### Descripción de las Columnas del DataFrame de Fondos de Morningstar\n",
    "\n",
    "- **`SecId`**: Identificador único del fondo en la plataforma de Morningstar.\n",
    "- **`Name`**: Nombre comercial del fondo.\n",
    "- **`PriceCurrency`**: La moneda en la que se expresa el precio del fondo.\n",
    "- **`LegalName`**: Nombre legal del fondo, como aparece en los documentos oficiales.\n",
    "- **`ClosePrice`**: Precio de cierre del fondo en la última sesión contable.\n",
    "- **`Yield_M12`**: Rendimiento del fondo en los últimos 12 meses.\n",
    "- **`CategoryName`**: Nombre de la categoría Morningstar a la que pertenece el fondo.\n",
    "- **`ReturnD1`**: Retorno del fondo en el último día.\n",
    "- **`ReturnW1`**: Retorno del fondo en la última semana.\n",
    "- **`ReturnM1`**: Retorno del fondo en el último mes.\n",
    "- **`ReturnM3`**: Retorno del fondo en los últimos 3 meses.\n",
    "- **`ReturnM6`**: Retorno del fondo en los últimos 6 meses.\n",
    "- **`ReturnM0`**: Retorno del fondo en el mes actual.\n",
    "- **`ReturnM12`**: Retorno del fondo en los últimos 12 meses.\n",
    "- **`ReturnM36`**: Retorno del fondo en los últimos 36 meses.\n",
    "- **`ReturnM60`**: Retorno del fondo en los últimos 60 meses.\n",
    "- **`ManagerTenure`**: Tiempo que el gestor actual ha estado al frente del fondo, en años.\n",
    "- **`MaxDeferredLoad`**: Comisión máxima por suscripción diferida que se cobra al vender el fondo.\n",
    "- **`StandardDeviationM36`**: Desviación estándar de los retornos del fondo en los últimos 36 meses, una medida de volatilidad.\n",
    "- **`SharpeM36`**: Ratio de Sharpe en los últimos 36 meses, que mide la rentabilidad ajustada al riesgo.\n",
    "- **`TrackRecordExtension`**: Indica si el fondo ha sido prolongado o extendido más allá de su vida útil prevista inicialmente.\n",
    "- **`TenforeId`**: Identificador de Tenfore para el fondo.\n",
    "- **`Medalist_RatingNumber`**: Clasificación numérica de los analistas de Morningstar para el fondo.\n",
    "- **`StarRatingM255`**: Calificación por estrellas de Morningstar para el fondo, basada en su rendimiento ajustado al riesgo pasado.\n",
    "- **`SustainabilityRank`**: Clasificación de sostenibilidad del fondo, evaluando factores como impacto ambiental, social y de gobernanza.\n",
    "- **`FeeLevel`**: Nivel de las tasas de gestión y otros gastos asociados al fondo.\n",
    "- **`InitialPurchase`**: Monto mínimo inicial requerido para invertir en el fondo.\n",
    "- **`FundTNAV`**: Valor total neto de los activos del fondo.\n",
    "- **`EquityStyleBox`**: Representación gráfica de la orientación de inversión del fondo en acciones, basada en el tamaño del mercado y el estilo de valor/crecimiento.\n",
    "- **`AverageMarketCapital`**: Capitalización de mercado media de las inversiones del fondo.\n",
    "- **`MorningstarRiskM255`**: Evaluación del riesgo del fondo por Morningstar basada en los últimos 255 días.\n",
    "- **`AlphaM36`**: Alpha del fondo en los últimos 36 meses, que mide su rendimiento relativo ajustado al riesgo frente a su índice de referencia.\n",
    "- **`BetaM36`**: Beta del fondo en los últimos 36 meses, que mide la sensibilidad del fondo a los movimientos del mercado.\n",
    "- **`R2M36`**: Coeficiente de determinación (R-cuadrado) para los últimos 36 meses, que mide la proporción de variabilidad en los retornos del fondo que puede ser explicada por los movimientos del índice de referencia.\n",
    "- **`BondStyleBox`**: Representación gráfica de la orientación de inversión del fondo en bonos, basada en la duración y la calidad del crédito.\n",
    "- **`AverageCreditQualityCode`**: Código que representa la calidad de crédito promedio de los bonos en el portafolio del fondo.\n",
    "- **`EffectiveDuration`**: Duración efectiva de la cartera de bonos del fondo, una medida\n"
   ]
  },
  {
   "cell_type": "code",
   "execution_count": 8,
   "metadata": {},
   "outputs": [
    {
     "data": {
      "text/plain": [
       "(50, 38)"
      ]
     },
     "execution_count": 8,
     "metadata": {},
     "output_type": "execute_result"
    }
   ],
   "source": [
    "fondos_df = pd.DataFrame(data['rows'])\n"
   ]
  },
  {
   "cell_type": "code",
   "execution_count": 63,
   "metadata": {},
   "outputs": [],
   "source": [
    "#fondos_df.to_csv('fondos_descargados.csv', index=False)"
   ]
  },
  {
   "cell_type": "code",
   "execution_count": 9,
   "metadata": {},
   "outputs": [],
   "source": [
    "tickers = list(fondos_df['SecId'])\n",
    "nombres_fondos = list(fondos_df['LegalName'])"
   ]
  },
  {
   "cell_type": "code",
   "execution_count": 10,
   "metadata": {},
   "outputs": [],
   "source": [
    "category_mapping = {\n",
    "    'RV': 'RV',\n",
    "    'RF': 'RF',\n",
    "    'Mixtos': 'Mixtos',\n",
    "    'Alternativo': 'Alternativo',\n",
    "    'Inmobiliario': 'Inmobiliario',\n",
    "    'Mercado Monetario': 'Mercado Monetario',\n",
    "    'Otros': 'Otros',\n",
    "    'Materias Primas': 'Materias Primas',\n",
    "    'Fecha Objetivo': 'Fecha Objetivo',\n",
    "    'Capital Protegido': 'Capital Protegido',\n",
    "    'EUR Deuda Subordinada': 'EUR Deuda',\n",
    "    'Garantizados': 'Garantizados'\n",
    "}"
   ]
  },
  {
   "cell_type": "code",
   "execution_count": 11,
   "metadata": {},
   "outputs": [],
   "source": [
    "# Aplicar el mapeo usando un bucle para optimizar la asignación de valores\n",
    "for key, value in category_mapping.items():\n",
    "    fondos_df.loc[fondos_df['CategoryName'].str.startswith(key), 'Cat'] = value"
   ]
  },
  {
   "cell_type": "code",
   "execution_count": null,
   "metadata": {},
   "outputs": [],
   "source": []
  },
  {
   "cell_type": "code",
   "execution_count": 21,
   "metadata": {},
   "outputs": [],
   "source": [
    "def fetch_fund_data(sec_id):\n",
    "    params = {'id': sec_id}\n",
    "    headers = {'User-Agent': 'Mozilla/5.0'}  # Ajusta según necesites\n",
    "    url = 'https://www.morningstar.es/es/funds/snapshot/snapshot.aspx'\n",
    "    \n",
    "    # Realizar la solicitud\n",
    "    response = requests.get(url, params=params, headers=headers)\n",
    "    soup = BeautifulSoup(response.text, 'html.parser')\n",
    "    \n",
    "    # Encontrar todas las tablas en el documento y extraer las últimas palabras de sus clases\n",
    "    tables = soup.find_all('table')\n",
    "    dataframes = {}\n",
    "\n",
    "    for table in tables:\n",
    "        class_names = ' '.join(table.get('class', []))\n",
    "        words = class_names.split()\n",
    "        last_word = words[-1] if words else 'Unnamed'\n",
    "\n",
    "        # Solo procesar tablas si la última palabra es relevante y no está en la lista de exclusión\n",
    "        if last_word not in ['Unnamed', 'snapshot']:\n",
    "            html_content = str(table)\n",
    "            # Utilizar StringIO para simular un archivo en memoria\n",
    "            df = pd.read_html(StringIO(html_content))[0]\n",
    "            dataframes[last_word] = df\n",
    "\n",
    "    return dataframes"
   ]
  },
  {
   "cell_type": "code",
   "execution_count": null,
   "metadata": {},
   "outputs": [],
   "source": [
    "fondos_df['SecId']"
   ]
  },
  {
   "cell_type": "code",
   "execution_count": 27,
   "metadata": {},
   "outputs": [],
   "source": [
    "RV_funds = fondos_df.loc[fondos_df['Cat'] == 'RV', 'SecId']\n",
    "# Diccionario para almacenar DataFrames por SecId\n",
    "all_funds_data = {}\n",
    "\n",
    "for sec_id in RV_funds:\n",
    "    try:\n",
    "        all_funds_data[sec_id] = fetch_fund_data(sec_id)\n",
    "        #print(f\"Datos obtenidos para SecId {sec_id}\")\n",
    "    except Exception as e:\n",
    "        print(f\"Error obteniendo datos para SecId {sec_id}: {e}\")"
   ]
  },
  {
   "cell_type": "code",
   "execution_count": 43,
   "metadata": {},
   "outputs": [
    {
     "data": {
      "text/plain": [
       "['snapshotTitleTable',\n",
       " 'overviewPerformanceTable',\n",
       " 'overviewCalenderYearReturnsTable',\n",
       " 'overviewKeyStatsTable',\n",
       " 'overviewObjectiveTable',\n",
       " 'TrailingReturnsOverview',\n",
       " 'overviewTrailingReturnsTable',\n",
       " 'FundManagersOverview',\n",
       " 'snapshotTable',\n",
       " 'overviewBenchmarkTable2Cols',\n",
       " 'overviewPortfolioTable',\n",
       " 'overviewPortfolioEquityStyleTable',\n",
       " 'overviewAssetAllocationTable',\n",
       " 'overviewTopRegionsTable',\n",
       " 'overviewTopSectorsTable',\n",
       " 'overviewTopHoldingsTable']"
      ]
     },
     "execution_count": 43,
     "metadata": {},
     "output_type": "execute_result"
    }
   ],
   "source": [
    "list(all_funds_data.get('F00001COTM').keys())   "
   ]
  },
  {
   "cell_type": "code",
   "execution_count": 14,
   "metadata": {},
   "outputs": [],
   "source": [
    "params = {'id': fondos_df['SecId'][1]}\n",
    "\n",
    "html = requests.get('https://www.morningstar.es/es/funds/snapshot/snapshot.aspx', params=params, headers=headers).text\n",
    "soup = BeautifulSoup(html, 'html.parser')\n"
   ]
  },
  {
   "cell_type": "code",
   "execution_count": null,
   "metadata": {},
   "outputs": [],
   "source": []
  },
  {
   "cell_type": "code",
   "execution_count": 50,
   "metadata": {},
   "outputs": [
    {
     "name": "stdout",
     "output_type": "stream",
     "text": [
      "['overviewPerformanceTable', 'overviewCalenderYearReturnsTable', 'overviewKeyStatsTable', 'overviewObjectiveTable', 'TrailingReturnsOverview', 'overviewTrailingReturnsTable', 'overviewKeyStatsTable', 'FundManagersOverview', 'overviewBenchmarkTable2Cols', 'overviewObjectiveTable', 'overviewPortfolioTable', 'overviewPortfolioTable', 'overviewPortfolioTable', 'overviewPortfolioEquityStyleTable', 'overviewAssetAllocationTable', 'overviewTopRegionsTable', 'overviewTopSectorsTable', 'overviewTopHoldingsTable']\n"
     ]
    }
   ],
   "source": [
    "# Encontrar todas las tablas en el documento\n",
    "tables = soup.find_all('table')\n",
    "\n",
    "# Lista para almacenar las últimas palabras de los nombres de las tablas\n",
    "last_word_names = []\n",
    "\n",
    "for table in tables:\n",
    "    # Obtener el atributo 'class', convertirlo en una cadena y separarlo por espacios\n",
    "    class_names = ' '.join(table.get('class', []))\n",
    "    # Dividir la cadena por espacios para obtener las palabras individuales\n",
    "    words = class_names.split()\n",
    "    # Tomar la última palabra de la lista de palabras, si existe\n",
    "    if words:\n",
    "        last_word = words[-1]\n",
    "        last_word_names.append(last_word)\n",
    "    else:\n",
    "        # Si no hay palabras, agregar un marcador para indicar que no hay nombre\n",
    "        last_word_names.append('Unnamed')\n",
    "\n",
    "# Filtrar la lista para excluir los que contienen 'snapshot' o son 'Unnamed'\n",
    "filtered_tables = [name for name in last_word_names if 'snapshot' not in name and name != 'Unnamed']\n",
    "\n",
    "# Imprimir los nombres filtrados\n",
    "print(filtered_tables)"
   ]
  },
  {
   "cell_type": "code",
   "execution_count": 52,
   "metadata": {},
   "outputs": [
    {
     "data": {
      "text/plain": [
       "<table border=\"0\" class=\"snapshotTextColor snapshotTextFontStyle snapshotTable overviewKeyStatsTable\"><tr><td class=\"titleBarHeading\" colspan=\"3\">Estadística Rápida</td></tr><tr><td class=\"line heading\">VL<span class=\"heading\"><br/>18/04/2024</span></td><td class=\"line\"> </td><td class=\"line text\">USD 148,51</td></tr><tr><td class=\"line heading\">Cambio del día</td><td class=\"line\"> </td><td class=\"line text\">-0,72%\n",
       "                      </td></tr><tr><td class=\"line heading\">Categoría Morningstar™</td><td class=\"line\"> </td><td class=\"line value text\"><a href=\"/es/fundquickrank/default.aspx?category=EUCA000558\" style=\"width:100%!important;\">RV Global  Cap. Flexible</a></td></tr><tr><td class=\"line heading\">ISIN</td><td class=\"line\"> </td><td class=\"line text\">LU1785301273</td></tr><tr><td class=\"line heading\">Patrimonio (Mil)<span class=\"heading\"><br/>18/04/2024</span></td><td class=\"line\"> </td><td class=\"line text\">USD 573,04</td></tr><tr><td class=\"line heading\">Patrimonio Clase (Mil)<span class=\"heading\"><br/>18/04/2024</span></td><td class=\"line\"> </td><td class=\"line text\">USD 8,69</td></tr><tr><td class=\"line heading\">Comisión Máx. Suscripción</td><td class=\"line\"> </td><td class=\"line text\">-</td></tr><tr><td class=\"line heading\">Gastos Corrientes<span class=\"heading\"><br/>30/06/2023</span></td><td class=\"line\">  </td><td class=\"line text\">1,00%</td></tr></table>"
      ]
     },
     "execution_count": 52,
     "metadata": {},
     "output_type": "execute_result"
    }
   ],
   "source": [
    "tabla_html = soup.find('table', class_='overviewKeyStatsTable')\n",
    "tabla_html"
   ]
  },
  {
   "cell_type": "code",
   "execution_count": 57,
   "metadata": {},
   "outputs": [
    {
     "name": "stderr",
     "output_type": "stream",
     "text": [
      "/tmp/ipykernel_631/3860323332.py:3: FutureWarning: Passing literal html to 'read_html' is deprecated and will be removed in a future version. To read from a literal string, wrap it in a 'StringIO' object.\n",
      "  tabla_df = pd.read_html(str(tabla_html))[0].iloc[1:, [0,2]] # read_html devuelve una lista de DataFrames, seleccionamos el primero\n"
     ]
    },
    {
     "data": {
      "text/html": [
       "<div>\n",
       "<style scoped>\n",
       "    .dataframe tbody tr th:only-of-type {\n",
       "        vertical-align: middle;\n",
       "    }\n",
       "\n",
       "    .dataframe tbody tr th {\n",
       "        vertical-align: top;\n",
       "    }\n",
       "\n",
       "    .dataframe thead th {\n",
       "        text-align: right;\n",
       "    }\n",
       "</style>\n",
       "<table border=\"1\" class=\"dataframe\">\n",
       "  <thead>\n",
       "    <tr style=\"text-align: right;\">\n",
       "      <th></th>\n",
       "      <th>0</th>\n",
       "      <th>2</th>\n",
       "    </tr>\n",
       "  </thead>\n",
       "  <tbody>\n",
       "    <tr>\n",
       "      <th>1</th>\n",
       "      <td>VL 18/04/2024</td>\n",
       "      <td>USD 148,51</td>\n",
       "    </tr>\n",
       "    <tr>\n",
       "      <th>2</th>\n",
       "      <td>Cambio del día</td>\n",
       "      <td>-0,72%</td>\n",
       "    </tr>\n",
       "    <tr>\n",
       "      <th>3</th>\n",
       "      <td>Categoría Morningstar™</td>\n",
       "      <td>RV Global Cap. Flexible</td>\n",
       "    </tr>\n",
       "    <tr>\n",
       "      <th>4</th>\n",
       "      <td>ISIN</td>\n",
       "      <td>LU1785301273</td>\n",
       "    </tr>\n",
       "    <tr>\n",
       "      <th>5</th>\n",
       "      <td>Patrimonio (Mil) 18/04/2024</td>\n",
       "      <td>USD 573,04</td>\n",
       "    </tr>\n",
       "    <tr>\n",
       "      <th>6</th>\n",
       "      <td>Patrimonio Clase (Mil) 18/04/2024</td>\n",
       "      <td>USD 8,69</td>\n",
       "    </tr>\n",
       "    <tr>\n",
       "      <th>7</th>\n",
       "      <td>Comisión Máx. Suscripción</td>\n",
       "      <td>-</td>\n",
       "    </tr>\n",
       "    <tr>\n",
       "      <th>8</th>\n",
       "      <td>Gastos Corrientes 30/06/2023</td>\n",
       "      <td>1,00%</td>\n",
       "    </tr>\n",
       "  </tbody>\n",
       "</table>\n",
       "</div>"
      ],
      "text/plain": [
       "                                   0                        2\n",
       "1                      VL 18/04/2024               USD 148,51\n",
       "2                     Cambio del día                   -0,72%\n",
       "3             Categoría Morningstar™  RV Global Cap. Flexible\n",
       "4                               ISIN             LU1785301273\n",
       "5        Patrimonio (Mil) 18/04/2024               USD 573,04\n",
       "6  Patrimonio Clase (Mil) 18/04/2024                 USD 8,69\n",
       "7          Comisión Máx. Suscripción                        -\n",
       "8       Gastos Corrientes 30/06/2023                    1,00%"
      ]
     },
     "execution_count": 57,
     "metadata": {},
     "output_type": "execute_result"
    }
   ],
   "source": [
    "if tabla_html:\n",
    "    # Convertir la tabla HTML en DataFrame\n",
    "    tabla_df = pd.read_html(str(tabla_html))[0].iloc[1:, [0,2]] # read_html devuelve una lista de DataFrames, seleccionamos el primero\n",
    "\n",
    "else:\n",
    "    print(\"No se encontró la tabla 'overviewPerformanceTable'\")\n",
    "    \n",
    "tabla_df"
   ]
  },
  {
   "cell_type": "code",
   "execution_count": 59,
   "metadata": {},
   "outputs": [
    {
     "name": "stdout",
     "output_type": "stream",
     "text": [
      "\n",
      "DataFrame Modificado:\n"
     ]
    },
    {
     "data": {
      "text/html": [
       "<div>\n",
       "<style scoped>\n",
       "    .dataframe tbody tr th:only-of-type {\n",
       "        vertical-align: middle;\n",
       "    }\n",
       "\n",
       "    .dataframe tbody tr th {\n",
       "        vertical-align: top;\n",
       "    }\n",
       "\n",
       "    .dataframe thead th {\n",
       "        text-align: right;\n",
       "    }\n",
       "</style>\n",
       "<table border=\"1\" class=\"dataframe\">\n",
       "  <thead>\n",
       "    <tr style=\"text-align: right;\">\n",
       "      <th></th>\n",
       "      <th>0</th>\n",
       "      <th>2</th>\n",
       "    </tr>\n",
       "  </thead>\n",
       "  <tbody>\n",
       "    <tr>\n",
       "      <th>1</th>\n",
       "      <td>VL 18/04/2024</td>\n",
       "      <td>148.51</td>\n",
       "    </tr>\n",
       "    <tr>\n",
       "      <th>2</th>\n",
       "      <td>Cambio del día</td>\n",
       "      <td>-0.72</td>\n",
       "    </tr>\n",
       "    <tr>\n",
       "      <th>3</th>\n",
       "      <td>Categoría Morningstar™</td>\n",
       "      <td>RV Global Cap. Flexible</td>\n",
       "    </tr>\n",
       "    <tr>\n",
       "      <th>4</th>\n",
       "      <td>ISIN</td>\n",
       "      <td>LU1785301273</td>\n",
       "    </tr>\n",
       "    <tr>\n",
       "      <th>5</th>\n",
       "      <td>Patrimonio (Mil) 18/04/2024</td>\n",
       "      <td>573.04</td>\n",
       "    </tr>\n",
       "    <tr>\n",
       "      <th>6</th>\n",
       "      <td>Patrimonio Clase (Mil) 18/04/2024</td>\n",
       "      <td>8.69</td>\n",
       "    </tr>\n",
       "    <tr>\n",
       "      <th>7</th>\n",
       "      <td>Comisión Máx. Suscripción</td>\n",
       "      <td>-</td>\n",
       "    </tr>\n",
       "    <tr>\n",
       "      <th>8</th>\n",
       "      <td>Gastos Corrientes 30/06/2023</td>\n",
       "      <td>1.0</td>\n",
       "    </tr>\n",
       "  </tbody>\n",
       "</table>\n",
       "</div>"
      ],
      "text/plain": [
       "                                   0                        2\n",
       "1                      VL 18/04/2024                   148.51\n",
       "2                     Cambio del día                    -0.72\n",
       "3             Categoría Morningstar™  RV Global Cap. Flexible\n",
       "4                               ISIN             LU1785301273\n",
       "5        Patrimonio (Mil) 18/04/2024                   573.04\n",
       "6  Patrimonio Clase (Mil) 18/04/2024                     8.69\n",
       "7          Comisión Máx. Suscripción                        -\n",
       "8       Gastos Corrientes 30/06/2023                      1.0"
      ]
     },
     "execution_count": 59,
     "metadata": {},
     "output_type": "execute_result"
    }
   ],
   "source": [
    "import re\n",
    "def clean_convert(value):\n",
    "    if isinstance(value, str):\n",
    "        # Usar expresiones regulares para eliminar 'USD ' y '%' y convertir ',' en '.'\n",
    "        value = re.sub(r'USD\\s*', '', value)\n",
    "        value = value.replace('%', '').replace(',', '.')\n",
    "        try:\n",
    "            # Intentar convertir a float\n",
    "            return float(value)\n",
    "        except ValueError:\n",
    "            # Si hay error, regresa el valor original limpio\n",
    "            return value\n",
    "    return value\n",
    "\n",
    "# Aplicar la función a cada elemento del DataFrame\n",
    "tabla_df[2] = tabla_df[2].apply(clean_convert)\n",
    "\n",
    "# Mostrar el DataFrame modificado\n",
    "print(\"\\nDataFrame Modificado:\")\n",
    "tabla_df"
   ]
  },
  {
   "cell_type": "code",
   "execution_count": 56,
   "metadata": {},
   "outputs": [
    {
     "name": "stdout",
     "output_type": "stream",
     "text": [
      "\n",
      "DataFrame Modificado:\n"
     ]
    },
    {
     "data": {
      "text/html": [
       "<div>\n",
       "<style scoped>\n",
       "    .dataframe tbody tr th:only-of-type {\n",
       "        vertical-align: middle;\n",
       "    }\n",
       "\n",
       "    .dataframe tbody tr th {\n",
       "        vertical-align: top;\n",
       "    }\n",
       "\n",
       "    .dataframe thead th {\n",
       "        text-align: right;\n",
       "    }\n",
       "</style>\n",
       "<table border=\"1\" class=\"dataframe\">\n",
       "  <thead>\n",
       "    <tr style=\"text-align: right;\">\n",
       "      <th></th>\n",
       "      <th>0</th>\n",
       "      <th>2</th>\n",
       "    </tr>\n",
       "  </thead>\n",
       "  <tbody>\n",
       "    <tr>\n",
       "      <th>1</th>\n",
       "      <td>VL 18/04/2024</td>\n",
       "      <td>USD 148.51</td>\n",
       "    </tr>\n",
       "    <tr>\n",
       "      <th>2</th>\n",
       "      <td>Cambio del día</td>\n",
       "      <td>-0.72</td>\n",
       "    </tr>\n",
       "    <tr>\n",
       "      <th>3</th>\n",
       "      <td>Categoría Morningstar™</td>\n",
       "      <td>RV Global Cap. Flexible</td>\n",
       "    </tr>\n",
       "    <tr>\n",
       "      <th>4</th>\n",
       "      <td>ISIN</td>\n",
       "      <td>LU1785301273</td>\n",
       "    </tr>\n",
       "    <tr>\n",
       "      <th>5</th>\n",
       "      <td>Patrimonio (Mil) 18/04/2024</td>\n",
       "      <td>USD 573.04</td>\n",
       "    </tr>\n",
       "    <tr>\n",
       "      <th>6</th>\n",
       "      <td>Patrimonio Clase (Mil) 18/04/2024</td>\n",
       "      <td>USD 8.69</td>\n",
       "    </tr>\n",
       "    <tr>\n",
       "      <th>7</th>\n",
       "      <td>Comisión Máx. Suscripción</td>\n",
       "      <td>-</td>\n",
       "    </tr>\n",
       "    <tr>\n",
       "      <th>8</th>\n",
       "      <td>Gastos Corrientes 30/06/2023</td>\n",
       "      <td>1.0</td>\n",
       "    </tr>\n",
       "  </tbody>\n",
       "</table>\n",
       "</div>"
      ],
      "text/plain": [
       "                                   0                        2\n",
       "1                      VL 18/04/2024               USD 148.51\n",
       "2                     Cambio del día                    -0.72\n",
       "3             Categoría Morningstar™  RV Global Cap. Flexible\n",
       "4                               ISIN             LU1785301273\n",
       "5        Patrimonio (Mil) 18/04/2024               USD 573.04\n",
       "6  Patrimonio Clase (Mil) 18/04/2024                 USD 8.69\n",
       "7          Comisión Máx. Suscripción                        -\n",
       "8       Gastos Corrientes 30/06/2023                      1.0"
      ]
     },
     "execution_count": 56,
     "metadata": {},
     "output_type": "execute_result"
    }
   ],
   "source": [
    "def clean_convert(value):\n",
    "    if isinstance(value, str):\n",
    "        # Eliminar las unidades y convertir a número\n",
    "        value = value.replace('USD ', '').replace('%', '').replace(',', '.')\n",
    "        try:\n",
    "            # Intentar convertir a float\n",
    "            return float(value)\n",
    "        except ValueError:\n",
    "            # Si hay error, regresa el valor original limpio\n",
    "            return value\n",
    "    return value\n",
    "\n",
    "# Aplicar la función a cada elemento del DataFrame\n",
    "tabla_df[2] = tabla_df[2].apply(clean_convert)\n",
    "\n",
    "# Mostrar el DataFrame modificado\n",
    "print(\"\\nDataFrame Modificado:\")\n",
    "tabla_df"
   ]
  },
  {
   "cell_type": "code",
   "execution_count": 15,
   "metadata": {},
   "outputs": [
    {
     "name": "stdout",
     "output_type": "stream",
     "text": [
      "['snapshotTextColor snapshotTextFontStyle snapshotTitleTable', 'snapshotTextColor snapshotTextFontStyle snapshotTable overviewPerformanceTable', 'snapshotTextColor snapshotTextFontStyle snapshotTable overviewCalenderYearReturnsTable', 'snapshotTextColor snapshotTextFontStyle snapshotTable overviewKeyStatsTable', 'snapshotTextColor snapshotTextFontStyle snapshotTable overviewObjectiveTable', 'snapshotTextColor snapshotTextFontStyle snapshotTable TrailingReturnsOverview', 'snapshotTextColor snapshotTextFontStyle snapshotTable overviewTrailingReturnsTable', 'snapshotTextColor snapshotTextFontStyle snapshotTable overviewKeyStatsTable', 'snapshotTextColor snapshotTextFontStyle snapshotTable FundManagersOverview', 'snapshotTable', 'snapshotTextColor snapshotTextFontStyle snapshotTable overviewBenchmarkTable2Cols', 'snapshotTextColor snapshotTextFontStyle snapshotTable overviewObjectiveTable', 'snapshotTextColor snapshotTextFontStyle snapshotTable overviewPortfolioTable', 'snapshotTextColor snapshotTextFontStyle snapshotTable overviewPortfolioTable', 'snapshotTextColor snapshotTextFontStyle snapshotTable overviewPortfolioTable', 'Unnamed Table', 'snapshotTextColor snapshotTextFontStyle snapshotTable overviewPortfolioEquityStyleTable', 'Unnamed Table', 'snapshotTextColor snapshotTextFontStyle snapshotTable overviewAssetAllocationTable', 'Unnamed Table', 'snapshotTextColor snapshotTextFontStyle snapshotTable overviewTopRegionsTable', 'snapshotTextColor snapshotTextFontStyle snapshotTable overviewTopSectorsTable', 'snapshotTextColor snapshotTextFontStyle snapshotTable overviewTopHoldingsTable']\n"
     ]
    }
   ],
   "source": [
    "# Encontrar todas las tablas en el documento\n",
    "tables = soup.find_all('table')\n",
    "\n",
    "# Lista para almacenar los nombres/identificadores de las tablas\n",
    "table_names = []\n",
    "\n",
    "for table in tables:\n",
    "    # Intentar obtener el atributo 'id'\n",
    "    if table.has_attr('id'):\n",
    "        table_names.append(table['id'])\n",
    "    # Si no hay 'id', intentar obtener el atributo 'class'\n",
    "    elif table.has_attr('class'):\n",
    "        # Los atributos de clase se devuelven como una lista, los convertimos a string\n",
    "        table_names.append(' '.join(table['class']))\n",
    "    # Si no hay ni 'id' ni 'class', usar un placeholder o revisar otro atributo\n",
    "    else:\n",
    "        table_names.append('Unnamed Table')\n",
    "\n",
    "# Imprimir los nombres de las tablas\n",
    "print(table_names)"
   ]
  },
  {
   "cell_type": "code",
   "execution_count": 39,
   "metadata": {},
   "outputs": [
    {
     "name": "stdout",
     "output_type": "stream",
     "text": [
      "0           Estadística Rápida None                 None\n",
      "1                 VL28/03/2024                USD 197,50\n",
      "2               Cambio del día                     0,66%\n",
      "3       Categoría Morningstar™       Alternativo Divisas\n",
      "4                         ISIN              MT7000022612\n",
      "5            Patrimonio (Mil)-                         -\n",
      "6      Patrimonio Clase (Mil)-                         -\n",
      "7    Comisión Máx. Suscripción                         -\n",
      "8  Gastos Corrientes10/03/2021                     3,00%\n"
     ]
    }
   ],
   "source": [
    "# Buscar la tabla por clase\n",
    "table = soup.find('table', class_='overviewKeyStatsTable')\n",
    "\n",
    "# Extraer las filas de la tabla\n",
    "rows = table.find_all('tr')\n",
    "\n",
    "# Lista para almacenar cada fila de datos\n",
    "data = []\n",
    "\n",
    "# Iterar sobre las filas para extraer datos de cada celda\n",
    "for row in rows:\n",
    "    cols = row.find_all('td')\n",
    "    cols = [ele.text.strip() for ele in cols]\n",
    "    data.append(cols)  # Añadir los datos de las celdas a la lista `data`\n",
    "\n",
    "# Crear un DataFrame con los datos recopilados\n",
    "df = pd.DataFrame(data)\n",
    "\n",
    "# Opcional: si la primera fila contiene los nombres de las columnas\n",
    "df.columns = df.iloc[0]  # Establecer la primera fila como nombres de columnas\n",
    "df = df[1:]  # Quitar la primera fila de los datos\n",
    "\n",
    "print(df)"
   ]
  },
  {
   "cell_type": "code",
   "execution_count": 41,
   "metadata": {},
   "outputs": [
    {
     "name": "stdout",
     "output_type": "stream",
     "text": [
      "                                         Descripción\n",
      "0  Objetivo de inversión: 24 Capital Management S...\n",
      "1  The investment objective of the Fund is to ach...\n"
     ]
    }
   ],
   "source": [
    "table = soup.find('table', class_='overviewObjectiveTable')\n",
    "\n",
    "# Extraer las filas de la tabla\n",
    "rows = table.find_all('tr')\n",
    "\n",
    "# Lista para almacenar cada fila de datos\n",
    "data = []\n",
    "\n",
    "# Iterar sobre las filas para extraer datos de cada celda\n",
    "for row in rows:\n",
    "    # Extraer la celda de la fila\n",
    "    cols = row.find_all('td')\n",
    "    # Obtener el texto de cada celda y eliminar espacios en blanco extra con strip\n",
    "    cols_text = [ele.text.strip() for ele in cols]\n",
    "    data.append(cols_text)\n",
    "\n",
    "# Crear un DataFrame con los datos recopilados\n",
    "df = pd.DataFrame(data, columns=[\"Descripción\"])\n",
    "\n",
    "print(df)"
   ]
  }
 ],
 "metadata": {
  "kernelspec": {
   "display_name": "Python 3",
   "language": "python",
   "name": "python3"
  },
  "language_info": {
   "codemirror_mode": {
    "name": "ipython",
    "version": 3
   },
   "file_extension": ".py",
   "mimetype": "text/x-python",
   "name": "python",
   "nbconvert_exporter": "python",
   "pygments_lexer": "ipython3",
   "version": "3.11.6"
  }
 },
 "nbformat": 4,
 "nbformat_minor": 2
}
