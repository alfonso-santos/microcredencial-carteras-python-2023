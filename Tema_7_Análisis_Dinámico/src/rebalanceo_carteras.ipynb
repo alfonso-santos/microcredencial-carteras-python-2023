{
 "cells": [
  {
   "cell_type": "markdown",
   "metadata": {},
   "source": [
    "# ANÁLISIS DINÁMICO BÁSICO DE CARTERAS"
   ]
  },
  {
   "cell_type": "markdown",
   "metadata": {},
   "source": [
    "# Análisis de Carteras: Efecto de la Evolución de Precios y el Rebalanceo\n",
    "\n",
    "Hasta el momento, nuestros estudios de las diferentes estrategias de carteras se han centrado en la selección de activos y la asignación de pesos sin considerar la evolución temporal de los precios de los activos ni la posibilidad de realizar ajustes periódicos o rebalanceo. Estos factores pueden tener un impacto significativo en el rendimiento y el riesgo de las carteras.\n",
    "\n",
    "En este notebook, exploraremos un análisis básico que incorpora tanto la dinámica de los precios de los activos como la estrategia de rebalanceo. Examinaremos cómo estos elementos afectan la evolución del valor de diferentes carteras a lo largo del tiempo, permitiéndonos obtener una comprensión más profunda de cada estrategia de inversión en un contexto más dinámico y realista. Además, consideraremos el impacto de las comisiones o gastos asociados al rebalanceo, lo que nos permite evaluar de manera más completa el rendimiento neto de las carteras.\n",
    "\n"
   ]
  },
  {
   "cell_type": "code",
   "execution_count": 31,
   "metadata": {},
   "outputs": [],
   "source": [
    "import numpy as np\n",
    "import pandas as pd\n",
    "import matplotlib.pyplot as plt\n",
    "import seaborn as sns\n",
    "import yfinance as yf\n",
    "import cvxpy as cp\n",
    "from tqdm.auto import tqdm\n",
    "import statsmodels.api as sm\n",
    "import warnings\n",
    "from scipy.linalg import sqrtm\n",
    "\n",
    "plt.style.use('ggplot')\n",
    "warnings.simplefilter(action='ignore', category=FutureWarning)\n"
   ]
  },
  {
   "cell_type": "markdown",
   "metadata": {},
   "source": [
    "Defino las funciones que calculan los pesos de las distintas carteras"
   ]
  },
  {
   "cell_type": "code",
   "execution_count": null,
   "metadata": {},
   "outputs": [],
   "source": [
    "def cartera_min_vol (ret):\n",
    "    \n",
    "    ''' Función que calcula la cartera de mínima varianza para un DataFrame de rendimientos\n",
    "    ret: DataFrame de rendimientos\n",
    "    Retorna pesos_ajustados: Array con los pesos de la cartera de mínima varianza'''\n",
    "    \n",
    "    if isinstance(ret, pd.DataFrame): # Verifico que el argumento sea un DataFrame\n",
    "    \n",
    "        num_act = ret.shape[1]\n",
    "        matriz_cov = ret.cov().to_numpy()\n",
    "        \n",
    "            #Variables de decisión\n",
    "        pesos = cp.Variable(num_act)\n",
    "        \n",
    "        #Restricciones\n",
    "        constraints = [pesos >= 0,\n",
    "                    cp.sum(pesos) == 1,\n",
    "                    ]\n",
    "        \n",
    "        riesgo = cp.quad_form(pesos, matriz_cov) # Riesgo de la cartera\n",
    "        objective = cp.Minimize(riesgo) # Minimizar la varianza\n",
    "\n",
    "        #Problema y resuelvo\n",
    "        prob = cp.Problem(objective, constraints)\n",
    "        resultado = prob.solve()\n",
    "\n",
    "        pesos_ajustados = np.array([np.round(x, 3) if x > 10**-4 else 0  for x in pesos.value]) #Pongo a cero los pesos menores a 10^-4 y redondeo a 3 decimales\n",
    "\n",
    "        return pesos_ajustados\n",
    "    \n",
    "    else:\n",
    "        raise ValueError('La función cartera_min_vol solo acepta un DataFrame como argumento') # Si el argumento no es un DataFrame, lanzo un error"
   ]
  },
  {
   "cell_type": "code",
   "execution_count": null,
   "metadata": {},
   "outputs": [],
   "source": [
    "def cartera_max_sharpe(ret, ret_rf):\n",
    "    \n",
    "    ''' Función que calcula la cartera de máximo índice de Sharpe para un DataFrame de rendimientos\n",
    "    ret: DataFrame de rendimientos\n",
    "    ret_rf: Rendimiento del activo libre de riesgo\n",
    "    Retorna pesos_ajustados: Array con los pesos de la cartera de máximo índice de Sharpe'''\n",
    "    \n",
    "    if isinstance(ret, pd.DataFrame):\n",
    "    \n",
    "        num_act = ret.shape[1]\n",
    "        matriz_cov = ret.cov().to_numpy()\n",
    "        retornos_esperados = ret.mean()\n",
    "\n",
    "        # Variable de decisión (pesos del portafolio)\n",
    "        x = cp.Variable(num_act)\n",
    "        # Riesgo (desviación estándar) del portafolio\n",
    "        riesgo = cp.quad_form(x, matriz_cov)\n",
    "\n",
    "        #Cálculo de pi como retornos esperados menos la rantabilidad del activo libre de riesgo\n",
    "        pi = np.array(retornos_esperados - ret_rf)\n",
    "\n",
    "        #Restricciones\n",
    "        constraints = [pi @ x ==1, # para que el numerador sea 1\n",
    "                    x>=0]       # sin posiciones cortas\n",
    "\n",
    "        objective = cp.Minimize(riesgo) # Minimizo el riesgo\n",
    "\n",
    "        # Problema de optimización\n",
    "        problema = cp.Problem(objective, constraints)        \n",
    "\n",
    "        # Resolver el problema\n",
    "        resultado  = problema.solve(solver=cp.ECOS)\n",
    "\n",
    "        # Normalizo los pesos\n",
    "        pesos = x.value\n",
    "        pesos /= pesos.sum()\n",
    "\n",
    "        pesos_ajustados = np.array([np.round(x, 3) if x > 10**-4 else 0  for x in pesos])\n",
    "\n",
    "        return pesos_ajustados\n",
    "    \n",
    "    else:\n",
    "        raise ValueError('La función cartera_max_sharpe solo acepta un DataFrame como argumento')"
   ]
  },
  {
   "cell_type": "code",
   "execution_count": null,
   "metadata": {},
   "outputs": [],
   "source": [
    "def cartera_risk_parity (ret):\n",
    "    \n",
    "    ''' \n",
    "    Función que calcula la cartera de riesgo paridad para un DataFrame de rendimientos\n",
    "    ret: DataFrame de rendimientos\n",
    "    Retorna pesos_ajustados: Array con los pesos de la cartera de riesgo paridad'''\n",
    "    \n",
    "    if isinstance(ret, pd.DataFrame):\n",
    "        \n",
    "        num_act = ret.shape[1]\n",
    "        matriz_cov = ret.cov().to_numpy()\n",
    "        retornos_esperados = ret.mean().to_numpy()\n",
    "        \n",
    "        b = 1/num_act\n",
    "\n",
    "        x = cp.Variable(num_act)\n",
    "        gamma = cp.Variable(num_act, nonneg=True)\n",
    "        psi = cp.Variable(nonneg=True)\n",
    "\n",
    "        z = matriz_cov @ x\n",
    "\n",
    "        obj = cp.pnorm(b**0.5 * psi - gamma, p=2)\n",
    "        ret = retornos_esperados.T @ x\n",
    "\n",
    "        constraints = [cp.sum(x) == 1,\n",
    "                    x >= 0,\n",
    "                    cp.SOC(psi, sqrtm(matriz_cov) @ x)]\n",
    "\n",
    "        for i in range(num_act):\n",
    "            constraints += [cp.SOC(x[i] + z[i],\n",
    "                                cp.vstack([2*gamma[i], x[i] - z[i]]))\n",
    "                            ]\n",
    "\n",
    "        objective = cp.Minimize(obj * 1000)\n",
    "        prob = cp.Problem(objective, constraints)\n",
    "        prob.solve()\n",
    "\n",
    "        pesos_ajustados = np.array([np.round(xi, 3) if xi > 10**-4 else 0 for xi in x.value])\n",
    "\n",
    "        return pesos_ajustados \n",
    "    \n",
    "    \n",
    "    else:\n",
    "        raise ValueError('La función cartera_risk_parity solo acepta un DataFrame como argumento')"
   ]
  },
  {
   "cell_type": "code",
   "execution_count": 32,
   "metadata": {},
   "outputs": [
    {
     "name": "stderr",
     "output_type": "stream",
     "text": [
      "[*********************100%%**********************]  1 of 1 completed\n"
     ]
    }
   ],
   "source": [
    "start_date = '1995-01-01'\n",
    "precios_indice = yf.download(\"SPY\", start=start_date)[[\"Adj Close\"]] # Precios ajustados al cierre"
   ]
  },
  {
   "cell_type": "code",
   "execution_count": 33,
   "metadata": {},
   "outputs": [
    {
     "name": "stderr",
     "output_type": "stream",
     "text": [
      "[*********************100%%**********************]  503 of 503 completed\n",
      "\n",
      "3 Failed downloads:\n",
      "['BF.B']: Exception('%ticker%: No price data found, symbol may be delisted (1d 1995-01-01 -> 2024-04-18)')\n",
      "['CDAY', 'BRK.B']: Exception('%ticker%: No timezone found, symbol may be delisted')\n"
     ]
    }
   ],
   "source": [
    "filepath = 'https://raw.githubusercontent.com/alfonso-santos/microcredencial-carteras-python-2023/main/Tema_5_APT/data/sp500_tickers.csv'\n",
    "tickers_sp500 = list(pd.read_csv(filepath))\n",
    "\n",
    "precios = yf.download(tickers_sp500, start=start_date)['Adj Close']\n",
    "\n",
    "precios_activos_sp500 = precios.copy()\n",
    "precios_activos_sp500.dropna(axis=1, inplace=True)\n",
    "#ret_activos_sp500 = np.log(precios_activos_sp500).diff().dropna()"
   ]
  },
  {
   "cell_type": "markdown",
   "metadata": {},
   "source": [
    "Elegimos un universo de activos formados por num_act_max activos elegidos aleatoriamente para generar las carteras"
   ]
  },
  {
   "cell_type": "code",
   "execution_count": 34,
   "metadata": {},
   "outputs": [],
   "source": [
    "num_act_max = 50\n",
    "\n",
    "num_columnas = precios_activos_sp500.shape[1]\n",
    "\n",
    "# Generar índices aleatorios para seleccionar num_act_max activos sin repetición\n",
    "\n",
    "# Fijar la semilla del generador de números aleatorios\n",
    "np.random.seed(42)  # Puedes usar cualquier número entero como semilla\n",
    "\n",
    "indices_aleatorios = np.random.choice(num_columnas, size=50, replace=False)\n",
    "\n",
    "# Seleccionar las columnas del array original usando los índices aleatorios\n",
    "precios_activos_select = precios_activos_sp500.iloc[:, indices_aleatorios]\n",
    "\n"
   ]
  },
  {
   "cell_type": "markdown",
   "metadata": {},
   "source": [
    "## Evaluación de la Evolución de las Carteras\n",
    "\n",
    "Vamos a analizar la evolución de diferentes carteras mediante el rebalanceo periódico de las mismas. Este rebalanceo se realizará cada `rebalan_per`, que está medido en meses. Nuestro objetivo es entender cómo estas carteras cambian y se adaptan con el tiempo bajo diferentes condiciones de mercado, lo cual es crucial para optimizar las estrategias de inversión a largo plazo.\n"
   ]
  },
  {
   "cell_type": "code",
   "execution_count": null,
   "metadata": {},
   "outputs": [],
   "source": [
    "#TODO"
   ]
  },
  {
   "cell_type": "markdown",
   "metadata": {},
   "source": [
    "## Resumen del Análisis de Rebalanceo y Variabilidad en los Pesos de los Activos\n",
    "\n",
    "Nuestro análisis previo se centró en observar cómo el valor de las carteras cambia a lo largo del tiempo, sin abordar las transacciones de rebalanceo necesarias para mantener las estrategias de asignación de activos. Estas transacciones son cruciales, ya que influyen significativamente en los costos operativos y el rendimiento total de la cartera.\n",
    "\n",
    "Además, nos enfocaremos en la variabilidad de los pesos asignados a cada activo durante los rebalanceos. Para ello, calcularemos y analizaremos la diferencia entre el peso más alto y el más bajo registrado por cada activo a lo largo de todos los periodos de rebalanceo. Este análisis nos ayudará a entender la volatilidad en la asignación de los activos y evaluar cómo los ajustes frecuentes pueden afectar la estabilidad y eficiencia de nuestras estrategias de inversión.\n",
    "\n",
    "\n",
    "\n"
   ]
  },
  {
   "cell_type": "code",
   "execution_count": 2,
   "metadata": {},
   "outputs": [],
   "source": [
    "#TODO"
   ]
  }
 ],
 "metadata": {
  "kernelspec": {
   "display_name": "Python 3",
   "language": "python",
   "name": "python3"
  },
  "language_info": {
   "codemirror_mode": {
    "name": "ipython",
    "version": 3
   },
   "file_extension": ".py",
   "mimetype": "text/x-python",
   "name": "python",
   "nbconvert_exporter": "python",
   "pygments_lexer": "ipython3",
   "version": "3.11.6"
  }
 },
 "nbformat": 4,
 "nbformat_minor": 2
}
