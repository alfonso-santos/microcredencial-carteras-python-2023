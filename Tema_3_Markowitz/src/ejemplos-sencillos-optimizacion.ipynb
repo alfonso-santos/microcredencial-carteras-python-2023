{
 "cells": [
  {
   "cell_type": "markdown",
   "metadata": {},
   "source": [
    "# Ejemplos de Optimización\n"
   ]
  },
  {
   "cell_type": "markdown",
   "metadata": {},
   "source": [
    "### **Ejercicio de maximización rentabilidad por dividendos:**"
   ]
  },
  {
   "cell_type": "markdown",
   "metadata": {},
   "source": [
    "_Objetivo:_ Maximizar la rentabilidad por dividendos de una cartera teniendo en cuenta que la exposición a moneda extranjera debe ser menos o igual al 40%:\n",
    "\n",
    "**Activos:**\n",
    "\n",
    "| Activo | Dividendo | % Ingresos Extranjero |\n",
    "|--------|-----------|-----------------------|\n",
    "| SAN    | 3.67%     | 60%                   |\n",
    "| REE    | 4.2%      | 10%                   |\n",
    "| BBVA   | 5.6%      | 50%                   |\n",
    "| REPSOL | 5%     | 25%                   |\n",
    "\n",
    "\n",
    "**Entrega:**\n",
    "Determinar las proporciones óptimas de inversión para cada activo, calculando la rentabilidad total y la exposición a moneda extranjera."
   ]
  },
  {
   "cell_type": "code",
   "execution_count": 2,
   "metadata": {},
   "outputs": [],
   "source": [
    "import numpy as np\n",
    "import pandas as pd\n",
    "import cvxpy as cp"
   ]
  },
  {
   "cell_type": "code",
   "execution_count": 2,
   "metadata": {},
   "outputs": [],
   "source": [
    "# datos almacenados en arrays\n",
    "dividendos = np.array([3.67, 4.2, 5.6, 5])\n",
    "ingresos = np.array([60, 10, 50, 25])"
   ]
  },
  {
   "cell_type": "code",
   "execution_count": 3,
   "metadata": {},
   "outputs": [],
   "source": [
    "# creacion de variables de decisión\n",
    "pesos = cp.Variable(dividendos.shape[0])"
   ]
  },
  {
   "cell_type": "code",
   "execution_count": 5,
   "metadata": {},
   "outputs": [],
   "source": [
    "# construcción de función objetivo\n",
    "objective = cp.sum(cp.multiply(pesos, dividendos))"
   ]
  },
  {
   "cell_type": "code",
   "execution_count": 50,
   "metadata": {
    "tags": []
   },
   "outputs": [],
   "source": [
    "# lista de expresiones representando las restricciones\n",
    "constraints = [\n",
    "    cp.sum(pesos) == 1.0,\n",
    "    cp.sum(cp.multiply(ingresos, pesos)) <= 40,\n",
    "    pesos >= 0.0\n",
    "]"
   ]
  },
  {
   "cell_type": "code",
   "execution_count": 51,
   "metadata": {},
   "outputs": [],
   "source": [
    "# instancia de un problema en CVXPY\n",
    "problem = cp.Problem(cp.Maximize(objective), constraints)"
   ]
  },
  {
   "cell_type": "code",
   "execution_count": 59,
   "metadata": {},
   "outputs": [
    {
     "name": "stdout",
     "output_type": "stream",
     "text": [
      "La rentabilidad por dividendo obtenida es: 5.36%\n"
     ]
    }
   ],
   "source": [
    "# resolución del problema y valor optimo\n",
    "result = problem.solve()\n",
    "print(f'La rentabilidad por dividendo obtenida es: {result:.2f}%')"
   ]
  },
  {
   "cell_type": "code",
   "execution_count": 54,
   "metadata": {},
   "outputs": [
    {
     "data": {
      "text/plain": [
       "array([1.25638459e-10, 6.71469679e-10, 5.99999999e-01, 4.00000000e-01])"
      ]
     },
     "execution_count": 54,
     "metadata": {},
     "output_type": "execute_result"
    }
   ],
   "source": [
    "# valor de las variables en el máximo de la función objetivo\n",
    "pesos.value"
   ]
  },
  {
   "cell_type": "code",
   "execution_count": 56,
   "metadata": {},
   "outputs": [
    {
     "data": {
      "text/plain": [
       "SAN        0.0\n",
       "REE        0.0\n",
       "BBVA      60.0\n",
       "REPSOL    40.0\n",
       "dtype: float64"
      ]
     },
     "execution_count": 56,
     "metadata": {},
     "output_type": "execute_result"
    }
   ],
   "source": [
    "pd.Series(100*pesos.value.round(2), index=['SAN', 'REE','BBVA','REPSOL'])"
   ]
  },
  {
   "cell_type": "markdown",
   "metadata": {},
   "source": [
    "### Apartado adicional\n",
    "- Resolver el problema anterior si además no se puede invertir más del 30% en un solo activo.\n"
   ]
  },
  {
   "cell_type": "code",
   "execution_count": 60,
   "metadata": {},
   "outputs": [],
   "source": [
    "# añadimos la nueva restricción\n",
    "constraints.append(pesos <= 0.3)"
   ]
  },
  {
   "cell_type": "code",
   "execution_count": 62,
   "metadata": {},
   "outputs": [
    {
     "name": "stdout",
     "output_type": "stream",
     "text": [
      "La rentabilidad por dividendo obtenida es: 4.81%\n"
     ]
    }
   ],
   "source": [
    "# resolución del problema y valor optimo\n",
    "problem = cp.Problem(cp.Maximize(objective), constraints)\n",
    "result = problem.solve()\n",
    "print(f'La rentabilidad por dividendo obtenida es: {result:.2f}%')"
   ]
  },
  {
   "cell_type": "code",
   "execution_count": 63,
   "metadata": {},
   "outputs": [
    {
     "data": {
      "text/plain": [
       "SAN       10.0\n",
       "REE       30.0\n",
       "BBVA      30.0\n",
       "REPSOL    30.0\n",
       "dtype: float64"
      ]
     },
     "execution_count": 63,
     "metadata": {},
     "output_type": "execute_result"
    }
   ],
   "source": [
    "pd.Series(100*pesos.value.round(2), index=['SAN', 'REE','BBVA','REPSOL'])"
   ]
  },
  {
   "cell_type": "markdown",
   "metadata": {},
   "source": [
    "---"
   ]
  },
  {
   "cell_type": "markdown",
   "metadata": {},
   "source": [
    "### Ejercicio 2: Selección Óptima de Proyectos con Presupuesto y Riesgo Limitados\n",
    "\n",
    "**Contexto:** Eres un gestor de inversiones con un presupuesto limitado y necesitas decidir en qué proyectos invertir. Cada proyecto tiene un costo asociado, un retorno esperado y un nivel de riesgo.\n",
    "\n",
    "**Objetivo:** Maximizar el retorno total esperado de tu inversión, respetando las restricciones de presupuesto y riesgo.\n",
    "\n",
    "**Datos:**\n",
    "\n",
    "| Proyecto | Costo | Retorno Esperado | Riesgo |\n",
    "|----------|-------|------------------|--------|\n",
    "| 1        | 100   | 10               | 0.2    |\n",
    "| 2        | 200   | 25               | 0.6    |\n",
    "| 3        | 150   | 20               | 0.4    |\n",
    "| 4        | 120   | 15               | 0.3    |\n",
    "| 5        | 180   | 30               | 0.7    |\n",
    "\n",
    "- Presupuesto total: 400.\n",
    "- Riesgo máximo total permitido: 1.2.\n",
    "\n",
    "**Restricciones Adicionales:**\n",
    "- Inversión parcial en proyectos permitida (puedes invertir cualquier fracción de los costos).\n",
    "- Dependencia entre proyectos: la inversión en el proyecto 1 excluye la inversión en el proyecto 2.\n",
    "\n",
    "**Tarea:**\n",
    "Utiliza `cvxpy` para formular y resolver el problema de optimización. Encuentra la fracción óptima de inversión en cada proyecto.\n"
   ]
  },
  {
   "cell_type": "code",
   "execution_count": 3,
   "metadata": {},
   "outputs": [],
   "source": [
    "# Datos del problema\n",
    "costos = np.array([100, 200, 150, 120, 180])  # Costo de cada proyecto\n",
    "retornos = np.array([10, 25, 20, 15, 30])     # Retorno esperado de cada proyecto\n",
    "riesgos = np.array([0.2, 0.6, 0.4, 0.3, 0.7]) # Riesgo de cada proyecto\n",
    "presupuesto = 400\n",
    "riesgo_maximo = 1.2"
   ]
  },
  {
   "cell_type": "code",
   "execution_count": 4,
   "metadata": {},
   "outputs": [],
   "source": [
    "# Variables de decisión (fracción de inversión en cada proyecto)\n",
    "x = cp.Variable(len(costos))"
   ]
  },
  {
   "cell_type": "code",
   "execution_count": 8,
   "metadata": {},
   "outputs": [],
   "source": [
    "# Restricciones\n",
    "constraints = [\n",
    "    cp.sum(x @ costos) <= presupuesto,  # No superar el presupuesto\n",
    "    cp.sum(cp.multiply(x, riesgos)) <= riesgo_maximo, # No superar el riesgo máximo\n",
    "    x >= 0,  # No se permiten valores negativos\n",
    "    x <= 1,  # No se puede invertir más del 100% en un proyecto\n",
    "    x[0] + x[1] <= 1  # Dependencia entre proyectos 1 y 2\n",
    "]"
   ]
  },
  {
   "cell_type": "markdown",
   "metadata": {},
   "source": [
    "**Explicación de la Restricción $x[0] + x[1] <= 1$**\n",
    "\n",
    "La restricción $x[0] + x[1] \\leq 1$ establece una relación especial entre los proyectos 1 y 2 en nuestro problema de optimización:\n",
    "\n",
    "- **Variables $x[0]$ y $x[1]$:** Representan la fracción de inversión en los proyectos 1 y 2, respectivamente. Estas fracciones pueden variar de 0 (sin inversión) a 1 (inversión completa).\n",
    "\n",
    "- **Restricción $x[0] + x[1] \\leq 1$:** Implica que la suma total de las inversiones en ambos proyectos no puede superar el 100%. Esto se puede interpretar de dos maneras:\n",
    "\n",
    "  1. **Exclusión Mutua:** Si se invierte completamente en uno de los proyectos (por ejemplo, $x[0] = 1$), entonces no se puede invertir nada en el otro ($x[1] = 0$), y viceversa.\n",
    "\n",
    "  2. **Inversión Parcial Compartida:** Se permite la inversión parcial en ambos proyectos siempre y cuando la suma total de estas inversiones no exceda el 100%. Ejemplo: invertir el 50% en cada proyecto ($x[0] = 0.5$ y $x[1] = 0.5$).\n",
    "\n",
    "Aplicaciones Prácticas\n",
    "\n",
    "- **Recursos Compartidos o Limitados:** Esta restricción es útil cuando los dos proyectos comparten recursos limitados (capital, personal, tiempo) y no es posible comprometerse completamente con ambos.\n",
    "\n",
    "- **Decisiones Estratégicas:** Puede reflejar una decisión estratégica donde invertir en un proyecto excluye o limita la inversión en otro debido a factores como la competencia de mercado o el enfoque estratégico de la empresa.\n"
   ]
  },
  {
   "cell_type": "code",
   "execution_count": 13,
   "metadata": {},
   "outputs": [
    {
     "name": "stdout",
     "output_type": "stream",
     "text": [
      "Inversión óptima en cada proyecto: [2.94117649e-02 4.32865867e-11 1.00000000e+00 1.00000000e+00\n",
      " 7.05882353e-01]\n"
     ]
    }
   ],
   "source": [
    "# Función objetivo\n",
    "objetivo = cp.Maximize(x @ retornos)\n",
    "\n",
    "# Definir y resolver el problema\n",
    "problema = cp.Problem(objetivo, constraints)\n",
    "problema.solve(solver='CLARABEL')\n",
    "\n",
    "# Resultados\n",
    "print(\"Inversión óptima en cada proyecto:\", x.value)\n"
   ]
  },
  {
   "cell_type": "code",
   "execution_count": 18,
   "metadata": {},
   "outputs": [
    {
     "name": "stdout",
     "output_type": "stream",
     "text": [
      "Inversión óptima en cada proyecto: [0.029, 0, 1.0, 1.0, 0.706]\n"
     ]
    }
   ],
   "source": [
    "inversiones = [round(x,3) if x > 10**-3 else 0 for x in x.value]\n",
    "print(\"Inversión óptima en cada proyecto:\", inversiones)"
   ]
  },
  {
   "cell_type": "code",
   "execution_count": 12,
   "metadata": {},
   "outputs": [
    {
     "data": {
      "text/plain": [
       "['CLARABEL', 'ECOS', 'ECOS_BB', 'OSQP', 'SCIPY', 'SCS']"
      ]
     },
     "execution_count": 12,
     "metadata": {},
     "output_type": "execute_result"
    }
   ],
   "source": [
    "cp.installed_solvers()"
   ]
  },
  {
   "cell_type": "markdown",
   "metadata": {},
   "source": [
    "---"
   ]
  },
  {
   "cell_type": "markdown",
   "metadata": {},
   "source": [
    "### Apartados adicionales\n",
    "- Resolver el problema anterior si además quieres una rentabilidad mínima del 14%"
   ]
  },
  {
   "cell_type": "code",
   "execution_count": 133,
   "metadata": {},
   "outputs": [],
   "source": [
    "constraints.append(retornos_esperados @ pesos >= 0.14)"
   ]
  },
  {
   "cell_type": "code",
   "execution_count": 134,
   "metadata": {},
   "outputs": [],
   "source": [
    "# Problema de optimización\n",
    "problema = cp.Problem(objetivo, constraints)\n",
    "\n",
    "# Resolviendo el problema\n",
    "resultado = problema.solve()\n",
    "\n",
    "# Resultados\n",
    "pesos_optimos = pesos.value"
   ]
  },
  {
   "cell_type": "code",
   "execution_count": 91,
   "metadata": {},
   "outputs": [
    {
     "data": {
      "text/plain": [
       "0.11"
      ]
     },
     "execution_count": 91,
     "metadata": {},
     "output_type": "execute_result"
    }
   ],
   "source": [
    "(retornos_esperados @ pesos_optimos).round(4)"
   ]
  },
  {
   "cell_type": "code",
   "execution_count": 135,
   "metadata": {},
   "outputs": [
    {
     "name": "stdout",
     "output_type": "stream",
     "text": [
      "El riesgo de la cartera es: 1.25\n",
      "La rentabilidad de la cartera es: 14.000000000000002%\n",
      "Los pesos que hacen que la cartera tenga el menor riesgo son: [62. -0. -0. 38.]\n"
     ]
    }
   ],
   "source": [
    "print(f'El riesgo de la cartera es: {riesgo.value:.2f}')\n",
    "print(f'La rentabilidad de la cartera es: {100*(retornos_esperados @ pesos_optimos).round(4)}%')\n",
    "print(f'Los pesos que hacen que la cartera tenga el menor riesgo son: {100*pesos_optimos.round(2)}')"
   ]
  },
  {
   "cell_type": "markdown",
   "metadata": {},
   "source": [
    "- ¿Y si la rentabilidad mínime es del 18%?"
   ]
  },
  {
   "cell_type": "code",
   "execution_count": 136,
   "metadata": {},
   "outputs": [],
   "source": [
    "# Restricciones\n",
    "constraints = [cp.sum(pesos) == 1, \n",
    "               pesos >= 0,\n",
    "               retornos_esperados @ pesos >= 0.18]\n",
    "\n",
    "\n",
    "# Problema de optimización\n",
    "problema = cp.Problem(objetivo, constraints)\n",
    "\n",
    "# Resolviendo el problema\n",
    "resultado = problema.solve()\n",
    "\n",
    "# Resultados\n",
    "pesos_optimos = pesos.value"
   ]
  },
  {
   "cell_type": "code",
   "execution_count": 137,
   "metadata": {},
   "outputs": [
    {
     "ename": "AttributeError",
     "evalue": "'NoneType' object has no attribute 'round'",
     "output_type": "error",
     "traceback": [
      "\u001b[0;31m---------------------------------------------------------------------------\u001b[0m",
      "\u001b[0;31mAttributeError\u001b[0m                            Traceback (most recent call last)",
      "Cell \u001b[0;32mIn[137], line 1\u001b[0m\n\u001b[0;32m----> 1\u001b[0m \u001b[38;5;28mprint\u001b[39m(\u001b[38;5;124mf\u001b[39m\u001b[38;5;124m'\u001b[39m\u001b[38;5;124mLos pesos que hacen que la cartera tenga el menor riesgo son: \u001b[39m\u001b[38;5;132;01m{\u001b[39;00m\u001b[38;5;241m100\u001b[39m\u001b[38;5;241m*\u001b[39m\u001b[43mpesos_optimos\u001b[49m\u001b[38;5;241;43m.\u001b[39;49m\u001b[43mround\u001b[49m(\u001b[38;5;241m2\u001b[39m)\u001b[38;5;132;01m}\u001b[39;00m\u001b[38;5;124m'\u001b[39m)\n",
      "\u001b[0;31mAttributeError\u001b[0m: 'NoneType' object has no attribute 'round'"
     ]
    }
   ],
   "source": [
    "print(f'Los pesos que hacen que la cartera tenga el menor riesgo son: {100*pesos_optimos.round(2)}')"
   ]
  },
  {
   "cell_type": "code",
   "execution_count": 101,
   "metadata": {},
   "outputs": [
    {
     "data": {
      "text/plain": [
       "inf"
      ]
     },
     "execution_count": 101,
     "metadata": {},
     "output_type": "execute_result"
    }
   ],
   "source": [
    "resultado"
   ]
  },
  {
   "cell_type": "markdown",
   "metadata": {},
   "source": [
    "Las restricciones establecidas en este problema de optimización hacen que no tenga solución.\n",
    "\n",
    "Dado que el rendimiento más alto de los activos es del 17%, es imposible lograr una rentabilidad del 18% con una cartera formada por estos activos."
   ]
  },
  {
   "cell_type": "markdown",
   "metadata": {},
   "source": [
    "---"
   ]
  },
  {
   "cell_type": "markdown",
   "metadata": {},
   "source": [
    "### **Ejercicio de Optimización de Portafolio con Máxima Rentabilidad dado un Riesgo**\n",
    "\n",
    "**Objetivo**: Maximizar la rentabilidad de un portafolio de inversión asegurando un riesgo máximo.\n",
    "\n",
    "### Datos:\n",
    "- **Retornos Esperados**: Un array `retornos_esperados` que contiene el retorno esperado para cada activo.\n",
    "- **Matriz de Covarianza**: `matriz_cov`, describiendo la covarianza entre los activos y el riesgo combinado.\n",
    "\n",
    "\n",
    "### Restricciones:\n",
    "1. No se permiten posiciones cortas"
   ]
  },
  {
   "cell_type": "code",
   "execution_count": 138,
   "metadata": {},
   "outputs": [],
   "source": [
    "# Datos de retornos y covarianzas\n",
    "\n",
    "retornos_esperados = np.array([0.17, 0.10, 0.07, 0.09])  # Ejemplo de retornos esperados\n",
    "matriz_cov = np.array([[1.83977374, 1.23002575, 1.59282297, 0.69409837],\n",
    "       [1.23002575, 1.45345954, 1.7548078 , 1.31477996],\n",
    "       [1.59282297, 1.7548078 , 2.14425197, 1.55568552],\n",
    "       [0.69409837, 1.31477996, 1.55568552, 1.46502412]])"
   ]
  },
  {
   "cell_type": "code",
   "execution_count": 139,
   "metadata": {},
   "outputs": [],
   "source": [
    "# Variable de decisión\n",
    "pesos = cp.Variable(4)"
   ]
  },
  {
   "cell_type": "code",
   "execution_count": 140,
   "metadata": {},
   "outputs": [],
   "source": [
    "# Función objetivo\n",
    "rentabilidad = retornos_esperados @ pesos\n",
    "objetivo = cp.Maximize(rentabilidad)"
   ]
  },
  {
   "cell_type": "code",
   "execution_count": 149,
   "metadata": {},
   "outputs": [],
   "source": [
    "# Restricciones\n",
    "riesgo = cp.quad_form(pesos, matriz_cov)\n",
    "\n",
    "constraints = [cp.sum(pesos) == 1, \n",
    "               pesos >= 0,\n",
    "               riesgo <= 1.20]\n",
    "\n",
    "riesgo = cp.quad_form(pesos, matriz_cov)"
   ]
  },
  {
   "cell_type": "code",
   "execution_count": 150,
   "metadata": {},
   "outputs": [],
   "source": [
    "# Problema de optimización\n",
    "problema = cp.Problem(objetivo, constraints)\n",
    "\n",
    "# Resolviendo el problema\n",
    "resultado = problema.solve()\n",
    "\n",
    "# Resultados\n",
    "pesos_optimos = pesos.value"
   ]
  },
  {
   "cell_type": "code",
   "execution_count": 151,
   "metadata": {},
   "outputs": [
    {
     "data": {
      "text/plain": [
       "0.13444668904708934"
      ]
     },
     "execution_count": 151,
     "metadata": {},
     "output_type": "execute_result"
    }
   ],
   "source": [
    "resultado"
   ]
  },
  {
   "cell_type": "code",
   "execution_count": 152,
   "metadata": {},
   "outputs": [
    {
     "name": "stdout",
     "output_type": "stream",
     "text": [
      "El riesgo de la cartera es: 1.20\n",
      "La rentabilidad de la cartera es: 13.44%\n",
      "Los pesos que hacen que la cartera tenga el menor riesgo son: [56.  0.  0. 44.]\n"
     ]
    }
   ],
   "source": [
    "print(f'El riesgo de la cartera es: {riesgo.value:.2f}')\n",
    "print(f'La rentabilidad de la cartera es: {100*(retornos_esperados @ pesos_optimos).round(4)}%')\n",
    "print(f'Los pesos que hacen que la cartera tenga el menor riesgo son: {100*pesos_optimos.round(2)}')"
   ]
  },
  {
   "cell_type": "markdown",
   "metadata": {},
   "source": [
    "---"
   ]
  },
  {
   "cell_type": "markdown",
   "metadata": {},
   "source": [
    "### **Ejercicio de Optimización de Portafolio usando ratio de sharpe**"
   ]
  },
  {
   "cell_type": "markdown",
   "metadata": {},
   "source": [
    "## Problema de Optimización del Ratio de Sharpe\n",
    "\n",
    "**Objetivo**: Maximizar el ratio de Sharpe cuadrático de un portafolio de inversión.\n",
    "\n",
    "### Datos:\n",
    "- **Retornos Esperados**: Vector `retornos_esperados` con el retorno esperado de cada activo.\n",
    "- **Matriz de Covarianza**: Matriz `matriz_cov` que representa la covarianza entre los rendimientos de los activos.\n",
    "- **Tasa Libre de Riesgo**: Valor `tasa_libre_riesgo`, representando la tasa de retorno sin riesgo.\n",
    "\n",
    "### Solución:\n",
    "Buscamos los pesos que conforman la cartera con el mayor ratio de Sharpe, optimizando así la relación entre el retorno esperado y la volatilidad del portafolio.\n"
   ]
  },
  {
   "cell_type": "code",
   "execution_count": 109,
   "metadata": {},
   "outputs": [],
   "source": [
    "# Datos de ejemplo\n",
    "retornos_esperados = np.array([0.12, 0.10, 0.07, 0.09])\n",
    "\n",
    "matriz_cov = np.array([[1.6768397 , 0.66434839, 1.26288857, 1.85128714],\n",
    "                        [0.66434839, 0.69280958, 0.87199711, 0.55437544],\n",
    "                        [1.26288857, 0.87199711, 1.92091975, 1.5573455 ],\n",
    "                        [1.85128714, 0.55437544, 1.5573455 , 2.51120125]])\n",
    "\n",
    "tasa_libre_riesgo = 0.03"
   ]
  },
  {
   "cell_type": "code",
   "execution_count": 110,
   "metadata": {},
   "outputs": [],
   "source": [
    "# Variable de decisión\n",
    "pesos = cp.Variable(4)"
   ]
  },
  {
   "cell_type": "code",
   "execution_count": 111,
   "metadata": {},
   "outputs": [],
   "source": [
    "# Función objetivo (Ratio de Sharpe)\n",
    "retorno_portafolio = retornos_esperados @ pesos\n",
    "volatilidad_portafolio = cp.sqrt(cp.quad_form(pesos, matriz_cov))\n",
    "ratio_sharpe = (retorno_portafolio - tasa_libre_riesgo) / volatilidad_portafolio"
   ]
  },
  {
   "cell_type": "code",
   "execution_count": 112,
   "metadata": {},
   "outputs": [],
   "source": [
    "# Restricciones\n",
    "constraints = [cp.sum(pesos) == 1, pesos >= 0]"
   ]
  },
  {
   "cell_type": "code",
   "execution_count": 113,
   "metadata": {},
   "outputs": [
    {
     "name": "stdout",
     "output_type": "stream",
     "text": [
      "Error al resolver el problema: Problem does not follow DCP rules. Specifically:\n",
      "The objective is not DCP. Its following subexpressions are not:\n",
      "power(QuadForm(var710, [[1.68 0.66 1.26 1.85]\n",
      " [0.66 0.69 0.87 0.55]\n",
      " [1.26 0.87 1.92 1.56]\n",
      " [1.85 0.55 1.56 2.51]]), 0.5)\n"
     ]
    }
   ],
   "source": [
    "# Definición del problema\n",
    "problema = cp.Problem(cp.Maximize(ratio_sharpe), constraints)\n",
    "\n",
    "# Intentando resolver el problema\n",
    "try:\n",
    "    problema.solve()\n",
    "except Exception as e:\n",
    "    print(\"Error al resolver el problema:\", e)"
   ]
  }
 ],
 "metadata": {
  "kernelspec": {
   "display_name": "Python 3 (ipykernel)",
   "language": "python",
   "name": "python3"
  },
  "language_info": {
   "codemirror_mode": {
    "name": "ipython",
    "version": 3
   },
   "file_extension": ".py",
   "mimetype": "text/x-python",
   "name": "python",
   "nbconvert_exporter": "python",
   "pygments_lexer": "ipython3",
   "version": "3.11.6"
  }
 },
 "nbformat": 4,
 "nbformat_minor": 4
}
