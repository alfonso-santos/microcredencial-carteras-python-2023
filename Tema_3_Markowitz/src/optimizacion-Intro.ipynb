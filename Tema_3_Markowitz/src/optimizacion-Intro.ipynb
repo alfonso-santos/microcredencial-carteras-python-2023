{
 "cells": [
  {
   "cell_type": "code",
   "execution_count": 1,
   "metadata": {},
   "outputs": [
    {
     "data": {
      "text/html": [
       "<link rel='stylesheet' href='../../design/custom.css'>"
      ],
      "text/plain": [
       "<IPython.core.display.HTML object>"
      ]
     },
     "metadata": {},
     "output_type": "display_data"
    }
   ],
   "source": [
    "from IPython.display import HTML, display\n",
    "css_file_path = \"../../design/custom.css\"\n",
    "styles = \"<link rel='stylesheet' href='%s'>\" % css_file_path\n",
    "display(HTML(styles))"
   ]
  },
  {
   "cell_type": "markdown",
   "metadata": {},
   "source": [
    "# 3.2 $\\quad$ Conceptos iniciales de optimización"
   ]
  },
  {
   "cell_type": "markdown",
   "metadata": {},
   "source": [
    "### Conceptos"
   ]
  },
  {
   "cell_type": "markdown",
   "metadata": {},
   "source": [
    "<font color=\"red\">CHRIS: He modificado un poco esto. Discutir qué son variables vs parámetros</font>"
   ]
  },
  {
   "cell_type": "markdown",
   "metadata": {},
   "source": [
    "Nuestro objetivo es **mimimizar/maximizar $f_0(x, w)$** sujeto a $f_i(x, w) \\leq b_i$,   $\\qquad i= 1,...,m$"
   ]
  },
  {
   "cell_type": "markdown",
   "metadata": {},
   "source": [
    "donde:\n",
    "\n",
    "- $x = (x_1, x_2,..., x_n)$ son las variables\n",
    "\n",
    "- $w = (w_1, w_2,..., w_n)$ son los parámetros\n",
    "\n",
    "- $f_0: \\mathbb{R}^n \\rightarrow \\mathbb{R}$  es la función objetivo\n",
    "\n",
    "- $f_i: \\mathbb{R}^n \\rightarrow \\mathbb{R}$ son las restricciones\n",
    "\n",
    "<font color=\"red\">CHRIS: ¿Qué es $b_i$? Entiendo que es el valor de la restricción para no superarlo?</font>"
   ]
  },
  {
   "cell_type": "markdown",
   "metadata": {},
   "source": [
    "**Solución**: $w^*$ es el vector, de entre todos los vectores que cumplen las restricciones, que hace que $f_0(x, w^*)$ tenga el valor mínimo/máximo."
   ]
  },
  {
   "cell_type": "markdown",
   "metadata": {},
   "source": [
    "---"
   ]
  },
  {
   "cell_type": "markdown",
   "metadata": {},
   "source": [
    "**EJEMPLO: OPTIMIZACIÓN DE UNA CARTERA**\n",
    "\n",
    "- *variables:*     retornos esperados de cada activo\n",
    "- *parámetros:*    cantidades o pesos que invierto en cada activo\n",
    "- *restricciones:* presupuesto total, max/min cantidad invertida en un activo, retorno mínimo de la cartera\n",
    "- *objetivo:*      riesgo o volatilidad\n",
    "\n",
    "**EJEMPLO: MACHINE LEARNING**\n",
    "\n",
    "- *variables:*     datos de entrada\n",
    "- *parámetros:*    parámetros del modelo (ejemplo: conexiones entre neuronas de una red neuronal)\n",
    "- *restricciones:* límites de los parámetros (ejemplo: las respuestas neuronales solo pueden ser positivas)\n",
    "- *objetivo:*      función de error de la predicción de tu modelo frente al valor esperado"
   ]
  },
  {
   "cell_type": "markdown",
   "metadata": {},
   "source": [
    "Hay muchos tipos de problemas de optimización. La optimización de una cartera, o el Machine Learning no son más que dos ejemplos. Igualmente, este tipo de problemas pueden ser muy difíciles de resolver por varias razones:\n",
    "\n",
    "- No se puede plantear el problema de forma apropiada\n",
    "\n",
    "- No podemos encontrar la solución en un tiempo razonable\n",
    "\n",
    "- Requiere muchos recursos de computación"
   ]
  },
  {
   "cell_type": "markdown",
   "metadata": {},
   "source": [
    "**Excepciones**: algunos problemas se puden resolver de manera eficaz y fiable:\n",
    "\n",
    "- Problemas lineales con mínimos cuadrados\n",
    "\n",
    "- Optimización convexa"
   ]
  },
  {
   "cell_type": "markdown",
   "metadata": {},
   "source": [
    "<font color=\"red\">CHRIS: A partir de aquí, revisar bien la nomenclatura</font>"
   ]
  },
  {
   "cell_type": "markdown",
   "metadata": {},
   "source": [
    "## 1. Problemas lineales con mínimos cuadrados"
   ]
  },
  {
   "cell_type": "markdown",
   "metadata": {},
   "source": [
    "Este método se utiliza principalmente para problemas de ajuste de modelos, especialmente en estadística y análisis de datos. El objetivo es minimizar la suma de los cuadrados de las diferencias (errores) entre los valores observados y los valores predichos por un modelo. Es ampliamente utilizado en regresión lineal para estimar los coeficientes de un modelo lineal.\n",
    "\n",
    "$$\\underset{w}{\\min} \\|Xw - y\\|_2^2$$\n",
    "\n",
    "donde $X$ es la matriz de diseño, que contiene las características de entrada de tus datos. Cada fila $x_i$ corresponde a una observación, y cada columna a una variable independiente. Por otro lado, $y$ es el vector de valores objetivo de tus datos (variable dependiente o target). Es el valor que se espera que tu modelo prediga.\n",
    "\n",
    "Existe una solución analítica:\n",
    "\n",
    "$w^* = (X^TX)^{-1} X^T y$"
   ]
  },
  {
   "cell_type": "markdown",
   "metadata": {},
   "source": [
    "Para realizar regresiones lineales en python existen varias librerías:\n",
    "\n",
    "- polyfit de Numpy\n",
    "\n",
    "- linregress de Scipy\n",
    "\n",
    "- **OLS de Statsmodel**\n",
    "\n",
    "- LinearRegression de scikit-learn\n",
    "\n"
   ]
  },
  {
   "cell_type": "markdown",
   "metadata": {},
   "source": [
    "---"
   ]
  },
  {
   "cell_type": "markdown",
   "metadata": {},
   "source": [
    "### Ejemplo: CAPM"
   ]
  },
  {
   "cell_type": "markdown",
   "metadata": {},
   "source": [
    "Un ejemplo clásico de optimización mediante mínimos cuadrados en finanzas es la regresión lineal para estimar el modelo de valoración de activos de capital (CAPM, por sus siglas en inglés). Aunque este modelo se verá en profundidad en el próximo tema, ahora nos debemos quedar con la idea de la optimización.\n",
    "\n",
    "El CAPM es un modelo utilizado para determinar la rentabilidad esperada de un activo, tomando en cuenta el riesgo y el tiempo valor del dinero. El modelo establece que la rentabilidad de un activo es una función lineal del rendimiento de un mercado más amplio."
   ]
  },
  {
   "cell_type": "markdown",
   "metadata": {},
   "source": [
    "<div style=\"text-align: center;\">\n",
    "<img src=\"../imgs/capm.png\" alt=\"CAPM\" width=\"500\"/>\n",
    "</div>"
   ]
  },
  {
   "cell_type": "markdown",
   "metadata": {},
   "source": [
    "<font color=\"red\">Yo quitaría toda la explicación y mostraría solo el código para adelantarles el concepto sin entrar en detalles. Lo vemos mañana.</font>"
   ]
  },
  {
   "cell_type": "markdown",
   "metadata": {},
   "source": [
    "\n",
    "\n",
    "\n",
    "**El Modelo CAPM**: \n",
    "La ecuación del CAPM es:\n",
    "\n",
    "$$ R_i = \\alpha + \\beta R_m $$\n",
    "\n",
    "Donde:\n",
    "- $ R_i $ es el rendimiento del activo individual.\n",
    "- $ \\alpha $ es el intercepto, que representa la rentabilidad esperada del activo cuando el rendimiento del mercado es cero.\n",
    "- $ \\beta $ es la pendiente, que mide la sensibilidad del rendimiento del activo a los cambios en el rendimiento del mercado.\n",
    "- $ R_m $ es el rendimiento del mercado.\n",
    "\n",
    "**Aplicación de Mínimos Cuadrados**:\n",
    "Para estimar $ \\alpha $ y $ \\beta $, se utiliza el método de mínimos cuadrados. Esto implica ajustar una línea recta a un conjunto de datos históricos de rendimientos del activo ($ R_i $) y rendimientos del mercado ($ R_m $) de la siguiente manera:\n",
    "\n",
    "1. **Recolección de Datos**: Recolecta datos históricos de rendimientos para el activo y el mercado correspondiente.\n",
    "2. **Ajuste de la Línea**: Utiliza mínimos cuadrados para encontrar los valores de $ \\alpha $ y $ \\beta $ que minimizan la suma de los cuadrados de las diferencias entre los rendimientos observados del activo y los rendimientos predichos por el modelo CAPM para cada punto de datos.\n",
    "3. **Interpretación**:\n",
    "   - **$ \\alpha $**: Si es significativamente diferente de cero, podría indicar que el activo tiene un rendimiento anormalmente alto o bajo en comparación con lo esperado por el riesgo de mercado.\n",
    "   - **$ \\beta $**: Un valor mayor que 1 indica que el activo es más volátil que el mercado, mientras que un valor menor que 1 indica que es menos volátil.\n",
    "\n",
    "Este modelo es fundamental en finanzas, tanto para la gestión de riesgos como para la toma de decisiones de inversión, ya que proporciona una medida del riesgo sistemático de un activo y su relación con el mercado en general.\n"
   ]
  },
  {
   "cell_type": "code",
   "execution_count": 11,
   "metadata": {},
   "outputs": [],
   "source": [
    "import numpy as np\n",
    "import pandas as pandas\n",
    "import yfinance as yf\n",
    "import statsmodels.api as sm\n",
    "import matplotlib.pyplot as plt"
   ]
  },
  {
   "cell_type": "code",
   "execution_count": 12,
   "metadata": {},
   "outputs": [
    {
     "name": "stdout",
     "output_type": "stream",
     "text": [
      "[*********************100%%**********************]  2 of 2 completed\n"
     ]
    }
   ],
   "source": [
    "tickers=['META', '^IXIC']\n",
    "precios_df = yf.download(tickers, start='2018-01-01', end='2023-11-30', period='M')['Adj Close']\n",
    "retornos_df = np.log(precios_df).diff().dropna()"
   ]
  },
  {
   "cell_type": "code",
   "execution_count": 17,
   "metadata": {},
   "outputs": [
    {
     "name": "stdout",
     "output_type": "stream",
     "text": [
      "La beta es: 1.23\n"
     ]
    }
   ],
   "source": [
    "# split dependent and independent variable\n",
    "X = retornos_df['^IXIC']\n",
    "y = retornos_df['META']\n",
    "\n",
    "# Add a constant to the independent value\n",
    "X1 = sm.add_constant(X)\n",
    "\n",
    "# make regression model \n",
    "model = sm.OLS(y, X1)\n",
    "\n",
    "# fit model and print results\n",
    "results = model.fit()\n",
    "\n",
    "alpha = results.params.iloc[0]\n",
    "beta = results.params.iloc[1]\n",
    "print(f'La beta es: {beta:.2f}')"
   ]
  },
  {
   "cell_type": "markdown",
   "metadata": {},
   "source": [
    "Comprobamos si coincide con la beta que nos da yahoo finance:\n",
    "\n",
    "\n",
    "<img src=\"../imgs/beta-meta.png\" alt=\"CAPM\" width=\"700\"/>\n"
   ]
  },
  {
   "cell_type": "markdown",
   "metadata": {},
   "source": [
    "Con la siguiente figura, vamos a comprobar si el modelo se está adaptando correctamente a los datos. Vamos a pintar el comportamiento de `META` frente al mercado, representado por el Nasdaq Composite Index (^IXIC). En la figura vemos cómo nuestro modelo lineal (curva naranja), que intenta estudiar el rendimiento del activo $R_i$, se adapta lo mejor posible a los datos (puntos azules), que representan el mercado $R_m$."
   ]
  },
  {
   "cell_type": "code",
   "execution_count": 36,
   "metadata": {},
   "outputs": [
    {
     "data": {
      "image/png": "[encoded data removed]",
      "text/plain": [
       "<Figure size 1500x400 with 1 Axes>"
      ]
     },
     "metadata": {},
     "output_type": "display_data"
    }
   ],
   "source": [
    "plt.figure(figsize=(15, 4))\n",
    "plt.plot(X, y, '.')\n",
    "plt.plot([X.min(), X.max()], [alpha + beta*X.min(), alpha + beta*X.max()])\n",
    "plt.xlabel(\"Mercado (^IXIC)\")\n",
    "plt.ylabel(\"Activo (META)\")\n",
    "plt.show()"
   ]
  },
  {
   "cell_type": "markdown",
   "metadata": {},
   "source": [
    "## 2. Optimización Convexa"
   ]
  },
  {
   "cell_type": "markdown",
   "metadata": {},
   "source": [
    "<div style=\"text-align: center;\">\n",
    "    <img src=\"../imgs/no-convexo.PNG\" alt=\"Primera Imagen\" width=\"350\" height=\"250\" style=\"float: left; margin-right: 10px; border: 2px solid black;\" />\n",
    "    <img src=\"../imgs/convexo.PNG\" alt=\"Segunda Imagen\" width=\"350\" height=\"250\" style=\"float: left; margin-right: 10px; border: 2px solid black;\" />\n",
    "</div>"
   ]
  },
  {
   "cell_type": "markdown",
   "metadata": {},
   "source": [
    "La optimización convexa es un subcampo de la optimización matemática que estudia cómo minimizar o maximizar una función convexa sobre un conjunto convexo. La optimización convexa incluye los problemas lineales."
   ]
  },
  {
   "cell_type": "markdown",
   "metadata": {},
   "source": [
    "<img src=\"../imgs/convexa.jpg\" alt=\"CAPM\" width=\"400\"/>"
   ]
  },
  {
   "cell_type": "markdown",
   "metadata": {},
   "source": [
    "Las ventajas de los problemas de optimización convexa incluyen:\n",
    "\n",
    "- **Solución Óptima Global**: Cualquier mínimo local es también un mínimo global, lo que asegura que la solución encontrada es la mejor posible.\n",
    "\n",
    "- **Eficiencia Computacional**: Los algoritmos para resolver problemas convexos son generalmente eficientes y bien entendidos, lo que permite soluciones rápidas y confiables.\n",
    "\n",
    "- **Análisis Teórico Sólido**: La teoría subyacente es bien desarrollada, proporcionando una comprensión clara de las propiedades del problema y las soluciones.\n",
    "\n",
    "- **Amplia Aplicabilidad**: Los problemas de optimización convexa son relevantes en muchos campos, como la economía, la ingeniería, el machine learning y la investigación operativa.\n",
    "\n",
    "- **Existencia de Soluciones**: En muchos casos, se puede garantizar la existencia de una solución.\n",
    "\n",
    "- **Simplicidad de Implementación**: Los algoritmos para resolver problemas convexos son más sencillos de implementar en comparación con problemas de optimización no convexa.\n",
    "\n",
    "- **Robustez**: Los problemas convexos son menos sensibles a pequeñas variaciones en los datos, lo que los hace robustos en aplicaciones prácticas.\n"
   ]
  },
  {
   "cell_type": "markdown",
   "metadata": {},
   "source": [
    "Los **PROBLEMAS DE OPTIMIZACIÓN DE CARTERAS DE ACTIVOS FINANCIEROS SON PROBLEMAS DE OPTIMIZACIÓN CONVEXA**:\n",
    "\n",
    "1. **Función Objetivo Convexa**:\n",
    "   - En la optimización de carteras, como en el modelo de Markowitz, la función objetivo suele ser minimizar el riesgo (varianza o desviación estándar) o maximizar el rendimiento esperado.\n",
    "   - La varianza (riesgo) es una función cuadrática de los pesos de los activos, naturalmente convexa\n",
    "\n",
    "2. **Restricciones Convexas**:\n",
    "    - Las restricciones comunes, como la suma de los pesos igual a 1 y las restricciones de no-negatividad, son lineales (afines)\n",
    "    - Estas restricciones son convexas, lo que significa que el conjunto de soluciones posibles (el espacio factible) es un conjunto convexo."
   ]
  },
  {
   "cell_type": "markdown",
   "metadata": {},
   "source": [
    "Para más información sobre optimización convexa podéis estudiar el curso de Stanford [Convex Optimization](https://www.youtube.com/playlist?list=PL3940DD956CDF0622)"
   ]
  }
 ],
 "metadata": {
  "kernelspec": {
   "display_name": "Python 3 (ipykernel)",
   "language": "python",
   "name": "python3"
  },
  "language_info": {
   "codemirror_mode": {
    "name": "ipython",
    "version": 3
   },
   "file_extension": ".py",
   "mimetype": "text/x-python",
   "name": "python",
   "nbconvert_exporter": "python",
   "pygments_lexer": "ipython3",
   "version": "3.11.5"
  }
 },
 "nbformat": 4,
 "nbformat_minor": 2
}
