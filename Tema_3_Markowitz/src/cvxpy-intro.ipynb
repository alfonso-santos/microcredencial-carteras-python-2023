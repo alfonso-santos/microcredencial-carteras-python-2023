{
 "cells": [
  {
   "cell_type": "code",
   "execution_count": 1,
   "metadata": {},
   "outputs": [
    {
     "data": {
      "text/html": [
       "<link rel='stylesheet' href='../../design/custom.css'>"
      ],
      "text/plain": [
       "<IPython.core.display.HTML object>"
      ]
     },
     "metadata": {},
     "output_type": "display_data"
    }
   ],
   "source": [
    "from IPython.display import HTML, display\n",
    "css_file_path = \"../../design/custom.css\"\n",
    "styles = \"<link rel='stylesheet' href='%s'>\" % css_file_path\n",
    "display(HTML(styles))"
   ]
  },
  {
   "cell_type": "markdown",
   "metadata": {},
   "source": [
    "# 3.3 $\\quad$ CVXPY"
   ]
  },
  {
   "cell_type": "markdown",
   "metadata": {},
   "source": [
    "Para la resolución de problemas de optimización convexa en python existen básicamente 3 métodos:\n",
    "\n",
    "- Utilización de solvers estándares (Gurovi, Scipy PuLP, GLPK, CPLEX ...) Requiere forma estándar\n",
    "\n",
    "- Escribir tu propio algoritmo (modelos de Machine Learning)\n",
    "\n",
    "- Usar un lenguaje de modelado"
   ]
  },
  {
   "cell_type": "markdown",
   "metadata": {},
   "source": [
    "CVXPY es un lenguaje específico para la optimización convexa integrado en Python. Sus características principales incluyen:\n",
    "\n",
    "- **Lenguaje Específico del Dominio**: \n",
    " \n",
    "  - CVXPY está diseñado específicamente para problemas de optimización convexa.\n",
    "  \n",
    "- **Expresión Natural de Problemas**: \n",
    "  - Permite a los usuarios formular problemas de optimización convexa utilizando una sintaxis natural que sigue la lógica matemática.\n",
    "  \n",
    "- **Independiente de la Forma Estándar de Solucionadores**: \n",
    "  - No requiere que los problemas se formulen en la forma estándar restrictiva que a menudo exigen los solvers de optimización.\n",
    "\n",
    "- **Compatibilidad con Solucionadores Conocidos**: \n",
    "  - Facilita el uso de los solvers de optimización más conocidos"
   ]
  },
  {
   "cell_type": "markdown",
   "metadata": {},
   "source": [
    "Puedes encontrar toda la documentación sobre la librería en [CVXPY](https://www.cvxpy.org/index.html)\n",
    "\n",
    "Presentación de [Convex Optimization with CVXPY](https://www.youtube.com/watch?v=kXqu-TqEl7Q)"
   ]
  },
  {
   "cell_type": "markdown",
   "metadata": {},
   "source": [
    "### Discipline Convex Programming\n",
    "\n",
    "#### Concepto y Fundamentos\n",
    "- **Definición**: Disciplined Convex Programming (DCP) es un sistema de reglas y técnicas para la construcción de problemas de optimización convexa.\n",
    "- **Objetivo**: Asegurar la convexidad de los problemas de optimización formulados, facilitando la búsqueda de soluciones globales óptimas.\n",
    "\n",
    "#### Principios Clave\n",
    "1. **Composición de Funciones Convexas**: Las funciones en un problema DCP deben combinarse de acuerdo con ciertas reglas que preservan la convexidad.\n",
    "2. **Reglas de Curvatura**: Identifican si una expresión es convexa, cóncava o afín, basándose en la operación y las funciones involucradas.\n",
    "3. **Restricciones DCP**: Solo ciertas formas de restricciones son permitidas para mantener la convexidad del problema.\n",
    "\n",
    "#### Aplicación en CVXPY\n",
    "- **CVXPY y DCP**: CVXPY utiliza DCP para verificar automáticamente la convexidad de un problema formulado.\n",
    "- **Beneficios**:\n",
    "  - Simplifica la formulación de problemas convexos.\n",
    "  - Evita errores comunes al garantizar que el problema es convexo y, por lo tanto, solucionable.\n"
   ]
  },
  {
   "cell_type": "markdown",
   "metadata": {},
   "source": [
    "### Componentes de un Problema de Optimización usando CVXPY\n",
    "\n",
    "<font color=\"red\">CHRIS: Cogido de las modificaciones del notebook anterior. Revisar si lo hemos cambiado al final</font>\n",
    "\n",
    "Recuerda lo que hemos visto en el notebook anterior:\n",
    "\n",
    "Nuestro objetivo es **mimimizar/maximizar $f_0(x, w)$** sujeto a $f_i(x, w) \\leq b_i$,   $\\qquad i= 1,...,m$\n",
    "\n",
    "donde:\n",
    "\n",
    "- $x = (x_1, x_2,..., x_n)$ son las variables\n",
    "\n",
    "- $w = (w_1, w_2,..., w_n)$ son los parámetros\n",
    "\n",
    "- $f_0: \\mathbb{R}^n \\rightarrow \\mathbb{R}$  es la función objetivo\n",
    "\n",
    "- $f_i: \\mathbb{R}^n \\rightarrow \\mathbb{R}$ son las restricciones\n",
    "\n",
    "<font color=\"red\">CHRIS: ¿Qué es $b_i$? Entiendo que es el valor de la restricción para no superarlo?</font>"
   ]
  },
  {
   "cell_type": "code",
   "execution_count": 4,
   "metadata": {},
   "outputs": [],
   "source": [
    "import numpy as np\n",
    "import pandas as pd\n",
    "import cvxpy as cp"
   ]
  },
  {
   "cell_type": "markdown",
   "metadata": {},
   "source": [
    "#### Variables (parámetros entrenables) de Decisión\n",
    "- **Definición**: Representan las cantidades que queremos optimizar. Representadas por el vector $w$.\n",
    "- **Ejemplo**: En un problema de asignación de recursos, las variables podrían ser la cantidad de recursos asignados a diferentes tareas.\n"
   ]
  },
  {
   "cell_type": "markdown",
   "metadata": {},
   "source": [
    "Para recordarlo, puedes entender el concepto de `variable` como algo que se va a modificar (va a variar) durante el ajuste del optimizador."
   ]
  },
  {
   "cell_type": "code",
   "execution_count": 20,
   "metadata": {},
   "outputs": [
    {
     "data": {
      "text/plain": [
       "Variable((2,), var16)"
      ]
     },
     "execution_count": 20,
     "metadata": {},
     "output_type": "execute_result"
    }
   ],
   "source": [
    "# Una variable entrenable de 2 componentes\n",
    "a = cp.Variable(2) # (a1, a2)\n",
    "a"
   ]
  },
  {
   "cell_type": "code",
   "execution_count": 21,
   "metadata": {},
   "outputs": [
    {
     "data": {
      "text/plain": [
       "Variable((5,), var17)"
      ]
     },
     "execution_count": 21,
     "metadata": {},
     "output_type": "execute_result"
    }
   ],
   "source": [
    "# Es equivalente a definir directamente un vector de variables \n",
    "v = cp.Variable((5,)) # (v1, v2, v3, v4, v5)\n",
    "v"
   ]
  },
  {
   "cell_type": "code",
   "execution_count": 22,
   "metadata": {},
   "outputs": [
    {
     "data": {
      "text/plain": [
       "Variable((5, 2), var18)"
      ]
     },
     "execution_count": 22,
     "metadata": {},
     "output_type": "execute_result"
    }
   ],
   "source": [
    "# También es posible definir una matriz de variables\n",
    "m = cp.Variable((5,2))\n",
    "m\n",
    "# [(m11, m12), \n",
    "#  (m21, m22), \n",
    "#  (m31, m32), \n",
    "#  (m41, m42), \n",
    "#  (m51, m52)]"
   ]
  },
  {
   "cell_type": "markdown",
   "metadata": {},
   "source": [
    "#### Función Objetivo\n",
    "- **Definición**: Es la función que queremos minimizar o maximizar. Representada por $f_0$.\n",
    "- **Ejemplo**: En un problema de minimización de costos, la función objetivo podría ser el costo total en función de las variables de decisión.\n"
   ]
  },
  {
   "cell_type": "code",
   "execution_count": 24,
   "metadata": {},
   "outputs": [
    {
     "data": {
      "text/plain": [
       "Minimize(Expression(AFFINE, UNKNOWN, ()))"
      ]
     },
     "execution_count": 24,
     "metadata": {},
     "output_type": "execute_result"
    }
   ],
   "source": [
    "# Minimizamos la suma de las componentes del vector v\n",
    "cp.Minimize(cp.sum(v))"
   ]
  },
  {
   "cell_type": "code",
   "execution_count": 26,
   "metadata": {},
   "outputs": [
    {
     "data": {
      "text/plain": [
       "Minimize(Expression(CONVEX, NONNEGATIVE, ()))"
      ]
     },
     "execution_count": 26,
     "metadata": {},
     "output_type": "execute_result"
    }
   ],
   "source": [
    "# Minimizamos la norma L1 (suma de valores absolutos) del vector a\n",
    "cp.Minimize(cp.norm(a, 1))"
   ]
  },
  {
   "cell_type": "code",
   "execution_count": 28,
   "metadata": {},
   "outputs": [
    {
     "data": {
      "text/plain": [
       "Maximize(Expression(CONCAVE, UNKNOWN, ()))"
      ]
     },
     "execution_count": 28,
     "metadata": {},
     "output_type": "execute_result"
    }
   ],
   "source": [
    "# Maximizamos la suma de los logaritmos de las componentes del vector v\n",
    "cp.Maximize(cp.sum(cp.log(v)))"
   ]
  },
  {
   "cell_type": "markdown",
   "metadata": {},
   "source": [
    "#### Restricciones\n",
    "- **Definición**: Son las condiciones que las variables de decisión deben cumplir. Representadas por $f_i$.\n",
    "- **Ejemplo**: En un problema de minimización de costos, podría ser los costes mínimos necesarios para cada tarea."
   ]
  },
  {
   "cell_type": "markdown",
   "metadata": {},
   "source": [
    "- Las restricciones se modelan con expresiones de igualdad y desigualdad\n",
    "con ==, >=, <=. \n",
    "\n",
    "- Las desigualdades estrictas < y > no están permitidas. $x<5$ se sustituye por $x+\\epsilon \\leq 5$ siendo $\\epsilon$ un número muy pequeño\n",
    "\n",
    "- Las expresiones de desigualdad se interpretan elemento a elemento y sigiuendo\n",
    "las reglas de interpretación para escalares, vectores y matrices al estilo \n",
    "de numpy (broadcasting)."
   ]
  },
  {
   "cell_type": "code",
   "execution_count": 30,
   "metadata": {},
   "outputs": [
    {
     "data": {
      "text/plain": [
       "Inequality(Variable((5,), var17))"
      ]
     },
     "execution_count": 30,
     "metadata": {},
     "output_type": "execute_result"
    }
   ],
   "source": [
    "# los 5 elementos del vector v debe ser mayor que 6\n",
    "v <= 6"
   ]
  },
  {
   "cell_type": "code",
   "execution_count": 31,
   "metadata": {},
   "outputs": [
    {
     "data": {
      "text/plain": [
       "Inequality(Constant(CONSTANT, NONNEGATIVE, (5,)))"
      ]
     },
     "execution_count": 31,
     "metadata": {},
     "output_type": "execute_result"
    }
   ],
   "source": [
    "# Cada elemento de v debe ser mayor que cada elemento del array c\n",
    "c = np.array([1, 3, 5, 10, 2])\n",
    "v >= c "
   ]
  },
  {
   "cell_type": "code",
   "execution_count": 33,
   "metadata": {},
   "outputs": [
    {
     "data": {
      "text/plain": [
       "[Inequality(Variable((5, 2), var18)),\n",
       " Inequality(Constant(CONSTANT, ZERO, ())),\n",
       " Inequality(Variable((5,), var17))]"
      ]
     },
     "execution_count": 33,
     "metadata": {},
     "output_type": "execute_result"
    }
   ],
   "source": [
    "# Las expresiones las podemos asignar a variables o agruparlas en listas\n",
    "restriccion_1 = (m <= 10)\n",
    "restriccion_2 = (m >= 0)\n",
    "constraints = [restriccion_1, restriccion_2]\n",
    "constraints.append(v<=c)\n",
    "constraints"
   ]
  },
  {
   "cell_type": "markdown",
   "metadata": {},
   "source": [
    "Si pensamos en que CVXPY está construido sobre numpy, podemos imaginar que es posible definir restricciones sobre subconjuntos de variables usando el indexado o el slicing:"
   ]
  },
  {
   "cell_type": "code",
   "execution_count": 35,
   "metadata": {},
   "outputs": [
    {
     "data": {
      "text/plain": [
       "Inequality(Expression(AFFINE, UNKNOWN, (4,)))"
      ]
     },
     "execution_count": 35,
     "metadata": {},
     "output_type": "execute_result"
    }
   ],
   "source": [
    "# La variable m31 debe ser <= 9\n",
    "m[3, 1] <= 9"
   ]
  },
  {
   "cell_type": "code",
   "execution_count": 37,
   "metadata": {},
   "outputs": [
    {
     "data": {
      "text/plain": [
       "Inequality(Expression(AFFINE, UNKNOWN, (4,)))"
      ]
     },
     "execution_count": 37,
     "metadata": {},
     "output_type": "execute_result"
    }
   ],
   "source": [
    "# Las variables de la primera columna de las 4 primeras filas deben ser <= 8\n",
    "m[:4, 0] <= 8"
   ]
  },
  {
   "cell_type": "code",
   "execution_count": 39,
   "metadata": {},
   "outputs": [
    {
     "data": {
      "text/plain": [
       "[Inequality(Constant(CONSTANT, NONPOSITIVE, ())),\n",
       " Inequality(Constant(CONSTANT, NONPOSITIVE, ())),\n",
       " Inequality(Constant(CONSTANT, ZERO, ())),\n",
       " Inequality(Constant(CONSTANT, NONNEGATIVE, ())),\n",
       " Inequality(Constant(CONSTANT, NONNEGATIVE, ()))]"
      ]
     },
     "execution_count": 39,
     "metadata": {},
     "output_type": "execute_result"
    }
   ],
   "source": [
    "# Podemos mezclar nuestro código con la construcción\n",
    "# de restricciones a nuestra conveniencia\n",
    "\n",
    "other_constraints = []\n",
    "for i in range(v.shape[0]):\n",
    "    other_constraints.append(v[i] >= i - 2)\n",
    "\n",
    "other_constraints"
   ]
  },
  {
   "cell_type": "markdown",
   "metadata": {},
   "source": [
    "### Operadores y Funciones\n",
    "La librería trata los operadores +, -, *, / y @ como funciones, conservando la semántica de numpy."
   ]
  },
  {
   "cell_type": "code",
   "execution_count": 41,
   "metadata": {},
   "outputs": [
    {
     "data": {
      "text/plain": [
       "Expression(AFFINE, UNKNOWN, (5,))"
      ]
     },
     "execution_count": 41,
     "metadata": {},
     "output_type": "execute_result"
    }
   ],
   "source": [
    "v*2"
   ]
  },
  {
   "cell_type": "code",
   "execution_count": 42,
   "metadata": {},
   "outputs": [
    {
     "data": {
      "text/plain": [
       "Expression(AFFINE, UNKNOWN, (5,))"
      ]
     },
     "execution_count": 42,
     "metadata": {},
     "output_type": "execute_result"
    }
   ],
   "source": [
    "v + v*2"
   ]
  },
  {
   "cell_type": "code",
   "execution_count": 44,
   "metadata": {},
   "outputs": [
    {
     "data": {
      "text/plain": [
       "Expression(UNKNOWN, UNKNOWN, (2,))"
      ]
     },
     "execution_count": 44,
     "metadata": {},
     "output_type": "execute_result"
    }
   ],
   "source": [
    "# v tiene shape (5,)\n",
    "# m tiene shape (5,2)\n",
    "v @ m # tiene shape (2,)"
   ]
  },
  {
   "cell_type": "code",
   "execution_count": 46,
   "metadata": {},
   "outputs": [
    {
     "data": {
      "text/plain": [
       "Expression(UNKNOWN, UNKNOWN, (5, 5))"
      ]
     },
     "execution_count": 46,
     "metadata": {},
     "output_type": "execute_result"
    }
   ],
   "source": [
    "# m tiene shape (5,2)\n",
    "# m.T tiene shape (2,5)\n",
    "m @ m.T"
   ]
  },
  {
   "cell_type": "markdown",
   "metadata": {},
   "source": [
    "OJO: Algunas funciones se aplican a cada elemento, como en numpy:"
   ]
  },
  {
   "cell_type": "code",
   "execution_count": 48,
   "metadata": {},
   "outputs": [
    {
     "data": {
      "text/plain": [
       "Expression(CONVEX, NONNEGATIVE, (5,))"
      ]
     },
     "execution_count": 48,
     "metadata": {},
     "output_type": "execute_result"
    }
   ],
   "source": [
    "# valor absoluto de cada elemento del vector\n",
    "cp.abs(v)"
   ]
  },
  {
   "cell_type": "code",
   "execution_count": 49,
   "metadata": {},
   "outputs": [
    {
     "data": {
      "text/plain": [
       "Expression(CONVEX, NONNEGATIVE, (5, 2))"
      ]
     },
     "execution_count": 49,
     "metadata": {},
     "output_type": "execute_result"
    }
   ],
   "source": [
    "# para cada elemento de la matriz se calcula e^{m_ij}\n",
    "cp.exp(m)"
   ]
  },
  {
   "cell_type": "markdown",
   "metadata": {},
   "source": [
    "La librería contiene un conjunto diverso de funciones para realizar\n",
    "la mayoría de los cálculos matemáticos.\n",
    "\n",
    "-  Consultar una lista mas completa en la [documentación](https://www.cvxpy.org/tutorial/functions/index.html)"
   ]
  }
 ],
 "metadata": {
  "kernelspec": {
   "display_name": "Python 3 (ipykernel)",
   "language": "python",
   "name": "python3"
  },
  "language_info": {
   "codemirror_mode": {
    "name": "ipython",
    "version": 3
   },
   "file_extension": ".py",
   "mimetype": "text/x-python",
   "name": "python",
   "nbconvert_exporter": "python",
   "pygments_lexer": "ipython3",
   "version": "3.11.5"
  }
 },
 "nbformat": 4,
 "nbformat_minor": 2
}
