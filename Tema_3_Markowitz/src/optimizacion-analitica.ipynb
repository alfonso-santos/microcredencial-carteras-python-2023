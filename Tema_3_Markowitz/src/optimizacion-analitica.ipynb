{
 "cells": [
  {
   "cell_type": "code",
   "execution_count": null,
   "id": "1692b4be",
   "metadata": {},
   "outputs": [
    {
     "data": {
      "text/html": [
       "<link rel='stylesheet' href='../../design/custom.css'>"
      ],
      "text/plain": [
       "<IPython.core.display.HTML object>"
      ]
     },
     "metadata": {},
     "output_type": "display_data"
    }
   ],
   "source": [
    "from IPython.display import HTML, display\n",
    "css_file_path = \"../../design/custom.css\"\n",
    "styles = \"<link rel='stylesheet' href='%s'>\" % css_file_path\n",
    "display(HTML(styles))"
   ]
  },
  {
   "cell_type": "markdown",
   "id": "45e0b0d9",
   "metadata": {},
   "source": [
    "# 3.2 $\\quad$ Optimización analítica"
   ]
  },
  {
   "attachments": {},
   "cell_type": "markdown",
   "id": "99114f2b",
   "metadata": {},
   "source": [
    "## Proposición 1: \n",
    "\n",
    "Dado una constante $c$ estimamos la diferencia de rentabilidad con respecto a la constante.\n",
    "\n",
    "$$E(r)-c=\n",
    "\\left[\\begin{array}{crl}\n",
    "E(r_1)-c \\\\\n",
    "E(r_2)-c \\\\\n",
    "\\vdots \\\\\n",
    "E(r_n)-c\n",
    "\\end{array}\\right]$$\n",
    "\n",
    "donde:\n",
    "\n",
    "- $E(r)$ es vector de los retornos esperados\n",
    "\n",
    "- $\\Sigma$ es la matriz de varianzas-covarianzas\n",
    "\n",
    "Dado un vector $z$ que resuelve el siguiente sistema de ecuaciones $E(r)-c=\\Sigma z$. La solución del sistema de ecuaciones nos permite estimar las ponderaciones $w$ que definen la cartera eficiente.\n",
    "\n",
    "$$z=[z_1,z_2, \\ldots, z_N]=\\Sigma^{-1}[E(r)-c]$$\n",
    "\n",
    "donde:\n",
    "\n",
    "$$w=[w_1,w_2,\\ldots, w_N] \\Rightarrow w_i=\\frac{z_i}{\\sum_{j=1}^N z_j}$$\n",
    "\n",
    "\n",
    "\n"
   ]
  },
  {
   "attachments": {},
   "cell_type": "markdown",
   "id": "162a7e38",
   "metadata": {},
   "source": [
    "### Demostración Proposición 1:\n",
    "\n",
    "Una cartera $w$ es eficiente si y sólo si está en la tangente de una recta que une un punto $c$ que está en el eje y con la frontera eficiente. \n",
    "\n",
    "La ecuación que define una recta que une una constante $c$ con el área de carteras factibles es:\n",
    "\n",
    "$$\\mu=c+\\lambda\\sigma$$\n",
    "\n",
    "La pendiente de la recta es:\n",
    "\n",
    "$$\\begin{align}\n",
    "\\lambda &=\\frac{\\mu-c}{\\sigma} \\\\\n",
    "\\lambda &=\\frac{wE(R)-c}{\\sqrt{w\\Sigma w'}}=\\frac{w[E(R)-c]}{\\sqrt{w\\Sigma w'}}\n",
    "\\end{align}$$\n",
    "\n",
    "Si calculo el maximo de la pendiente obtendré una cartera eficiente:\n",
    "\n",
    "$$\\begin{gather}\n",
    "max\\text{  }\\frac{w[E(R)-c]}{\\sqrt{w\\Sigma w'}}=\\lambda(w) \\\\ \n",
    "s.t. \\sum_i w_i=1 \\nonumber\n",
    "\\end{gather}$$\n",
    "\n",
    "Podemos abordar el problema introduciendo multiplicadores de Lagrange, pero también podemos aprovechar un truco.\n",
    "\n",
    "El ratio de es una función homogénea de grado cero\n",
    "$$\\lambda(\\alpha w)=\\lambda(w), \\forall \\alpha >0$$\n",
    "\n",
    "Eso implica que podemos resolver el problema de optimización sin necesidad de imponer la restricción $\\sum_i w_i=1$. Por tanto, podemos maximizar la función $\\lambda(x)$, siendo el vector $x$ las pseudoponderaciones que posteriormente normalizaremos.\n",
    "\n",
    "$$w_i=\\frac{x_i}{\\sum_k x_k}$$"
   ]
  },
  {
   "attachments": {},
   "cell_type": "markdown",
   "id": "002e496e",
   "metadata": {},
   "source": [
    "La identfiación de la cartera óptima la obtendremos aplicando la condición de primer orden a la siguiente función:\n",
    "\n",
    "$$\\lambda(x)=\\frac{x(E(R)-c)}{(x^T\\Sigma x)^{1/2}}$$\n",
    "\n",
    "Lo que nos lleva a resolver el siguiente sistema de ecuaciones:\n",
    "$$\\frac{\\partial \\lambda}{\\partial x_1}=0, \\text{  } \\frac{\\partial \\lambda}{\\partial x_2}=0, \\text{  }..., \\frac{\\partial \\lambda}{\\partial x_n}=0$$"
   ]
  },
  {
   "attachments": {},
   "cell_type": "markdown",
   "id": "e4b25a30",
   "metadata": {},
   "source": [
    "La pendiente tiene la siguiente estructura:\n",
    "$$\\lambda=\\frac{f(x)}{\\sqrt{g(x)}}$$\n",
    "\n",
    "Por tanto la condición de primer orden será:\n",
    "\n",
    "$$\\frac{\\partial f}{\\partial x_k}g^{-\\frac{1}{2}}-\\frac{1}{2}f(x)g^{-\\frac{3}{2}}(x)\\frac{\\partial g}{\\partial x_k}=0, k=1,...,n$$\n",
    "\n",
    "Si asumimos que $g(x)\\neq 0$, podemos simplificar la ecuación:\n",
    "\n",
    "$$\\frac{\\partial f}{\\partial x_k}=\\frac{1}{2}\\frac{ f(x)}{g(x)}\\frac{\\partial g}{\\partial x_k}, k=1,...,n$$"
   ]
  },
  {
   "attachments": {},
   "cell_type": "markdown",
   "id": "c3eddb2c",
   "metadata": {},
   "source": [
    "Lo que se puede expresar como:\n",
    "\n",
    "$$\\bigtriangledown f(x)=\\frac{1}{2}\\frac{ f(x)}{g(x)}\\bigtriangledown g(x)$$\n",
    "\n",
    "Las características de las funciones $f(·)$ y $g(·)$ nos permiten resolver la ecuación:\n",
    "- $g(·)$ es cuadrática y el gradiente de la matriz $x^T\\Sigma x$ es $2\\Sigma x$.\n",
    "- El gradiente de la función lineal $f(x)=[E(r)-c]^Tx$ es el vector $[E(r)-c]$.\n",
    "- El cociente $\\frac{ f(x)}{g(x)}$ es sólo un número por ello no lo tendremos en cuenta. Consideramos que está incluido en el vector $x$ que posteriormente normalizaremos.\n",
    "\n",
    "La condición de primer orden genera el siguiente sistema de ecuaciones:\n",
    "\n",
    "$$\\Sigma x=[E(r)-c] \\rightarrow \\boxed{x=\\Sigma^{-1} [E(r)-c]} $$\n",
    "\n",
    "Por último, recordad que hay que deshacer la transformación para recuperar el vector $w$:\n",
    "\n",
    "$$\\boxed{w_i = \\frac{x_i}{\\sum_{k} x_k}}$$"
   ]
  },
  {
   "cell_type": "markdown",
   "id": "8a473765",
   "metadata": {},
   "source": [
    "### Solución analítica en python"
   ]
  },
  {
   "cell_type": "code",
   "execution_count": 3,
   "id": "94e136cc",
   "metadata": {},
   "outputs": [],
   "source": [
    "import numpy as np\n",
    "import pandas as pd\n",
    "import matplotlib.pyplot as plt\n",
    "from matplotlib import cm\n",
    "import cvxpy as cp\n",
    "import yfinance as yf\n",
    "import seaborn as sns\n",
    "from scipy.interpolate import interp1d\n",
    "\n",
    "plt.style.use('ggplot')"
   ]
  },
  {
   "cell_type": "code",
   "execution_count": 4,
   "id": "d1f4ae37",
   "metadata": {},
   "outputs": [
    {
     "name": "stdout",
     "output_type": "stream",
     "text": [
      "[*********************100%%**********************]  26 of 26 completed\n"
     ]
    }
   ],
   "source": [
    "# Date range\n",
    "start = '2015-01-01'\n",
    "end = '2019-12-30'\n",
    "\n",
    "# Assets todos con retornos positivos\n",
    "assets = ['BA', 'BAX', 'BMY', 'CMCSA', 'CNP', 'CPB', 'DE', 'F', 'GE', 'HPQ', \n",
    "        'JCI', 'JPM','KHC', 'LUV', 'MMC', 'MO', 'NI', 'PCAR', 'PSA', 'SEE', \n",
    "        'T', 'TGT', 'TMO','TXT', 'VZ', 'ZION']\n",
    "\n",
    "# Downloading data\n",
    "prices = yf.download(assets, start = start, end = end)['Adj Close']\n",
    "prices.columns = assets"
   ]
  },
  {
   "cell_type": "code",
   "execution_count": 5,
   "id": "aaacf17f",
   "metadata": {},
   "outputs": [],
   "source": [
    "# Calculamos los retornos\n",
    "retornos = np.log(prices).diff().dropna()\n",
    "num_act = len(assets)\n",
    "\n",
    "# Calculamos la matriz de covarianzas y los retornos esperados\n",
    "matriz_cov = retornos.cov().to_numpy()\n",
    "retornos_esperados = retornos.mean().to_numpy()"
   ]
  },
  {
   "cell_type": "markdown",
   "id": "f175418f",
   "metadata": {},
   "source": [
    "#### Cálculo de $w$ dada una $k$"
   ]
  },
  {
   "cell_type": "markdown",
   "id": "4039af3c",
   "metadata": {},
   "source": [
    "Usamos la siguiente fórmula que hemos calculado previamente:\n",
    "\n",
    "$$x = \\Sigma^{-1} \\pi = \\Sigma^{-1} (\\mu - k)$$"
   ]
  },
  {
   "cell_type": "code",
   "execution_count": 72,
   "id": "5b17e54c",
   "metadata": {},
   "outputs": [],
   "source": [
    "k = 0.0001\n",
    "\n",
    "x = np.linalg.inv(matriz_cov) @ (retornos_esperados - k)"
   ]
  },
  {
   "cell_type": "markdown",
   "id": "6443a287",
   "metadata": {},
   "source": [
    "Tenemos que normalizar $x$ para que los pesos sumen 1:\n",
    "\n",
    "$$w_i = \\frac{x_i}{\\sum_{k} x_k}$$"
   ]
  },
  {
   "cell_type": "code",
   "execution_count": 73,
   "id": "8080d53e",
   "metadata": {},
   "outputs": [
    {
     "data": {
      "text/plain": [
       "1.0000000000000004"
      ]
     },
     "execution_count": 73,
     "metadata": {},
     "output_type": "execute_result"
    }
   ],
   "source": [
    "w1 = x / x.sum()\n",
    "w1.sum()"
   ]
  },
  {
   "cell_type": "markdown",
   "id": "f46e611e",
   "metadata": {},
   "source": [
    "Calculamos la rentabilidad y el riesgo de la cartera:"
   ]
  },
  {
   "cell_type": "code",
   "execution_count": 74,
   "id": "ee3a64d8",
   "metadata": {},
   "outputs": [],
   "source": [
    "rent = (retornos @ w1).mean()\n",
    "risk = (retornos @ w1).std()"
   ]
  },
  {
   "cell_type": "markdown",
   "id": "94d9c0bb",
   "metadata": {},
   "source": [
    "Lo pintamos:"
   ]
  },
  {
   "cell_type": "code",
   "execution_count": 113,
   "id": "bc3fecca",
   "metadata": {},
   "outputs": [
    {
     "data": {
      "image/png": "[encoded data removed]",
      "text/plain": [
       "<Figure size 640x480 with 1 Axes>"
      ]
     },
     "metadata": {},
     "output_type": "display_data"
    }
   ],
   "source": [
    "# Linea horizontal: volatilidad\n",
    "plt.plot([0, risk*np.sqrt(252)], [k*252, k*252], color=\"red\")\n",
    "\n",
    "# Linea vertical: rentabilidad\n",
    "plt.plot([risk*np.sqrt(252), risk*np.sqrt(252)], [k*252, rent*252], color=\"red\")\n",
    "plt.annotate(\"Rp - k\", (risk*np.sqrt(252)*0.8, (rent*252 + k*252)/2), size=16)\n",
    "\n",
    "# Linea diagonal\n",
    "plt.plot([0,risk*np.sqrt(252)], [k*252,rent*252], color=\"red\")\n",
    "\n",
    "# Linea horizontal para rentabilidad de la cartera\n",
    "plt.axhline(rent*252, linestyle='--', color=\"green\")\n",
    "\n",
    "# Cartera\n",
    "plt.plot(risk*np.sqrt(252), rent*252, 'o', markersize=10, color=\"blue\")\n",
    "plt.annotate(\"Cartera\", (risk*np.sqrt(252)*0.8, rent*252*1.05), size=16, color=\"blue\")\n",
    "\n",
    "# K\n",
    "plt.plot(0, k*252, 'o', markersize=10, color=\"green\")\n",
    "plt.annotate(\"K\", (0.01, k*252*(-2)), size=16, color=\"green\")\n",
    "\n",
    "# Sp\n",
    "plt.annotate(\"Sp\", (0.05, 0.07), size=16)\n",
    "\n",
    "plt.xlabel(\"Volatilidad\")\n",
    "plt.ylabel(\"Rentabilidad\")\n",
    "plt.ylim(-0.1, 1.0)\n",
    "plt.show()"
   ]
  },
  {
   "cell_type": "markdown",
   "id": "e232ad18",
   "metadata": {},
   "source": [
    "### Generando carteras $w$ para diferentes valores de $k$"
   ]
  },
  {
   "cell_type": "markdown",
   "id": "d3472b48",
   "metadata": {},
   "source": [
    "Vamos a definir distintos valores de $k$ en el rango [-0.1, 0.0001] y vamos a realizar la misma operación que arriba."
   ]
  },
  {
   "cell_type": "code",
   "execution_count": 114,
   "id": "f1bcc55c",
   "metadata": {},
   "outputs": [],
   "source": [
    "rents = []\n",
    "risks = []\n",
    "for k in np.linspace(-0.1, 0.0001, 1000):\n",
    "    x = np.linalg.inv(matriz_cov) @ (retornos_esperados - k)\n",
    "    w1 = x / x.sum()\n",
    "    rent = (retornos @ w1).mean()\n",
    "    risk = (retornos @ w1).std()\n",
    "    rents.append(rent)\n",
    "    risks.append(risk)"
   ]
  },
  {
   "cell_type": "markdown",
   "id": "4796be6f",
   "metadata": {},
   "source": [
    "De esta manera, podemos obtener la frontera eficiente según diferentes valores de $k$."
   ]
  },
  {
   "cell_type": "code",
   "execution_count": 115,
   "id": "84801a9d",
   "metadata": {},
   "outputs": [
    {
     "data": {
      "image/png": "[encoded data removed]",
      "text/plain": [
       "<Figure size 1200x600 with 1 Axes>"
      ]
     },
     "metadata": {},
     "output_type": "display_data"
    }
   ],
   "source": [
    "plt.figure(figsize=(12, 6))\n",
    "\n",
    "# Puntos de cada activo\n",
    "plt.scatter(np.sqrt(np.diag(matriz_cov)*252),252* retornos_esperados, color='blue', s=50, alpha=0.7)\n",
    "plt.plot(np.array(risks) * np.sqrt(252), np.array(rents) * 252, '.-', color=\"red\")\n",
    "plt.show()"
   ]
  },
  {
   "attachments": {},
   "cell_type": "markdown",
   "id": "e8d34ccd",
   "metadata": {},
   "source": [
    "## Proposición 2: \n",
    "\n",
    "La combinación de dos carteras eficientes $w_x$ e $w_y$ genera una nueva cartera $w_z$ eficiente (Black 1972).\n",
    "$$w_z=aw_x+(1-a)w_y=\\left[\\begin{array}{crl}\n",
    "aw_{x_1}+(1-a)w_{y_1}  \\\\\n",
    "aw_{x_2}+(1-a)w_{y_2} \\\\\n",
    "\\vdots \\\\\n",
    "aw_{x_N}+(1-a)w_{y_N}\n",
    "\\end{array}\\right]$$\n"
   ]
  },
  {
   "attachments": {},
   "cell_type": "markdown",
   "id": "b266f343",
   "metadata": {},
   "source": [
    "### Demostración Proposición 1:\n",
    "\n",
    "Si la cartera $x$ es eficiente significa que debe existir una constante $c_x$ tal que $E(R)-c_x=\\Sigma x$. Del mismo modo, debe existir una $c_y$ tal que $E(R)-c_y=\\Sigma y$.Por tanto:\n",
    "\n",
    "Dado que $x$ e $y$ son los resultados obtenidos al  maximizar los ratios:\n",
    "$$\\lambda(x)=\\frac{x(E(R)-c_x)}{\\sigma(x)}$$\n",
    "$$\\lambda(y)=\\frac{y(E(R)-c_y)}{\\sigma(y)}$$\n",
    "\n",
    "Recodamos que el ratio $\\lambda$ de es una función homogénea de grado cero $\\lambda(\\alpha w)=\\lambda(w), \\forall \\alpha >0$, por tanto si suponemos que $\\sum_i x_i=1$ y que $\\sum_i y_i=1$ no perdemos capacidad de generalización. Así\n",
    "\n",
    "$$\\begin{aligned}\n",
    "z&=a{w_x}+(1-a){w_y}=ax+(1-a)y \\\\\n",
    "z&=a\\Sigma^{-1}(E(R)-c_x)+(1-a)\\Sigma^{-1}(E(R)-c_y) \\\\\n",
    "\\Sigma z&=(a+1-a)E(R)-(ac_x+(1-a)c_y) \\\\\n",
    "\\Sigma z&=E(R)-c_z \\\\\n",
    "\\end{aligned}$$  \n",
    "\n"
   ]
  },
  {
   "attachments": {},
   "cell_type": "markdown",
   "id": "2bc51625",
   "metadata": {},
   "source": [
    "### Generando carteras eficientes mediante la combinación de dos carteras definidas por $k_1$ y $k_2$"
   ]
  },
  {
   "cell_type": "code",
   "execution_count": 116,
   "id": "b9fa2b1c",
   "metadata": {},
   "outputs": [],
   "source": [
    "k1 = 0.0\n",
    "k2 = 0.0001"
   ]
  },
  {
   "cell_type": "code",
   "execution_count": 117,
   "id": "fb5d3036",
   "metadata": {},
   "outputs": [],
   "source": [
    "x = np.linalg.inv(matriz_cov) @ (retornos_esperados - k1)\n",
    "w1 = x / x.sum()\n",
    "\n",
    "cartera1_ret = retornos @ w1\n",
    "rent1 = cartera1_ret.mean()\n",
    "risk1 = cartera1_ret.std()\n",
    "\n",
    "x = np.linalg.inv(matriz_cov) @ (retornos_esperados - k2)\n",
    "w2 = x / x.sum()\n",
    "\n",
    "cartera2_ret = retornos @ w2\n",
    "rent2 = cartera2_ret.mean()\n",
    "risk2 = cartera2_ret.std()\n",
    "\n",
    "df = pd.DataFrame()\n",
    "df['Cartera 1'] = cartera1_ret\n",
    "df['Cartera 2'] = cartera2_ret\n",
    "covarianza = df.cov().iloc[0, 1]\n",
    "\n",
    "rents_2 = []\n",
    "risks_2 = []\n",
    "for w_1 in np.linspace(-1.2, 6.0, 200):\n",
    "    w_2 = 1 - w_1\n",
    "    rent = rent1 * w_1 + rent2 * w_2\n",
    "    risk = np.sqrt(w_1**2 * risk1**2 + w_2**2 * risk2**2 + 2 * w_1 * w_2 * covarianza)\n",
    "    rents_2.append(rent)\n",
    "    risks_2.append(risk)"
   ]
  },
  {
   "cell_type": "code",
   "execution_count": 118,
   "id": "679160bf",
   "metadata": {},
   "outputs": [
    {
     "data": {
      "image/png": "[encoded data removed]",
      "text/plain": [
       "<Figure size 1200x600 with 1 Axes>"
      ]
     },
     "metadata": {},
     "output_type": "display_data"
    }
   ],
   "source": [
    "plt.figure(figsize=(12, 6))\n",
    "\n",
    "# Puntos de cada activo\n",
    "plt.scatter(np.sqrt(np.diag(matriz_cov)*252),252* retornos_esperados, color='blue', s=50, alpha=0.7)\n",
    "plt.plot(np.array(risks) * np.sqrt(252), np.array(rents) * 252, '.-', color=\"red\")\n",
    "plt.plot(np.array(risks_2) * np.sqrt(252), np.array(rents_2) * 252, '.-', color=\"green\", alpha=0.2)\n",
    "\n",
    "plt.show()"
   ]
  },
  {
   "cell_type": "markdown",
   "id": "53cdf4f6",
   "metadata": {},
   "source": [
    "## Restricciones adicionales"
   ]
  },
  {
   "cell_type": "markdown",
   "id": "f5fcc6c4",
   "metadata": {},
   "source": [
    "En la mayor parte de los casos, al problema anterior hay que añadirle alguna restricción adicional, por lo que hay que emplear otros métodos de optimización.\n",
    "\n",
    "Por ejemplo, esta ecuación se puede replantear añadiendo una de las siguientes restricciones:\n",
    "\n",
    "- Un objetivo de rentabilidad\n",
    "\n",
    "$\\qquad \\underset{m}{\\min} (w^T\\Sigma w) \\quad = \\quad \\underset{m}{\\max} (-w^T\\Sigma w)$\n",
    "\n",
    "$\\qquad s.t. \\qquad w^T\\mathbf I=1$\n",
    "\n",
    "$\\qquad s.t. \\qquad w^T \\mu = \\hat{\\mu}$\n",
    "\n",
    "- Un objetivo de riesgo\n",
    "\n",
    "$\\qquad \\underset{m}{\\max} (w^T \\mu)$\n",
    "\n",
    "$\\qquad s.t. \\qquad w^T\\mathbf I=1$\n",
    "\n",
    "$\\qquad s.t. \\qquad w^T\\Sigma w = \\hat{\\sigma}$"
   ]
  },
  {
   "cell_type": "markdown",
   "id": "7d2a0137",
   "metadata": {},
   "source": [
    "Utilizando Lagrange para resolver el problema:\n",
    "\n",
    "\n",
    "$\\qquad \\mathcal{L}(w, \\lambda_1, \\lambda_2)=\\left(-w^T\\Sigma w\\right)+\\lambda_1\\left( w^T\\mu-\\hat{\\mu}\\right)+\\lambda_2\\left( w^T\\mathbf I-1 \\right)$\n",
    "\n",
    "La condición de primer orden del proceso de optimización será:\n",
    "\n",
    "$$\\frac{\\partial \\mathcal{L}}{\\partial w}=-2\\Sigma w+ \\lambda_1 \\mu + \\lambda_2 \\mathbf I = 0$$\n",
    "\n",
    "$$\\frac{\\partial \\mathcal{L}}{\\partial \\lambda_1} = w^T\\mu-\\hat{\\mu} = 0$$\n",
    "\n",
    "$$\\frac{\\partial \\mathcal{L}}{\\partial \\lambda_2} = w^T\\mathbf I-1 = 0$$"
   ]
  },
  {
   "cell_type": "markdown",
   "id": "3521f470",
   "metadata": {},
   "source": [
    "En realidad, calculamos las carteras eficientes mediante **problemas de optimización** y vamos a resolverlos numéricamente. Vamos a estudiar una introducción a la optimización y a las librerías que existen en Python para resolver este tipo de problemas. Una vez aprendidos los mecanismos de resolución de problemas de optimización que hay en Python, volveremos a calcular más ejemplos de carteras eficientes."
   ]
  },
  {
   "cell_type": "markdown",
   "id": "ced0441d",
   "metadata": {},
   "source": [
    "# NOTAS ADICIONALES"
   ]
  },
  {
   "cell_type": "markdown",
   "id": "1be4bf3a",
   "metadata": {},
   "source": [
    "### Cartera de mínima varianza\n",
    "\n",
    "La cartera de mínima varianza se obtiene solucionando el siguiente problema de optimización:\n",
    "$$\\begin{gather}\n",
    "\\underset{w}{min} \\left(w^T\\Sigma w\\right) \\\\\n",
    "s.t. w^T\\mathbf I=1 \\nonumber\n",
    "\\end{gather}$$\n",
    "\n",
    "Estimamos el Lagranjiano y aplicamos la condición de primer orden\n",
    "\n",
    "$$\\begin{align}\n",
    "\\mathcal{L}(w,\\lambda)&=\\left(w^T\\Sigma w\\right)-\\lambda\\left( w^T\\mathbf I=1\\right) \\\\\n",
    "\\frac{\\partial L}{\\partial w}&=2\\Sigma w- \\lambda \\mathbf I=0 \\\\\n",
    "\\frac{\\partial L}{\\partial \\lambda} &=w^T\\mathbf I-1=0\n",
    "\\end{align} $$\n",
    "\n",
    "El sistema de ecuaciones nos lleva a la siguiente solución:\n",
    "$$w=\\frac{\\Sigma^{-1}\\mathbf I}{\\mathbf I^T\\Sigma^{-1}\\mathbf I}$$"
   ]
  }
 ],
 "metadata": {
  "kernelspec": {
   "display_name": "Python 3 (ipykernel)",
   "language": "python",
   "name": "python3"
  },
  "language_info": {
   "codemirror_mode": {
    "name": "ipython",
    "version": 3
   },
   "file_extension": ".py",
   "mimetype": "text/x-python",
   "name": "python",
   "nbconvert_exporter": "python",
   "pygments_lexer": "ipython3",
   "version": "3.11.5"
  }
 },
 "nbformat": 4,
 "nbformat_minor": 5
}
