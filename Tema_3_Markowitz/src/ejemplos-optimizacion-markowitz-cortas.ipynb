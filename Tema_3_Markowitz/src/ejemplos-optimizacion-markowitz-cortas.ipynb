{
 "cells": [
  {
   "cell_type": "code",
   "execution_count": 1,
   "metadata": {},
   "outputs": [
    {
     "data": {
      "text/html": [
       "<link rel='stylesheet' href='../../design/custom.css'>"
      ],
      "text/plain": [
       "<IPython.core.display.HTML object>"
      ]
     },
     "metadata": {},
     "output_type": "display_data"
    }
   ],
   "source": [
    "from IPython.display import HTML, display\n",
    "css_file_path = \"../../design/custom.css\"\n",
    "styles = \"<link rel='stylesheet' href='%s'>\" % css_file_path\n",
    "display(HTML(styles))"
   ]
  },
  {
   "cell_type": "markdown",
   "metadata": {},
   "source": [
    "# 3.4 $\\quad$ Optimización de carteras con posiciones cortas"
   ]
  },
  {
   "cell_type": "markdown",
   "metadata": {},
   "source": [
    "Una **posición corta** se refiere a una estrategia de inversión donde se vende un activo que no se posee en ese momento con un pacto de recompra en el futuro. El vendedor espera beneficiarse de la caída del precio del activo. Veamos un ejemplo:"
   ]
  },
  {
   "cell_type": "markdown",
   "metadata": {},
   "source": [
    "- `A` toma una posición corta sobre IBM de 500 acciones a `120$`, es decir, recibe  `60.000$` dólares.\n",
    "\n",
    "- El Broker identifica un cliente `B` dispuesto a ser la contraparte.\n",
    "\n",
    "- El cliente `B` entrega los `60.000$`.\n",
    "\n",
    "- `A` se compromete a devolver el valor de las 500 acciones a `B` en julio "
   ]
  },
  {
   "cell_type": "markdown",
   "metadata": {},
   "source": [
    "<img src=\"../imgs/posiciones_cortas_1.jpg\">"
   ]
  },
  {
   "cell_type": "markdown",
   "metadata": {},
   "source": [
    "- En mayo se paga un dividendo de `1$`.\n",
    "\n",
    "- `A` tiene que pagar `500$` al Broker por sus 500 acciones.\n",
    "\n",
    "- El Broker paga al cliente `B` `500$`."
   ]
  },
  {
   "cell_type": "markdown",
   "metadata": {},
   "source": [
    "<img src=\"../imgs/posiciones_cortas_2.jpg\">"
   ]
  },
  {
   "cell_type": "markdown",
   "metadata": {},
   "source": [
    "- En julio, IBM cotiza a `100$`, el cliente `A` cierra su posición corta.\n",
    "\n",
    "- `A` paga al Broker `100 x 500 = 50.000$`.\n",
    "\n",
    "- El Broker paga al  `B` `50.000$`.\n",
    "\n",
    "- Se cierra la posición corta.\n",
    "\n"
   ]
  },
  {
   "cell_type": "markdown",
   "metadata": {},
   "source": [
    "<img src=\"../imgs/posiciones_cortas_3.jpg\">"
   ]
  },
  {
   "cell_type": "markdown",
   "metadata": {},
   "source": [
    "Como resultado de la operación corta obtenemos lo siguiente:"
   ]
  },
  {
   "cell_type": "markdown",
   "metadata": {},
   "source": [
    "<img src=\"../imgs/posiciones_cortas_resultado.jpg\">\n",
    "\n",
    "* Fuente: Hull (2018)"
   ]
  },
  {
   "cell_type": "code",
   "execution_count": 2,
   "metadata": {},
   "outputs": [],
   "source": [
    "import numpy as np\n",
    "import pandas as pd\n",
    "import matplotlib.pyplot as plt\n",
    "import cvxpy as cp\n",
    "import yfinance as yf\n",
    "import seaborn as sns\n",
    "import gurobipy as gp\n",
    "from gurobipy import GRB\n",
    "from scipy.interpolate import interp1d\n",
    "\n",
    "plt.style.use('ggplot')"
   ]
  },
  {
   "cell_type": "code",
   "execution_count": 3,
   "metadata": {},
   "outputs": [
    {
     "name": "stdout",
     "output_type": "stream",
     "text": [
      "[*********************100%%**********************]  26 of 26 completed\n"
     ]
    }
   ],
   "source": [
    "# Date range\n",
    "start = '2015-01-01'\n",
    "end = '2019-12-30'\n",
    "\n",
    "# Assets todos con retornos positivos\n",
    "assets = ['BA', 'BAX', 'BMY', 'CMCSA', 'CNP', 'CPB', 'DE', 'F', 'GE', 'HPQ', \n",
    "        'JCI', 'JPM','KHC', 'LUV', 'MMC', 'MO', 'NI', 'PCAR', 'PSA', 'SEE', \n",
    "        'T', 'TGT', 'TMO','TXT', 'VZ', 'ZION']\n",
    "\n",
    "# Downloading data\n",
    "prices = yf.download(assets, start = start, end = end)['Adj Close']\n",
    "prices.columns = assets"
   ]
  },
  {
   "cell_type": "code",
   "execution_count": 4,
   "metadata": {},
   "outputs": [],
   "source": [
    "#Número de activos\n",
    "num_act = prices.shape[1]\n",
    "returns = np.log(prices / prices.shift(1)).dropna()\n",
    "matriz_cov = returns.cov().to_numpy() # Covariance matrix\n",
    "retornos_esperados = returns.mean().to_numpy() # Column vector expected return"
   ]
  },
  {
   "cell_type": "markdown",
   "metadata": {},
   "source": [
    "En primer lugar, vamos a definir la frontera eficiente de Markowitz sin posiciones cortas. Sin embargo, lo vamos a hacer de otra manera. En lugar de utilizar la aversión al riesgo, vamos a calcular:\n",
    "\n",
    "1. La cartera de mínimo riesgo. Así, vemos el punto inicial de la frontera eficiente.\n",
    "2. El riesgo del activo con máxima rentabilidad. Así, vemos el punto final de la frontera eficiente.\n",
    "2. Modificando el riesgo, vamos calculando carteras con máxima rentabilidad para cada riesgo."
   ]
  },
  {
   "cell_type": "code",
   "execution_count": 5,
   "metadata": {},
   "outputs": [],
   "source": [
    "# 1. Cartera de minimo riesgo\n",
    "\n",
    "pesos = cp.Variable(num_act)\n",
    "riesgo = cp.quad_form(pesos, matriz_cov)\n",
    "ret = retornos_esperados @ pesos\n",
    "objetivo = cp.Minimize(riesgo)\n",
    "\n",
    "# Restricciones\n",
    "constraints = [pesos >= 0,\n",
    "               cp.sum(pesos) == 1\n",
    "               ]\n",
    "\n",
    "prob = cp.Problem(objetivo, constraints)\n",
    "\n",
    "res = prob.solve()\n",
    "\n",
    "min_ret = ret.value\n",
    "min_riesgo = np.sqrt(riesgo.value) # Este es el punto inicial de la frontera eficiente"
   ]
  },
  {
   "cell_type": "code",
   "execution_count": 6,
   "metadata": {},
   "outputs": [],
   "source": [
    "# 2. Riesgo del activo de máxima rentabilidad\n",
    "i_activo = np.argmax(retornos_esperados)\n",
    "max_riesgo = np.sqrt(matriz_cov[i_activo, i_activo])"
   ]
  },
  {
   "cell_type": "code",
   "execution_count": 7,
   "metadata": {},
   "outputs": [
    {
     "name": "stderr",
     "output_type": "stream",
     "text": [
      "/home/disks/ssd1/anaconda3/lib/python3.11/site-packages/cvxpy/problems/problem.py:1403: UserWarning: Solution may be inaccurate. Try another solver, adjusting the solver settings, or solve with verbose=True for more information.\n",
      "  warnings.warn(\n"
     ]
    }
   ],
   "source": [
    "# 3. Vamos a modificar el riesgo dando saltos equidistantes\n",
    "\n",
    "retornos_res = []\n",
    "riesgos_res = []\n",
    "for riesgo_objetivo in np.linspace(min_riesgo, max_riesgo, 200):\n",
    "    pesos = cp.Variable(num_act)\n",
    "    riesgo = cp.quad_form(pesos, matriz_cov)\n",
    "    ret = retornos_esperados @ pesos\n",
    "    objetivo = cp.Maximize(ret)\n",
    "\n",
    "    # Restricciones\n",
    "    constraints = [pesos >= 0,\n",
    "                   cp.sum(pesos) == 1,\n",
    "                   riesgo <= riesgo_objetivo**2\n",
    "                   ]\n",
    "\n",
    "    prob = cp.Problem(objetivo, constraints)\n",
    "\n",
    "    res = prob.solve(\"ECOS\")\n",
    "    retornos_res.append(ret.value)\n",
    "    riesgos_res.append(np.sqrt(riesgo.value))"
   ]
  },
  {
   "cell_type": "code",
   "execution_count": 8,
   "metadata": {},
   "outputs": [
    {
     "data": {
      "image/png": "[encoded data removed]",
      "text/plain": [
       "<Figure size 1400x800 with 1 Axes>"
      ]
     },
     "metadata": {},
     "output_type": "display_data"
    }
   ],
   "source": [
    "# Estableciendo un tamaño y estilo para el gráfico\n",
    "plt.figure(figsize=(14, 8))\n",
    "plt.style.use('ggplot')\n",
    "\n",
    "# Puntos de cada activo\n",
    "plt.scatter(np.sqrt(np.diag(matriz_cov)), retornos_esperados, color='blue', s=50, label='Activos', alpha=0.7)\n",
    "\n",
    "# Añadiendo los nombres de los activos con un desplazamiento\n",
    "desplazamiento_x = 0.0001  # Ajusta este valor según sea necesario\n",
    "desplazamiento_y = 0.00002  # Ajusta este valor según sea necesario\n",
    "\n",
    "for i, asset in enumerate(assets):\n",
    "    plt.text(np.sqrt(matriz_cov[i, i]) + desplazamiento_x, retornos_esperados[i] , asset, fontsize=9)\n",
    "\n",
    "plt.plot(riesgos_res, retornos_res, '-o', color='green')#,  alpha=0.3)   \n",
    "\n",
    "# Añadiendo títulos y etiquetas\n",
    "plt.title('Gráfico Carteras según tolerancia al riesgo', fontsize=16)\n",
    "plt.xlabel('Volatilidad (Desviación Estándar)', fontsize=12)\n",
    "plt.ylabel('Retorno Esperado', fontsize=12)\n",
    "\n",
    "# Añadiendo leyenda con mejor posición\n",
    "#plt.legend(loc='best')\n",
    "\n",
    "# Mostrando la cuadrícula para mejor lectura\n",
    "plt.grid(True, linestyle='--', alpha=0.5)\n",
    "\n",
    "# Mostrar el gráfico\n",
    "plt.show()\n"
   ]
  },
  {
   "cell_type": "markdown",
   "metadata": {},
   "source": [
    "## 1. Carteras con posiciones cortas"
   ]
  },
  {
   "cell_type": "markdown",
   "metadata": {},
   "source": [
    "### Carteras con posiciones cortas pero con límite de apalancamiento\n",
    "\n",
    "El objetivo es calcular la cartera de máxima rentabilidad con un máximo en posiciones cortas, es decir, definiendo un límite máximo de apalancamiento (posición corta máxima). Primero, veamos las rentabilidades de cada uno de los activos:"
   ]
  },
  {
   "cell_type": "code",
   "execution_count": null,
   "metadata": {},
   "outputs": [],
   "source": [
    "plt.figure(figsize=(15, 4))\n",
    "\n",
    "plt.bar(range(len(retornos_esperados)), retornos_esperados, color='blue', alpha=0.7)\n",
    "\n",
    "# Añadiendo los nombres de los activos como etiquetas en el eje x\n",
    "plt.xticks(range(len(assets)), assets, rotation=45)\n",
    "\n",
    "plt.title('Rentabilidad Esperada de los Activos', fontsize=16)"
   ]
  },
  {
   "cell_type": "markdown",
   "metadata": {},
   "source": [
    "### Ejercicio 1"
   ]
  },
  {
   "cell_type": "markdown",
   "metadata": {},
   "source": [
    "Como vemos, nuestra cartera dispone de activos que han tenido unos retornos esperados negativos. Si **nos ponemos en corto**, es decir, permitimos pesos negativos, al multiplicarlos por los activos con rentabilidad negativa, esto sumará al resultado final. Vamos a indicar que el límite de apalancamiento sea del `450%`, por tanto, la suma total de dinero invertido no debe superar el 500%."
   ]
  },
  {
   "cell_type": "code",
   "execution_count": null,
   "metadata": {},
   "outputs": [],
   "source": [
    "# TO DO"
   ]
  },
  {
   "cell_type": "markdown",
   "metadata": {},
   "source": [
    "Vamos a pintar los pesos que ha calculado el optimizador permitiendo posiciones en corto junto a los rendimientos que hemos visto previamente:"
   ]
  },
  {
   "cell_type": "code",
   "execution_count": null,
   "metadata": {
    "scrolled": true
   },
   "outputs": [],
   "source": [
    "fig, ax = plt.subplots(figsize=(15, 4))\n",
    "\n",
    "ax.bar(range(len(retornos_esperados)), retornos_esperados, color='blue', alpha=0.7)\n",
    "ax2 = ax.twinx()\n",
    "ax2.grid(False)\n",
    "ax2.bar(range(num_act), pesos.value, width=0.5)\n",
    "\n",
    "# Añadiendo los nombres de los activos como etiquetas en el eje x\n",
    "ax.set_xticks(range(len(assets)), assets, rotation=45)\n",
    "ax.set_yticks(np.linspace(-1e-3, 1e-3, 6), np.around(np.linspace(-1e-3, 1e-3, 6), decimals=4), color=\"blue\")\n",
    "ax2.set_yticks(np.linspace(-4.0, 4.0, 6), np.around(np.linspace(-4.0, 4.0, 6), decimals=4), color=\"red\")\n",
    "\n",
    "ax.set_title('Rentabilidad Esperada de los Activos y Pesos calculados', fontsize=16)\n",
    "\n",
    "ax.set_ylim(-1e-3, 1e-3)\n",
    "ax2.set_ylim(-4.0, 4.0)\n",
    "plt.show()"
   ]
  },
  {
   "cell_type": "markdown",
   "metadata": {},
   "source": [
    "Como se ve en la figura, al no restringir el riesgo de la cartera, el optimizador decide coger el activo con máxima rentabilidad positiva `BA` y lo combina con el que tiene máxima rentabilidad negativa `GE`."
   ]
  },
  {
   "cell_type": "code",
   "execution_count": null,
   "metadata": {},
   "outputs": [],
   "source": [
    "pesos_ajustados = np.array([np.round(x, 3) if np.abs(x) > 10**-4 else 0  for x in pesos.value])\n",
    "\n",
    "activos_filtrados = [asset for i, asset in enumerate(assets) if pesos_ajustados[i] > 0]\n",
    "pesos_filtrados = [x for x in pesos_ajustados if x != 0]"
   ]
  },
  {
   "cell_type": "code",
   "execution_count": null,
   "metadata": {},
   "outputs": [],
   "source": [
    "print(f'Los activos que forman parte de la cartera son {np.array(assets)[pesos_ajustados != 0].tolist()}')\n",
    "\n",
    "print(f'Los pesos que hacen que la cartera tenga el máximo retorno son: {pesos_ajustados[pesos_ajustados != 0].round(2)}')\n",
    "\n",
    "print(f'Los retornos de los activos que forman parte de la cartera son: {retornos_esperados[pesos_ajustados != 0].round(4)}')"
   ]
  },
  {
   "cell_type": "markdown",
   "metadata": {},
   "source": [
    "Vamos a ver dónde está la cartera que acabamos de generar:"
   ]
  },
  {
   "cell_type": "code",
   "execution_count": null,
   "metadata": {},
   "outputs": [],
   "source": [
    "#Estableciendo un tamaño y estilo para el gráfico\n",
    "plt.figure(figsize=(10, 6))\n",
    "\n",
    "# Puntos de cada activo\n",
    "plt.scatter(np.sqrt(np.diag(matriz_cov)), retornos_esperados, color='blue', s=50, alpha=0.7)\n",
    "\n",
    "\n",
    "# Añadiendo los nombres de los activos con un desplazamiento\n",
    "desplazamiento_x = 0.0001  # Ajusta este valor según sea necesario\n",
    "desplazamiento_y = 0.00003  # Ajusta este valor según sea necesario\n",
    "\n",
    "for i, asset in enumerate(assets):\n",
    "    plt.text(np.sqrt(matriz_cov[i, i]) + desplazamiento_x, retornos_esperados[i] , asset, fontsize=9)\n",
    "\n",
    "\n",
    "\n",
    "plt.scatter(np.sqrt(riesgo.value), resultado, color='red', s=100, marker='o')\n",
    "plt.text(np.sqrt(riesgo.value) - 28*desplazamiento_x, resultado - desplazamiento_y, 'Cartera Calculada', fontsize=11, color='red')\n",
    "\n",
    "plt.scatter(riesgos_res, retornos_res, color='green', s=20, marker='o')\n",
    "\n",
    "\n",
    "# Añadiendo títulos y etiquetas\n",
    "plt.title('Gráfico Carteras con posiciones cortas', fontsize=16)\n",
    "plt.xlabel('Volatilidad (Desviación Estándar)', fontsize=12)\n",
    "plt.ylabel('Retorno Esperado', fontsize=12)\n",
    "\n",
    "# Añadiendo leyenda con mejor posición\n",
    "#plt.legend(loc='best')\n",
    "\n",
    "# Mostrando la cuadrícula para mejor lectura\n",
    "plt.grid(True, linestyle='--', alpha=0.5)\n",
    "\n",
    "# Mostrar el gráfico\n",
    "plt.show()"
   ]
  },
  {
   "cell_type": "markdown",
   "metadata": {},
   "source": [
    "---"
   ]
  },
  {
   "cell_type": "markdown",
   "metadata": {},
   "source": [
    "### Cartera de *máxima rentabilidad según tolerancia al riesgo* variando el límite de endeudamiento en corto permitido"
   ]
  },
  {
   "cell_type": "code",
   "execution_count": null,
   "metadata": {},
   "outputs": [],
   "source": [
    "cortas_max = [1.0, 1.3, 1.5, 1.7, 2.0] # Máximo apalancamiento permitido\n",
    "resultados_df = pd.DataFrame()\n",
    "num_sim = 100"
   ]
  },
  {
   "cell_type": "code",
   "execution_count": null,
   "metadata": {},
   "outputs": [],
   "source": [
    "for deuda in cortas_max: #\n",
    "    riesgos_res_short = np.zeros(num_sim) # Riesgos\n",
    "    retornos_res_short = np.zeros(num_sim) # Retornos\n",
    "    gamma_vals = np.logspace(-2, 3, num=num_sim) # Valores de gamma que es la adversión al riesgo\n",
    "\n",
    "    for i in range(num_sim): \n",
    "        pesos = cp.Variable(num_act)\n",
    "        gamma = cp.Parameter(nonneg=True)\n",
    "        gamma.value = gamma_vals[i]\n",
    "        \n",
    "        ret = retornos_esperados.T @ pesos\n",
    "        riesgo = cp.quad_form(pesos, matriz_cov)\n",
    "        objetivo = cp.Maximize(ret - gamma * riesgo)\n",
    "\n",
    "        constraints = [cp.sum(pesos) == 1,\n",
    "                       cp.sum(cp.abs(pesos)) <= deuda]\n",
    "        prob = cp.Problem(objetivo, constraints)\n",
    "        prob.solve()\n",
    "\n",
    "        # Verificar el estado del problema\n",
    "        if prob.status not in [\"infeasible\", \"unbounded\"]:\n",
    "            retornos_res_short[i] = ret.value\n",
    "            riesgos_res_short[i] = cp.sqrt(riesgo).value\n",
    "        else:\n",
    "            print(f\"Problema no resuelto para gamma={gamma.value}: {prob.status}\")\n",
    "\n",
    "    resultados_df[f'riesgo_{deuda}'] = riesgos_res_short\n",
    "    resultados_df[f'retorno_{deuda}'] = retornos_res_short"
   ]
  },
  {
   "cell_type": "code",
   "execution_count": null,
   "metadata": {},
   "outputs": [],
   "source": [
    "plt.figure(figsize=(10, 6))\n",
    "plt.style.use('ggplot')\n",
    "\n",
    "# Puntos de cada activo\n",
    "plt.scatter(np.sqrt(np.diag(matriz_cov)), retornos_esperados, color='blue', s=50, alpha=0.7)\n",
    "\n",
    "# Añadiendo los nombres de los activos con un desplazamiento\n",
    "desplazamiento_x = 0.0001  # Ajusta este valor según sea necesario\n",
    "desplazamiento_y = 0.00003  # Ajusta este valor según sea necesario\n",
    "\n",
    "for i, asset in enumerate(assets):\n",
    "    plt.text(np.sqrt(matriz_cov[i, i]) + desplazamiento_x, retornos_esperados[i] , asset, fontsize=9)\n",
    "\n",
    "for deuda in cortas_max:\n",
    "    plt.plot(resultados_df[f'riesgo_{deuda}'], resultados_df[f'retorno_{deuda}'], label=f'Límite pos. cortas: {deuda}')\n",
    "\n",
    "plt.xlabel('Riesgo $\\sigma$')\n",
    "plt.ylabel('Retorno esperado $\\mu$')\n",
    "plt.title('Frontera Eficiente variando el límite de posiciones cortas')\n",
    "plt.legend(loc='best')\n",
    "plt.show()"
   ]
  },
  {
   "cell_type": "markdown",
   "metadata": {},
   "source": [
    "---"
   ]
  },
  {
   "cell_type": "markdown",
   "metadata": {},
   "source": [
    "### Ejercicio 2: \n",
    "\n",
    "Calcula la cartera de *máxima rentabilidad* limitando el riesgo `0.014` y la posición en corto máxima en un activo al `20%`."
   ]
  },
  {
   "cell_type": "code",
   "execution_count": null,
   "metadata": {},
   "outputs": [],
   "source": [
    "#TO-DO"
   ]
  },
  {
   "cell_type": "code",
   "execution_count": null,
   "metadata": {},
   "outputs": [],
   "source": [
    "# Guardamos la cartera calculada para luego pintarla\n",
    "\n",
    "max_cortos = np.array([np.sqrt(riesgo.value), ret.value])\n",
    "max_cortos"
   ]
  },
  {
   "cell_type": "code",
   "execution_count": null,
   "metadata": {},
   "outputs": [],
   "source": [
    "fig, ax = plt.subplots(figsize=(15, 4))\n",
    "\n",
    "ax.bar(range(len(retornos_esperados)), retornos_esperados, color='blue', alpha=0.7)\n",
    "ax2 = ax.twinx()\n",
    "ax2.grid(False)\n",
    "ax2.bar(range(num_act), pesos.value, width=0.5)\n",
    "\n",
    "# Añadiendo los nombres de los activos como etiquetas en el eje x\n",
    "ax.set_xticks(range(len(assets)), assets, rotation=45)\n",
    "ax.set_yticks(np.linspace(-1e-3, 1e-3, 6), np.around(np.linspace(-1e-3, 1e-3, 6), decimals=4), color=\"blue\")\n",
    "ax.axhline(0.0, color=\"black\")\n",
    "ax2.set_yticks(np.linspace(-0.7, 0.7, 6), np.around(np.linspace(-0.7, 0.7, 6), decimals=4), color=\"red\")\n",
    "ax2.axhline(-0.2)\n",
    "\n",
    "ax.set_title('Rentabilidad Esperada de los Activos y Pesos calculados', fontsize=16)\n",
    "\n",
    "ax.set_ylim(-1e-3, 1e-3)\n",
    "ax2.set_ylim(-0.7, 0.7)\n",
    "plt.show()"
   ]
  },
  {
   "cell_type": "markdown",
   "metadata": {},
   "source": [
    "Calculemos ahora la **cartera equivalente pero sin posiciones cortas** para poder compararlas."
   ]
  },
  {
   "cell_type": "code",
   "execution_count": null,
   "metadata": {},
   "outputs": [],
   "source": [
    "#TO-DO\n"
   ]
  },
  {
   "cell_type": "code",
   "execution_count": null,
   "metadata": {},
   "outputs": [],
   "source": [
    "# Guardamos la cartera calculada para luego pintarla\n",
    "\n",
    "max_sin_cortos = np.array([np.sqrt(riesgo.value), ret.value])\n",
    "max_sin_cortos"
   ]
  },
  {
   "cell_type": "code",
   "execution_count": null,
   "metadata": {},
   "outputs": [],
   "source": [
    "#ponemos los pesos a 0 si son muy pequeños (menores que 10**-4)\n",
    "\n",
    "pesos_ajustados = np.array([np.round(x, 3) if np.abs(x) > 10**-4 else 0  for x in pesos.value])\n",
    "\n",
    "activos_filtrados = [asset for i, asset in enumerate(assets) if pesos_ajustados[i] > 0]\n",
    "pesos_filtrados = [x for x in pesos_ajustados if x != 0]"
   ]
  },
  {
   "cell_type": "code",
   "execution_count": null,
   "metadata": {},
   "outputs": [],
   "source": [
    "print(f'Los activos que forman parte de la cartera son {np.array(assets)[pesos_ajustados != 0].tolist()}')\n",
    "\n",
    "print(f'Los pesos que hacen que la cartera tenga el máximo retorno son: {pesos_ajustados[pesos_ajustados != 0].round(2)}')"
   ]
  },
  {
   "cell_type": "code",
   "execution_count": null,
   "metadata": {},
   "outputs": [],
   "source": [
    "#Estableciendo un tamaño y estilo para el gráfico\n",
    "plt.figure(figsize=(10, 6))\n",
    "plt.style.use('ggplot')\n",
    "\n",
    "# Puntos de cada activo\n",
    "plt.scatter(np.sqrt(np.diag(matriz_cov)), retornos_esperados, color='blue', s=50, alpha=0.7)\n",
    "\n",
    "\n",
    "# Añadiendo los nombres de los activos con un desplazamiento\n",
    "desplazamiento_x = 0.0001  # Ajusta este valor según sea necesario\n",
    "desplazamiento_y = 0.00003  # Ajusta este valor según sea necesario\n",
    "\n",
    "for i, asset in enumerate(assets):\n",
    "    plt.text(np.sqrt(matriz_cov[i, i]) + desplazamiento_x, retornos_esperados[i] , asset, fontsize=9)\n",
    "\n",
    "\n",
    "\n",
    "plt.scatter(max_cortos[0], max_cortos[1], color='red', s=100, marker='o')\n",
    "plt.text(max_cortos[0] + 2*desplazamiento_x, max_cortos[1] - desplazamiento_y, 'Cartera con cortos', fontsize=11, color='red')\n",
    "\n",
    "plt.scatter(max_sin_cortos[0], max_sin_cortos[1], color='red', s=100, marker='o')\n",
    "plt.text(max_sin_cortos[0] , max_sin_cortos[1] + 3 * desplazamiento_y, 'Cartera sin cortos', fontsize=11, color='red')\n",
    "\n",
    "plt.scatter(riesgos_res, retornos_res, color='green', s=20, marker='o')\n",
    "\n",
    "\n",
    "# Añadiendo títulos y etiquetas\n",
    "plt.title('Gráfico Cartera limitando riesgo y posición corta en un solo activo', fontsize=16)\n",
    "plt.xlabel('Volatilidad (Desviación Estándar)', fontsize=12)\n",
    "plt.ylabel('Retorno Esperado', fontsize=12)\n",
    "\n",
    "# Añadiendo leyenda con mejor posición\n",
    "#plt.legend(loc='best')\n",
    "\n",
    "# Mostrando la cuadrícula para mejor lectura\n",
    "plt.grid(True, linestyle='--', alpha=0.5)\n",
    "\n",
    "# Mostrar el gráfico\n",
    "plt.show()"
   ]
  },
  {
   "cell_type": "code",
   "execution_count": null,
   "metadata": {},
   "outputs": [],
   "source": []
  }
 ],
 "metadata": {
  "kernelspec": {
   "display_name": "Python 3 (ipykernel)",
   "language": "python",
   "name": "python3"
  },
  "language_info": {
   "codemirror_mode": {
    "name": "ipython",
    "version": 3
   },
   "file_extension": ".py",
   "mimetype": "text/x-python",
   "name": "python",
   "nbconvert_exporter": "python",
   "pygments_lexer": "ipython3",
   "version": "3.11.5"
  }
 },
 "nbformat": 4,
 "nbformat_minor": 2
}
