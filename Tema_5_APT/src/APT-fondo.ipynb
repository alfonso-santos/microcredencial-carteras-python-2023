{
 "cells": [
  {
   "cell_type": "markdown",
   "metadata": {},
   "source": [
    "## Análisis de un fondo de inversión"
   ]
  },
  {
   "cell_type": "markdown",
   "metadata": {},
   "source": [
    "Un fondo de inversión es un vehículo financiero que reúne capital de varios inversores para invertir colectivamente en una diversa cartera de activos, como acciones, bonos, o instrumentos del mercado monetario, gestionado por profesionales.\n",
    "\n",
    "Las características específicas de cómo y en qué invierte el fondo, incluyendo su estrategia de inversión, objetivos, riesgo, y perfil de retorno, se definen detalladamente en su folleto. Este documento es esencial para que los inversores entiendan la naturaleza del fondo, sus metas y cómo busca alcanzarlas, proporcionando la transparencia necesaria para tomar decisiones informadas de inversión."
   ]
  },
  {
   "cell_type": "markdown",
   "metadata": {},
   "source": [
    "Las características de los fondos de inversión se pueden explorar detalladamente en la web de Morningstar https://www.morningstar.com/funds , una plataforma reconocida por ofrecer análisis y datos financieros.\n",
    "\n",
    "\n",
    "\n",
    "Vamos a usar, por ejemplo el fondo [JPMorgan Funds - US Small Cap Growth Fund A (acc) - EUR](https://www.morningstar.es/es/funds/snapshot/snapshot.aspx?id=F000002ETE)"
   ]
  },
  {
   "cell_type": "markdown",
   "metadata": {},
   "source": [
    "En Morningstar, se destaca el uso del \"Style Box\", una herramienta visual que clasifica los fondos de inversión según su tamaño (capitalización de mercado) y estilo (valor, mezcla, crecimiento), proporcionando una comprensión rápida de la naturaleza de la inversión del fondo.\n",
    "\n",
    "<p align=\"center\">\n",
    "  <img src=\"../imgs/descripcion fondo.PNG\" alt=\"Fama French Web\" style=\"max-width:70%;\">\n",
    "</p>\n",
    "\n",
    "Además, Morningstar ofrece información sobre las industrias en las que invierte cada fondo, permitiendo a los inversores analizar la diversificación sectorial y la alineación del fondo con sus preferencias o expectativas de inversión. Esta información es crucial para evaluar la adecuación de un fondo a una estrategia de inversión particular."
   ]
  },
  {
   "cell_type": "markdown",
   "metadata": {},
   "source": [
    "La web de Morininstar también nos da los **10 activos en los que más invierte el fondo**. Podemos ver si alguno de ellos explica los retornos del fondo."
   ]
  },
  {
   "cell_type": "markdown",
   "metadata": {},
   "source": [
    "<p align=\"center\">\n",
    "  <img src=\"../imgs/activos_fondo.PNG\" alt=\"Fama French Web\" style=\"max-width:30%;\">\n",
    "</p>"
   ]
  },
  {
   "cell_type": "markdown",
   "metadata": {},
   "source": [
    "1- Cargamos los datos históricos del fondo de inversión.\n",
    "\n",
    "2- Cargamos los factores Fama-French.\n",
    "\n",
    "3- Creamos el dataframe con los factores y los retornos del fondo\n",
    "\n",
    "4- Hacemos la regresión lineal entre los retornos del fondo y los factores. ANALIZAMOS LOS RESULTADOS\n",
    "\n",
    "5- Cargamos los factores por industria.\n",
    "\n",
    "6- Creamos el dataframe con los factores y los retornos del fondo\n",
    "\n",
    "7- Hacemos la regresión lineal entre los retornos del fondo y los factores. ANALIZAMOS LOS RESULTADOS\n",
    "\n",
    "8- Seleccionamos alguno de los activos que componen el fondo y nos bajamos los precios de Yahoo Finance\n",
    "\n",
    "9- Creamos el dataframe con los retornos de los activos  y los retornos del fondo\n",
    "\n",
    "10- Hacemos la regresión lineal entre los retornos del fondo y los activos. ANALIZAMOS LOS RESULTADOS\n",
    "\n",
    "\n",
    "    \n",
    "\n"
   ]
  },
  {
   "cell_type": "code",
   "execution_count": 31,
   "metadata": {},
   "outputs": [],
   "source": [
    "# Importamos las librerías"
   ]
  },
  {
   "cell_type": "code",
   "execution_count": 1,
   "metadata": {},
   "outputs": [],
   "source": [
    "# 1- Cargamos los datos del fondo\n",
    "\n",
    "filepath = 'https://raw.githubusercontent.com/alfonso-santos/microcredencial-carteras-python-2023/main/Tema_5_APT/data/Datos%20hist%C3%B3ricos%200P0000IVJL.xlsx'\n",
    "\n"
   ]
  },
  {
   "cell_type": "code",
   "execution_count": 2,
   "metadata": {},
   "outputs": [],
   "source": [
    "# 2- Cargamos los datos de los factores de Fama-French\n",
    "\n",
    "filepath = 'https://raw.githubusercontent.com/alfonso-santos/microcredencial-carteras-python-2023/main/Tema_5_APT/data/F-F_Research_Data_Factors_monthly.csv'\n",
    "\n"
   ]
  },
  {
   "cell_type": "code",
   "execution_count": 3,
   "metadata": {},
   "outputs": [],
   "source": [
    "# 3- Creamos el dataframe con os factores y los retornos del fondo\n",
    "\n"
   ]
  },
  {
   "cell_type": "code",
   "execution_count": 5,
   "metadata": {},
   "outputs": [],
   "source": [
    "# 4- Hacemos la regresión lineal entre los retornos del fondo y los factores. ANALIZAMOS LOS REUSLTADOS\n",
    "\n"
   ]
  },
  {
   "cell_type": "code",
   "execution_count": 6,
   "metadata": {},
   "outputs": [],
   "source": [
    "# 5- Cargamos los factores por industria\n",
    "\n",
    "filepath = 'https://raw.githubusercontent.com/alfonso-santos/microcredencial-carteras-python-2023/main/Tema_5_APT/data/5_Industry_Portfolios.CSV'\n",
    "\n"
   ]
  },
  {
   "cell_type": "code",
   "execution_count": 7,
   "metadata": {},
   "outputs": [],
   "source": [
    "# 6- eneramos un df con los factores y los retornos del fondo\n"
   ]
  },
  {
   "cell_type": "code",
   "execution_count": 8,
   "metadata": {},
   "outputs": [],
   "source": [
    "# 7- Hacemos la regresión entre los retornos del fondo y las industrias. ANALIZAMOS LOS REUSLTADOS\n"
   ]
  },
  {
   "cell_type": "code",
   "execution_count": 9,
   "metadata": {},
   "outputs": [],
   "source": [
    "# 8- Elegimos algunos activos del fondo y nos bajamos los precios de Yahoo Finance\n",
    "\n",
    "# Diccionario con los activos elegidos\n",
    "activos = { 'Super Micro': 'SMCI', 'e.l.f. Beauty': '0EF.F', 'Comfort Systems USA': 'FIX', 'AAON': 'AAON', 'Natera': 'NTRA'}\n",
    "\n"
   ]
  },
  {
   "cell_type": "code",
   "execution_count": 10,
   "metadata": {},
   "outputs": [],
   "source": [
    "# 9- Creamos el dataframe con los retornos de los activos  y los retornos del fondo"
   ]
  },
  {
   "cell_type": "code",
   "execution_count": 11,
   "metadata": {},
   "outputs": [],
   "source": [
    "# 10- Hacemos la regresión lineal entre los retornos del fondo y los activos. ANALIZAMOS LOS REUSLTADOS"
   ]
  }
 ],
 "metadata": {
  "kernelspec": {
   "display_name": "Python 3",
   "language": "python",
   "name": "python3"
  },
  "language_info": {
   "codemirror_mode": {
    "name": "ipython",
    "version": 3
   },
   "file_extension": ".py",
   "mimetype": "text/x-python",
   "name": "python",
   "nbconvert_exporter": "python",
   "pygments_lexer": "ipython3",
   "version": "3.11.6"
  }
 },
 "nbformat": 4,
 "nbformat_minor": 2
}
