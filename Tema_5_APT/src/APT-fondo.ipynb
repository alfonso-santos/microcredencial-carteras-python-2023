{
 "cells": [
  {
   "cell_type": "markdown",
   "metadata": {},
   "source": [
    "## Análisis de un fondo de inversión"
   ]
  },
  {
   "cell_type": "markdown",
   "metadata": {},
   "source": [
    "Un fondo de inversión es un vehículo financiero que reúne capital de varios inversores para invertir colectivamente en una diversa cartera de activos, como acciones, bonos, o instrumentos del mercado monetario, gestionado por profesionales.\n",
    "\n",
    "Las características específicas de cómo y en qué invierte el fondo, incluyendo su estrategia de inversión, objetivos, riesgo, y perfil de retorno, se definen detalladamente en su folleto. Este documento es esencial para que los inversores entiendan la naturaleza del fondo, sus metas y cómo busca alcanzarlas, proporcionando la transparencia necesaria para tomar decisiones informadas de inversión."
   ]
  },
  {
   "cell_type": "markdown",
   "metadata": {},
   "source": [
    "Las características de los fondos de inversión se pueden explorar detalladamente en la web de Morningstar https://www.morningstar.com/funds , una plataforma reconocida por ofrecer análisis y datos financieros.\n",
    "\n",
    "\n",
    "\n",
    "Vamos a usar, por ejemplo el fondo [JPMorgan Funds - US Small Cap Growth Fund A (acc) - EUR](https://www.morningstar.es/es/funds/snapshot/snapshot.aspx?id=F000002ETE)"
   ]
  },
  {
   "cell_type": "markdown",
   "metadata": {},
   "source": [
    "En Morningstar, se destaca el uso del \"Style Box\", una herramienta visual que clasifica los fondos de inversión según su tamaño (capitalización de mercado) y estilo (valor, mezcla, crecimiento), proporcionando una comprensión rápida de la naturaleza de la inversión del fondo.\n",
    "\n",
    "<p align=\"center\">\n",
    "  <img src=\"../imgs/descripcion fondo.PNG\" alt=\"Fama French Web\" style=\"max-width:70%;\">\n",
    "</p>\n",
    "\n",
    "Además, Morningstar ofrece información sobre las industrias en las que invierte cada fondo, permitiendo a los inversores analizar la diversificación sectorial y la alineación del fondo con sus preferencias o expectativas de inversión. Esta información es crucial para evaluar la adecuación de un fondo a una estrategia de inversión particular."
   ]
  },
  {
   "cell_type": "markdown",
   "metadata": {},
   "source": [
    "La web de Morininstar también nos da los **10 activos en los que más invierte el fondo**. Podemos ver si alguno de ellos explica los retornos del fondo."
   ]
  },
  {
   "cell_type": "markdown",
   "metadata": {},
   "source": [
    "<p align=\"center\">\n",
    "  <img src=\"../imgs/activos_fondo.PNG\" alt=\"Fama French Web\" style=\"max-width:30%;\">\n",
    "</p>"
   ]
  },
  {
   "cell_type": "markdown",
   "metadata": {},
   "source": [
    "1- Cargamos los datos históricos del fondo de inversión de.\n",
    "    'https://raw.githubusercontent.com/alfonso-santos/microcredencial-carteras-python-2023/main/Tema_5_APT/data/Datos%20hist%C3%B3ricos%200P0000IVJL.xlsx'\n",
    "\n",
    "2- Cargamos los factores Fama-French de:\n",
    "    'https://raw.githubusercontent.com/alfonso-santos/microcredencial-carteras-python-2023/main/Tema_5_APT/data/F-F_Research_Data_Factors_monthly.csv'\n",
    "\n",
    "3- Creamos el dataframe con los factores y los retornos del fondo\n",
    "\n",
    "4- Hacemos la regresión lineal entre los retornos del fondo y los factores. ANALIZAMOS LOS REUSLTADOS\n",
    "\n",
    "5- Cargamos los factores por industria de:\n",
    "    'https://raw.githubusercontent.com/alfonso-santos/microcredencial-carteras-python-2023/main/Tema_5_APT/data/5_Industry_Portfolios.CSV'\n",
    "\n",
    "6- Creamos el dataframe con los factores y los retornos del fondo\n",
    "\n",
    "7- Hacemos la regresión lineal entre los retornos del fondo y los factores. ANALIZAMOS LOS REUSLTADOS\n",
    "\n",
    "8- Seleccionamos alguno de los activos que componen el fondo y nos bajamos los precios de Yahoo Finance\n",
    "\n",
    "9- Creamos el dataframe con los retornos de los activos  y los retornos del fondo\n",
    "\n",
    "10- Hacemos la regresión lineal entre los retornos del fondo y los activos. ANALIZAMOS LOS REUSLTADOS\n",
    "\n",
    "\n",
    "    \n",
    "\n"
   ]
  },
  {
   "cell_type": "code",
   "execution_count": 31,
   "metadata": {},
   "outputs": [],
   "source": [
    "# Importamos las librerías"
   ]
  },
  {
   "cell_type": "code",
   "execution_count": 1,
   "metadata": {},
   "outputs": [],
   "source": [
    "# 1- Cargamos los datos del fondo\n",
    "\n",
    "filepath = 'https://raw.githubusercontent.com/alfonso-santos/microcredencial-carteras-python-2023/main/Tema_5_APT/data/Datos%20hist%C3%B3ricos%200P0000IVJL.xlsx'\n",
    "\n"
   ]
  },
  {
   "cell_type": "code",
   "execution_count": 2,
   "metadata": {},
   "outputs": [],
   "source": [
    "# 2- Cargamos los datos de los factores de Fama-French\n",
    "\n",
    "filepath = 'https://raw.githubusercontent.com/alfonso-santos/microcredencial-carteras-python-2023/main/Tema_5_APT/data/F-F_Research_Data_Factors_monthly.csv'\n",
    "\n"
   ]
  },
  {
   "cell_type": "code",
   "execution_count": 3,
   "metadata": {},
   "outputs": [],
   "source": [
    "# 3- Creamos el dataframe con os factores y los retornos del fondo\n",
    "\n"
   ]
  },
  {
   "cell_type": "code",
   "execution_count": 5,
   "metadata": {},
   "outputs": [],
   "source": [
    "# 4- Hacemos la regresión lineal entre los retornos del fondo y los factores. ANALIZAMOS LOS REUSLTADOS\n",
    "\n"
   ]
  },
  {
   "cell_type": "code",
   "execution_count": 6,
   "metadata": {},
   "outputs": [],
   "source": [
    "# 5- Cargamos los factores por industria\n",
    "\n",
    "filepath = 'https://raw.githubusercontent.com/alfonso-santos/microcredencial-carteras-python-2023/main/Tema_5_APT/data/5_Industry_Portfolios.CSV'\n",
    "\n"
   ]
  },
  {
   "cell_type": "code",
   "execution_count": 7,
   "metadata": {},
   "outputs": [],
   "source": [
    "# 6- eneramos un df con los factores y los retornos del fondo\n"
   ]
  },
  {
   "cell_type": "code",
   "execution_count": 8,
   "metadata": {},
   "outputs": [],
   "source": [
    "# 7- Hacemos la regresión entre los retornos del fondo y las industrias. ANALIZAMOS LOS REUSLTADOS\n"
   ]
  },
  {
   "cell_type": "markdown",
   "metadata": {},
   "source": [
    "Elegimos unos cuántos activos, nos bajamos datos de ellos y hacemos una regresión con los retornos del fondo"
   ]
  },
  {
   "cell_type": "code",
   "execution_count": 9,
   "metadata": {},
   "outputs": [],
   "source": [
    "# 8- Elegimos algunos activos del fondo y nos bajamos los precios de Yahoo Finance\n",
    "\n",
    "# Diccionario con los activos elegidos\n",
    "activos = { 'Super Micro': 'SMCI', 'e.l.f. Beauty': '0EF.F', 'Comfort Systems USA': 'FIX', 'AAON': 'AAON', 'Natera': 'NTRA'}\n",
    "\n"
   ]
  },
  {
   "cell_type": "code",
   "execution_count": 10,
   "metadata": {},
   "outputs": [],
   "source": [
    "# 9- Creamos el dataframe con los retornos de los activos  y los retornos del fondo"
   ]
  },
  {
   "cell_type": "code",
   "execution_count": 41,
   "metadata": {},
   "outputs": [
    {
     "name": "stdout",
     "output_type": "stream",
     "text": [
      "                            OLS Regression Results                            \n",
      "==============================================================================\n",
      "Dep. Variable:                      y   R-squared:                       0.445\n",
      "Model:                            OLS   Adj. R-squared:                  0.394\n",
      "Method:                 Least Squares   F-statistic:                     8.659\n",
      "Date:                Tue, 09 Apr 2024   Prob (F-statistic):           4.47e-06\n",
      "Time:                        14:30:18   Log-Likelihood:                 90.530\n",
      "No. Observations:                  60   AIC:                            -169.1\n",
      "Df Residuals:                      54   BIC:                            -156.5\n",
      "Df Model:                           5                                         \n",
      "Covariance Type:            nonrobust                                         \n",
      "==============================================================================\n",
      "                 coef    std err          t      P>|t|      [0.025      0.975]\n",
      "------------------------------------------------------------------------------\n",
      "const         -0.0100      0.008     -1.299      0.199      -0.025       0.005\n",
      "SMCI           0.0593      0.053      1.111      0.271      -0.048       0.166\n",
      "0EF.F          0.1755      0.062      2.825      0.007       0.051       0.300\n",
      "FIX            0.0836      0.089      0.940      0.351      -0.095       0.262\n",
      "AAON           0.0498      0.104      0.480      0.633      -0.158       0.258\n",
      "NTRA           0.1010      0.054      1.876      0.066      -0.007       0.209\n",
      "==============================================================================\n",
      "Omnibus:                        1.403   Durbin-Watson:                   1.883\n",
      "Prob(Omnibus):                  0.496   Jarque-Bera (JB):                1.093\n",
      "Skew:                           0.331   Prob(JB):                        0.579\n",
      "Kurtosis:                       2.983   Cond. No.                         15.9\n",
      "==============================================================================\n",
      "\n",
      "Notes:\n",
      "[1] Standard Errors assume that the covariance matrix of the errors is correctly specified.\n"
     ]
    }
   ],
   "source": [
    "# 10- Hacemos la regresión lineal entre los retornos del fondo y los activos. ANALIZAMOS LOS REUSLTADOS"
   ]
  }
 ],
 "metadata": {
  "kernelspec": {
   "display_name": "Python 3",
   "language": "python",
   "name": "python3"
  },
  "language_info": {
   "codemirror_mode": {
    "name": "ipython",
    "version": 3
   },
   "file_extension": ".py",
   "mimetype": "text/x-python",
   "name": "python",
   "nbconvert_exporter": "python",
   "pygments_lexer": "ipython3",
   "version": "3.11.6"
  }
 },
 "nbformat": 4,
 "nbformat_minor": 2
}
