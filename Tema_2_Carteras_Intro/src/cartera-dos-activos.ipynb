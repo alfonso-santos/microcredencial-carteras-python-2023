{
 "cells": [
  {
   "cell_type": "code",
   "execution_count": 17,
   "metadata": {},
   "outputs": [
    {
     "data": {
      "text/html": [
       "<link rel='stylesheet' href='../../design/custom.css'>"
      ],
      "text/plain": [
       "<IPython.core.display.HTML object>"
      ]
     },
     "metadata": {},
     "output_type": "display_data"
    }
   ],
   "source": [
    "from IPython.display import HTML, display\n",
    "css_file_path = \"../../design/custom.css\"\n",
    "styles = \"<link rel='stylesheet' href='%s'>\" % css_file_path\n",
    "display(HTML(styles))"
   ]
  },
  {
   "cell_type": "markdown",
   "metadata": {},
   "source": [
    "# 2.1 $\\quad$ Análisis de la rentabilidad y riesgo de una cartera de dos activos I"
   ]
  },
  {
   "cell_type": "markdown",
   "metadata": {},
   "source": [
    "En el mundo de las finanzas, la rentabilidad de una cartera y su variación en función del coeficiente de correlación entre activos son temas esenciales.\n",
    "\n",
    "Para comenzar, por simplicidad, nos centraremos en carteras compuestas por dos activos.\n",
    "\n",
    "Los tres casos que estudiaremos:\n",
    "\n",
    "**NOTA CHRIS: ¿Qué significa $\\rho_{12}$? Se usa pero no se ha definido**\n",
    "\n",
    "* Cuando $ \\rho_{12} = 1$, lo que implica una correlación positiva perfecta.\n",
    "\n",
    "* Cuando $ \\rho_{12} = -1$, lo que implica una correlación negativa perfecta.\n",
    "\n",
    "* Cuando $ -1 \\leq \\rho_{12} \\leq 1$, lo que implica una correlación parcial que puede variar en fuerza.\n",
    "\n",
    " También discutiremos la cartera de mínima varianza y la importancia de la diversificación en la gestión de riesgos."
   ]
  },
  {
   "cell_type": "markdown",
   "metadata": {},
   "source": [
    "## 1. Rentabilidad y volatilidad de una cartera con dos activos"
   ]
  },
  {
   "cell_type": "markdown",
   "metadata": {},
   "source": [
    "Una cartera de activos define una colección de activos financieros, como acciones, bonos y otros instrumentos de inversión. La composición de la cartera se determina con el objetivo de alcanzar una meta financiera específica, como maximizar el rendimiento, minimizar el riesgo o encontrar cierto equilibrio entre ambos. La gestión de carteras implica la toma de decisiones estratégicas sobre la asignación de activos, la diversificación y el ajuste periódico para adaptarse a los posibles cambios en las condiciones del mercado.\n",
    "\n",
    "Definir una cartera de activos implica especificar los diferentes instrumentos financieros o activos que la componen y la proporción en la que se invierte en cada uno. Si llamamos:\n",
    "\n",
    "* $w_1$ a la proporción de la inversión en el activo $1$ $\\Rightarrow w_2=1-w_1$. Debe cumplirse que $w_1 + w_2 = 1.0$ ya que representa el 100% de la inversión.\n",
    "\n",
    "* $\\tilde R_p$ a la rentabilidad de la cartera $\\Rightarrow \\tilde R_p=w_1 \\tilde R_1 + w_2 \\tilde R_2$. Es una suma ponderada de la rentabilidad de cada activo por el porcentaje de inversión $w_i$ en cada activo.\n",
    "\n",
    "* Varianza $\\sigma_{P}^2 = w_1^2 \\sigma_{1}^2 + w_2^2 \\sigma_{2}^2 + 2 w_1 w_2 \\rho_{12} \\sigma_{1} \\sigma_{2}$. La varianza de la cartera se ve afectada por las covarianzas entre los activos.\n",
    "\n",
    "* Volatilidad $\\sigma_{P} = \\sqrt{\\sigma_{P}^2}$"
   ]
  },
  {
   "cell_type": "code",
   "execution_count": 2,
   "metadata": {},
   "outputs": [],
   "source": [
    "import numpy as np\n",
    "import pandas as pd\n",
    "import matplotlib.pyplot as plt\n",
    "import seaborn as sns\n",
    "import yfinance as yf\n",
    "import cvxpy as cp\n",
    "import plotly.graph_objects as go\n",
    "\n",
    "#from utils import dibuja_covar\n",
    "\n",
    "plt.style.use('ggplot')\n"
   ]
  },
  {
   "cell_type": "markdown",
   "metadata": {},
   "source": [
    "Definimos dos funciones:\n",
    "\n",
    "* **calc_ret_cartera** una función que, dada una cartera, nos devuelve la rentabilidad esperada\n",
    "\n",
    "* **calc_var_cartera** una función que, dada una cartera, nos devuelve la varianza de la cartera\n",
    "\n",
    "* una cartera ejemplo con dos activos: **cartera**"
   ]
  },
  {
   "cell_type": "code",
   "execution_count": 3,
   "metadata": {},
   "outputs": [],
   "source": [
    "def calc_ret_cartera(w1, w2, r1, r2):\n",
    "    return w1 * r1 + w2 * r2"
   ]
  },
  {
   "cell_type": "code",
   "execution_count": 4,
   "metadata": {},
   "outputs": [],
   "source": [
    "def calc_std_cartera(w1, w2, std1, std2, rho):\n",
    "    return np.sqrt(w1**2 * std1**2 + w2**2 * std2**2 + 2 * w1 * w2 * std1 * std2 * rho)"
   ]
  },
  {
   "cell_type": "code",
   "execution_count": null,
   "metadata": {},
   "outputs": [],
   "source": [
    "#definimos una cartera con dos activos\n",
    "ret1 = 0.2 #retornos esperados del activo 1\n",
    "ret2 = 0.1 #retornos esperados del activo 2\n",
    "\n",
    "std1 = 0.25 #volatilidad del activo 1\n",
    "std2 = 0.15 #volatilidad del activo 2\n",
    "\n",
    "p1 = 0.4 #peso del activo 1\n",
    "p2 = 0.6 #peso del activo 2"
   ]
  },
  {
   "cell_type": "markdown",
   "metadata": {},
   "source": [
    "---"
   ]
  },
  {
   "cell_type": "markdown",
   "metadata": {},
   "source": [
    "### Caso 1:  $\\quad$   $\\rho_{12} = 1$"
   ]
  },
  {
   "cell_type": "markdown",
   "metadata": {},
   "source": [
    "* Si $\\rho_{12} = 1$ se dice que los activos son **perfectamente positivamente** correlacionados.\n",
    "\n",
    "    - No hay beneficios de diversificación.\n",
    "\n",
    "    - La rentabilidad de la cartera es igual a la suma ponderada de las rentabilidades de los activos.\n",
    "        - $E(\\tilde R_P) = w_1 E(\\tilde R_1) + w_2 E(\\tilde R_2)$\n",
    "        $$$$\n",
    "\n",
    "    - La volatilidad de la cartera es igual a la suma ponderada de las volatilidades de los activos.\n",
    "        - $\\sigma_P = w_1 \\sigma_1 + w_2 \\sigma_2$"
   ]
  },
  {
   "cell_type": "markdown",
   "metadata": {},
   "source": [
    "Otras fórmulas:\n",
    "\n",
    "- $cov(\\tilde R_1, \\tilde R_2) = \\sigma(\\tilde R_1) \\sigma(\\tilde R_2)$\n",
    "    \n",
    "- $\\sigma_P² = w_1^2 \\sigma_1^2 + w_2^2 \\sigma_2^2 + 2 w_1 w_2 \\sigma_1 \\sigma_2= (w_1\\sigma_1 + w_2\\sigma_2)²$\n"
   ]
  },
  {
   "cell_type": "code",
   "execution_count": 5,
   "metadata": {},
   "outputs": [],
   "source": [
    "# definimos el coeficiente de correlación\n",
    "coef_corr = 1"
   ]
  },
  {
   "cell_type": "code",
   "execution_count": 8,
   "metadata": {},
   "outputs": [
    {
     "name": "stdout",
     "output_type": "stream",
     "text": [
      "El retorno de la cartera es:14.00 %\n",
      "La volatilidad de la cartera es:19.00 %\n"
     ]
    }
   ],
   "source": [
    "print(f'El retorno de la cartera es:{100*calc_ret_cartera(p1, p2, ret1, ret2):.2f} %')\n",
    "print(f'La volatilidad de la cartera es:{100*calc_std_cartera(p1, p2, std1, std2, coef_corr):.2f} %')"
   ]
  },
  {
   "cell_type": "markdown",
   "metadata": {},
   "source": [
    "Vamos a ir variando los pesos de los dos activos y ver cómo se comporta la rentabilidad y la volatilidad de la cartera."
   ]
  },
  {
   "cell_type": "code",
   "execution_count": 9,
   "metadata": {},
   "outputs": [
    {
     "data": {
      "image/png": "[encoded data removed]",
      "text/plain": [
       "<Figure size 1200x600 with 1 Axes>"
      ]
     },
     "metadata": {},
     "output_type": "display_data"
    }
   ],
   "source": [
    "fig, ax = plt.subplots(figsize=(12, 6))\n",
    "\n",
    "x = np.linspace(0, 1, 101) #generamos 101 puntos entre 0 y 1 que representan los pesos del activo 1\n",
    "\n",
    "for i in x:\n",
    "    reti = calc_ret_cartera(i, 1 - i, ret1, ret2) #calculamos el retorno de la cartera para cada peso\n",
    "    stdi = calc_std_cartera(i, 1 - i, std1, std2, coef_corr) #calculamos la volatilidad de la cartera para cada peso\n",
    "    if i == p1:\n",
    "        plt.scatter(stdi, reti, color='black', marker='*', s=200, label='Cartera') #marcamos el punto de la cartera\n",
    "    else:\n",
    "        plt.scatter(stdi, reti, color='blue', alpha=0.5) #marcamos el resto de puntos\n",
    "\n",
    "plt.scatter(std1, ret1, color='red', marker='*', s=200, label='Activo 1') #marcamos el punto del activo 1\n",
    "plt.scatter(std2, ret2, color='green', marker='*', s=200, label='Activo 2') #marcamos el punto del activo 2\n",
    "\n",
    "plt.xlabel('Volatilidad')\n",
    "plt.ylabel('Retorno')\n",
    "plt.title('Carteras dos activos con coeficiente de correlación \\u03C1 = 1')\n",
    "plt.legend()\n",
    "plt.show()"
   ]
  },
  {
   "cell_type": "markdown",
   "metadata": {},
   "source": [
    "---"
   ]
  },
  {
   "cell_type": "markdown",
   "metadata": {},
   "source": [
    "### Caso 2:  $\\quad$  $\\rho_{12} = -1$"
   ]
  },
  {
   "cell_type": "markdown",
   "metadata": {},
   "source": [
    "* Si $\\rho_{12} = -1$ se dice que los activos son **perfectamente pero negativamente** correlacionados.\n",
    "\n",
    "    - Hay máximos beneficios de diversificación.\n",
    "\n",
    "    - La rentabilidad de la cartera es igual (recordad que no depenede de las relaccciones entre activos).\n",
    "        - $E(\\tilde R_P) = w_1 E(\\tilde R_1) + w_2 E(\\tilde R_2)$\n",
    "        $$$$\n",
    "        \n",
    "\n",
    "    - La volatilidad de la cartera es igual a la suma ponderada de las volatilidades de los activos.\n",
    "        - $\\sigma_P = w_1 \\sigma_1 - w_2 \\sigma_2\\ \\ \\ \\ \\ \\ $    OJO: el resultado debe ser positivo"
   ]
  },
  {
   "cell_type": "code",
   "execution_count": 10,
   "metadata": {},
   "outputs": [],
   "source": [
    "# definimos el coeficiente de correlación\n",
    "coef_corr_neg = -1"
   ]
  },
  {
   "cell_type": "code",
   "execution_count": 11,
   "metadata": {},
   "outputs": [
    {
     "name": "stdout",
     "output_type": "stream",
     "text": [
      "El retorno de la cartera es:14.00 %\n",
      "La volatilidad de la cartera es:1.00 %\n"
     ]
    }
   ],
   "source": [
    "# calculamos la rentabilidad y volatilidad de la cartera con el nuevo coeficiente de correlación\n",
    "print(f'El retorno de la cartera es:{100*calc_ret_cartera(p1, p2, ret1, ret2):.2f} %')\n",
    "print(f'La volatilidad de la cartera es:{100*calc_std_cartera(p1, p2, std1, std2, coef_corr_neg):.2f} %')"
   ]
  },
  {
   "cell_type": "markdown",
   "metadata": {},
   "source": [
    "Recordad que con $\\rho_{12}=1$ nos dió:\n",
    "\n",
    "* $E(\\tilde R_p) = 14$%\n",
    "\n",
    "* $\\sigma_p = 19$%\n",
    "\n",
    "y con el $\\rho_{12}=-1$ y nos ha dado:\n",
    "\n",
    "* $E(\\tilde R_p) = 14$%\n",
    "\n",
    "* $\\sigma_p = 1$%\n",
    "\n",
    "Gracias a la **diversificación**, obtenemos la misma rentabilidad pero **menor volatilidad**."
   ]
  },
  {
   "cell_type": "code",
   "execution_count": 12,
   "metadata": {},
   "outputs": [
    {
     "data": {
      "image/png": "[encoded data removed]",
      "text/plain": [
       "<Figure size 1200x600 with 1 Axes>"
      ]
     },
     "metadata": {},
     "output_type": "display_data"
    }
   ],
   "source": [
    "x = np.linspace(0, 1, 101) #generamos 101 puntos entre 0 y 1 que representan los pesos del activo 1\n",
    "\n",
    "fig, ax = plt.subplots(figsize=(12, 6))\n",
    "\n",
    "for i in x:\n",
    "    reti = calc_ret_cartera(i, 1 - i, ret1, ret2) #calculamos el retorno de la cartera para cada peso\n",
    "    stdi = calc_std_cartera(i, 1 - i, std1, std2, coef_corr_neg) #calculamos la volatilidad de la cartera para cada peso\n",
    "    if i == p1:\n",
    "        plt.scatter(stdi, reti, color='black', marker='*', s=200, label='Cartera') #marcamos el punto de la cartera\n",
    "    else:\n",
    "        plt.scatter(stdi, reti, color='blue', alpha=0.5) #marcamos el resto de puntos\n",
    "\n",
    "plt.scatter(std1, ret1, color='red', marker='*', s=200, label='Activo 1') #marcamos el punto del activo 1\n",
    "plt.scatter(std2, ret2, color='green', marker='*', s=200, label='Activo 2') #marcamos el punto del activo 2\n",
    "\n",
    "plt.xlabel('Volatilidad')\n",
    "plt.ylabel('Retorno')\n",
    "plt.title('Carteras dos actvos con coeficiente de correlación \\u03C1 = -1')\n",
    "plt.legend()\n",
    "plt.show()"
   ]
  },
  {
   "cell_type": "markdown",
   "metadata": {},
   "source": [
    "---"
   ]
  },
  {
   "cell_type": "markdown",
   "metadata": {},
   "source": [
    "### Caso 3: $\\quad$    $-1\\leq \\rho_{12} \\leq 1$"
   ]
  },
  {
   "cell_type": "markdown",
   "metadata": {},
   "source": [
    "* Si $-1 \\leq \\rho_{12} \\leq 1$ se dice que los activos tienen correlación **lineal no perfecta**.\n",
    "\n",
    "    - Hay beneficios de diversificación, a mayor correlación negativa mayor beneficio.\n",
    "\n",
    "    - La rentabilidad de la cartera es igual (recordad que no depenede de las relaccciones entre activos).\n",
    "        - $E(\\tilde R_P) = w_1 E(\\tilde R_1) + w_2 E(\\tilde R_2)$\n",
    "        $$$$\n",
    "        \n",
    "    - La varianza de la cartera es igual a:\n",
    "        - $\\sigma²(\\tilde R_p)= \\underset{Activo 1} {\\underbrace{w_1²\\sigma²(\\tilde R_1)}}+\\underset{Activo 2} {\\underbrace{w_2²\\sigma²(\\tilde R_2)}}+ \\underset{Relacion entre activos} {\\underbrace{2w_1w_2 \\rho_{12} \\sigma_1 \\sigma_2}}$\n",
    "        $$$$\n",
    "\n",
    "    - La volatilidad de la cartera es igual a la raiz cuadrada de la varianza.\n",
    "        - $\\sigma(\\tilde R_p)= \\sqrt{w_1²\\sigma²(\\tilde R_1)+w_2²\\sigma²(\\tilde R_2)+ 2w_1w_2 \\rho_{12} \\sigma_1 \\sigma_2} $\n",
    "\n",
    "        "
   ]
  },
  {
   "cell_type": "code",
   "execution_count": 14,
   "metadata": {},
   "outputs": [
    {
     "data": {
      "application/vnd.plotly.v1+json": {
       "config": {
        "plotlyServerURL": "https://plot.ly"
       },
       "data": [
        {
         "marker": {
          "color": "#440154",
          "opacity": 0.5,
          "size": 8
         },
         "mode": "markers",
         "name": "Corr -1",
         "type": "scatter",
         "x": [
          0.15,
          0.146,
          0.142,
          0.13799999999999998,
          0.13399999999999998,
          0.13,
          0.126,
          0.122,
          0.11800000000000001,
          0.114,
          0.11,
          0.10600000000000001,
          0.102,
          0.098,
          0.09399999999999999,
          0.08999999999999998,
          0.086,
          0.08199999999999999,
          0.07800000000000001,
          0.07400000000000001,
          0.07000000000000002,
          0.06600000000000002,
          0.062,
          0.058,
          0.054,
          0.050000000000000024,
          0.04599999999999998,
          0.042,
          0.037999999999999985,
          0.03400000000000001,
          0.029999999999999968,
          0.025999999999999992,
          0.02200000000000004,
          0.017999999999999943,
          0.014000000000000061,
          0.009999999999999969,
          0.00599999999999982,
          0.002000000000001,
          0.002000000000001,
          0.00599999999999982,
          0.010000000000000142,
          0.014000000000000061,
          0.017999999999999943,
          0.02200000000000004,
          0.025999999999999922,
          0.029999999999999968,
          0.03400000000000001,
          0.03800000000000001,
          0.04200000000000006,
          0.046,
          0.04999999999999999,
          0.053999999999999986,
          0.058000000000000024,
          0.06200000000000003,
          0.06599999999999999,
          0.07,
          0.07400000000000004,
          0.07800000000000001,
          0.08199999999999999,
          0.086,
          0.09,
          0.094,
          0.098,
          0.10200000000000002,
          0.106,
          0.11000000000000001,
          0.11400000000000002,
          0.11800000000000002,
          0.12200000000000004,
          0.12600000000000003,
          0.13000000000000003,
          0.13399999999999998,
          0.13799999999999998,
          0.14200000000000002,
          0.14600000000000002,
          0.15,
          0.154,
          0.158,
          0.162,
          0.16600000000000004,
          0.17000000000000004,
          0.17400000000000004,
          0.17800000000000002,
          0.18200000000000002,
          0.186,
          0.18999999999999997,
          0.19399999999999998,
          0.198,
          0.20199999999999999,
          0.20600000000000002,
          0.21000000000000002,
          0.21400000000000002,
          0.218,
          0.22200000000000003,
          0.22600000000000003,
          0.23,
          0.23399999999999999,
          0.238,
          0.242,
          0.246,
          0.25
         ],
         "y": [
          0.1,
          0.101,
          0.10200000000000001,
          0.10300000000000001,
          0.10400000000000001,
          0.10500000000000001,
          0.106,
          0.107,
          0.10800000000000001,
          0.10900000000000001,
          0.11000000000000001,
          0.11100000000000002,
          0.11200000000000002,
          0.11300000000000002,
          0.11400000000000002,
          0.115,
          0.116,
          0.117,
          0.11800000000000002,
          0.11900000000000002,
          0.12000000000000002,
          0.12100000000000002,
          0.12200000000000003,
          0.12300000000000003,
          0.12400000000000001,
          0.125,
          0.126,
          0.127,
          0.128,
          0.129,
          0.13,
          0.131,
          0.132,
          0.133,
          0.134,
          0.135,
          0.136,
          0.137,
          0.138,
          0.139,
          0.14,
          0.14100000000000001,
          0.14200000000000002,
          0.14300000000000002,
          0.14400000000000002,
          0.14500000000000002,
          0.14600000000000002,
          0.14700000000000002,
          0.14800000000000002,
          0.14900000000000002,
          0.15000000000000002,
          0.15100000000000002,
          0.15200000000000002,
          0.15300000000000002,
          0.15400000000000003,
          0.15500000000000003,
          0.15600000000000003,
          0.15700000000000003,
          0.158,
          0.159,
          0.16,
          0.161,
          0.162,
          0.163,
          0.164,
          0.165,
          0.166,
          0.167,
          0.168,
          0.169,
          0.17,
          0.17099999999999999,
          0.172,
          0.173,
          0.174,
          0.17500000000000002,
          0.17600000000000002,
          0.17700000000000002,
          0.17800000000000002,
          0.17900000000000002,
          0.18000000000000002,
          0.18100000000000002,
          0.18200000000000002,
          0.18300000000000002,
          0.18400000000000002,
          0.18500000000000003,
          0.18600000000000003,
          0.18700000000000003,
          0.18800000000000003,
          0.18900000000000003,
          0.19000000000000003,
          0.19100000000000003,
          0.19200000000000003,
          0.19300000000000003,
          0.19400000000000003,
          0.19500000000000003,
          0.196,
          0.197,
          0.198,
          0.199,
          0.2
         ]
        },
        {
         "marker": {
          "color": "#3b528b",
          "opacity": 0.5,
          "size": 8
         },
         "mode": "markers",
         "name": "Corr -0.8",
         "type": "scatter",
         "x": [
          0.15,
          0.14650767897963574,
          0.1430314650697531,
          0.1395725617734374,
          0.13613228860193308,
          0.13271209439986997,
          0.12931357237351385,
          0.12593847704335637,
          0.12258874336577565,
          0.11926650829130532,
          0.11597413504743202,
          0.11271424044902224,
          0.10948972554536796,
          0.10630380990350252,
          0.10316006979447036,
          0.10006248048094749,
          0.09701546268507923,
          0.09402393312343406,
          0.09109335870413386,
          0.088229813555283,
          0.08544003745317533,
          0.08273149339882607,
          0.08011242100947892,
          0.0775918810185705,
          0.07517978451685,
          0.07288689868556626,
          0.07072481884034768,
          0.06870589494359272,
          0.0668430998682736,
          0.06514982732133678,
          0.06363961030678926,
          0.062325757115337145,
          0.06122091146005588,
          0.06033655608335628,
          0.059682493245507104,
          0.059266347955648474,
          0.059093146810776605,
          0.05916502345136021,
          0.05948108943185223,
          0.060037488288568475,
          0.06082762530298221,
          0.061842541991739,
          0.0630713881248859,
          0.06450193795538241,
          0.06612110101926612,
          0.06791538853603062,
          0.0698713102782537,
          0.07197569034055874,
          0.07421590126111792,
          0.07658002350482793,
          0.07905694150420947,
          0.08163638894512665,
          0.08430895563343198,
          0.0870660668687865,
          0.08989994438263017,
          0.09280355596635292,
          0.09577055915050305,
          0.09879524280045068,
          0.10187246929372036,
          0.1049976190206235,
          0.10816653826391967,
          0.11137549102024197,
          0.11462111498323509,
          0.11790038167877152,
          0.12121056059601407,
          0.12454918707081152,
          0.12791403363196707,
          0.13130308450299255,
          0.1347145129523913,
          0.138146661197439,
          0.141598022585063,
          0.14506722579549108,
          0.14855302083767935,
          0.15205426662872698,
          0.15556991997169634,
          0.15909902576697318,
          0.1626407083112958,
          0.16619416355576389,
          0.1697586522095413,
          0.17333349358966954,
          0.17691806012954134,
          0.18051177246927694,
          0.1841140950606444,
          0.1877245322274103,
          0.19134262462922366,
          0.19496794608345236,
          0.198600100704909,
          0.20223872032822993,
          0.20588346218188577,
          0.209534006786488,
          0.21319005605327845,
          0.21685133156151015,
          0.22051757299589528,
          0.22418853672746072,
          0.22786399452304879,
          0.2315437323703667,
          0.2352275494069519,
          0.2389152569427076,
          0.2426066775667974,
          0.24630164433068652,
          0.25
         ],
         "y": [
          0.1,
          0.101,
          0.10200000000000001,
          0.10300000000000001,
          0.10400000000000001,
          0.10500000000000001,
          0.106,
          0.107,
          0.10800000000000001,
          0.10900000000000001,
          0.11000000000000001,
          0.11100000000000002,
          0.11200000000000002,
          0.11300000000000002,
          0.11400000000000002,
          0.115,
          0.116,
          0.117,
          0.11800000000000002,
          0.11900000000000002,
          0.12000000000000002,
          0.12100000000000002,
          0.12200000000000003,
          0.12300000000000003,
          0.12400000000000001,
          0.125,
          0.126,
          0.127,
          0.128,
          0.129,
          0.13,
          0.131,
          0.132,
          0.133,
          0.134,
          0.135,
          0.136,
          0.137,
          0.138,
          0.139,
          0.14,
          0.14100000000000001,
          0.14200000000000002,
          0.14300000000000002,
          0.14400000000000002,
          0.14500000000000002,
          0.14600000000000002,
          0.14700000000000002,
          0.14800000000000002,
          0.14900000000000002,
          0.15000000000000002,
          0.15100000000000002,
          0.15200000000000002,
          0.15300000000000002,
          0.15400000000000003,
          0.15500000000000003,
          0.15600000000000003,
          0.15700000000000003,
          0.158,
          0.159,
          0.16,
          0.161,
          0.162,
          0.163,
          0.164,
          0.165,
          0.166,
          0.167,
          0.168,
          0.169,
          0.17,
          0.17099999999999999,
          0.172,
          0.173,
          0.174,
          0.17500000000000002,
          0.17600000000000002,
          0.17700000000000002,
          0.17800000000000002,
          0.17900000000000002,
          0.18000000000000002,
          0.18100000000000002,
          0.18200000000000002,
          0.18300000000000002,
          0.18400000000000002,
          0.18500000000000003,
          0.18600000000000003,
          0.18700000000000003,
          0.18800000000000003,
          0.18900000000000003,
          0.19000000000000003,
          0.19100000000000003,
          0.19200000000000003,
          0.19300000000000003,
          0.19400000000000003,
          0.19500000000000003,
          0.196,
          0.197,
          0.198,
          0.199,
          0.2
         ]
        },
        {
         "marker": {
          "color": "#21918c",
          "opacity": 0.5,
          "size": 8
         },
         "mode": "markers",
         "name": "Corr -0.5",
         "type": "scatter",
         "x": [
          0.15,
          0.14726591594798843,
          0.14456486433431878,
          0.14189873149538723,
          0.13926952286842947,
          0.13667936932836644,
          0.13413053343664894,
          0.13162541547892642,
          0.1291665591397402,
          0.12675665662993799,
          0.12439855304624729,
          0.1220952497028447,
          0.11984990613262908,
          0.11766584041258533,
          0.11554652742510264,
          0.11349559462816165,
          0.11151681487560519,
          0.10961409580888763,
          0.1077914653393301,
          0.10605305276134205,
          0.10440306508910552,
          0.1028457582985317,
          0.10138540328863914,
          0.1000262465555916,
          0.09877246579892597,
          0.09762812094883319,
          0.09659710140578753,
          0.09568307060290238,
          0.09488940931421166,
          0.09421915941038744,
          0.09367496997597596,
          0.09325904781842885,
          0.09297311439335568,
          0.09281837102642988,
          0.09279547402756236,
          0.09290452088031022,
          0.09314504817756013,
          0.09351604140467026,
          0.09401595609256976,
          0.09464274932608413,
          0.09539392014169458,
          0.09626655701748142,
          0.09725739046468396,
          0.09836284867774012,
          0.09957911427603681,
          0.10090218035305282,
          0.10232790430767162,
          0.10385205823670517,
          0.10547037498748169,
          0.1071785892797624,
          0.10897247358851683,
          0.11084786872105389,
          0.1128007092176286,
          0.11482704385291821,
          0.11692305161943045,
          0.11908505363814555,
          0.12130952147296602,
          0.12359308233068711,
          0.12593252161375948,
          0.12832478326496405,
          0.1307669683062202,
          0.13325633193210745,
          0.13579027947537334,
          0.13836636151897613,
          0.14098226838861685,
          0.14363582422223226,
          0.1463249807790864,
          0.1490478111211299,
          0.15180250327316744,
          0.1545873539459163,
          0.15740076238697195,
          0.160241224408702,
          0.16310732662881824,
          0.165997740948484,
          0.1689112192839777,
          0.171846588560844,
          0.17480274597385476,
          0.177778654511727,
          0.18077333874219398,
          0.18378588085051584,
          0.18681541692269407,
          0.18986113346338163,
          0.19292226413765728,
          0.19599808672535557,
          0.19908792027644467,
          0.2021911224559575,
          0.2053070870671541,
          0.2084352417418897,
          0.21157504578754083,
          0.21472598818028527,
          0.21788758569500927,
          0.22105938116261886,
          0.224240941846042,
          0.22743185792672058,
          0.23063174109389195,
          0.23384022322945214,
          0.23705695518166092,
          0.24028160562140413,
          0.24351385997515623,
          0.24675341942919454,
          0.25
         ],
         "y": [
          0.1,
          0.101,
          0.10200000000000001,
          0.10300000000000001,
          0.10400000000000001,
          0.10500000000000001,
          0.106,
          0.107,
          0.10800000000000001,
          0.10900000000000001,
          0.11000000000000001,
          0.11100000000000002,
          0.11200000000000002,
          0.11300000000000002,
          0.11400000000000002,
          0.115,
          0.116,
          0.117,
          0.11800000000000002,
          0.11900000000000002,
          0.12000000000000002,
          0.12100000000000002,
          0.12200000000000003,
          0.12300000000000003,
          0.12400000000000001,
          0.125,
          0.126,
          0.127,
          0.128,
          0.129,
          0.13,
          0.131,
          0.132,
          0.133,
          0.134,
          0.135,
          0.136,
          0.137,
          0.138,
          0.139,
          0.14,
          0.14100000000000001,
          0.14200000000000002,
          0.14300000000000002,
          0.14400000000000002,
          0.14500000000000002,
          0.14600000000000002,
          0.14700000000000002,
          0.14800000000000002,
          0.14900000000000002,
          0.15000000000000002,
          0.15100000000000002,
          0.15200000000000002,
          0.15300000000000002,
          0.15400000000000003,
          0.15500000000000003,
          0.15600000000000003,
          0.15700000000000003,
          0.158,
          0.159,
          0.16,
          0.161,
          0.162,
          0.163,
          0.164,
          0.165,
          0.166,
          0.167,
          0.168,
          0.169,
          0.17,
          0.17099999999999999,
          0.172,
          0.173,
          0.174,
          0.17500000000000002,
          0.17600000000000002,
          0.17700000000000002,
          0.17800000000000002,
          0.17900000000000002,
          0.18000000000000002,
          0.18100000000000002,
          0.18200000000000002,
          0.18300000000000002,
          0.18400000000000002,
          0.18500000000000003,
          0.18600000000000003,
          0.18700000000000003,
          0.18800000000000003,
          0.18900000000000003,
          0.19000000000000003,
          0.19100000000000003,
          0.19200000000000003,
          0.19300000000000003,
          0.19400000000000003,
          0.19500000000000003,
          0.196,
          0.197,
          0.198,
          0.199,
          0.2
         ]
        },
        {
         "marker": {
          "color": "#5ec962",
          "opacity": 0.5,
          "size": 8
         },
         "mode": "markers",
         "name": "Corr 0",
         "type": "scatter",
         "x": [
          0.15,
          0.14852104228021024,
          0.14708500943332056,
          0.14569317073905694,
          0.14434680460612903,
          0.14304719500919966,
          0.1417956275771577,
          0.14059338533515722,
          0.13944174410842688,
          0.13834196760202597,
          0.1372953021774598,
          0.1363029713542592,
          0.13536617007214174,
          0.1344860587570325,
          0.13366375724181928,
          0.13290033860002012,
          0.13219682295728594,
          0.13155417135157668,
          0.13097327971765846,
          0.13045497307500395,
          0.13000000000000003,
          0.1296090274633677,
          0.12928263611173776,
          0.12902131606831485,
          0.12882546332150333,
          0.1286953767623375,
          0.12863125592172378,
          0.12863319944711007,
          0.12870120434556934,
          0.12883516600680112,
          0.1290348790056394,
          0.12930003866975445,
          0.12963024338479043,
          0.130024997596616,
          0.13048371545905643,
          0.13100572506573901,
          0.13159027319676783,
          0.13223653050500078,
          0.13294359706281458,
          0.1337105081883993,
          0.13453624047073712,
          0.13541971791434215,
          0.13635981812836215,
          0.1373553784895226,
          0.13840520221436764,
          0.13950806428303705,
          0.1406627171641441,
          0.14186789629792923,
          0.14312232530251875,
          0.14442472087561742,
          0.1457737973711325,
          0.1471682710369324,
          0.14860686390607938,
          0.1500883073393794,
          0.15161134522191932,
          0.15317473682040392,
          0.15477725931156683,
          0.15641770999474452,
          0.15809490820390137,
          0.15980769693603622,
          0.16155494421403513,
          0.16333554420272398,
          0.16514841809717706,
          0.16699251480231084,
          0.16886681142249355,
          0.17077031357938066,
          0.17270205557549106,
          0.1746611004202138,
          0.17664653973401234,
          0.17865749354561092,
          0.18069310999592653,
          0.1827525649614801,
          0.18483506160899235,
          0.18693982989186653,
          0.18906612599828665,
          0.19121323175972943,
          0.193380454027805,
          0.1955671240265091,
          0.19777259668619412,
          0.1999962499648431,
          0.20223748416156687,
          0.20449572122663107,
          0.20677040407176267,
          0.20906099588397642,
          0.21136697944570243,
          0.213687856463581,
          0.21602314690791816,
          0.21837238836446332,
          0.22073513539987238,
          0.22311095894195784,
          0.22549944567559363,
          0.2279001974549386,
          0.23031283073246267,
          0.23273697600510326,
          0.23517227727774379,
          0.23761839154408904,
          0.24007498828491067,
          0.24254174898355127,
          0.24501836665850174,
          0.2475045454128065,
          0.25
         ],
         "y": [
          0.1,
          0.101,
          0.10200000000000001,
          0.10300000000000001,
          0.10400000000000001,
          0.10500000000000001,
          0.106,
          0.107,
          0.10800000000000001,
          0.10900000000000001,
          0.11000000000000001,
          0.11100000000000002,
          0.11200000000000002,
          0.11300000000000002,
          0.11400000000000002,
          0.115,
          0.116,
          0.117,
          0.11800000000000002,
          0.11900000000000002,
          0.12000000000000002,
          0.12100000000000002,
          0.12200000000000003,
          0.12300000000000003,
          0.12400000000000001,
          0.125,
          0.126,
          0.127,
          0.128,
          0.129,
          0.13,
          0.131,
          0.132,
          0.133,
          0.134,
          0.135,
          0.136,
          0.137,
          0.138,
          0.139,
          0.14,
          0.14100000000000001,
          0.14200000000000002,
          0.14300000000000002,
          0.14400000000000002,
          0.14500000000000002,
          0.14600000000000002,
          0.14700000000000002,
          0.14800000000000002,
          0.14900000000000002,
          0.15000000000000002,
          0.15100000000000002,
          0.15200000000000002,
          0.15300000000000002,
          0.15400000000000003,
          0.15500000000000003,
          0.15600000000000003,
          0.15700000000000003,
          0.158,
          0.159,
          0.16,
          0.161,
          0.162,
          0.163,
          0.164,
          0.165,
          0.166,
          0.167,
          0.168,
          0.169,
          0.17,
          0.17099999999999999,
          0.172,
          0.173,
          0.174,
          0.17500000000000002,
          0.17600000000000002,
          0.17700000000000002,
          0.17800000000000002,
          0.17900000000000002,
          0.18000000000000002,
          0.18100000000000002,
          0.18200000000000002,
          0.18300000000000002,
          0.18400000000000002,
          0.18500000000000003,
          0.18600000000000003,
          0.18700000000000003,
          0.18800000000000003,
          0.18900000000000003,
          0.19000000000000003,
          0.19100000000000003,
          0.19200000000000003,
          0.19300000000000003,
          0.19400000000000003,
          0.19500000000000003,
          0.196,
          0.197,
          0.198,
          0.199,
          0.2
         ]
        },
        {
         "marker": {
          "color": "#3366CC",
          "opacity": 0.5,
          "size": 8
         },
         "mode": "markers",
         "name": "Corr 0.5",
         "type": "scatter",
         "x": [
          0.15,
          0.14976565026734268,
          0.14956269588369955,
          0.14939126480487405,
          0.14925146565444508,
          0.14914338738274655,
          0.14906709898565812,
          0.14902264928526804,
          0.14901006677402706,
          0.1490293595235516,
          0.14908051515875576,
          0.1491635008975051,
          0.14927826365549673,
          0.1494247302155838,
          0.14960280746028798,
          0.14981238266578634,
          0.15005332385522155,
          0.15032548020877898,
          0.1506286825275983,
          0.1509627437482507,
          0.15132745950421558,
          0.15172260873053825,
          0.15214795430764094,
          0.1526032437400988,
          0.15308820986607688,
          0.15360257159305635,
          0.15414603465545262,
          0.15471829238974943,
          0.1553190265228314,
          0.15594790796929595,
          0.15660459763365825,
          0.15728874721352445,
          0.158,
          0.15873799167181118,
          0.15950235107985086,
          0.1602927010191044,
          0.16110865898517063,
          0.16194983791285497,
          0.16281584689458212,
          0.16370629187664107,
          0.1646207763315433,
          0.16555890190503197,
          0.166520269036535,
          0.1675044775520941,
          0.16851112722903494,
          0.16953981833185974,
          0.17059015211904818,
          0.1716617313206412,
          0.17275416058665563,
          0.17386704690653718,
          0.175,
          0.17615263267973033,
          0.1773245611865429,
          0.17851540549767686,
          0.1797247896090019,
          0.18095234179197572,
          0.18219769482625187,
          0.1834604862088837,
          0.1847403583411053,
          0.1860369586936961,
          0.18734993995195195,
          0.18867896014129398,
          0.1900236827345476,
          0.19138377674191717,
          0.19275891678467172,
          0.19414878315353923,
          0.19555306185278715,
          0.19697144463094138,
          0.19840362899906847,
          0.19984931823751614,
          0.20130822139197396,
          0.2027800532596833,
          0.20426453436659042,
          0.20576139093620066,
          0.20727035485085657,
          0.20879116360612582,
          0.21032356025894958,
          0.21186729337016602,
          0.21342211694198893,
          0.21498779035098714,
          0.21656407827707716,
          0.21815075062900885,
          0.21974758246679305,
          0.22135435392148942,
          0.22297085011274456,
          0.2245968610644414,
          0.2262321816187962,
          0.22787661134921242,
          0.22952995447217775,
          0.23119201975846831,
          0.23286262044390035,
          0.23454157413985266,
          0.2362287027437606,
          0.23792383234976694,
          0.23962679315969657,
          0.24133741939450667,
          0.24305554920634914,
          0.2447810245913682,
          0.24651369130334322,
          0.24825339876827468,
          0.25
         ],
         "y": [
          0.1,
          0.101,
          0.10200000000000001,
          0.10300000000000001,
          0.10400000000000001,
          0.10500000000000001,
          0.106,
          0.107,
          0.10800000000000001,
          0.10900000000000001,
          0.11000000000000001,
          0.11100000000000002,
          0.11200000000000002,
          0.11300000000000002,
          0.11400000000000002,
          0.115,
          0.116,
          0.117,
          0.11800000000000002,
          0.11900000000000002,
          0.12000000000000002,
          0.12100000000000002,
          0.12200000000000003,
          0.12300000000000003,
          0.12400000000000001,
          0.125,
          0.126,
          0.127,
          0.128,
          0.129,
          0.13,
          0.131,
          0.132,
          0.133,
          0.134,
          0.135,
          0.136,
          0.137,
          0.138,
          0.139,
          0.14,
          0.14100000000000001,
          0.14200000000000002,
          0.14300000000000002,
          0.14400000000000002,
          0.14500000000000002,
          0.14600000000000002,
          0.14700000000000002,
          0.14800000000000002,
          0.14900000000000002,
          0.15000000000000002,
          0.15100000000000002,
          0.15200000000000002,
          0.15300000000000002,
          0.15400000000000003,
          0.15500000000000003,
          0.15600000000000003,
          0.15700000000000003,
          0.158,
          0.159,
          0.16,
          0.161,
          0.162,
          0.163,
          0.164,
          0.165,
          0.166,
          0.167,
          0.168,
          0.169,
          0.17,
          0.17099999999999999,
          0.172,
          0.173,
          0.174,
          0.17500000000000002,
          0.17600000000000002,
          0.17700000000000002,
          0.17800000000000002,
          0.17900000000000002,
          0.18000000000000002,
          0.18100000000000002,
          0.18200000000000002,
          0.18300000000000002,
          0.18400000000000002,
          0.18500000000000003,
          0.18600000000000003,
          0.18700000000000003,
          0.18800000000000003,
          0.18900000000000003,
          0.19000000000000003,
          0.19100000000000003,
          0.19200000000000003,
          0.19300000000000003,
          0.19400000000000003,
          0.19500000000000003,
          0.196,
          0.197,
          0.198,
          0.199,
          0.2
         ]
        },
        {
         "marker": {
          "color": "#FF6633",
          "opacity": 0.5,
          "size": 8
         },
         "mode": "markers",
         "name": "Corr 1",
         "type": "scatter",
         "x": [
          0.15,
          0.151,
          0.152,
          0.153,
          0.154,
          0.155,
          0.156,
          0.157,
          0.158,
          0.159,
          0.16,
          0.161,
          0.162,
          0.163,
          0.16399999999999998,
          0.165,
          0.16599999999999998,
          0.16699999999999998,
          0.168,
          0.169,
          0.17000000000000004,
          0.17099999999999999,
          0.172,
          0.17300000000000001,
          0.174,
          0.175,
          0.176,
          0.177,
          0.178,
          0.179,
          0.18,
          0.181,
          0.182,
          0.183,
          0.184,
          0.18499999999999997,
          0.186,
          0.187,
          0.188,
          0.189,
          0.19,
          0.191,
          0.192,
          0.193,
          0.194,
          0.195,
          0.196,
          0.197,
          0.198,
          0.19899999999999998,
          0.19999999999999998,
          0.20099999999999998,
          0.20199999999999999,
          0.20299999999999999,
          0.204,
          0.205,
          0.20600000000000002,
          0.207,
          0.208,
          0.209,
          0.21,
          0.21100000000000002,
          0.212,
          0.213,
          0.214,
          0.215,
          0.216,
          0.21700000000000003,
          0.218,
          0.219,
          0.22,
          0.221,
          0.222,
          0.22299999999999998,
          0.224,
          0.225,
          0.22599999999999998,
          0.22699999999999998,
          0.228,
          0.229,
          0.23,
          0.231,
          0.232,
          0.23299999999999998,
          0.23399999999999999,
          0.235,
          0.236,
          0.237,
          0.238,
          0.23900000000000002,
          0.24000000000000002,
          0.241,
          0.242,
          0.24300000000000002,
          0.24400000000000002,
          0.245,
          0.246,
          0.247,
          0.248,
          0.249,
          0.25
         ],
         "y": [
          0.1,
          0.101,
          0.10200000000000001,
          0.10300000000000001,
          0.10400000000000001,
          0.10500000000000001,
          0.106,
          0.107,
          0.10800000000000001,
          0.10900000000000001,
          0.11000000000000001,
          0.11100000000000002,
          0.11200000000000002,
          0.11300000000000002,
          0.11400000000000002,
          0.115,
          0.116,
          0.117,
          0.11800000000000002,
          0.11900000000000002,
          0.12000000000000002,
          0.12100000000000002,
          0.12200000000000003,
          0.12300000000000003,
          0.12400000000000001,
          0.125,
          0.126,
          0.127,
          0.128,
          0.129,
          0.13,
          0.131,
          0.132,
          0.133,
          0.134,
          0.135,
          0.136,
          0.137,
          0.138,
          0.139,
          0.14,
          0.14100000000000001,
          0.14200000000000002,
          0.14300000000000002,
          0.14400000000000002,
          0.14500000000000002,
          0.14600000000000002,
          0.14700000000000002,
          0.14800000000000002,
          0.14900000000000002,
          0.15000000000000002,
          0.15100000000000002,
          0.15200000000000002,
          0.15300000000000002,
          0.15400000000000003,
          0.15500000000000003,
          0.15600000000000003,
          0.15700000000000003,
          0.158,
          0.159,
          0.16,
          0.161,
          0.162,
          0.163,
          0.164,
          0.165,
          0.166,
          0.167,
          0.168,
          0.169,
          0.17,
          0.17099999999999999,
          0.172,
          0.173,
          0.174,
          0.17500000000000002,
          0.17600000000000002,
          0.17700000000000002,
          0.17800000000000002,
          0.17900000000000002,
          0.18000000000000002,
          0.18100000000000002,
          0.18200000000000002,
          0.18300000000000002,
          0.18400000000000002,
          0.18500000000000003,
          0.18600000000000003,
          0.18700000000000003,
          0.18800000000000003,
          0.18900000000000003,
          0.19000000000000003,
          0.19100000000000003,
          0.19200000000000003,
          0.19300000000000003,
          0.19400000000000003,
          0.19500000000000003,
          0.196,
          0.197,
          0.198,
          0.199,
          0.2
         ]
        },
        {
         "marker": {
          "color": "red",
          "size": 20,
          "symbol": "star"
         },
         "mode": "markers",
         "name": "Activo 1",
         "type": "scatter",
         "x": [
          0.25
         ],
         "y": [
          0.2
         ]
        },
        {
         "marker": {
          "color": "green",
          "size": 20,
          "symbol": "star"
         },
         "mode": "markers",
         "name": "Activo 2",
         "type": "scatter",
         "x": [
          0.15
         ],
         "y": [
          0.1
         ]
        }
       ],
       "layout": {
        "font": {
         "size": 20
        },
        "template": {
         "data": {
          "bar": [
           {
            "error_x": {
             "color": "#2a3f5f"
            },
            "error_y": {
             "color": "#2a3f5f"
            },
            "marker": {
             "line": {
              "color": "#E5ECF6",
              "width": 0.5
             },
             "pattern": {
              "fillmode": "overlay",
              "size": 10,
              "solidity": 0.2
             }
            },
            "type": "bar"
           }
          ],
          "barpolar": [
           {
            "marker": {
             "line": {
              "color": "#E5ECF6",
              "width": 0.5
             },
             "pattern": {
              "fillmode": "overlay",
              "size": 10,
              "solidity": 0.2
             }
            },
            "type": "barpolar"
           }
          ],
          "carpet": [
           {
            "aaxis": {
             "endlinecolor": "#2a3f5f",
             "gridcolor": "white",
             "linecolor": "white",
             "minorgridcolor": "white",
             "startlinecolor": "#2a3f5f"
            },
            "baxis": {
             "endlinecolor": "#2a3f5f",
             "gridcolor": "white",
             "linecolor": "white",
             "minorgridcolor": "white",
             "startlinecolor": "#2a3f5f"
            },
            "type": "carpet"
           }
          ],
          "choropleth": [
           {
            "colorbar": {
             "outlinewidth": 0,
             "ticks": ""
            },
            "type": "choropleth"
           }
          ],
          "contour": [
           {
            "colorbar": {
             "outlinewidth": 0,
             "ticks": ""
            },
            "colorscale": [
             [
              0,
              "#0d0887"
             ],
             [
              0.1111111111111111,
              "#46039f"
             ],
             [
              0.2222222222222222,
              "#7201a8"
             ],
             [
              0.3333333333333333,
              "#9c179e"
             ],
             [
              0.4444444444444444,
              "#bd3786"
             ],
             [
              0.5555555555555556,
              "#d8576b"
             ],
             [
              0.6666666666666666,
              "#ed7953"
             ],
             [
              0.7777777777777778,
              "#fb9f3a"
             ],
             [
              0.8888888888888888,
              "#fdca26"
             ],
             [
              1,
              "#f0f921"
             ]
            ],
            "type": "contour"
           }
          ],
          "contourcarpet": [
           {
            "colorbar": {
             "outlinewidth": 0,
             "ticks": ""
            },
            "type": "contourcarpet"
           }
          ],
          "heatmap": [
           {
            "colorbar": {
             "outlinewidth": 0,
             "ticks": ""
            },
            "colorscale": [
             [
              0,
              "#0d0887"
             ],
             [
              0.1111111111111111,
              "#46039f"
             ],
             [
              0.2222222222222222,
              "#7201a8"
             ],
             [
              0.3333333333333333,
              "#9c179e"
             ],
             [
              0.4444444444444444,
              "#bd3786"
             ],
             [
              0.5555555555555556,
              "#d8576b"
             ],
             [
              0.6666666666666666,
              "#ed7953"
             ],
             [
              0.7777777777777778,
              "#fb9f3a"
             ],
             [
              0.8888888888888888,
              "#fdca26"
             ],
             [
              1,
              "#f0f921"
             ]
            ],
            "type": "heatmap"
           }
          ],
          "heatmapgl": [
           {
            "colorbar": {
             "outlinewidth": 0,
             "ticks": ""
            },
            "colorscale": [
             [
              0,
              "#0d0887"
             ],
             [
              0.1111111111111111,
              "#46039f"
             ],
             [
              0.2222222222222222,
              "#7201a8"
             ],
             [
              0.3333333333333333,
              "#9c179e"
             ],
             [
              0.4444444444444444,
              "#bd3786"
             ],
             [
              0.5555555555555556,
              "#d8576b"
             ],
             [
              0.6666666666666666,
              "#ed7953"
             ],
             [
              0.7777777777777778,
              "#fb9f3a"
             ],
             [
              0.8888888888888888,
              "#fdca26"
             ],
             [
              1,
              "#f0f921"
             ]
            ],
            "type": "heatmapgl"
           }
          ],
          "histogram": [
           {
            "marker": {
             "pattern": {
              "fillmode": "overlay",
              "size": 10,
              "solidity": 0.2
             }
            },
            "type": "histogram"
           }
          ],
          "histogram2d": [
           {
            "colorbar": {
             "outlinewidth": 0,
             "ticks": ""
            },
            "colorscale": [
             [
              0,
              "#0d0887"
             ],
             [
              0.1111111111111111,
              "#46039f"
             ],
             [
              0.2222222222222222,
              "#7201a8"
             ],
             [
              0.3333333333333333,
              "#9c179e"
             ],
             [
              0.4444444444444444,
              "#bd3786"
             ],
             [
              0.5555555555555556,
              "#d8576b"
             ],
             [
              0.6666666666666666,
              "#ed7953"
             ],
             [
              0.7777777777777778,
              "#fb9f3a"
             ],
             [
              0.8888888888888888,
              "#fdca26"
             ],
             [
              1,
              "#f0f921"
             ]
            ],
            "type": "histogram2d"
           }
          ],
          "histogram2dcontour": [
           {
            "colorbar": {
             "outlinewidth": 0,
             "ticks": ""
            },
            "colorscale": [
             [
              0,
              "#0d0887"
             ],
             [
              0.1111111111111111,
              "#46039f"
             ],
             [
              0.2222222222222222,
              "#7201a8"
             ],
             [
              0.3333333333333333,
              "#9c179e"
             ],
             [
              0.4444444444444444,
              "#bd3786"
             ],
             [
              0.5555555555555556,
              "#d8576b"
             ],
             [
              0.6666666666666666,
              "#ed7953"
             ],
             [
              0.7777777777777778,
              "#fb9f3a"
             ],
             [
              0.8888888888888888,
              "#fdca26"
             ],
             [
              1,
              "#f0f921"
             ]
            ],
            "type": "histogram2dcontour"
           }
          ],
          "mesh3d": [
           {
            "colorbar": {
             "outlinewidth": 0,
             "ticks": ""
            },
            "type": "mesh3d"
           }
          ],
          "parcoords": [
           {
            "line": {
             "colorbar": {
              "outlinewidth": 0,
              "ticks": ""
             }
            },
            "type": "parcoords"
           }
          ],
          "pie": [
           {
            "automargin": true,
            "type": "pie"
           }
          ],
          "scatter": [
           {
            "fillpattern": {
             "fillmode": "overlay",
             "size": 10,
             "solidity": 0.2
            },
            "type": "scatter"
           }
          ],
          "scatter3d": [
           {
            "line": {
             "colorbar": {
              "outlinewidth": 0,
              "ticks": ""
             }
            },
            "marker": {
             "colorbar": {
              "outlinewidth": 0,
              "ticks": ""
             }
            },
            "type": "scatter3d"
           }
          ],
          "scattercarpet": [
           {
            "marker": {
             "colorbar": {
              "outlinewidth": 0,
              "ticks": ""
             }
            },
            "type": "scattercarpet"
           }
          ],
          "scattergeo": [
           {
            "marker": {
             "colorbar": {
              "outlinewidth": 0,
              "ticks": ""
             }
            },
            "type": "scattergeo"
           }
          ],
          "scattergl": [
           {
            "marker": {
             "colorbar": {
              "outlinewidth": 0,
              "ticks": ""
             }
            },
            "type": "scattergl"
           }
          ],
          "scattermapbox": [
           {
            "marker": {
             "colorbar": {
              "outlinewidth": 0,
              "ticks": ""
             }
            },
            "type": "scattermapbox"
           }
          ],
          "scatterpolar": [
           {
            "marker": {
             "colorbar": {
              "outlinewidth": 0,
              "ticks": ""
             }
            },
            "type": "scatterpolar"
           }
          ],
          "scatterpolargl": [
           {
            "marker": {
             "colorbar": {
              "outlinewidth": 0,
              "ticks": ""
             }
            },
            "type": "scatterpolargl"
           }
          ],
          "scatterternary": [
           {
            "marker": {
             "colorbar": {
              "outlinewidth": 0,
              "ticks": ""
             }
            },
            "type": "scatterternary"
           }
          ],
          "surface": [
           {
            "colorbar": {
             "outlinewidth": 0,
             "ticks": ""
            },
            "colorscale": [
             [
              0,
              "#0d0887"
             ],
             [
              0.1111111111111111,
              "#46039f"
             ],
             [
              0.2222222222222222,
              "#7201a8"
             ],
             [
              0.3333333333333333,
              "#9c179e"
             ],
             [
              0.4444444444444444,
              "#bd3786"
             ],
             [
              0.5555555555555556,
              "#d8576b"
             ],
             [
              0.6666666666666666,
              "#ed7953"
             ],
             [
              0.7777777777777778,
              "#fb9f3a"
             ],
             [
              0.8888888888888888,
              "#fdca26"
             ],
             [
              1,
              "#f0f921"
             ]
            ],
            "type": "surface"
           }
          ],
          "table": [
           {
            "cells": {
             "fill": {
              "color": "#EBF0F8"
             },
             "line": {
              "color": "white"
             }
            },
            "header": {
             "fill": {
              "color": "#C8D4E3"
             },
             "line": {
              "color": "white"
             }
            },
            "type": "table"
           }
          ]
         },
         "layout": {
          "annotationdefaults": {
           "arrowcolor": "#2a3f5f",
           "arrowhead": 0,
           "arrowwidth": 1
          },
          "autotypenumbers": "strict",
          "coloraxis": {
           "colorbar": {
            "outlinewidth": 0,
            "ticks": ""
           }
          },
          "colorscale": {
           "diverging": [
            [
             0,
             "#8e0152"
            ],
            [
             0.1,
             "#c51b7d"
            ],
            [
             0.2,
             "#de77ae"
            ],
            [
             0.3,
             "#f1b6da"
            ],
            [
             0.4,
             "#fde0ef"
            ],
            [
             0.5,
             "#f7f7f7"
            ],
            [
             0.6,
             "#e6f5d0"
            ],
            [
             0.7,
             "#b8e186"
            ],
            [
             0.8,
             "#7fbc41"
            ],
            [
             0.9,
             "#4d9221"
            ],
            [
             1,
             "#276419"
            ]
           ],
           "sequential": [
            [
             0,
             "#0d0887"
            ],
            [
             0.1111111111111111,
             "#46039f"
            ],
            [
             0.2222222222222222,
             "#7201a8"
            ],
            [
             0.3333333333333333,
             "#9c179e"
            ],
            [
             0.4444444444444444,
             "#bd3786"
            ],
            [
             0.5555555555555556,
             "#d8576b"
            ],
            [
             0.6666666666666666,
             "#ed7953"
            ],
            [
             0.7777777777777778,
             "#fb9f3a"
            ],
            [
             0.8888888888888888,
             "#fdca26"
            ],
            [
             1,
             "#f0f921"
            ]
           ],
           "sequentialminus": [
            [
             0,
             "#0d0887"
            ],
            [
             0.1111111111111111,
             "#46039f"
            ],
            [
             0.2222222222222222,
             "#7201a8"
            ],
            [
             0.3333333333333333,
             "#9c179e"
            ],
            [
             0.4444444444444444,
             "#bd3786"
            ],
            [
             0.5555555555555556,
             "#d8576b"
            ],
            [
             0.6666666666666666,
             "#ed7953"
            ],
            [
             0.7777777777777778,
             "#fb9f3a"
            ],
            [
             0.8888888888888888,
             "#fdca26"
            ],
            [
             1,
             "#f0f921"
            ]
           ]
          },
          "colorway": [
           "#636efa",
           "#EF553B",
           "#00cc96",
           "#ab63fa",
           "#FFA15A",
           "#19d3f3",
           "#FF6692",
           "#B6E880",
           "#FF97FF",
           "#FECB52"
          ],
          "font": {
           "color": "#2a3f5f"
          },
          "geo": {
           "bgcolor": "white",
           "lakecolor": "white",
           "landcolor": "#E5ECF6",
           "showlakes": true,
           "showland": true,
           "subunitcolor": "white"
          },
          "hoverlabel": {
           "align": "left"
          },
          "hovermode": "closest",
          "mapbox": {
           "style": "light"
          },
          "paper_bgcolor": "white",
          "plot_bgcolor": "#E5ECF6",
          "polar": {
           "angularaxis": {
            "gridcolor": "white",
            "linecolor": "white",
            "ticks": ""
           },
           "bgcolor": "#E5ECF6",
           "radialaxis": {
            "gridcolor": "white",
            "linecolor": "white",
            "ticks": ""
           }
          },
          "scene": {
           "xaxis": {
            "backgroundcolor": "#E5ECF6",
            "gridcolor": "white",
            "gridwidth": 2,
            "linecolor": "white",
            "showbackground": true,
            "ticks": "",
            "zerolinecolor": "white"
           },
           "yaxis": {
            "backgroundcolor": "#E5ECF6",
            "gridcolor": "white",
            "gridwidth": 2,
            "linecolor": "white",
            "showbackground": true,
            "ticks": "",
            "zerolinecolor": "white"
           },
           "zaxis": {
            "backgroundcolor": "#E5ECF6",
            "gridcolor": "white",
            "gridwidth": 2,
            "linecolor": "white",
            "showbackground": true,
            "ticks": "",
            "zerolinecolor": "white"
           }
          },
          "shapedefaults": {
           "line": {
            "color": "#2a3f5f"
           }
          },
          "ternary": {
           "aaxis": {
            "gridcolor": "white",
            "linecolor": "white",
            "ticks": ""
           },
           "baxis": {
            "gridcolor": "white",
            "linecolor": "white",
            "ticks": ""
           },
           "bgcolor": "#E5ECF6",
           "caxis": {
            "gridcolor": "white",
            "linecolor": "white",
            "ticks": ""
           }
          },
          "title": {
           "x": 0.05
          },
          "xaxis": {
           "automargin": true,
           "gridcolor": "white",
           "linecolor": "white",
           "ticks": "",
           "title": {
            "standoff": 15
           },
           "zerolinecolor": "white",
           "zerolinewidth": 2
          },
          "yaxis": {
           "automargin": true,
           "gridcolor": "white",
           "linecolor": "white",
           "ticks": "",
           "title": {
            "standoff": 15
           },
           "zerolinecolor": "white",
           "zerolinewidth": 2
          }
         }
        },
        "title": {
         "text": "Cartera de dos activos variando el coeficiente de correlación",
         "x": 0.5
        },
        "xaxis": {
         "title": {
          "text": "Volatilidad"
         }
        },
        "yaxis": {
         "title": {
          "text": "Retorno"
         }
        }
       }
      },
      "text/html": [
       "<div>                            <div id=\"659753aa-2f55-49c4-825c-3f70aa622b1a\" class=\"plotly-graph-div\" style=\"height:525px; width:100%;\"></div>            <script type=\"text/javascript\">                require([\"plotly\"], function(Plotly) {                    window.PLOTLYENV=window.PLOTLYENV || {};                                    if (document.getElementById(\"659753aa-2f55-49c4-825c-3f70aa622b1a\")) {                    Plotly.newPlot(                        \"659753aa-2f55-49c4-825c-3f70aa622b1a\",                        [{\"marker\":{\"color\":\"#440154\",\"opacity\":0.5,\"size\":8},\"mode\":\"markers\",\"name\":\"Corr -1\",\"x\":[0.15,0.146,0.142,0.13799999999999998,0.13399999999999998,0.13,0.126,0.122,0.11800000000000001,0.114,0.11,0.10600000000000001,0.102,0.098,0.09399999999999999,0.08999999999999998,0.086,0.08199999999999999,0.07800000000000001,0.07400000000000001,0.07000000000000002,0.06600000000000002,0.062,0.058,0.054,0.050000000000000024,0.04599999999999998,0.042,0.037999999999999985,0.03400000000000001,0.029999999999999968,0.025999999999999992,0.02200000000000004,0.017999999999999943,0.014000000000000061,0.009999999999999969,0.00599999999999982,0.002000000000001,0.002000000000001,0.00599999999999982,0.010000000000000142,0.014000000000000061,0.017999999999999943,0.02200000000000004,0.025999999999999922,0.029999999999999968,0.03400000000000001,0.03800000000000001,0.04200000000000006,0.046,0.04999999999999999,0.053999999999999986,0.058000000000000024,0.06200000000000003,0.06599999999999999,0.07,0.07400000000000004,0.07800000000000001,0.08199999999999999,0.086,0.09,0.094,0.098,0.10200000000000002,0.106,0.11000000000000001,0.11400000000000002,0.11800000000000002,0.12200000000000004,0.12600000000000003,0.13000000000000003,0.13399999999999998,0.13799999999999998,0.14200000000000002,0.14600000000000002,0.15,0.154,0.158,0.162,0.16600000000000004,0.17000000000000004,0.17400000000000004,0.17800000000000002,0.18200000000000002,0.186,0.18999999999999997,0.19399999999999998,0.198,0.20199999999999999,0.20600000000000002,0.21000000000000002,0.21400000000000002,0.218,0.22200000000000003,0.22600000000000003,0.23,0.23399999999999999,0.238,0.242,0.246,0.25],\"y\":[0.1,0.101,0.10200000000000001,0.10300000000000001,0.10400000000000001,0.10500000000000001,0.106,0.107,0.10800000000000001,0.10900000000000001,0.11000000000000001,0.11100000000000002,0.11200000000000002,0.11300000000000002,0.11400000000000002,0.115,0.116,0.117,0.11800000000000002,0.11900000000000002,0.12000000000000002,0.12100000000000002,0.12200000000000003,0.12300000000000003,0.12400000000000001,0.125,0.126,0.127,0.128,0.129,0.13,0.131,0.132,0.133,0.134,0.135,0.136,0.137,0.138,0.139,0.14,0.14100000000000001,0.14200000000000002,0.14300000000000002,0.14400000000000002,0.14500000000000002,0.14600000000000002,0.14700000000000002,0.14800000000000002,0.14900000000000002,0.15000000000000002,0.15100000000000002,0.15200000000000002,0.15300000000000002,0.15400000000000003,0.15500000000000003,0.15600000000000003,0.15700000000000003,0.158,0.159,0.16,0.161,0.162,0.163,0.164,0.165,0.166,0.167,0.168,0.169,0.17,0.17099999999999999,0.172,0.173,0.174,0.17500000000000002,0.17600000000000002,0.17700000000000002,0.17800000000000002,0.17900000000000002,0.18000000000000002,0.18100000000000002,0.18200000000000002,0.18300000000000002,0.18400000000000002,0.18500000000000003,0.18600000000000003,0.18700000000000003,0.18800000000000003,0.18900000000000003,0.19000000000000003,0.19100000000000003,0.19200000000000003,0.19300000000000003,0.19400000000000003,0.19500000000000003,0.196,0.197,0.198,0.199,0.2],\"type\":\"scatter\"},{\"marker\":{\"color\":\"#3b528b\",\"opacity\":0.5,\"size\":8},\"mode\":\"markers\",\"name\":\"Corr -0.8\",\"x\":[0.15,0.14650767897963574,0.1430314650697531,0.1395725617734374,0.13613228860193308,0.13271209439986997,0.12931357237351385,0.12593847704335637,0.12258874336577565,0.11926650829130532,0.11597413504743202,0.11271424044902224,0.10948972554536796,0.10630380990350252,0.10316006979447036,0.10006248048094749,0.09701546268507923,0.09402393312343406,0.09109335870413386,0.088229813555283,0.08544003745317533,0.08273149339882607,0.08011242100947892,0.0775918810185705,0.07517978451685,0.07288689868556626,0.07072481884034768,0.06870589494359272,0.0668430998682736,0.06514982732133678,0.06363961030678926,0.062325757115337145,0.06122091146005588,0.06033655608335628,0.059682493245507104,0.059266347955648474,0.059093146810776605,0.05916502345136021,0.05948108943185223,0.060037488288568475,0.06082762530298221,0.061842541991739,0.0630713881248859,0.06450193795538241,0.06612110101926612,0.06791538853603062,0.0698713102782537,0.07197569034055874,0.07421590126111792,0.07658002350482793,0.07905694150420947,0.08163638894512665,0.08430895563343198,0.0870660668687865,0.08989994438263017,0.09280355596635292,0.09577055915050305,0.09879524280045068,0.10187246929372036,0.1049976190206235,0.10816653826391967,0.11137549102024197,0.11462111498323509,0.11790038167877152,0.12121056059601407,0.12454918707081152,0.12791403363196707,0.13130308450299255,0.1347145129523913,0.138146661197439,0.141598022585063,0.14506722579549108,0.14855302083767935,0.15205426662872698,0.15556991997169634,0.15909902576697318,0.1626407083112958,0.16619416355576389,0.1697586522095413,0.17333349358966954,0.17691806012954134,0.18051177246927694,0.1841140950606444,0.1877245322274103,0.19134262462922366,0.19496794608345236,0.198600100704909,0.20223872032822993,0.20588346218188577,0.209534006786488,0.21319005605327845,0.21685133156151015,0.22051757299589528,0.22418853672746072,0.22786399452304879,0.2315437323703667,0.2352275494069519,0.2389152569427076,0.2426066775667974,0.24630164433068652,0.25],\"y\":[0.1,0.101,0.10200000000000001,0.10300000000000001,0.10400000000000001,0.10500000000000001,0.106,0.107,0.10800000000000001,0.10900000000000001,0.11000000000000001,0.11100000000000002,0.11200000000000002,0.11300000000000002,0.11400000000000002,0.115,0.116,0.117,0.11800000000000002,0.11900000000000002,0.12000000000000002,0.12100000000000002,0.12200000000000003,0.12300000000000003,0.12400000000000001,0.125,0.126,0.127,0.128,0.129,0.13,0.131,0.132,0.133,0.134,0.135,0.136,0.137,0.138,0.139,0.14,0.14100000000000001,0.14200000000000002,0.14300000000000002,0.14400000000000002,0.14500000000000002,0.14600000000000002,0.14700000000000002,0.14800000000000002,0.14900000000000002,0.15000000000000002,0.15100000000000002,0.15200000000000002,0.15300000000000002,0.15400000000000003,0.15500000000000003,0.15600000000000003,0.15700000000000003,0.158,0.159,0.16,0.161,0.162,0.163,0.164,0.165,0.166,0.167,0.168,0.169,0.17,0.17099999999999999,0.172,0.173,0.174,0.17500000000000002,0.17600000000000002,0.17700000000000002,0.17800000000000002,0.17900000000000002,0.18000000000000002,0.18100000000000002,0.18200000000000002,0.18300000000000002,0.18400000000000002,0.18500000000000003,0.18600000000000003,0.18700000000000003,0.18800000000000003,0.18900000000000003,0.19000000000000003,0.19100000000000003,0.19200000000000003,0.19300000000000003,0.19400000000000003,0.19500000000000003,0.196,0.197,0.198,0.199,0.2],\"type\":\"scatter\"},{\"marker\":{\"color\":\"#21918c\",\"opacity\":0.5,\"size\":8},\"mode\":\"markers\",\"name\":\"Corr -0.5\",\"x\":[0.15,0.14726591594798843,0.14456486433431878,0.14189873149538723,0.13926952286842947,0.13667936932836644,0.13413053343664894,0.13162541547892642,0.1291665591397402,0.12675665662993799,0.12439855304624729,0.1220952497028447,0.11984990613262908,0.11766584041258533,0.11554652742510264,0.11349559462816165,0.11151681487560519,0.10961409580888763,0.1077914653393301,0.10605305276134205,0.10440306508910552,0.1028457582985317,0.10138540328863914,0.1000262465555916,0.09877246579892597,0.09762812094883319,0.09659710140578753,0.09568307060290238,0.09488940931421166,0.09421915941038744,0.09367496997597596,0.09325904781842885,0.09297311439335568,0.09281837102642988,0.09279547402756236,0.09290452088031022,0.09314504817756013,0.09351604140467026,0.09401595609256976,0.09464274932608413,0.09539392014169458,0.09626655701748142,0.09725739046468396,0.09836284867774012,0.09957911427603681,0.10090218035305282,0.10232790430767162,0.10385205823670517,0.10547037498748169,0.1071785892797624,0.10897247358851683,0.11084786872105389,0.1128007092176286,0.11482704385291821,0.11692305161943045,0.11908505363814555,0.12130952147296602,0.12359308233068711,0.12593252161375948,0.12832478326496405,0.1307669683062202,0.13325633193210745,0.13579027947537334,0.13836636151897613,0.14098226838861685,0.14363582422223226,0.1463249807790864,0.1490478111211299,0.15180250327316744,0.1545873539459163,0.15740076238697195,0.160241224408702,0.16310732662881824,0.165997740948484,0.1689112192839777,0.171846588560844,0.17480274597385476,0.177778654511727,0.18077333874219398,0.18378588085051584,0.18681541692269407,0.18986113346338163,0.19292226413765728,0.19599808672535557,0.19908792027644467,0.2021911224559575,0.2053070870671541,0.2084352417418897,0.21157504578754083,0.21472598818028527,0.21788758569500927,0.22105938116261886,0.224240941846042,0.22743185792672058,0.23063174109389195,0.23384022322945214,0.23705695518166092,0.24028160562140413,0.24351385997515623,0.24675341942919454,0.25],\"y\":[0.1,0.101,0.10200000000000001,0.10300000000000001,0.10400000000000001,0.10500000000000001,0.106,0.107,0.10800000000000001,0.10900000000000001,0.11000000000000001,0.11100000000000002,0.11200000000000002,0.11300000000000002,0.11400000000000002,0.115,0.116,0.117,0.11800000000000002,0.11900000000000002,0.12000000000000002,0.12100000000000002,0.12200000000000003,0.12300000000000003,0.12400000000000001,0.125,0.126,0.127,0.128,0.129,0.13,0.131,0.132,0.133,0.134,0.135,0.136,0.137,0.138,0.139,0.14,0.14100000000000001,0.14200000000000002,0.14300000000000002,0.14400000000000002,0.14500000000000002,0.14600000000000002,0.14700000000000002,0.14800000000000002,0.14900000000000002,0.15000000000000002,0.15100000000000002,0.15200000000000002,0.15300000000000002,0.15400000000000003,0.15500000000000003,0.15600000000000003,0.15700000000000003,0.158,0.159,0.16,0.161,0.162,0.163,0.164,0.165,0.166,0.167,0.168,0.169,0.17,0.17099999999999999,0.172,0.173,0.174,0.17500000000000002,0.17600000000000002,0.17700000000000002,0.17800000000000002,0.17900000000000002,0.18000000000000002,0.18100000000000002,0.18200000000000002,0.18300000000000002,0.18400000000000002,0.18500000000000003,0.18600000000000003,0.18700000000000003,0.18800000000000003,0.18900000000000003,0.19000000000000003,0.19100000000000003,0.19200000000000003,0.19300000000000003,0.19400000000000003,0.19500000000000003,0.196,0.197,0.198,0.199,0.2],\"type\":\"scatter\"},{\"marker\":{\"color\":\"#5ec962\",\"opacity\":0.5,\"size\":8},\"mode\":\"markers\",\"name\":\"Corr 0\",\"x\":[0.15,0.14852104228021024,0.14708500943332056,0.14569317073905694,0.14434680460612903,0.14304719500919966,0.1417956275771577,0.14059338533515722,0.13944174410842688,0.13834196760202597,0.1372953021774598,0.1363029713542592,0.13536617007214174,0.1344860587570325,0.13366375724181928,0.13290033860002012,0.13219682295728594,0.13155417135157668,0.13097327971765846,0.13045497307500395,0.13000000000000003,0.1296090274633677,0.12928263611173776,0.12902131606831485,0.12882546332150333,0.1286953767623375,0.12863125592172378,0.12863319944711007,0.12870120434556934,0.12883516600680112,0.1290348790056394,0.12930003866975445,0.12963024338479043,0.130024997596616,0.13048371545905643,0.13100572506573901,0.13159027319676783,0.13223653050500078,0.13294359706281458,0.1337105081883993,0.13453624047073712,0.13541971791434215,0.13635981812836215,0.1373553784895226,0.13840520221436764,0.13950806428303705,0.1406627171641441,0.14186789629792923,0.14312232530251875,0.14442472087561742,0.1457737973711325,0.1471682710369324,0.14860686390607938,0.1500883073393794,0.15161134522191932,0.15317473682040392,0.15477725931156683,0.15641770999474452,0.15809490820390137,0.15980769693603622,0.16155494421403513,0.16333554420272398,0.16514841809717706,0.16699251480231084,0.16886681142249355,0.17077031357938066,0.17270205557549106,0.1746611004202138,0.17664653973401234,0.17865749354561092,0.18069310999592653,0.1827525649614801,0.18483506160899235,0.18693982989186653,0.18906612599828665,0.19121323175972943,0.193380454027805,0.1955671240265091,0.19777259668619412,0.1999962499648431,0.20223748416156687,0.20449572122663107,0.20677040407176267,0.20906099588397642,0.21136697944570243,0.213687856463581,0.21602314690791816,0.21837238836446332,0.22073513539987238,0.22311095894195784,0.22549944567559363,0.2279001974549386,0.23031283073246267,0.23273697600510326,0.23517227727774379,0.23761839154408904,0.24007498828491067,0.24254174898355127,0.24501836665850174,0.2475045454128065,0.25],\"y\":[0.1,0.101,0.10200000000000001,0.10300000000000001,0.10400000000000001,0.10500000000000001,0.106,0.107,0.10800000000000001,0.10900000000000001,0.11000000000000001,0.11100000000000002,0.11200000000000002,0.11300000000000002,0.11400000000000002,0.115,0.116,0.117,0.11800000000000002,0.11900000000000002,0.12000000000000002,0.12100000000000002,0.12200000000000003,0.12300000000000003,0.12400000000000001,0.125,0.126,0.127,0.128,0.129,0.13,0.131,0.132,0.133,0.134,0.135,0.136,0.137,0.138,0.139,0.14,0.14100000000000001,0.14200000000000002,0.14300000000000002,0.14400000000000002,0.14500000000000002,0.14600000000000002,0.14700000000000002,0.14800000000000002,0.14900000000000002,0.15000000000000002,0.15100000000000002,0.15200000000000002,0.15300000000000002,0.15400000000000003,0.15500000000000003,0.15600000000000003,0.15700000000000003,0.158,0.159,0.16,0.161,0.162,0.163,0.164,0.165,0.166,0.167,0.168,0.169,0.17,0.17099999999999999,0.172,0.173,0.174,0.17500000000000002,0.17600000000000002,0.17700000000000002,0.17800000000000002,0.17900000000000002,0.18000000000000002,0.18100000000000002,0.18200000000000002,0.18300000000000002,0.18400000000000002,0.18500000000000003,0.18600000000000003,0.18700000000000003,0.18800000000000003,0.18900000000000003,0.19000000000000003,0.19100000000000003,0.19200000000000003,0.19300000000000003,0.19400000000000003,0.19500000000000003,0.196,0.197,0.198,0.199,0.2],\"type\":\"scatter\"},{\"marker\":{\"color\":\"#3366CC\",\"opacity\":0.5,\"size\":8},\"mode\":\"markers\",\"name\":\"Corr 0.5\",\"x\":[0.15,0.14976565026734268,0.14956269588369955,0.14939126480487405,0.14925146565444508,0.14914338738274655,0.14906709898565812,0.14902264928526804,0.14901006677402706,0.1490293595235516,0.14908051515875576,0.1491635008975051,0.14927826365549673,0.1494247302155838,0.14960280746028798,0.14981238266578634,0.15005332385522155,0.15032548020877898,0.1506286825275983,0.1509627437482507,0.15132745950421558,0.15172260873053825,0.15214795430764094,0.1526032437400988,0.15308820986607688,0.15360257159305635,0.15414603465545262,0.15471829238974943,0.1553190265228314,0.15594790796929595,0.15660459763365825,0.15728874721352445,0.158,0.15873799167181118,0.15950235107985086,0.1602927010191044,0.16110865898517063,0.16194983791285497,0.16281584689458212,0.16370629187664107,0.1646207763315433,0.16555890190503197,0.166520269036535,0.1675044775520941,0.16851112722903494,0.16953981833185974,0.17059015211904818,0.1716617313206412,0.17275416058665563,0.17386704690653718,0.175,0.17615263267973033,0.1773245611865429,0.17851540549767686,0.1797247896090019,0.18095234179197572,0.18219769482625187,0.1834604862088837,0.1847403583411053,0.1860369586936961,0.18734993995195195,0.18867896014129398,0.1900236827345476,0.19138377674191717,0.19275891678467172,0.19414878315353923,0.19555306185278715,0.19697144463094138,0.19840362899906847,0.19984931823751614,0.20130822139197396,0.2027800532596833,0.20426453436659042,0.20576139093620066,0.20727035485085657,0.20879116360612582,0.21032356025894958,0.21186729337016602,0.21342211694198893,0.21498779035098714,0.21656407827707716,0.21815075062900885,0.21974758246679305,0.22135435392148942,0.22297085011274456,0.2245968610644414,0.2262321816187962,0.22787661134921242,0.22952995447217775,0.23119201975846831,0.23286262044390035,0.23454157413985266,0.2362287027437606,0.23792383234976694,0.23962679315969657,0.24133741939450667,0.24305554920634914,0.2447810245913682,0.24651369130334322,0.24825339876827468,0.25],\"y\":[0.1,0.101,0.10200000000000001,0.10300000000000001,0.10400000000000001,0.10500000000000001,0.106,0.107,0.10800000000000001,0.10900000000000001,0.11000000000000001,0.11100000000000002,0.11200000000000002,0.11300000000000002,0.11400000000000002,0.115,0.116,0.117,0.11800000000000002,0.11900000000000002,0.12000000000000002,0.12100000000000002,0.12200000000000003,0.12300000000000003,0.12400000000000001,0.125,0.126,0.127,0.128,0.129,0.13,0.131,0.132,0.133,0.134,0.135,0.136,0.137,0.138,0.139,0.14,0.14100000000000001,0.14200000000000002,0.14300000000000002,0.14400000000000002,0.14500000000000002,0.14600000000000002,0.14700000000000002,0.14800000000000002,0.14900000000000002,0.15000000000000002,0.15100000000000002,0.15200000000000002,0.15300000000000002,0.15400000000000003,0.15500000000000003,0.15600000000000003,0.15700000000000003,0.158,0.159,0.16,0.161,0.162,0.163,0.164,0.165,0.166,0.167,0.168,0.169,0.17,0.17099999999999999,0.172,0.173,0.174,0.17500000000000002,0.17600000000000002,0.17700000000000002,0.17800000000000002,0.17900000000000002,0.18000000000000002,0.18100000000000002,0.18200000000000002,0.18300000000000002,0.18400000000000002,0.18500000000000003,0.18600000000000003,0.18700000000000003,0.18800000000000003,0.18900000000000003,0.19000000000000003,0.19100000000000003,0.19200000000000003,0.19300000000000003,0.19400000000000003,0.19500000000000003,0.196,0.197,0.198,0.199,0.2],\"type\":\"scatter\"},{\"marker\":{\"color\":\"#FF6633\",\"opacity\":0.5,\"size\":8},\"mode\":\"markers\",\"name\":\"Corr 1\",\"x\":[0.15,0.151,0.152,0.153,0.154,0.155,0.156,0.157,0.158,0.159,0.16,0.161,0.162,0.163,0.16399999999999998,0.165,0.16599999999999998,0.16699999999999998,0.168,0.169,0.17000000000000004,0.17099999999999999,0.172,0.17300000000000001,0.174,0.175,0.176,0.177,0.178,0.179,0.18,0.181,0.182,0.183,0.184,0.18499999999999997,0.186,0.187,0.188,0.189,0.19,0.191,0.192,0.193,0.194,0.195,0.196,0.197,0.198,0.19899999999999998,0.19999999999999998,0.20099999999999998,0.20199999999999999,0.20299999999999999,0.204,0.205,0.20600000000000002,0.207,0.208,0.209,0.21,0.21100000000000002,0.212,0.213,0.214,0.215,0.216,0.21700000000000003,0.218,0.219,0.22,0.221,0.222,0.22299999999999998,0.224,0.225,0.22599999999999998,0.22699999999999998,0.228,0.229,0.23,0.231,0.232,0.23299999999999998,0.23399999999999999,0.235,0.236,0.237,0.238,0.23900000000000002,0.24000000000000002,0.241,0.242,0.24300000000000002,0.24400000000000002,0.245,0.246,0.247,0.248,0.249,0.25],\"y\":[0.1,0.101,0.10200000000000001,0.10300000000000001,0.10400000000000001,0.10500000000000001,0.106,0.107,0.10800000000000001,0.10900000000000001,0.11000000000000001,0.11100000000000002,0.11200000000000002,0.11300000000000002,0.11400000000000002,0.115,0.116,0.117,0.11800000000000002,0.11900000000000002,0.12000000000000002,0.12100000000000002,0.12200000000000003,0.12300000000000003,0.12400000000000001,0.125,0.126,0.127,0.128,0.129,0.13,0.131,0.132,0.133,0.134,0.135,0.136,0.137,0.138,0.139,0.14,0.14100000000000001,0.14200000000000002,0.14300000000000002,0.14400000000000002,0.14500000000000002,0.14600000000000002,0.14700000000000002,0.14800000000000002,0.14900000000000002,0.15000000000000002,0.15100000000000002,0.15200000000000002,0.15300000000000002,0.15400000000000003,0.15500000000000003,0.15600000000000003,0.15700000000000003,0.158,0.159,0.16,0.161,0.162,0.163,0.164,0.165,0.166,0.167,0.168,0.169,0.17,0.17099999999999999,0.172,0.173,0.174,0.17500000000000002,0.17600000000000002,0.17700000000000002,0.17800000000000002,0.17900000000000002,0.18000000000000002,0.18100000000000002,0.18200000000000002,0.18300000000000002,0.18400000000000002,0.18500000000000003,0.18600000000000003,0.18700000000000003,0.18800000000000003,0.18900000000000003,0.19000000000000003,0.19100000000000003,0.19200000000000003,0.19300000000000003,0.19400000000000003,0.19500000000000003,0.196,0.197,0.198,0.199,0.2],\"type\":\"scatter\"},{\"marker\":{\"color\":\"red\",\"size\":20,\"symbol\":\"star\"},\"mode\":\"markers\",\"name\":\"Activo 1\",\"x\":[0.25],\"y\":[0.2],\"type\":\"scatter\"},{\"marker\":{\"color\":\"green\",\"size\":20,\"symbol\":\"star\"},\"mode\":\"markers\",\"name\":\"Activo 2\",\"x\":[0.15],\"y\":[0.1],\"type\":\"scatter\"}],                        {\"template\":{\"data\":{\"histogram2dcontour\":[{\"type\":\"histogram2dcontour\",\"colorbar\":{\"outlinewidth\":0,\"ticks\":\"\"},\"colorscale\":[[0.0,\"#0d0887\"],[0.1111111111111111,\"#46039f\"],[0.2222222222222222,\"#7201a8\"],[0.3333333333333333,\"#9c179e\"],[0.4444444444444444,\"#bd3786\"],[0.5555555555555556,\"#d8576b\"],[0.6666666666666666,\"#ed7953\"],[0.7777777777777778,\"#fb9f3a\"],[0.8888888888888888,\"#fdca26\"],[1.0,\"#f0f921\"]]}],\"choropleth\":[{\"type\":\"choropleth\",\"colorbar\":{\"outlinewidth\":0,\"ticks\":\"\"}}],\"histogram2d\":[{\"type\":\"histogram2d\",\"colorbar\":{\"outlinewidth\":0,\"ticks\":\"\"},\"colorscale\":[[0.0,\"#0d0887\"],[0.1111111111111111,\"#46039f\"],[0.2222222222222222,\"#7201a8\"],[0.3333333333333333,\"#9c179e\"],[0.4444444444444444,\"#bd3786\"],[0.5555555555555556,\"#d8576b\"],[0.6666666666666666,\"#ed7953\"],[0.7777777777777778,\"#fb9f3a\"],[0.8888888888888888,\"#fdca26\"],[1.0,\"#f0f921\"]]}],\"heatmap\":[{\"type\":\"heatmap\",\"colorbar\":{\"outlinewidth\":0,\"ticks\":\"\"},\"colorscale\":[[0.0,\"#0d0887\"],[0.1111111111111111,\"#46039f\"],[0.2222222222222222,\"#7201a8\"],[0.3333333333333333,\"#9c179e\"],[0.4444444444444444,\"#bd3786\"],[0.5555555555555556,\"#d8576b\"],[0.6666666666666666,\"#ed7953\"],[0.7777777777777778,\"#fb9f3a\"],[0.8888888888888888,\"#fdca26\"],[1.0,\"#f0f921\"]]}],\"heatmapgl\":[{\"type\":\"heatmapgl\",\"colorbar\":{\"outlinewidth\":0,\"ticks\":\"\"},\"colorscale\":[[0.0,\"#0d0887\"],[0.1111111111111111,\"#46039f\"],[0.2222222222222222,\"#7201a8\"],[0.3333333333333333,\"#9c179e\"],[0.4444444444444444,\"#bd3786\"],[0.5555555555555556,\"#d8576b\"],[0.6666666666666666,\"#ed7953\"],[0.7777777777777778,\"#fb9f3a\"],[0.8888888888888888,\"#fdca26\"],[1.0,\"#f0f921\"]]}],\"contourcarpet\":[{\"type\":\"contourcarpet\",\"colorbar\":{\"outlinewidth\":0,\"ticks\":\"\"}}],\"contour\":[{\"type\":\"contour\",\"colorbar\":{\"outlinewidth\":0,\"ticks\":\"\"},\"colorscale\":[[0.0,\"#0d0887\"],[0.1111111111111111,\"#46039f\"],[0.2222222222222222,\"#7201a8\"],[0.3333333333333333,\"#9c179e\"],[0.4444444444444444,\"#bd3786\"],[0.5555555555555556,\"#d8576b\"],[0.6666666666666666,\"#ed7953\"],[0.7777777777777778,\"#fb9f3a\"],[0.8888888888888888,\"#fdca26\"],[1.0,\"#f0f921\"]]}],\"surface\":[{\"type\":\"surface\",\"colorbar\":{\"outlinewidth\":0,\"ticks\":\"\"},\"colorscale\":[[0.0,\"#0d0887\"],[0.1111111111111111,\"#46039f\"],[0.2222222222222222,\"#7201a8\"],[0.3333333333333333,\"#9c179e\"],[0.4444444444444444,\"#bd3786\"],[0.5555555555555556,\"#d8576b\"],[0.6666666666666666,\"#ed7953\"],[0.7777777777777778,\"#fb9f3a\"],[0.8888888888888888,\"#fdca26\"],[1.0,\"#f0f921\"]]}],\"mesh3d\":[{\"type\":\"mesh3d\",\"colorbar\":{\"outlinewidth\":0,\"ticks\":\"\"}}],\"scatter\":[{\"fillpattern\":{\"fillmode\":\"overlay\",\"size\":10,\"solidity\":0.2},\"type\":\"scatter\"}],\"parcoords\":[{\"type\":\"parcoords\",\"line\":{\"colorbar\":{\"outlinewidth\":0,\"ticks\":\"\"}}}],\"scatterpolargl\":[{\"type\":\"scatterpolargl\",\"marker\":{\"colorbar\":{\"outlinewidth\":0,\"ticks\":\"\"}}}],\"bar\":[{\"error_x\":{\"color\":\"#2a3f5f\"},\"error_y\":{\"color\":\"#2a3f5f\"},\"marker\":{\"line\":{\"color\":\"#E5ECF6\",\"width\":0.5},\"pattern\":{\"fillmode\":\"overlay\",\"size\":10,\"solidity\":0.2}},\"type\":\"bar\"}],\"scattergeo\":[{\"type\":\"scattergeo\",\"marker\":{\"colorbar\":{\"outlinewidth\":0,\"ticks\":\"\"}}}],\"scatterpolar\":[{\"type\":\"scatterpolar\",\"marker\":{\"colorbar\":{\"outlinewidth\":0,\"ticks\":\"\"}}}],\"histogram\":[{\"marker\":{\"pattern\":{\"fillmode\":\"overlay\",\"size\":10,\"solidity\":0.2}},\"type\":\"histogram\"}],\"scattergl\":[{\"type\":\"scattergl\",\"marker\":{\"colorbar\":{\"outlinewidth\":0,\"ticks\":\"\"}}}],\"scatter3d\":[{\"type\":\"scatter3d\",\"line\":{\"colorbar\":{\"outlinewidth\":0,\"ticks\":\"\"}},\"marker\":{\"colorbar\":{\"outlinewidth\":0,\"ticks\":\"\"}}}],\"scattermapbox\":[{\"type\":\"scattermapbox\",\"marker\":{\"colorbar\":{\"outlinewidth\":0,\"ticks\":\"\"}}}],\"scatterternary\":[{\"type\":\"scatterternary\",\"marker\":{\"colorbar\":{\"outlinewidth\":0,\"ticks\":\"\"}}}],\"scattercarpet\":[{\"type\":\"scattercarpet\",\"marker\":{\"colorbar\":{\"outlinewidth\":0,\"ticks\":\"\"}}}],\"carpet\":[{\"aaxis\":{\"endlinecolor\":\"#2a3f5f\",\"gridcolor\":\"white\",\"linecolor\":\"white\",\"minorgridcolor\":\"white\",\"startlinecolor\":\"#2a3f5f\"},\"baxis\":{\"endlinecolor\":\"#2a3f5f\",\"gridcolor\":\"white\",\"linecolor\":\"white\",\"minorgridcolor\":\"white\",\"startlinecolor\":\"#2a3f5f\"},\"type\":\"carpet\"}],\"table\":[{\"cells\":{\"fill\":{\"color\":\"#EBF0F8\"},\"line\":{\"color\":\"white\"}},\"header\":{\"fill\":{\"color\":\"#C8D4E3\"},\"line\":{\"color\":\"white\"}},\"type\":\"table\"}],\"barpolar\":[{\"marker\":{\"line\":{\"color\":\"#E5ECF6\",\"width\":0.5},\"pattern\":{\"fillmode\":\"overlay\",\"size\":10,\"solidity\":0.2}},\"type\":\"barpolar\"}],\"pie\":[{\"automargin\":true,\"type\":\"pie\"}]},\"layout\":{\"autotypenumbers\":\"strict\",\"colorway\":[\"#636efa\",\"#EF553B\",\"#00cc96\",\"#ab63fa\",\"#FFA15A\",\"#19d3f3\",\"#FF6692\",\"#B6E880\",\"#FF97FF\",\"#FECB52\"],\"font\":{\"color\":\"#2a3f5f\"},\"hovermode\":\"closest\",\"hoverlabel\":{\"align\":\"left\"},\"paper_bgcolor\":\"white\",\"plot_bgcolor\":\"#E5ECF6\",\"polar\":{\"bgcolor\":\"#E5ECF6\",\"angularaxis\":{\"gridcolor\":\"white\",\"linecolor\":\"white\",\"ticks\":\"\"},\"radialaxis\":{\"gridcolor\":\"white\",\"linecolor\":\"white\",\"ticks\":\"\"}},\"ternary\":{\"bgcolor\":\"#E5ECF6\",\"aaxis\":{\"gridcolor\":\"white\",\"linecolor\":\"white\",\"ticks\":\"\"},\"baxis\":{\"gridcolor\":\"white\",\"linecolor\":\"white\",\"ticks\":\"\"},\"caxis\":{\"gridcolor\":\"white\",\"linecolor\":\"white\",\"ticks\":\"\"}},\"coloraxis\":{\"colorbar\":{\"outlinewidth\":0,\"ticks\":\"\"}},\"colorscale\":{\"sequential\":[[0.0,\"#0d0887\"],[0.1111111111111111,\"#46039f\"],[0.2222222222222222,\"#7201a8\"],[0.3333333333333333,\"#9c179e\"],[0.4444444444444444,\"#bd3786\"],[0.5555555555555556,\"#d8576b\"],[0.6666666666666666,\"#ed7953\"],[0.7777777777777778,\"#fb9f3a\"],[0.8888888888888888,\"#fdca26\"],[1.0,\"#f0f921\"]],\"sequentialminus\":[[0.0,\"#0d0887\"],[0.1111111111111111,\"#46039f\"],[0.2222222222222222,\"#7201a8\"],[0.3333333333333333,\"#9c179e\"],[0.4444444444444444,\"#bd3786\"],[0.5555555555555556,\"#d8576b\"],[0.6666666666666666,\"#ed7953\"],[0.7777777777777778,\"#fb9f3a\"],[0.8888888888888888,\"#fdca26\"],[1.0,\"#f0f921\"]],\"diverging\":[[0,\"#8e0152\"],[0.1,\"#c51b7d\"],[0.2,\"#de77ae\"],[0.3,\"#f1b6da\"],[0.4,\"#fde0ef\"],[0.5,\"#f7f7f7\"],[0.6,\"#e6f5d0\"],[0.7,\"#b8e186\"],[0.8,\"#7fbc41\"],[0.9,\"#4d9221\"],[1,\"#276419\"]]},\"xaxis\":{\"gridcolor\":\"white\",\"linecolor\":\"white\",\"ticks\":\"\",\"title\":{\"standoff\":15},\"zerolinecolor\":\"white\",\"automargin\":true,\"zerolinewidth\":2},\"yaxis\":{\"gridcolor\":\"white\",\"linecolor\":\"white\",\"ticks\":\"\",\"title\":{\"standoff\":15},\"zerolinecolor\":\"white\",\"automargin\":true,\"zerolinewidth\":2},\"scene\":{\"xaxis\":{\"backgroundcolor\":\"#E5ECF6\",\"gridcolor\":\"white\",\"linecolor\":\"white\",\"showbackground\":true,\"ticks\":\"\",\"zerolinecolor\":\"white\",\"gridwidth\":2},\"yaxis\":{\"backgroundcolor\":\"#E5ECF6\",\"gridcolor\":\"white\",\"linecolor\":\"white\",\"showbackground\":true,\"ticks\":\"\",\"zerolinecolor\":\"white\",\"gridwidth\":2},\"zaxis\":{\"backgroundcolor\":\"#E5ECF6\",\"gridcolor\":\"white\",\"linecolor\":\"white\",\"showbackground\":true,\"ticks\":\"\",\"zerolinecolor\":\"white\",\"gridwidth\":2}},\"shapedefaults\":{\"line\":{\"color\":\"#2a3f5f\"}},\"annotationdefaults\":{\"arrowcolor\":\"#2a3f5f\",\"arrowhead\":0,\"arrowwidth\":1},\"geo\":{\"bgcolor\":\"white\",\"landcolor\":\"#E5ECF6\",\"subunitcolor\":\"white\",\"showland\":true,\"showlakes\":true,\"lakecolor\":\"white\"},\"title\":{\"x\":0.05},\"mapbox\":{\"style\":\"light\"}}},\"font\":{\"size\":20},\"title\":{\"text\":\"Cartera de dos activos variando el coeficiente de correlaci\\u00f3n\",\"x\":0.5},\"xaxis\":{\"title\":{\"text\":\"Volatilidad\"}},\"yaxis\":{\"title\":{\"text\":\"Retorno\"}}},                        {\"responsive\": true}                    ).then(function(){\n",
       "                            \n",
       "var gd = document.getElementById('659753aa-2f55-49c4-825c-3f70aa622b1a');\n",
       "var x = new MutationObserver(function (mutations, observer) {{\n",
       "        var display = window.getComputedStyle(gd).display;\n",
       "        if (!display || display === 'none') {{\n",
       "            console.log([gd, 'removed!']);\n",
       "            Plotly.purge(gd);\n",
       "            observer.disconnect();\n",
       "        }}\n",
       "}});\n",
       "\n",
       "// Listen for the removal of the full notebook cells\n",
       "var notebookContainer = gd.closest('#notebook-container');\n",
       "if (notebookContainer) {{\n",
       "    x.observe(notebookContainer, {childList: true});\n",
       "}}\n",
       "\n",
       "// Listen for the clearing of the current output cell\n",
       "var outputEl = gd.closest('.output');\n",
       "if (outputEl) {{\n",
       "    x.observe(outputEl, {childList: true});\n",
       "}}\n",
       "\n",
       "                        })                };                });            </script>        </div>"
      ]
     },
     "metadata": {},
     "output_type": "display_data"
    }
   ],
   "source": [
    "x = np.linspace(0, 1, 101)\n",
    "coef_corr_lst = [-1, -0.8, -0.5, 0, 0.5, 1]\n",
    "\n",
    "# Definir un mapa de colores basado en coef_corr_lst\n",
    "#colors = ['#440154', '#3b528b', '#21918c', '#5ec962', '#fde725', '#f0f921'] # con amarillos\n",
    "colors = ['#440154', '#3b528b', '#21918c', '#5ec962', '#3366CC', '#FF6633']\n",
    "\n",
    "# Ajustar el tamaño de la\n",
    "layout_width = 1200  # Ancho en píxeles\n",
    "layout_height = 700  # Altura en píxeles\n",
    "\n",
    "# Crear la figura de plotly\n",
    "fig = go.Figure()\n",
    "\n",
    "for idx, coef_corr_i in enumerate(coef_corr_lst):\n",
    "    ret_lst = []\n",
    "    std_lst = []\n",
    "\n",
    "    for i in x:\n",
    "        reti = calc_ret_cartera(i, 1 - i, ret1, ret2) \n",
    "        stdi = calc_std_cartera(i, 1 - i, std1, std2, coef_corr_i) \n",
    "\n",
    "        ret_lst.append(reti)\n",
    "        std_lst.append(stdi)\n",
    "\n",
    "    fig.add_trace(go.Scatter(x=std_lst, y=ret_lst, mode='markers', \n",
    "                             name=f'Corr {coef_corr_i}', marker=dict(color=colors[idx], size=8, opacity=0.5)))\n",
    "\n",
    "# Añadir puntos de activos individuales\n",
    "fig.add_trace(go.Scatter(x=[std1], y=[ret1], mode='markers', marker=dict(color='red', size=20, symbol='star'),\n",
    "                         name='Activo 1'))\n",
    "fig.add_trace(go.Scatter(x=[std2], y=[ret2], mode='markers', marker=dict(color='green', size=20, symbol='star'),\n",
    "                         name='Activo 2'))\n",
    "\n",
    "# Configurar títulos y etiquetas\n",
    "\n",
    "title_font_size = 20  # Tamaño de fuente del título\n",
    "\n",
    "fig.update_layout(title='Cartera de dos activos variando el coeficiente de correlación',\n",
    "                  font=dict(size=title_font_size),\n",
    "                  title_x=0.5,\n",
    "                  #xanchor='center',\n",
    "                  xaxis_title='Volatilidad',\n",
    "                  yaxis_title='Retorno',\n",
    "                  )\n",
    "\n",
    "# Mostrar el gráfico\n",
    "fig.show()\n"
   ]
  },
  {
   "cell_type": "markdown",
   "metadata": {},
   "source": [
    "## 2. Cálculo de la cartera de mínima volatilidad"
   ]
  },
  {
   "cell_type": "markdown",
   "metadata": {},
   "source": [
    "Vamos a calcular la cartera de mínima varianza:\n",
    "\n",
    "* Partimos de la fórmula de la varianza de la cartera:\n",
    "\n",
    "    - $\\sigma²(\\tilde R_p)= w_1²\\sigma²_1(\\tilde R_1)+w_2²\\sigma²_2(\\tilde R_2)+ 2w_1w_2 \\rho_{12} \\sigma_1 \\sigma_2 $\n",
    "    $$$$\n",
    "\n",
    "* Calculamos la derivada respecto de $w_1$, sustituimos $w_2=1-w_1$ e igualamos a 0:\n",
    "\n",
    "    - $\\dfrac{\\partial \\sigma²(\\tilde R_p)}{\\partial w_1}= 2w_1\\sigma²(\\tilde R_1)+2(1-w_1)\\sigma²(\\tilde R_2)+ 2(1-w_1) \\rho_{12} \\sigma_1 \\sigma_2 = 0$\n",
    "    $$$$\n",
    "\n",
    "* Despejamos $w_1$:\n",
    "\n",
    "    - $w_1 = \\dfrac{\\sigma_2²-\\rho_{12} \\sigma_1 \\sigma_2}{\\sigma_1²+\\sigma_2²-2 \\rho_{12} \\sigma_1 \\sigma_2}$\n",
    "    \n",
    "\n",
    "\n",
    "  \n",
    "\n"
   ]
  },
  {
   "cell_type": "markdown",
   "metadata": {},
   "source": [
    "En el caso de dos activos con correlación $\\rho_{12} = -1$:\n",
    "\n",
    "* $w_1 = \\dfrac{\\sigma_2²+\\sigma_1 \\sigma_2}{\\sigma_1²+\\sigma_2²+2 \\sigma_1 \\sigma_2} = \\dfrac{\\sigma_2(\\sigma_1+\\sigma_2)}{(\\sigma_1+\\sigma_2)²} = \\dfrac{\\sigma_2}{\\sigma_1+\\sigma_2}$"
   ]
  },
  {
   "cell_type": "markdown",
   "metadata": {},
   "source": [
    "Si lo aplicamos al ejemplo de la cartera con dos activos que hemos estado usando:"
   ]
  },
  {
   "cell_type": "code",
   "execution_count": 15,
   "metadata": {},
   "outputs": [
    {
     "name": "stdout",
     "output_type": "stream",
     "text": [
      "El peso del activo 1 es: 37.50%\n",
      "El peso del activo 2 es: 62.50%\n"
     ]
    }
   ],
   "source": [
    "p1 = std2/(std1+std2)\n",
    "p2 = 1 - p1\n",
    "print(f'El peso del activo 1 es: {100*p1:.2f}%')\n",
    "print(f'El peso del activo 2 es: {100*p2:.2f}%')\n"
   ]
  },
  {
   "cell_type": "code",
   "execution_count": 16,
   "metadata": {},
   "outputs": [
    {
     "name": "stdout",
     "output_type": "stream",
     "text": [
      "El retorno de la cartera es:13.75 %\n",
      "La volatilidad de la cartera es:0.00 %\n"
     ]
    }
   ],
   "source": [
    "# calculamos la rentabilidad y volatilidad de la cartera con los nuevos pesos\n",
    "print(f'El retorno de la cartera es:{100*calc_ret_cartera(p1, p2, ret1, ret2):.2f} %')\n",
    "print(f'La volatilidad de la cartera es:{100*calc_std_cartera(p1, p2, std1, std2, coef_corr_neg):.2f} %')"
   ]
  },
  {
   "cell_type": "markdown",
   "metadata": {},
   "source": [
    "**CONCLUSIONES**\n",
    "\n",
    "Recordad que con los pesos iniciales y $\\rho_{12}=1$ nos dió:\n",
    "\n",
    "* $E(\\tilde R_p) = 14$%\n",
    "\n",
    "* $\\sigma_p = 19$%\n",
    "\n",
    "Y hemos visto que con $\\rho_{12}=-1$ y la fórmula de la cartera de mínima varianza nos ha dado:\n",
    "\n",
    "* $E(\\tilde R_p) = 13.75$%\n",
    "\n",
    "* $\\sigma_p = 0$%\n",
    "\n",
    "Gracias a la **diversificación**, obtenemos casi la misma rentabilidad pero **sin riesgo**."
   ]
  }
 ],
 "metadata": {
  "kernelspec": {
   "display_name": "Python 3 (ipykernel)",
   "language": "python",
   "name": "python3"
  },
  "language_info": {
   "codemirror_mode": {
    "name": "ipython",
    "version": 3
   },
   "file_extension": ".py",
   "mimetype": "text/x-python",
   "name": "python",
   "nbconvert_exporter": "python",
   "pygments_lexer": "ipython3",
   "version": "3.11.5"
  }
 },
 "nbformat": 4,
 "nbformat_minor": 2
}
