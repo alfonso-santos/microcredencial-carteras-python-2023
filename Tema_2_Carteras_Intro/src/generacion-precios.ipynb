{
 "cells": [
  {
   "cell_type": "code",
   "execution_count": 1,
   "metadata": {},
   "outputs": [
    {
     "data": {
      "text/html": [
       "<link rel='stylesheet' href='../../design/custom.css'>"
      ],
      "text/plain": [
       "<IPython.core.display.HTML object>"
      ]
     },
     "metadata": {},
     "output_type": "display_data"
    }
   ],
   "source": [
    "from IPython.display import HTML, display\n",
    "css_file_path = \"../../design/custom.css\"\n",
    "styles = \"<link rel='stylesheet' href='%s'>\" % css_file_path\n",
    "display(HTML(styles))"
   ]
  },
  {
   "cell_type": "markdown",
   "metadata": {},
   "source": [
    "# Python aplicado a la Gestión de Carteras"
   ]
  },
  {
   "cell_type": "markdown",
   "metadata": {},
   "source": [
    "## SIMULACIONES DE MONTECARLO DE UNA CARTERA CON MUCHOS ACTIVOS"
   ]
  },
  {
   "cell_type": "code",
   "execution_count": 7,
   "metadata": {},
   "outputs": [],
   "source": [
    "import numpy as np\n",
    "import pandas as pd\n",
    "import pandas_market_calendars as mcal\n",
    "import matplotlib.pyplot as plt\n",
    "import seaborn as sns\n",
    "import cvxpy as cp\n",
    "\n",
    "from utils import dibuja_covar\n",
    "\n",
    "plt.style.use('ggplot')"
   ]
  },
  {
   "cell_type": "markdown",
   "metadata": {},
   "source": [
    "Vamos a utilizar el índice S&P500 para obtener la cartera con mínima varianza y, a partir de ahí, generar las simulaciones de Montecarlo siguiendo dos estrategias diferentes:\n",
    "\n",
    "* Considerar la cartera como un único activo y volver a la simulación del TEMA 1\n",
    "\n",
    "* Considerar la combinación de los activos que componen la cartera"
   ]
  },
  {
   "cell_type": "markdown",
   "metadata": {},
   "source": [
    "### Carga de datos"
   ]
  },
  {
   "cell_type": "markdown",
   "metadata": {},
   "source": [
    "Descargamos los datos de S&P500"
   ]
  },
  {
   "cell_type": "code",
   "execution_count": 3,
   "metadata": {},
   "outputs": [
    {
     "data": {
      "text/html": [
       "<div>\n",
       "<style scoped>\n",
       "    .dataframe tbody tr th:only-of-type {\n",
       "        vertical-align: middle;\n",
       "    }\n",
       "\n",
       "    .dataframe tbody tr th {\n",
       "        vertical-align: top;\n",
       "    }\n",
       "\n",
       "    .dataframe thead th {\n",
       "        text-align: right;\n",
       "    }\n",
       "</style>\n",
       "<table border=\"1\" class=\"dataframe\">\n",
       "  <thead>\n",
       "    <tr style=\"text-align: right;\">\n",
       "      <th></th>\n",
       "      <th>A</th>\n",
       "      <th>AAL</th>\n",
       "      <th>AAP</th>\n",
       "      <th>AAPL</th>\n",
       "      <th>ABBV</th>\n",
       "      <th>ABC</th>\n",
       "      <th>ABT</th>\n",
       "      <th>ACGL</th>\n",
       "      <th>ACN</th>\n",
       "      <th>ADBE</th>\n",
       "      <th>...</th>\n",
       "      <th>WYNN</th>\n",
       "      <th>XEL</th>\n",
       "      <th>XOM</th>\n",
       "      <th>XRAY</th>\n",
       "      <th>XYL</th>\n",
       "      <th>YUM</th>\n",
       "      <th>ZBH</th>\n",
       "      <th>ZBRA</th>\n",
       "      <th>ZION</th>\n",
       "      <th>ZTS</th>\n",
       "    </tr>\n",
       "    <tr>\n",
       "      <th>Date</th>\n",
       "      <th></th>\n",
       "      <th></th>\n",
       "      <th></th>\n",
       "      <th></th>\n",
       "      <th></th>\n",
       "      <th></th>\n",
       "      <th></th>\n",
       "      <th></th>\n",
       "      <th></th>\n",
       "      <th></th>\n",
       "      <th></th>\n",
       "      <th></th>\n",
       "      <th></th>\n",
       "      <th></th>\n",
       "      <th></th>\n",
       "      <th></th>\n",
       "      <th></th>\n",
       "      <th></th>\n",
       "      <th></th>\n",
       "      <th></th>\n",
       "      <th></th>\n",
       "    </tr>\n",
       "  </thead>\n",
       "  <tbody>\n",
       "    <tr>\n",
       "      <th>1990-01-02</th>\n",
       "      <td>NaN</td>\n",
       "      <td>NaN</td>\n",
       "      <td>NaN</td>\n",
       "      <td>0.332589</td>\n",
       "      <td>NaN</td>\n",
       "      <td>NaN</td>\n",
       "      <td>3.885798</td>\n",
       "      <td>NaN</td>\n",
       "      <td>NaN</td>\n",
       "      <td>1.265625</td>\n",
       "      <td>...</td>\n",
       "      <td>NaN</td>\n",
       "      <td>20.2500</td>\n",
       "      <td>12.5000</td>\n",
       "      <td>1.041667</td>\n",
       "      <td>NaN</td>\n",
       "      <td>NaN</td>\n",
       "      <td>NaN</td>\n",
       "      <td>NaN</td>\n",
       "      <td>3.5000</td>\n",
       "      <td>NaN</td>\n",
       "    </tr>\n",
       "    <tr>\n",
       "      <th>1990-01-03</th>\n",
       "      <td>NaN</td>\n",
       "      <td>NaN</td>\n",
       "      <td>NaN</td>\n",
       "      <td>0.334821</td>\n",
       "      <td>NaN</td>\n",
       "      <td>NaN</td>\n",
       "      <td>3.899826</td>\n",
       "      <td>NaN</td>\n",
       "      <td>NaN</td>\n",
       "      <td>1.328125</td>\n",
       "      <td>...</td>\n",
       "      <td>NaN</td>\n",
       "      <td>20.1875</td>\n",
       "      <td>12.3750</td>\n",
       "      <td>1.041667</td>\n",
       "      <td>NaN</td>\n",
       "      <td>NaN</td>\n",
       "      <td>NaN</td>\n",
       "      <td>NaN</td>\n",
       "      <td>3.5625</td>\n",
       "      <td>NaN</td>\n",
       "    </tr>\n",
       "    <tr>\n",
       "      <th>1990-01-04</th>\n",
       "      <td>NaN</td>\n",
       "      <td>NaN</td>\n",
       "      <td>NaN</td>\n",
       "      <td>0.335938</td>\n",
       "      <td>NaN</td>\n",
       "      <td>NaN</td>\n",
       "      <td>3.892812</td>\n",
       "      <td>NaN</td>\n",
       "      <td>NaN</td>\n",
       "      <td>1.390625</td>\n",
       "      <td>...</td>\n",
       "      <td>NaN</td>\n",
       "      <td>19.6875</td>\n",
       "      <td>12.2500</td>\n",
       "      <td>1.000000</td>\n",
       "      <td>NaN</td>\n",
       "      <td>NaN</td>\n",
       "      <td>NaN</td>\n",
       "      <td>NaN</td>\n",
       "      <td>3.5625</td>\n",
       "      <td>NaN</td>\n",
       "    </tr>\n",
       "    <tr>\n",
       "      <th>1990-01-05</th>\n",
       "      <td>NaN</td>\n",
       "      <td>NaN</td>\n",
       "      <td>NaN</td>\n",
       "      <td>0.337054</td>\n",
       "      <td>NaN</td>\n",
       "      <td>NaN</td>\n",
       "      <td>3.850728</td>\n",
       "      <td>NaN</td>\n",
       "      <td>NaN</td>\n",
       "      <td>1.421875</td>\n",
       "      <td>...</td>\n",
       "      <td>NaN</td>\n",
       "      <td>19.5000</td>\n",
       "      <td>12.1875</td>\n",
       "      <td>1.062500</td>\n",
       "      <td>NaN</td>\n",
       "      <td>NaN</td>\n",
       "      <td>NaN</td>\n",
       "      <td>NaN</td>\n",
       "      <td>3.5625</td>\n",
       "      <td>NaN</td>\n",
       "    </tr>\n",
       "    <tr>\n",
       "      <th>1990-01-08</th>\n",
       "      <td>NaN</td>\n",
       "      <td>NaN</td>\n",
       "      <td>NaN</td>\n",
       "      <td>0.339286</td>\n",
       "      <td>NaN</td>\n",
       "      <td>NaN</td>\n",
       "      <td>3.850728</td>\n",
       "      <td>NaN</td>\n",
       "      <td>NaN</td>\n",
       "      <td>1.437500</td>\n",
       "      <td>...</td>\n",
       "      <td>NaN</td>\n",
       "      <td>19.3125</td>\n",
       "      <td>12.3750</td>\n",
       "      <td>1.020833</td>\n",
       "      <td>NaN</td>\n",
       "      <td>NaN</td>\n",
       "      <td>NaN</td>\n",
       "      <td>NaN</td>\n",
       "      <td>3.5625</td>\n",
       "      <td>NaN</td>\n",
       "    </tr>\n",
       "  </tbody>\n",
       "</table>\n",
       "<p>5 rows × 483 columns</p>\n",
       "</div>"
      ],
      "text/plain": [
       "             A  AAL  AAP      AAPL  ABBV  ABC       ABT  ACGL  ACN      ADBE  \\\n",
       "Date                                                                           \n",
       "1990-01-02 NaN  NaN  NaN  0.332589   NaN  NaN  3.885798   NaN  NaN  1.265625   \n",
       "1990-01-03 NaN  NaN  NaN  0.334821   NaN  NaN  3.899826   NaN  NaN  1.328125   \n",
       "1990-01-04 NaN  NaN  NaN  0.335938   NaN  NaN  3.892812   NaN  NaN  1.390625   \n",
       "1990-01-05 NaN  NaN  NaN  0.337054   NaN  NaN  3.850728   NaN  NaN  1.421875   \n",
       "1990-01-08 NaN  NaN  NaN  0.339286   NaN  NaN  3.850728   NaN  NaN  1.437500   \n",
       "\n",
       "            ...  WYNN      XEL      XOM      XRAY  XYL  YUM  ZBH  ZBRA  \\\n",
       "Date        ...                                                          \n",
       "1990-01-02  ...   NaN  20.2500  12.5000  1.041667  NaN  NaN  NaN   NaN   \n",
       "1990-01-03  ...   NaN  20.1875  12.3750  1.041667  NaN  NaN  NaN   NaN   \n",
       "1990-01-04  ...   NaN  19.6875  12.2500  1.000000  NaN  NaN  NaN   NaN   \n",
       "1990-01-05  ...   NaN  19.5000  12.1875  1.062500  NaN  NaN  NaN   NaN   \n",
       "1990-01-08  ...   NaN  19.3125  12.3750  1.020833  NaN  NaN  NaN   NaN   \n",
       "\n",
       "              ZION  ZTS  \n",
       "Date                     \n",
       "1990-01-02  3.5000  NaN  \n",
       "1990-01-03  3.5625  NaN  \n",
       "1990-01-04  3.5625  NaN  \n",
       "1990-01-05  3.5625  NaN  \n",
       "1990-01-08  3.5625  NaN  \n",
       "\n",
       "[5 rows x 483 columns]"
      ]
     },
     "execution_count": 3,
     "metadata": {},
     "output_type": "execute_result"
    }
   ],
   "source": [
    "sp_500_df = pd.read_excel('../data/SP500_comp_data.xlsx', index_col=0, parse_dates=True)\n",
    "\n",
    "num_min = 2000 # Número mínimo de datos\n",
    "sp_500_df = sp_500_df.dropna(axis=1, thresh=num_min)\n",
    "sp_500_df.head()"
   ]
  },
  {
   "cell_type": "code",
   "execution_count": 4,
   "metadata": {},
   "outputs": [
    {
     "data": {
      "text/html": [
       "<div>\n",
       "<style scoped>\n",
       "    .dataframe tbody tr th:only-of-type {\n",
       "        vertical-align: middle;\n",
       "    }\n",
       "\n",
       "    .dataframe tbody tr th {\n",
       "        vertical-align: top;\n",
       "    }\n",
       "\n",
       "    .dataframe thead th {\n",
       "        text-align: right;\n",
       "    }\n",
       "</style>\n",
       "<table border=\"1\" class=\"dataframe\">\n",
       "  <thead>\n",
       "    <tr style=\"text-align: right;\">\n",
       "      <th></th>\n",
       "      <th>A</th>\n",
       "      <th>AAL</th>\n",
       "      <th>AAP</th>\n",
       "      <th>AAPL</th>\n",
       "      <th>ABBV</th>\n",
       "      <th>ABC</th>\n",
       "      <th>ABT</th>\n",
       "      <th>ACGL</th>\n",
       "      <th>ACN</th>\n",
       "      <th>ADBE</th>\n",
       "      <th>...</th>\n",
       "      <th>WYNN</th>\n",
       "      <th>XEL</th>\n",
       "      <th>XOM</th>\n",
       "      <th>XRAY</th>\n",
       "      <th>XYL</th>\n",
       "      <th>YUM</th>\n",
       "      <th>ZBH</th>\n",
       "      <th>ZBRA</th>\n",
       "      <th>ZION</th>\n",
       "      <th>ZTS</th>\n",
       "    </tr>\n",
       "    <tr>\n",
       "      <th>Date</th>\n",
       "      <th></th>\n",
       "      <th></th>\n",
       "      <th></th>\n",
       "      <th></th>\n",
       "      <th></th>\n",
       "      <th></th>\n",
       "      <th></th>\n",
       "      <th></th>\n",
       "      <th></th>\n",
       "      <th></th>\n",
       "      <th></th>\n",
       "      <th></th>\n",
       "      <th></th>\n",
       "      <th></th>\n",
       "      <th></th>\n",
       "      <th></th>\n",
       "      <th></th>\n",
       "      <th></th>\n",
       "      <th></th>\n",
       "      <th></th>\n",
       "      <th></th>\n",
       "    </tr>\n",
       "  </thead>\n",
       "  <tbody>\n",
       "    <tr>\n",
       "      <th>2015-07-07</th>\n",
       "      <td>0.010866</td>\n",
       "      <td>0.023384</td>\n",
       "      <td>0.000673</td>\n",
       "      <td>-0.002463</td>\n",
       "      <td>0.004971</td>\n",
       "      <td>0.005539</td>\n",
       "      <td>0.009405</td>\n",
       "      <td>0.003026</td>\n",
       "      <td>0.013672</td>\n",
       "      <td>0.001117</td>\n",
       "      <td>...</td>\n",
       "      <td>0.069442</td>\n",
       "      <td>0.028432</td>\n",
       "      <td>0.004111</td>\n",
       "      <td>0.006730</td>\n",
       "      <td>0.003580</td>\n",
       "      <td>-0.008640</td>\n",
       "      <td>0.008968</td>\n",
       "      <td>0.004283</td>\n",
       "      <td>-0.021060</td>\n",
       "      <td>-0.010802</td>\n",
       "    </tr>\n",
       "    <tr>\n",
       "      <th>2015-07-08</th>\n",
       "      <td>-0.026485</td>\n",
       "      <td>-0.034012</td>\n",
       "      <td>-0.021885</td>\n",
       "      <td>-0.025136</td>\n",
       "      <td>-0.013214</td>\n",
       "      <td>-0.007392</td>\n",
       "      <td>-0.019305</td>\n",
       "      <td>-0.007364</td>\n",
       "      <td>-0.010800</td>\n",
       "      <td>-0.007473</td>\n",
       "      <td>...</td>\n",
       "      <td>-0.066942</td>\n",
       "      <td>-0.005325</td>\n",
       "      <td>-0.010920</td>\n",
       "      <td>-0.018179</td>\n",
       "      <td>-0.022517</td>\n",
       "      <td>-0.031300</td>\n",
       "      <td>-0.016812</td>\n",
       "      <td>-0.034878</td>\n",
       "      <td>-0.026208</td>\n",
       "      <td>-0.029676</td>\n",
       "    </tr>\n",
       "    <tr>\n",
       "      <th>2015-07-09</th>\n",
       "      <td>0.004377</td>\n",
       "      <td>0.009116</td>\n",
       "      <td>0.012917</td>\n",
       "      <td>-0.020607</td>\n",
       "      <td>0.004571</td>\n",
       "      <td>0.009507</td>\n",
       "      <td>-0.001219</td>\n",
       "      <td>-0.005522</td>\n",
       "      <td>0.001331</td>\n",
       "      <td>0.005983</td>\n",
       "      <td>...</td>\n",
       "      <td>0.010127</td>\n",
       "      <td>-0.011337</td>\n",
       "      <td>-0.004524</td>\n",
       "      <td>-0.007640</td>\n",
       "      <td>-0.000844</td>\n",
       "      <td>0.009937</td>\n",
       "      <td>-0.010243</td>\n",
       "      <td>-0.000277</td>\n",
       "      <td>0.021942</td>\n",
       "      <td>0.001934</td>\n",
       "    </tr>\n",
       "    <tr>\n",
       "      <th>2015-07-10</th>\n",
       "      <td>0.012258</td>\n",
       "      <td>0.038086</td>\n",
       "      <td>0.012509</td>\n",
       "      <td>0.026383</td>\n",
       "      <td>0.018368</td>\n",
       "      <td>0.005497</td>\n",
       "      <td>0.014932</td>\n",
       "      <td>0.011303</td>\n",
       "      <td>0.010482</td>\n",
       "      <td>0.001490</td>\n",
       "      <td>...</td>\n",
       "      <td>-0.012434</td>\n",
       "      <td>0.006579</td>\n",
       "      <td>0.007569</td>\n",
       "      <td>0.011536</td>\n",
       "      <td>-0.004230</td>\n",
       "      <td>0.032097</td>\n",
       "      <td>-0.000281</td>\n",
       "      <td>0.012008</td>\n",
       "      <td>0.020183</td>\n",
       "      <td>0.008340</td>\n",
       "    </tr>\n",
       "    <tr>\n",
       "      <th>2015-07-13</th>\n",
       "      <td>0.014113</td>\n",
       "      <td>0.028939</td>\n",
       "      <td>0.031194</td>\n",
       "      <td>0.019122</td>\n",
       "      <td>0.004899</td>\n",
       "      <td>0.005557</td>\n",
       "      <td>-0.004215</td>\n",
       "      <td>-0.006940</td>\n",
       "      <td>0.017760</td>\n",
       "      <td>0.010492</td>\n",
       "      <td>...</td>\n",
       "      <td>0.037683</td>\n",
       "      <td>-0.000298</td>\n",
       "      <td>0.002430</td>\n",
       "      <td>0.014858</td>\n",
       "      <td>0.018755</td>\n",
       "      <td>0.002748</td>\n",
       "      <td>0.007648</td>\n",
       "      <td>0.006901</td>\n",
       "      <td>0.008983</td>\n",
       "      <td>0.001702</td>\n",
       "    </tr>\n",
       "  </tbody>\n",
       "</table>\n",
       "<p>5 rows × 483 columns</p>\n",
       "</div>"
      ],
      "text/plain": [
       "                   A       AAL       AAP      AAPL      ABBV       ABC  \\\n",
       "Date                                                                     \n",
       "2015-07-07  0.010866  0.023384  0.000673 -0.002463  0.004971  0.005539   \n",
       "2015-07-08 -0.026485 -0.034012 -0.021885 -0.025136 -0.013214 -0.007392   \n",
       "2015-07-09  0.004377  0.009116  0.012917 -0.020607  0.004571  0.009507   \n",
       "2015-07-10  0.012258  0.038086  0.012509  0.026383  0.018368  0.005497   \n",
       "2015-07-13  0.014113  0.028939  0.031194  0.019122  0.004899  0.005557   \n",
       "\n",
       "                 ABT      ACGL       ACN      ADBE  ...      WYNN       XEL  \\\n",
       "Date                                                ...                       \n",
       "2015-07-07  0.009405  0.003026  0.013672  0.001117  ...  0.069442  0.028432   \n",
       "2015-07-08 -0.019305 -0.007364 -0.010800 -0.007473  ... -0.066942 -0.005325   \n",
       "2015-07-09 -0.001219 -0.005522  0.001331  0.005983  ...  0.010127 -0.011337   \n",
       "2015-07-10  0.014932  0.011303  0.010482  0.001490  ... -0.012434  0.006579   \n",
       "2015-07-13 -0.004215 -0.006940  0.017760  0.010492  ...  0.037683 -0.000298   \n",
       "\n",
       "                 XOM      XRAY       XYL       YUM       ZBH      ZBRA  \\\n",
       "Date                                                                     \n",
       "2015-07-07  0.004111  0.006730  0.003580 -0.008640  0.008968  0.004283   \n",
       "2015-07-08 -0.010920 -0.018179 -0.022517 -0.031300 -0.016812 -0.034878   \n",
       "2015-07-09 -0.004524 -0.007640 -0.000844  0.009937 -0.010243 -0.000277   \n",
       "2015-07-10  0.007569  0.011536 -0.004230  0.032097 -0.000281  0.012008   \n",
       "2015-07-13  0.002430  0.014858  0.018755  0.002748  0.007648  0.006901   \n",
       "\n",
       "                ZION       ZTS  \n",
       "Date                            \n",
       "2015-07-07 -0.021060 -0.010802  \n",
       "2015-07-08 -0.026208 -0.029676  \n",
       "2015-07-09  0.021942  0.001934  \n",
       "2015-07-10  0.020183  0.008340  \n",
       "2015-07-13  0.008983  0.001702  \n",
       "\n",
       "[5 rows x 483 columns]"
      ]
     },
     "execution_count": 4,
     "metadata": {},
     "output_type": "execute_result"
    }
   ],
   "source": [
    "# Calcular los retornos logarítmicos usando diff()\n",
    "ret_sp500_df = np.log(sp_500_df).diff().dropna()\n",
    "\n",
    "ret_sp500_df.head()  # Mostrar las primeras filas de los retornos logarítmicos"
   ]
  },
  {
   "cell_type": "markdown",
   "metadata": {},
   "source": [
    "### Cálculo de la cartera de mínima varianza"
   ]
  },
  {
   "cell_type": "markdown",
   "metadata": {},
   "source": [
    "Definimos la función que calcula la cartera de menor volatilidad y devuelve la volatilidad de la cartera y los pesos de cada activo. Por ahora **no entramos en los detalles de esta función**, lo veremos en el **TEMA 3**."
   ]
  },
  {
   "cell_type": "code",
   "execution_count": 8,
   "metadata": {},
   "outputs": [],
   "source": [
    "def calc_port_min_var(retornos):\n",
    "    '''\n",
    "    Calcula la cartera de mínima varianza\n",
    "    retornos: matriz de retornos\n",
    "    w: pesos de la cartera\n",
    "    vol_min: volatilidad de la cartera\n",
    "    '''\n",
    "    n_days, n_act = retornos.shape\n",
    "    w = cp.Variable(n_act)\n",
    "    cov = np.cov(retornos.T)  \n",
    "    objective = cp.Minimize(w.T @ cov @ w)\n",
    "    const= [cp.sum(w) == 1, w >= 0]\n",
    "    prob = cp.Problem(objective, const)\n",
    "    port_min_var = prob.solve()\n",
    "    vol_min = np.sqrt(port_min_var)\n",
    "    return vol_min, w.value"
   ]
  },
  {
   "cell_type": "code",
   "execution_count": 9,
   "metadata": {},
   "outputs": [],
   "source": [
    "num_act_sp500 = ret_sp500_df.shape[1] #número de activos\n",
    "\n",
    "# Calculamos la cartera de mínima varianza para cada número de activos\n",
    "\n",
    "var_min_sp500, pesos_sp500 = calc_port_min_var(ret_sp500_df) #calculamos la cartera de mínima varianza"
   ]
  },
  {
   "cell_type": "markdown",
   "metadata": {},
   "source": [
    "A partir de aquí, la variable `pesos_sp500` guarda los pesos de la cartera con mínima varianza."
   ]
  },
  {
   "cell_type": "markdown",
   "metadata": {},
   "source": [
    "### 1. Considerar la cartera como un único activo"
   ]
  },
  {
   "cell_type": "markdown",
   "metadata": {},
   "source": [
    "Calculamos los retornos diarios de la cartera de mínima varianza:"
   ]
  },
  {
   "cell_type": "code",
   "execution_count": 14,
   "metadata": {},
   "outputs": [
    {
     "data": {
      "text/plain": [
       "(2047,)"
      ]
     },
     "execution_count": 14,
     "metadata": {},
     "output_type": "execute_result"
    }
   ],
   "source": [
    "tmp_cart = ret_sp500_df @ pesos_sp500.T #calculamos los retornos de la cartera de mínima varianza\n",
    "tmp_cart.shape"
   ]
  },
  {
   "cell_type": "markdown",
   "metadata": {},
   "source": [
    "A partir de los retornos diarios, calculamos los precios de la cartera para visualizarlos:"
   ]
  },
  {
   "cell_type": "code",
   "execution_count": 15,
   "metadata": {},
   "outputs": [
    {
     "data": {
      "text/plain": [
       "(2047,)"
      ]
     },
     "execution_count": 15,
     "metadata": {},
     "output_type": "execute_result"
    }
   ],
   "source": [
    "precios_cart = 1.0 * np.exp(np.cumsum(tmp_cart))\n",
    "precios_cart.shape"
   ]
  },
  {
   "cell_type": "code",
   "execution_count": 17,
   "metadata": {},
   "outputs": [
    {
     "data": {
      "image/png": "[encoded data removed]",
      "text/plain": [
       "<Figure size 1000x300 with 1 Axes>"
      ]
     },
     "metadata": {},
     "output_type": "display_data"
    }
   ],
   "source": [
    "plt.figure(figsize=(10,3))\n",
    "plt.plot(precios_cart)\n",
    "plt.show()"
   ]
  },
  {
   "cell_type": "markdown",
   "metadata": {},
   "source": [
    "Generamos 100 simulaciones de 252 días utilizando la media y desviación estandar de los retornos de la cartera:"
   ]
  },
  {
   "cell_type": "code",
   "execution_count": 59,
   "metadata": {},
   "outputs": [
    {
     "data": {
      "text/plain": [
       "(100, 252)"
      ]
     },
     "execution_count": 59,
     "metadata": {},
     "output_type": "execute_result"
    }
   ],
   "source": [
    "num_simulaciones = 100\n",
    "num_dias = 252\n",
    "\n",
    "media = tmp_cart.mean()\n",
    "std = tmp_cart.std()\n",
    "ret_montecarlo = np.random.normal(media, std, (num_simulaciones, num_dias))\n",
    "ret_montecarlo.shape"
   ]
  },
  {
   "cell_type": "markdown",
   "metadata": {},
   "source": [
    "A partir de los retornos generados con Montecarlo, calculamos los precios para dibujarlos:"
   ]
  },
  {
   "cell_type": "code",
   "execution_count": 60,
   "metadata": {},
   "outputs": [
    {
     "data": {
      "text/plain": [
       "(100, 252)"
      ]
     },
     "execution_count": 60,
     "metadata": {},
     "output_type": "execute_result"
    }
   ],
   "source": [
    "precio_ini = precios_cart[-1] \n",
    "precios_montecarlo = precio_ini * np.exp(ret_montecarlo.cumsum(axis=1))\n",
    "precios_montecarlo.shape"
   ]
  },
  {
   "cell_type": "code",
   "execution_count": 61,
   "metadata": {},
   "outputs": [
    {
     "data": {
      "image/png": "[encoded data removed]",
      "text/plain": [
       "<Figure size 1000x300 with 1 Axes>"
      ]
     },
     "metadata": {},
     "output_type": "display_data"
    }
   ],
   "source": [
    "index = pd.date_range(precios_cart.index[-1], periods=num_dias, freq='B')\n",
    "\n",
    "plt.figure(figsize=(10,3))\n",
    "plt.plot(precios_cart, color=\"blue\", linewidth=3)\n",
    "plt.plot(index, precios_montecarlo.T, color=\"gray\", alpha=0.05)\n",
    "plt.plot(index, precios_montecarlo.mean(axis=0), color=\"red\", linewidth=3, label=\"Media\")\n",
    "plt.plot(index, np.percentile(precios_montecarlo, 5, axis=0), color=\"purple\", label=\"Percentil 5\")\n",
    "plt.plot(index, np.percentile(precios_montecarlo, 95, axis=0), color=\"purple\", label=\"Percentil 95\")\n",
    "plt.legend()\n",
    "plt.show()"
   ]
  },
  {
   "cell_type": "markdown",
   "metadata": {},
   "source": [
    "**Pregunta** ¿Qué sucede si no utilizamos toda la serie temporal desde 2015 para calcular los retornos? ¿Cómo serán nuestras simulaciones?"
   ]
  },
  {
   "cell_type": "markdown",
   "metadata": {},
   "source": [
    "---"
   ]
  },
  {
   "cell_type": "markdown",
   "metadata": {},
   "source": [
    "### 2. Considerar la combinación de activos que componen la cartera"
   ]
  },
  {
   "cell_type": "markdown",
   "metadata": {},
   "source": [
    "Veamos ahora las diferencias para simular con Montecarlo una cartera cuando planteamos la combinación de activos. "
   ]
  },
  {
   "cell_type": "markdown",
   "metadata": {},
   "source": [
    "Para poder generar la simulación de Montecarlo, necesitamos generar números aleatorios a partir de los activos, utilizando sus medias y la matriz de covarianzas entre ellos."
   ]
  },
  {
   "cell_type": "code",
   "execution_count": 71,
   "metadata": {},
   "outputs": [],
   "source": [
    "retornos_medios = ret_sp500_df.mean(axis=0)\n",
    "matriz_covar = ret_sp500_df.cov()"
   ]
  },
  {
   "cell_type": "markdown",
   "metadata": {},
   "source": [
    "Con el siguiente código generamos retornos siguiendo una matriz de covarianzas utilizando la función **np.random.multivariate_normal** de `numpy`."
   ]
  },
  {
   "cell_type": "code",
   "execution_count": 75,
   "metadata": {},
   "outputs": [
    {
     "name": "stdout",
     "output_type": "stream",
     "text": [
      "La matriz es positiva semi-definida.\n",
      "(100, 252, 483)\n"
     ]
    }
   ],
   "source": [
    "# Verificar si la matriz es positiva semi-definida\n",
    "if np.all(np.linalg.eigvals(matriz_covar) >= 0):\n",
    "    print(\"La matriz es positiva semi-definida.\")\n",
    "else:\n",
    "    print(\"La matriz no es positiva semi-definida. Ajuste los valores.\")\n",
    "\n",
    "# Número de simulaciones\n",
    "n_simulaciones = 100\n",
    "n_dias = 252\n",
    "\n",
    "# Generar retornos aleatorios\n",
    "retornos_simulados = np.random.multivariate_normal(mean=retornos_medios,\n",
    "                                                   cov=matriz_covar,\n",
    "                                                   size=(n_simulaciones, n_dias))\n",
    "\n",
    "print(retornos_simulados.shape) # (n_simulaciones, n_dias, n_activos)"
   ]
  },
  {
   "cell_type": "markdown",
   "metadata": {},
   "source": [
    "Por último, calculamos los retornos de la cartera de mínima varianza:"
   ]
  },
  {
   "cell_type": "code",
   "execution_count": 80,
   "metadata": {},
   "outputs": [
    {
     "data": {
      "text/plain": [
       "(483,)"
      ]
     },
     "execution_count": 80,
     "metadata": {},
     "output_type": "execute_result"
    }
   ],
   "source": [
    "sp_500_df.iloc[-1].shape"
   ]
  },
  {
   "cell_type": "code",
   "execution_count": 77,
   "metadata": {},
   "outputs": [
    {
     "data": {
      "text/plain": [
       "(100, 252)"
      ]
     },
     "execution_count": 77,
     "metadata": {},
     "output_type": "execute_result"
    }
   ],
   "source": [
    "rets_montecarlo = retornos_simulados @ pesos_sp500.T\n",
    "rets_montecarlo.shape"
   ]
  },
  {
   "cell_type": "code",
   "execution_count": 81,
   "metadata": {},
   "outputs": [
    {
     "data": {
      "text/plain": [
       "(100, 252)"
      ]
     },
     "execution_count": 81,
     "metadata": {},
     "output_type": "execute_result"
    }
   ],
   "source": [
    "precio_ini = precios_cart[-1] \n",
    "precios_montecarlo = precio_ini * np.exp(rets_montecarlo.cumsum(axis=1))\n",
    "precios_montecarlo.shape"
   ]
  },
  {
   "cell_type": "code",
   "execution_count": 82,
   "metadata": {},
   "outputs": [
    {
     "data": {
      "image/png": "[encoded data removed]",
      "text/plain": [
       "<Figure size 1000x300 with 1 Axes>"
      ]
     },
     "metadata": {},
     "output_type": "display_data"
    }
   ],
   "source": [
    "index = pd.date_range(precios_cart.index[-1], periods=num_dias, freq='B')\n",
    "\n",
    "plt.figure(figsize=(10,3))\n",
    "plt.plot(precios_cart, color=\"blue\", linewidth=3)\n",
    "plt.plot(index, precios_montecarlo.T, color=\"gray\", alpha=0.05)\n",
    "plt.plot(index, precios_montecarlo.mean(axis=0), color=\"red\", linewidth=3, label=\"Media\")\n",
    "plt.plot(index, np.percentile(precios_montecarlo, 5, axis=0), color=\"purple\", label=\"Percentil 5\")\n",
    "plt.plot(index, np.percentile(precios_montecarlo, 95, axis=0), color=\"purple\", label=\"Percentil 95\")\n",
    "plt.legend()\n",
    "plt.show()"
   ]
  },
  {
   "cell_type": "markdown",
   "metadata": {},
   "source": [
    "Como podemos observar, se obtiene un resultado similar al anterior. \n",
    "\n",
    "**Pregunta**: ¿Para qué queremos calcularlo a partir de los retornos de los activos en lugar de considerarlo un único activo?"
   ]
  },
  {
   "cell_type": "markdown",
   "metadata": {},
   "source": [
    "---"
   ]
  },
  {
   "cell_type": "markdown",
   "metadata": {},
   "source": [
    "### Modificamos la matriz de covarianzas"
   ]
  },
  {
   "cell_type": "markdown",
   "metadata": {},
   "source": [
    "Ayuda con modificar la matriz de covarianzas. ¿Queremos mostrarlo?"
   ]
  },
  {
   "cell_type": "code",
   "execution_count": 98,
   "metadata": {},
   "outputs": [],
   "source": [
    "retornos_medios = ret_sp500_df.mean(axis=0)\n",
    "matriz_covar = ret_sp500_df.cov()"
   ]
  }
 ],
 "metadata": {
  "kernelspec": {
   "display_name": "Python 3 (ipykernel)",
   "language": "python",
   "name": "python3"
  },
  "language_info": {
   "codemirror_mode": {
    "name": "ipython",
    "version": 3
   },
   "file_extension": ".py",
   "mimetype": "text/x-python",
   "name": "python",
   "nbconvert_exporter": "python",
   "pygments_lexer": "ipython3",
   "version": "3.11.5"
  }
 },
 "nbformat": 4,
 "nbformat_minor": 2
}
