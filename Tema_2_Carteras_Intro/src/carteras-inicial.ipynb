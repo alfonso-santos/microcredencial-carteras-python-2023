{
 "cells": [
  {
   "cell_type": "markdown",
   "metadata": {},
   "source": [
    "# FÓRMULAS USADAS EN EL ANÁLISIS DE CARTERAS"
   ]
  },
  {
   "cell_type": "markdown",
   "metadata": {},
   "source": [
    "En una situación de riesgo, el inversor racional tratará de maximizar la utilidad esperada de su cartera. \n",
    "\n",
    "Si la función de utilidad es cuadrática o los rendimientos siguen una distribución normal:\n",
    "\n",
    "la utilidad es función de la __media__ y la **varianza** de los rendimientos de la cartera\n",
    "\n",
    "\n"
   ]
  },
  {
   "cell_type": "markdown",
   "metadata": {},
   "source": [
    "___"
   ]
  },
  {
   "cell_type": "markdown",
   "metadata": {},
   "source": [
    "#### VEAMOS LAS FÓRMULAS DE LA MEDIA Y LA VARIANZA DE UN ACTIVO:\n",
    "\n",
    "Si llamamos:\n",
    "\n",
    "\n",
    "  * $R_i$ a la rentabilidad de un activo $i$\n",
    "\n",
    " \n",
    "  * $R_{ij}$ a los posibles rendimientos del activo $i$\n",
    "\n",
    "  * $R_{ij}^*$ los posible rendimientos por debajo de la media\n",
    " \n",
    "  * $P_i$ a la probabilidad de que se produzca dicha rentabilidad\n",
    "\n",
    "  * $E(\\tilde{R_{i}})$ a la rentabilidad esperada del activo $i$\n",
    "\n",
    "  \n",
    "  Entonces:\n",
    "\n",
    "* **Rentabilidad** de un activo $E(\\tilde{R_{i}})=\\sum_{j=1}^{m}R_{ij}P_j$ \n",
    "\n",
    "* **Varianza** de un activo $Var(\\tilde{R_{i}})= \\sigma_i^2= \\sum_{j=1}^{m}(R_{ij}-E(\\tilde{R_{i}}))^2P_j$\n",
    "\n",
    "* **Desviación típica** de un activo $\\sigma_i= \\sqrt{\\sigma_i^2}= \\sqrt{\\sum_{j=1}^{m}(R_{ij}-E(\\tilde{R_{i}}))^2P_j}$\n",
    "\n",
    "* **Semivarianza** de un activo $SV_i= \\sum_{j=1}^{m}(R_{ij}^*-E(\\tilde{R_{i}}))^2P_j$  (solo se tienen en cuenta los rendimientos por debajo de la media)"
   ]
  },
  {
   "cell_type": "markdown",
   "metadata": {},
   "source": [
    "___"
   ]
  },
  {
   "cell_type": "markdown",
   "metadata": {},
   "source": [
    "#### VEAMOS LAS FÓRMULAS DE LA MEDIA Y LA VARIANZA DE UNA CARTERA CON DOS ACTIVOS:\n",
    "\n",
    "Si llamamos:\n",
    "\n",
    "* $w_1$ a la ponderación del activo 1 en la cartera\n",
    "\n",
    "* $w_2$ a la ponderación del activo 2 en la cartera\n",
    "\n",
    "* $E(\\tilde{R_{p}})$ a la rentabilidad esperada de la cartera\n",
    "\n",
    "* $\\sigma²(\\tilde R_p)$ a la varianza de la cartera\n",
    "\n",
    "* $\\rho_{12}$ a la correlación entre los activos 1 y 2\n",
    "\n",
    "Entonces:\n",
    "\n",
    "- La rentabilidad de la cartera es igual (recordad que no depende de las relaccciones entre activos).\n",
    "    - $E(\\tilde R_P) = w_1 E(\\tilde R_1) + w_2 E(\\tilde R_2)$\n",
    "    $$$$\n",
    "    \n",
    "- La varianza de la cartera es igual a:\n",
    "    - $\\sigma²(\\tilde R_p)= \\underset{Activo 1} {\\underbrace{w_1²\\sigma²(\\tilde R_1)}}+\\underset{Activo 2} {\\underbrace{w_2²\\sigma²(\\tilde R_2)}}+ \\underset{Relación entre activos} {\\underbrace{2w_1w_2 \\rho_{12} \\sigma_1 \\sigma_2}}$\n",
    "    $$$$\n",
    "\n",
    "- La volatilidad de la cartera es igual a la raiz cuadrada de la varianza.\n",
    "    - $\\sigma(\\tilde R_p)= \\sqrt{\\sigma²(\\tilde R_P)}=\\sqrt{w_1²\\sigma²(\\tilde R_1)+w_2²\\sigma²(\\tilde R_2)+ 2w_1w_2 \\rho_{12} \\sigma_1 \\sigma_2} $"
   ]
  },
  {
   "cell_type": "markdown",
   "metadata": {},
   "source": [
    "___"
   ]
  },
  {
   "cell_type": "markdown",
   "metadata": {},
   "source": [
    "#### VEAMOS LAS FÓRMULAS DE LA MEDIA Y LA VARIANZA DE UNA CARTERA DE N ACTIVOS:\n",
    "\n",
    "Si llamamos:\n",
    "\n",
    "* $N$ al número de activos en la cartera\n",
    "\n",
    "* $w_i$ a la proporción de la inversión en el activo $i$ $\\Rightarrow \\sum_{i=1}^{N}w_i=1$\n",
    "\n",
    "* $\\tilde R_p$ a la rentabilidad de la cartera $\\Rightarrow \\tilde R_p=\\sum_{i=1}^{N}w_i \\tilde R_i$\n",
    "\n",
    "* $\\sigma_{ij}$ a la covarianza entre los activos $i$ y $j$\n",
    "\n",
    "Entonces:\n",
    "\n",
    "* **Rentabilidad** de la cartera $E(\\tilde R_p)=\\sum_{i=1}^{N}w_i E(\\tilde R_i)$\n",
    "\n",
    "* **Varianza** de la cartera: $\\sigma²(\\tilde R_p) = \\sigma_p^2= \\underset{Varianzas activos} {\\underbrace{\\sum_{i=1}^{N} w_i²} \\sigma _i²} + \\underset{Dependencias entre activos} {\\underbrace{\\sum_{i=1}^{N}\\sum_{j=1}^{N}w_iw_j\\sigma_{ij}}}$ [¹].\n",
    "\n",
    "\n",
    "* **Coeficiente de correlación** entre los activos $i$ y $j$: $\\rho_{ij}=\\dfrac{\\sigma_{ij}}{\\sigma_i\\sigma_j}$\n",
    "\n",
    "$$$$\n",
    "$$$$\n",
    " \n",
    "\n",
    " [¹] $\\sigma²(\\tilde R_p)= w_1²\\sigma²(\\tilde R_1)+w_2²\\sigma²(\\tilde R_2)+...+w_N²\\sigma²(\\tilde R_N) + 2w_1w_2cov(\\tilde R_1, \\tilde R_2) + 2w_1w_3cov(\\tilde R_1, \\tilde R_3)+ ... +2w_{N-1}w_Ncov(\\tilde R_{N-1}, \\tilde R_N)$"
   ]
  },
  {
   "cell_type": "markdown",
   "metadata": {},
   "source": [
    "La varianza de la cartera se puede expresar de forma matricial como:\n",
    "$$$$\n",
    "\n",
    "$\\sigma²(\\tilde R_p)=\\begin{pmatrix}w_1 & w_2 & ... & w_N\\end{pmatrix} \\begin{pmatrix}\\sigma_1^2 & \\sigma_{12}^2 & ... & \\sigma_{1N}^2\\\\ \n",
    " \\sigma_{21}^2& \\sigma_2^2 &...  & \\sigma_{2N}^2\\\\ ... & ... & ... & ...\\\\  \\sigma_{N1}^2& \\sigma_{N2}^2 & ... & \\sigma_N^2\\end{pmatrix} \\begin{pmatrix}w_1 \\\\w_2  \\\\...  \\\\ w_N\\end{pmatrix} = \\mathbf{w}^T\\mathbf{C}\\mathbf{w}$\n",
    " "
   ]
  },
  {
   "cell_type": "markdown",
   "metadata": {},
   "source": [
    "___"
   ]
  },
  {
   "cell_type": "markdown",
   "metadata": {},
   "source": [
    "#### CONTRIBUCIÓN DE UN ACTIVO AL RENDIMIENTO Y AL RIESGO DE UNA CARTERA\n",
    "\n",
    "Contribución del activo $i$ al:\n",
    "\n",
    "* **Rendimiento** de la cartera: $w_i E(\\tilde R_i)$\n",
    "\n",
    "* **Riesgo** de la cartera: $w_i^2cov(\\tilde R_i, \\tilde R_P)=w_i^2\\sigma_{i,P}$\n",
    "\n",
    "CONCLUSIONES:\n",
    "\n",
    "* La aportación de un activo $i$ a la rentabilidad de la cartera depende del peso $w_i$ pero no depende de la composición de la cartera\n",
    "\n",
    "* La aportación de un activo $i$ al riesgo de la cartera depende del peso $w_i$ y de la composición de la cartera, a algunas carteras les aportará más riesgo que a otras.\n",
    "\n",
    "Por ejemplo, si un activo tiene una rentabilidad esperada positiva y una covarianza negativa con la cartera:\n",
    "\n",
    "* **aumentará el rendimiento** de la cartera\n",
    "\n",
    "* **disminuirá el riesgo** de la cartera.\n"
   ]
  }
 ],
 "metadata": {
  "kernelspec": {
   "display_name": "Python 3 (ipykernel)",
   "language": "python",
   "name": "python3"
  },
  "language_info": {
   "codemirror_mode": {
    "name": "ipython",
    "version": 3
   },
   "file_extension": ".py",
   "mimetype": "text/x-python",
   "name": "python",
   "nbconvert_exporter": "python",
   "pygments_lexer": "ipython3",
   "version": "3.11.5"
  }
 },
 "nbformat": 4,
 "nbformat_minor": 2
}
