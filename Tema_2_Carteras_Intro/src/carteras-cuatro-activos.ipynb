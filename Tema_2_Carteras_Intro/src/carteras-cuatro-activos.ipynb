{
 "cells": [
  {
   "cell_type": "code",
   "execution_count": 1,
   "id": "8e08f1ec",
   "metadata": {},
   "outputs": [
    {
     "data": {
      "text/html": [
       "<link rel='stylesheet' href='../../design/custom.css'>"
      ],
      "text/plain": [
       "<IPython.core.display.HTML object>"
      ]
     },
     "metadata": {},
     "output_type": "display_data"
    }
   ],
   "source": [
    "from IPython.display import HTML, display\n",
    "css_file_path = \"../../design/custom.css\"\n",
    "styles = \"<link rel='stylesheet' href='%s'>\" % css_file_path\n",
    "display(HTML(styles))"
   ]
  },
  {
   "cell_type": "markdown",
   "id": "f39bbca7",
   "metadata": {},
   "source": []
  },
  {
   "cell_type": "markdown",
   "id": "7246a9d4",
   "metadata": {},
   "source": [
    "\n",
    "# CARTERAS CON CUATRO ACTIVOS\n",
    "\n",
    "En este notebook, vamos a construir carteras de inversión con cuatro activos. Aprenderemos a calcular la rentabilidad y volatilidad usando matrices y a generar múltiples carteras con pesos aleatorios para los activos. Este proceso nos ayudará a entender el impacto de la asignación de activos en el rendimiento y el riesgo de una cartera."
   ]
  },
  {
   "cell_type": "code",
   "execution_count": 2,
   "id": "af228ac1",
   "metadata": {},
   "outputs": [],
   "source": [
    "import numpy as np\n",
    "import matplotlib.pyplot as plt\n",
    "\n",
    "plt.style.use('ggplot')"
   ]
  },
  {
   "cell_type": "markdown",
   "id": "d35d42f5",
   "metadata": {},
   "source": [
    "### Ejercicio 1\n",
    "\n",
    "Con la siguiente matriz de varianza-covarianzas y las rentabilidades esperadas (medias), determina la desviación típica y la rentabilidad media de las carteras X e Y."
   ]
  },
  {
   "cell_type": "code",
   "execution_count": 3,
   "id": "26014358",
   "metadata": {},
   "outputs": [
    {
     "name": "stdout",
     "output_type": "stream",
     "text": [
      "[[ 0.1   0.01  0.03  0.05]\n",
      " [ 0.01  0.3   0.06 -0.04]\n",
      " [ 0.03  0.06  0.4   0.02]\n",
      " [ 0.05 -0.04  0.02  0.5 ]]\n"
     ]
    }
   ],
   "source": [
    "matriz_covarianzas = np.array([[0.10, 0.01, 0.03, 0.05],\n",
    "                               [0.01, 0.30, 0.06, -0.04],\n",
    "                               [0.03, 0.06, 0.40, 0.02],\n",
    "                               [0.05,-0.04, 0.02, 0.50]])\n",
    "print(matriz_covarianzas)"
   ]
  },
  {
   "cell_type": "code",
   "execution_count": 4,
   "id": "f67a1d82",
   "metadata": {},
   "outputs": [
    {
     "name": "stdout",
     "output_type": "stream",
     "text": [
      "[0.06 0.08 0.1  0.15]\n"
     ]
    }
   ],
   "source": [
    "rentabilidad_medias = np.array([0.06, 0.08, 0.1, 0.15])\n",
    "print(rentabilidad_medias)"
   ]
  },
  {
   "cell_type": "code",
   "execution_count": 12,
   "id": "cf2c3dfb",
   "metadata": {},
   "outputs": [
    {
     "name": "stdout",
     "output_type": "stream",
     "text": [
      "[0.2 0.3 0.4 0.1]\n",
      "[0.2 0.1 0.1 0.6]\n"
     ]
    }
   ],
   "source": [
    "pesos_x = np.array([0.2, 0.3, 0.4, 0.1])\n",
    "pesos_y = np.array([0.2, 0.1, 0.1, 0.6])\n",
    "print(pesos_x)\n",
    "print(pesos_y)"
   ]
  },
  {
   "cell_type": "markdown",
   "id": "7a8ebda5",
   "metadata": {},
   "source": [
    "**Rentabilidad** de la cartera $E(\\tilde R_p)=\\sum_{i=1}^{N}w_i E(\\tilde R_i)$"
   ]
  },
  {
   "cell_type": "markdown",
   "id": "4aaf8c95",
   "metadata": {},
   "source": [
    "$E(\\tilde R_p)=\\begin{pmatrix}w_1 & w_2 & ... & w_N\\end{pmatrix}  \\begin{pmatrix}\\mu_1 \\\\\\mu_2  \\\\...  \\\\ \\mu_N\\end{pmatrix} = \\mathbf{w}^T\\mathbf{\\mu}$"
   ]
  },
  {
   "cell_type": "code",
   "execution_count": null,
   "id": "c152e8b8",
   "metadata": {},
   "outputs": [],
   "source": [
    "# TO-DO Calcula la rentabilidad media de las dos carteras\n",
    "\n",
    "\n",
    "print(\"Rentabilidad media de cartera X: {:.4f}\".format(mu_x))\n",
    "print(\"Rentabilidad media de cartera Y: {:.4f}\".format(mu_y))"
   ]
  },
  {
   "cell_type": "markdown",
   "id": "5abdb90e",
   "metadata": {},
   "source": [
    "$\\sigma²(\\tilde R_p)=\\begin{pmatrix}w_1 & w_2 & ... & w_N\\end{pmatrix} \\begin{pmatrix}\\sigma_1^2 & \\sigma_{12}^2 & ... & \\sigma_{1N}^2\\\\ \n",
    " \\sigma_{21}^2& \\sigma_2^2 &...  & \\sigma_{2N}^2\\\\ ... & ... & ... & ...\\\\  \\sigma_{N1}^2& \\sigma_{N2}^2 & ... & \\sigma_N^2\\end{pmatrix} \\begin{pmatrix}w_1 \\\\w_2  \\\\...  \\\\ w_N\\end{pmatrix} = \\mathbf{w}^T\\mathbf{C}\\mathbf{w}$"
   ]
  },
  {
   "cell_type": "code",
   "execution_count": null,
   "id": "39557a7f",
   "metadata": {},
   "outputs": [],
   "source": [
    "# TO-DO Calcula la desviación típica de las dos carteras\n",
    "\n",
    "\n",
    "print(\"Desviación típica de cartera X: {:.4f}\".format(sigma_x))\n",
    "print(\"Desviación típica de cartera Y: {:.4f}\".format(sigma_y))"
   ]
  },
  {
   "cell_type": "markdown",
   "id": "d66f91ac",
   "metadata": {},
   "source": [
    "---"
   ]
  },
  {
   "cell_type": "markdown",
   "id": "7013ca22",
   "metadata": {},
   "source": [
    "### Ejercicio 2"
   ]
  },
  {
   "cell_type": "markdown",
   "id": "db949ad4",
   "metadata": {},
   "source": [
    "Determina la covarianza de las dos carteras X e Y."
   ]
  },
  {
   "cell_type": "markdown",
   "id": "58150544",
   "metadata": {},
   "source": [
    "$covar(X,Y)=\\begin{pmatrix}x_1 & x_2 & ... & x_N\\end{pmatrix} \\begin{pmatrix}\\sigma_1^2 & \\sigma_{12}^2 & ... & \\sigma_{1N}^2\\\\ \n",
    " \\sigma_{21}^2& \\sigma_2^2 &...  & \\sigma_{2N}^2\\\\ ... & ... & ... & ...\\\\  \\sigma_{N1}^2& \\sigma_{N2}^2 & ... & \\sigma_N^2\\end{pmatrix} \\begin{pmatrix}y_1 \\\\y_2  \\\\...  \\\\ y_N\\end{pmatrix} = \\mathbf{X}^T\\mathbf{C}\\mathbf{Y}$"
   ]
  },
  {
   "cell_type": "code",
   "execution_count": null,
   "id": "8f7f3f53",
   "metadata": {},
   "outputs": [],
   "source": [
    "# TO-DO Calcula la covarianza entre las dos carteras X e Y\n",
    "\n",
    "\n",
    "print(\"Covarianzas entre X e Y: {:.4f}\".format(covar_XY))"
   ]
  },
  {
   "cell_type": "markdown",
   "id": "93e3177f",
   "metadata": {},
   "source": [
    "---"
   ]
  },
  {
   "cell_type": "markdown",
   "id": "f12445bf",
   "metadata": {},
   "source": [
    "### Ejercicio 3"
   ]
  },
  {
   "cell_type": "markdown",
   "id": "d60ff4ef",
   "metadata": {},
   "source": [
    "Crea una cartera en la que inviertes el 30% en la cartera X y el 70% restante en la cartera Y y determina su rentabilidad esperada y su desviación típica."
   ]
  },
  {
   "cell_type": "code",
   "execution_count": null,
   "id": "95140eb1",
   "metadata": {},
   "outputs": [],
   "source": [
    "# TO-DO Define los pesos de la nueva cartera y calcula la rentabilidad media\n",
    "\n",
    "\n",
    "print(\"Rentabilidad de la nueva cartera XY: {:.4f}\".format(mu_xy))"
   ]
  },
  {
   "cell_type": "code",
   "execution_count": null,
   "id": "aec3ebc5",
   "metadata": {},
   "outputs": [],
   "source": [
    "# TO-DO Estima la matriz de varianzas-covarianzas\n",
    "\n",
    "print(S_carteras)"
   ]
  },
  {
   "cell_type": "code",
   "execution_count": null,
   "id": "f54dbf2d",
   "metadata": {},
   "outputs": [],
   "source": [
    "# TO-DO Calcula la desviación típica\n",
    "\n",
    "\n",
    "print(\"Desviación típica de la nueva cartera XY: {:.4f}\".format(sigma_xy))"
   ]
  },
  {
   "cell_type": "markdown",
   "id": "a0ec7118",
   "metadata": {},
   "source": [
    "---"
   ]
  },
  {
   "cell_type": "markdown",
   "id": "5b879a5a",
   "metadata": {},
   "source": [
    "### Ejercicio 4"
   ]
  },
  {
   "cell_type": "markdown",
   "id": "ca1932ff",
   "metadata": {},
   "source": [
    "Genera 100 carteras empezando invirtiendo 0% de tu presupuesto en X hasta el 100% de tu presupuesto en X."
   ]
  },
  {
   "cell_type": "code",
   "execution_count": null,
   "id": "62eaa6bc",
   "metadata": {},
   "outputs": [],
   "source": [
    "mus = []\n",
    "sigmas = []\n",
    "\n",
    "# TO-DO Genera 100 carteras cambiando sus pesos y calcula la media y desviación de cada una\n"
   ]
  },
  {
   "cell_type": "markdown",
   "id": "b200371d",
   "metadata": {},
   "source": [
    "Representa gráficamente las 100 carteras, dibujando además las dos carteras iniciales."
   ]
  },
  {
   "cell_type": "code",
   "execution_count": null,
   "id": "c4a7724d",
   "metadata": {},
   "outputs": [],
   "source": [
    "# TO-DO Dibuja las 100 carteras y las dos carteras iniciales\n"
   ]
  },
  {
   "cell_type": "markdown",
   "id": "e0042a8c",
   "metadata": {},
   "source": [
    "Genera una nueva figura añadiendo, además, los cuatro activos."
   ]
  },
  {
   "cell_type": "code",
   "execution_count": null,
   "id": "7d03b229",
   "metadata": {},
   "outputs": [],
   "source": [
    "# TO-DO Vuelve a generar la figura añadiendo los 4 activos\n"
   ]
  },
  {
   "cell_type": "markdown",
   "id": "92657635",
   "metadata": {},
   "source": [
    "---"
   ]
  },
  {
   "cell_type": "markdown",
   "id": "e4bcdc3c",
   "metadata": {},
   "source": [
    "### Ejercicio 5"
   ]
  },
  {
   "cell_type": "markdown",
   "id": "3bcd1d61",
   "metadata": {},
   "source": [
    "Genera 10.000 carteras aleatorias, calcula sus rentabilidades medias y sus desviaciones típicas y represéntalas gráficamente junto a la figura anterior."
   ]
  },
  {
   "cell_type": "code",
   "execution_count": null,
   "id": "50728035",
   "metadata": {},
   "outputs": [],
   "source": [
    "num_carteras = 10000\n",
    "num_activos = 4\n",
    "\n",
    "# TO-DO Genera las 10000 carteras aleatorias\n"
   ]
  },
  {
   "cell_type": "code",
   "execution_count": null,
   "id": "96c41927",
   "metadata": {},
   "outputs": [],
   "source": [
    "# TO-DO Calcula las rentabilidades y las desviaciones típicas\n"
   ]
  },
  {
   "cell_type": "code",
   "execution_count": null,
   "id": "57ce2eb1",
   "metadata": {},
   "outputs": [],
   "source": [
    "# TO-DO Añade a la figura previa las 10000 carteras \n"
   ]
  },
  {
   "cell_type": "markdown",
   "id": "86fc0417",
   "metadata": {},
   "source": [
    "## Conclusión"
   ]
  },
  {
   "cell_type": "markdown",
   "id": "5257c239",
   "metadata": {},
   "source": [
    "Si llamamos:\n",
    "\n",
    "* $n$ al número de activos en la cartera\n",
    "\n",
    "* $w_i$ a la proporción de la inversión en el activo $i$ $\\Rightarrow \\sum_{i=1}^{n}w_i=1$\n",
    "\n",
    "* $\\bar R_i$ a la rentabilidad media del activo $i$\n",
    "\n",
    "* $\\sigma_{ij}$ a la covarianza entre los activos $i$ y $j$\n",
    "\n",
    "Entonces:\n",
    "\n",
    "* **Rentabilidad media** de la cartera $E(\\tilde R_p) = \\bar R_p = \\sum_{i=1}^{N}w_i E(\\tilde R_i)$\n",
    "\n",
    "* **Varianza** de la cartera: $\\sigma²(\\tilde R_p) = \\sigma_p^2= \\underset{Varianzas\\ activos} {\\underbrace{\\sum_{i=1}^{N} w_i²} \\sigma _i²} + \\underset{Relación\\ entre\\ activos} {\\underbrace{\\sum_{i=1}^{N}\\sum_{j=1}^{N}w_iw_j\\sigma_{ij}}}$\n",
    "\n",
    "\n",
    "* **Coeficiente de correlación** entre los activos $i$ y $j$: $\\rho_{ij}=\\dfrac{\\sigma_{ij}}{\\sigma_i\\sigma_j}$\n",
    " \n",
    "La varianza de la cartera se puede expresar de forma matricial como:\n",
    "\n",
    "$\\sigma²(\\tilde R_p)=\\begin{pmatrix}w_1 & w_2 & ... & w_N\\end{pmatrix} \\begin{pmatrix}\\sigma_1^2 & \\sigma_{12}^2 & ... & \\sigma_{1N}^2\\\\ \n",
    " \\sigma_{21}^2& \\sigma_2^2 &...  & \\sigma_{2N}^2\\\\ ... & ... & ... & ...\\\\  \\sigma_{N1}^2& \\sigma_{N2}^2 & ... & \\sigma_N^2\\end{pmatrix} \\begin{pmatrix}w_1 \\\\w_2  \\\\...  \\\\ w_N\\end{pmatrix} = \\mathbf{w}^T\\mathbf{C}\\mathbf{w}$\n",
    "\n",
    "**Observación**: En python, recuerda ajustar los shapes de las matrices para que \"todo encaje\". Puede verse afectada la fórmula matemática."
   ]
  },
  {
   "cell_type": "code",
   "execution_count": null,
   "id": "fcecb90b",
   "metadata": {},
   "outputs": [],
   "source": []
  }
 ],
 "metadata": {
  "kernelspec": {
   "display_name": "Python 3 (ipykernel)",
   "language": "python",
   "name": "python3"
  },
  "language_info": {
   "codemirror_mode": {
    "name": "ipython",
    "version": 3
   },
   "file_extension": ".py",
   "mimetype": "text/x-python",
   "name": "python",
   "nbconvert_exporter": "python",
   "pygments_lexer": "ipython3",
   "version": "3.11.6"
  }
 },
 "nbformat": 4,
 "nbformat_minor": 5
}
