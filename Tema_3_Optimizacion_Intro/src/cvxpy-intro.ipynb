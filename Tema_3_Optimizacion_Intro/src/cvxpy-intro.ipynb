{
 "cells": [
  {
   "cell_type": "markdown",
   "metadata": {},
   "source": [
    "# CVXPY"
   ]
  },
  {
   "cell_type": "markdown",
   "metadata": {},
   "source": [
    "Para la resolución de problemas de optimización en python existen básicamente 3 métodos:\n",
    "\n",
    "- Utilización de solvers estándares (Gurovi, Scipy PuLP, GLPK, CPLEX ...) Requiere forma estándar \n",
    "\n",
    "- Escribir tu propio algoritmo\n",
    "\n",
    "- Usar un lenguaje de modelado\n",
    "\n"
   ]
  },
  {
   "cell_type": "markdown",
   "metadata": {},
   "source": [
    "CVXPY es un lenguaje específico para la optimización convexa integrado en Python. Sus características principales incluyen:\n",
    "\n",
    "- **Lenguaje Específico del Dominio**: \n",
    " \n",
    "  - CVXPY está diseñado específicamente para problemas de optimización convexa.\n",
    "  \n",
    "- **Expresión Natural de Problemas**: \n",
    "  - Permite a los usuarios formular problemas de optimización convexa utilizando una sintaxis natural que sigue la lógica matemática.\n",
    "  \n",
    "- **Independiente de la Forma Estándar de Solucionadores**: \n",
    "  - No requiere que los problemas se formulen en la forma estándar restrictiva que a menudo exigen los solvers de optimización.\n",
    "\n",
    "- **Compatibilidad con Solucionadores Conocidos**: \n",
    "  - Facilita el uso de los solvers de optimización más conocidos"
   ]
  },
  {
   "cell_type": "markdown",
   "metadata": {},
   "source": [
    "**FUNCIONES** de CVXPY\n",
    "\n",
    "- Permite definir los problemas en lenguaje cuasi matemático\n",
    "\n",
    "- Comprueba que el problema es convexo\n",
    "  \n",
    "- Convierte en forma estándar\n",
    "  \n",
    "- Llama al solver seleccionado"
   ]
  },
  {
   "cell_type": "markdown",
   "metadata": {},
   "source": [
    "Presentación de [Convex Optimization with CVXPY](https://www.youtube.com/watch?v=kXqu-TqEl7Q)"
   ]
  },
  {
   "cell_type": "markdown",
   "metadata": {},
   "source": [
    "### Discipline Convex Programming\n",
    "\n",
    "#### Concepto y Fundamentos\n",
    "- **Definición**: Disciplined Convex Programming (DCP) es un sistema de reglas y técnicas para la construcción de problemas de optimización convexa.\n",
    "- **Objetivo**: Asegurar la convexidad de los problemas de optimización formulados, facilitando la búsqueda de soluciones globales óptimas.\n",
    "\n",
    "#### Principios Clave\n",
    "1. **Composición de Funciones Convexas**: Las funciones en un problema DCP deben combinarse de acuerdo con ciertas reglas que preservan la convexidad.\n",
    "2. **Reglas de Curvatura**: Identifican si una expresión es convexa, cóncava o afín, basándose en la operación y las funciones involucradas.\n",
    "3. **Restricciones DCP**: Solo ciertas formas de restricciones son permitidas para mantener la convexidad del problema.\n",
    "\n",
    "#### Aplicación en CVXPY\n",
    "- **CVXPY y DCP**: CVXPY utiliza DCP para verificar automáticamente la convexidad de un problema formulado.\n",
    "- **Beneficios**:\n",
    "  - Simplifica la formulación de problemas convexos.\n",
    "  - Evita errores comunes al garantizar que el problema es convexo y, por lo tanto, solucionable.\n"
   ]
  }
 ],
 "metadata": {
  "language_info": {
   "name": "python"
  }
 },
 "nbformat": 4,
 "nbformat_minor": 2
}
