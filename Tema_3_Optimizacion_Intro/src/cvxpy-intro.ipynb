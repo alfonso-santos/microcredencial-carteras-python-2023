{
 "cells": [
  {
   "cell_type": "markdown",
   "metadata": {},
   "source": [
    "# CVXPY"
   ]
  },
  {
   "cell_type": "markdown",
   "metadata": {},
   "source": [
    "Para la resolución de problemas de optimización en python existen básicamente 3 métodos:\n",
    "\n",
    "- Utilización de solvers estándares (Gurovi, Scipy PuLP, GLPK, CPLEX ...) Requiere forma estándar \n",
    "\n",
    "- Escribir tu propio algoritmo\n",
    "\n",
    "- Usar un lenguaje de modelado\n",
    "\n"
   ]
  },
  {
   "cell_type": "markdown",
   "metadata": {},
   "source": [
    "CVXPY es un lenguaje específico para la optimización convexa integrado en Python. Sus características principales incluyen:\n",
    "\n",
    "- **Lenguaje Específico del Dominio**: \n",
    " \n",
    "  - CVXPY está diseñado específicamente para problemas de optimización convexa.\n",
    "  \n",
    "- **Expresión Natural de Problemas**: \n",
    "  - Permite a los usuarios formular problemas de optimización convexa utilizando una sintaxis natural que sigue la lógica matemática.\n",
    "  \n",
    "- **Independiente de la Forma Estándar de Solucionadores**: \n",
    "  - No requiere que los problemas se formulen en la forma estándar restrictiva que a menudo exigen los solvers de optimización.\n",
    "\n",
    "- **Compatibilidad con Solucionadores Conocidos**: \n",
    "  - Facilita el uso de los solvers de optimización más conocidos"
   ]
  },
  {
   "cell_type": "markdown",
   "metadata": {},
   "source": [
    "**FUNCIONES** de CVXPY\n",
    "\n",
    "- Permite definir los problemas en lenguaje cuasi matemático\n",
    "\n",
    "- Comprueba que el problema es convexo\n",
    "  \n",
    "- Convierte en forma estándar\n",
    "  \n",
    "- Llama al solver seleccionado"
   ]
  },
  {
   "cell_type": "markdown",
   "metadata": {},
   "source": [
    "Puedes encontrar toda la documentación sobre la librería en [CVXPY](https://www.cvxpy.org/index.html)\n",
    "\n",
    "Presentación de [Convex Optimization with CVXPY](https://www.youtube.com/watch?v=kXqu-TqEl7Q)"
   ]
  },
  {
   "cell_type": "markdown",
   "metadata": {},
   "source": [
    "### Discipline Convex Programming\n",
    "\n",
    "#### Concepto y Fundamentos\n",
    "- **Definición**: Disciplined Convex Programming (DCP) es un sistema de reglas y técnicas para la construcción de problemas de optimización convexa.\n",
    "- **Objetivo**: Asegurar la convexidad de los problemas de optimización formulados, facilitando la búsqueda de soluciones globales óptimas.\n",
    "\n",
    "#### Principios Clave\n",
    "1. **Composición de Funciones Convexas**: Las funciones en un problema DCP deben combinarse de acuerdo con ciertas reglas que preservan la convexidad.\n",
    "2. **Reglas de Curvatura**: Identifican si una expresión es convexa, cóncava o afín, basándose en la operación y las funciones involucradas.\n",
    "3. **Restricciones DCP**: Solo ciertas formas de restricciones son permitidas para mantener la convexidad del problema.\n",
    "\n",
    "#### Aplicación en CVXPY\n",
    "- **CVXPY y DCP**: CVXPY utiliza DCP para verificar automáticamente la convexidad de un problema formulado.\n",
    "- **Beneficios**:\n",
    "  - Simplifica la formulación de problemas convexos.\n",
    "  - Evita errores comunes al garantizar que el problema es convexo y, por lo tanto, solucionable.\n"
   ]
  },
  {
   "cell_type": "markdown",
   "metadata": {},
   "source": [
    "## Componentes de un Problema de Optimización usando CVXPY\n",
    "\n",
    "### Variables de Decisión\n",
    "- **Definición**: Representan las cantidades que queremos determinar o optimizar.\n",
    "- **Ejemplo**: En un problema de asignación de recursos, las variables podrían ser la cantidad de recursos asignados a diferentes tareas.\n",
    "\n",
    "### Función Objetivo\n",
    "- **Definición**: Es la función que queremos minimizar o maximizar.\n",
    "- **Ejemplo**: En un problema de minimización de costos, la función objetivo podría ser el costo total en función de las variables de decisión.\n",
    "\n",
    "### Restricciones\n",
    "- **Definición**: Son las condiciones que las variables de decisión deben cumplir.\n",
    "- **Ejemplo**: En un problema de minimización de costos, podría ser los costes mínimos necesarios para cada tarea\n",
    "\n",
    "\n"
   ]
  },
  {
   "cell_type": "markdown",
   "metadata": {},
   "source": [
    "---"
   ]
  },
  {
   "cell_type": "code",
   "execution_count": 1,
   "metadata": {},
   "outputs": [],
   "source": [
    "import numpy as np\n",
    "import pandas as pd\n",
    "import cvxpy as cp"
   ]
  },
  {
   "cell_type": "markdown",
   "metadata": {},
   "source": [
    "#### Variables de decisión"
   ]
  },
  {
   "cell_type": "code",
   "execution_count": 5,
   "metadata": {},
   "outputs": [
    {
     "data": {
      "text/plain": [
       "Variable((2,), a)"
      ]
     },
     "execution_count": 5,
     "metadata": {},
     "output_type": "execute_result"
    }
   ],
   "source": [
    "# Una variable individual\n",
    "a = cp.Variable(2, name='a')\n",
    "a"
   ]
  },
  {
   "cell_type": "code",
   "execution_count": 6,
   "metadata": {},
   "outputs": [
    {
     "data": {
      "text/plain": [
       "Variable((5,), var5)"
      ]
     },
     "execution_count": 6,
     "metadata": {},
     "output_type": "execute_result"
    }
   ],
   "source": [
    "# Un vector de variables \n",
    "x = cp.Variable(5)\n",
    "x"
   ]
  },
  {
   "cell_type": "code",
   "execution_count": 7,
   "metadata": {},
   "outputs": [],
   "source": [
    "# Una matriz de variables\n",
    "m = cp.Variable((5, 2))"
   ]
  },
  {
   "cell_type": "markdown",
   "metadata": {},
   "source": [
    "#### Función Objetivo"
   ]
  },
  {
   "cell_type": "code",
   "execution_count": null,
   "metadata": {},
   "outputs": [],
   "source": [
    "# Funciones a minimizar\n",
    "cp.Minimize(a)\n",
    "cp.Minimize(cp.sum(x))\n",
    "cp.Minimize(cp.norm(a, 1))"
   ]
  },
  {
   "cell_type": "code",
   "execution_count": null,
   "metadata": {},
   "outputs": [],
   "source": [
    "# Función a maximizar\n",
    "cp.Maximize(a)\n",
    "cp.Maximize(cp.sum(x))\n",
    "cp.Maximize(cp.norm(a, 1))\n",
    "cp.Maximize(cp.sum(cp.log(x)))"
   ]
  },
  {
   "cell_type": "markdown",
   "metadata": {},
   "source": [
    "#### Restricciones"
   ]
  },
  {
   "cell_type": "markdown",
   "metadata": {},
   "source": [
    "- Las restricciones se modelan con expresiones de igualdad y desigualdad\n",
    "con ==, >=, <=. \n",
    "\n",
    "- Las desigualdades estrictas < y > no están permitidas. $x<5$ se sustituye por $x+\\epsilon \\leq 5$ siendo $\\epsilon$ un número muy pequeño\n",
    "\n",
    "- Las expresiones de desigualdad se interpretan elemento a elemento y sigiuendo\n",
    "las reglas de interpretación para escalares, vectores y matrices al estilo \n",
    "de numpy (broadcasting)."
   ]
  },
  {
   "cell_type": "code",
   "execution_count": null,
   "metadata": {},
   "outputs": [],
   "source": [
    "# los 5 elementos del vector de variables x debe ser mayor que 6\n",
    "x <= 6"
   ]
  },
  {
   "cell_type": "code",
   "execution_count": 9,
   "metadata": {},
   "outputs": [
    {
     "data": {
      "text/plain": [
       "Inequality(Constant(CONSTANT, NONNEGATIVE, (5,)))"
      ]
     },
     "execution_count": 9,
     "metadata": {},
     "output_type": "execute_result"
    }
   ],
   "source": [
    "# Cada elemento de x debe ser mayor que cada elemento del array c\n",
    "c = np.array([1, 3, 5, 10, 2])\n",
    "x >= c "
   ]
  },
  {
   "cell_type": "code",
   "execution_count": 10,
   "metadata": {},
   "outputs": [
    {
     "data": {
      "text/plain": [
       "[Inequality(Variable((5, 2), var6)),\n",
       " Inequality(Constant(CONSTANT, ZERO, ())),\n",
       " Inequality(Variable((5,), var5))]"
      ]
     },
     "execution_count": 10,
     "metadata": {},
     "output_type": "execute_result"
    }
   ],
   "source": [
    "# Las expresiones las podemos asignar a variables o \n",
    "# agruparlas en otras estructuras contendedoras, ej. listas\n",
    "constr_m = m <= 10\n",
    "constraints = [constr_m, m >= 0]\n",
    "constraints.append(x<=c)\n",
    "constraints"
   ]
  },
  {
   "cell_type": "code",
   "execution_count": null,
   "metadata": {},
   "outputs": [],
   "source": [
    "# Las desigualdades pueden darse sobre elementos o subconjuntos\n",
    "# de variables, utilizando el indexado y el slicing\n",
    "m[3, 1] <= 9\n",
    "m[4, :] <= 8"
   ]
  },
  {
   "cell_type": "code",
   "execution_count": 11,
   "metadata": {},
   "outputs": [
    {
     "data": {
      "text/plain": [
       "[Inequality(Constant(CONSTANT, NONPOSITIVE, ())),\n",
       " Inequality(Constant(CONSTANT, NONPOSITIVE, ())),\n",
       " Inequality(Constant(CONSTANT, ZERO, ())),\n",
       " Inequality(Constant(CONSTANT, NONNEGATIVE, ())),\n",
       " Inequality(Constant(CONSTANT, NONNEGATIVE, ()))]"
      ]
     },
     "execution_count": 11,
     "metadata": {},
     "output_type": "execute_result"
    }
   ],
   "source": [
    "# Podemos mezclar nuestro código con la construcción\n",
    "# de restricciones a nuestra conveniencia\n",
    "\n",
    "other_constraints = []\n",
    "for i in range(x.shape[0]):\n",
    "    other_constraints.append(x[i] >= i - 2)\n",
    "\n",
    "other_constraints"
   ]
  },
  {
   "cell_type": "markdown",
   "metadata": {},
   "source": [
    "### Operadores y Funciones\n",
    "La librería trata los operadores +, -, *, / y @ como funciones, conservando la semántica de numpy.\n",
    "- '*' se debe utilizar para multiplicar por un escalar\n",
    "- '@' se debe utilizar para multiplicación de matrices y vectores\n"
   ]
  },
  {
   "cell_type": "code",
   "execution_count": 12,
   "metadata": {},
   "outputs": [
    {
     "data": {
      "text/plain": [
       "Expression(UNKNOWN, UNKNOWN, (5, 5))"
      ]
     },
     "execution_count": 12,
     "metadata": {},
     "output_type": "execute_result"
    }
   ],
   "source": [
    "# expresiones válidas\n",
    "x*2\n",
    "x + 2*x\n",
    "x @ m \n",
    "m @ m.T"
   ]
  },
  {
   "cell_type": "markdown",
   "metadata": {},
   "source": [
    "La librería contiene un conjunto diverso de funciones para realizar\n",
    "la mayoría de los cálculos matemáticos.\n",
    "\n",
    "-  Consultar una lista mas completa en la [documentación](https://www.cvxpy.org/tutorial/functions/index.html)"
   ]
  },
  {
   "cell_type": "code",
   "execution_count": 13,
   "metadata": {},
   "outputs": [
    {
     "data": {
      "text/plain": [
       "Expression(CONVEX, NONNEGATIVE, ())"
      ]
     },
     "execution_count": 13,
     "metadata": {},
     "output_type": "execute_result"
    }
   ],
   "source": [
    "# Suma de los elementos de x\n",
    "cp.sum(x)\n",
    "\n",
    "# Suma de cuadrados de los elementos de x\n",
    "cp.sum_squares(m)"
   ]
  },
  {
   "cell_type": "code",
   "execution_count": null,
   "metadata": {},
   "outputs": [],
   "source": [
    "# OJO: Algunas funciones se aplican a cada elemento de la va\n",
    "\n",
    "# valor absoluto de cada elemento del vector\n",
    "cp.abs(x)\n",
    "# para cada elemento de la matriz se calcula e^{a_ij}\n",
    "cp.exp(m) "
   ]
  }
 ],
 "metadata": {
  "kernelspec": {
   "display_name": "Python 3",
   "language": "python",
   "name": "python3"
  },
  "language_info": {
   "codemirror_mode": {
    "name": "ipython",
    "version": 3
   },
   "file_extension": ".py",
   "mimetype": "text/x-python",
   "name": "python",
   "nbconvert_exporter": "python",
   "pygments_lexer": "ipython3",
   "version": "3.11.6"
  }
 },
 "nbformat": 4,
 "nbformat_minor": 2
}
