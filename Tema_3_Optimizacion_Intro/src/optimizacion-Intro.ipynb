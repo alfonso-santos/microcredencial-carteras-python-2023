{
 "cells": [
  {
   "cell_type": "markdown",
   "metadata": {},
   "source": [
    "# INTRODUCCIÓN OPTIMIZACIÓN"
   ]
  },
  {
   "cell_type": "markdown",
   "metadata": {},
   "source": [
    "### OPTIMIZACIÓN MATEMÁTICA: CONCEPTOS"
   ]
  },
  {
   "cell_type": "markdown",
   "metadata": {},
   "source": [
    "**mimimizar $f_0(x)$**\n",
    "\n",
    "**sujeto a $f_i(x) \\leq b_i$,   $\\qquad i= 1,...,m$**"
   ]
  },
  {
   "cell_type": "markdown",
   "metadata": {},
   "source": [
    "Siendo:\n",
    "\n",
    "$x = (x_1, x_2,..., x_n)$  variables\n",
    "\n",
    "$f_0: \\mathbb{R}^n \\rightarrow \\mathbb{R}$  es la función objetivo\n",
    "\n",
    "$f_i: \\mathbb{R}^n \\rightarrow \\mathbb{R}$ son las restricciones"
   ]
  },
  {
   "cell_type": "markdown",
   "metadata": {},
   "source": [
    "**solución** $x^*$ es el vector, de entre todos los vectores que cumplen las restricciones, que hace que $f_0(x^*)$ tenga el valor mínimo"
   ]
  },
  {
   "cell_type": "markdown",
   "metadata": {},
   "source": [
    "**EJEMPLO: OPTIMIZACIÓN DE UNA CARTERA**\n",
    "\n",
    "- *variables:*     cantidades o pesos que invierto en cada activo\n",
    "- *restricciones:* presupuesto total, max/min cantidad invertida en un activo, retorno mínimo de la cartera\n",
    "- *objetivo:*      riesgo o volatilidad\n",
    "\n",
    "**EJEMPLO MACHINE LEARNING**\n",
    "\n",
    "- *variables:*     parámetros del modelo\n",
    "- *restricciones:* datos previos, límites de los parámetros\n",
    "- *objetivo:*      función de error con los datos o error de la predicción"
   ]
  },
  {
   "cell_type": "markdown",
   "metadata": {},
   "source": [
    "Hay muchos tipos de problemas de optimización. \n",
    "\n",
    "**Problema general de optimización**\n",
    "- muy difícil de resolver\n",
    "- a veces\n",
    "  - no podemos encontrar la solución\n",
    "  - requiere muchos recursos de computación\n",
    "\n"
   ]
  },
  {
   "cell_type": "markdown",
   "metadata": {},
   "source": [
    "**excepciones**: algunos problemas se puden resolver de manera eficaz y fiable:\n",
    "\n",
    "- problemas de mínimos cuadrados\n",
    "\n",
    "- problemas lineales\n",
    "\n",
    "- problemas optimización convexa"
   ]
  },
  {
   "cell_type": "markdown",
   "metadata": {},
   "source": [
    "### **PROBLEMA DE MÍNIMOS CUADRADOS**\n",
    "\n",
    "Este método se utiliza principalmente para problemas de ajuste de modelos, especialmente en estadísticas y análisis de datos. El objetivo es minimizar la suma de los cuadrados de las diferencias (errores) entre los valores observados y los valores predichos por un modelo. Es ampliamente utilizado en regresión lineal para estimar los coeficientes de un modelo lineal.\n",
    "\n",
    "minimizar $\\|Ax - b\\|_2^2$\n",
    "\n",
    "Existe una solución analítica:\n",
    "\n",
    "$x^* = (A^TA)^{-1} A^T b$"
   ]
  },
  {
   "cell_type": "markdown",
   "metadata": {},
   "source": [
    "Para realizar regresiones lineales en python existen varias librerías:\n",
    "\n",
    "- polyfit de Numpy\n",
    "\n",
    "- linregress de Scipy\n",
    "\n",
    "- **OLS de Statsmodel**\n",
    "\n",
    "- **LinearRegression de scikit-learn**\n",
    "\n"
   ]
  },
  {
   "cell_type": "markdown",
   "metadata": {},
   "source": [
    "**EJEMPLO**\n",
    "\n",
    "Un ejemplo clásico de mínimos cuadrados en finanzas es la regresión lineal para estimar el modelo de valoración de activos de capital (CAPM, por sus siglas en inglés).\n",
    "\n",
    "El CAPM es un modelo utilizado para determinar la rentabilidad esperada de un activo, tomando en cuenta el riesgo y el tiempo valor del dinero\n",
    "\n",
    "El modelo establece que la rentabilidad de un activo es una función lineal del rendimiento de un mercado más amplio."
   ]
  },
  {
   "cell_type": "markdown",
   "metadata": {},
   "source": [
    "<div style=\"text-align: center;\">\n",
    "<img src=\"../imgs/capm.png\" alt=\"CAPM\" width=\"500\"/>\n",
    "</div>"
   ]
  },
  {
   "cell_type": "markdown",
   "metadata": {},
   "source": []
  },
  {
   "cell_type": "markdown",
   "metadata": {},
   "source": [
    "\n",
    "\n",
    "\n",
    "**El Modelo CAPM**: \n",
    "La ecuación del CAPM es:\n",
    "\n",
    "$$ R_i = \\alpha + \\beta R_m + \\epsilon $$\n",
    "\n",
    "Donde:\n",
    "- $ R_i $ es el rendimiento del activo individual.\n",
    "- $ \\alpha $ es el intercepto, que representa la rentabilidad esperada del activo cuando el rendimiento del mercado es cero.\n",
    "- $ \\beta $ es la pendiente, que mide la sensibilidad del rendimiento del activo a los cambios en el rendimiento del mercado.\n",
    "- $ R_m $ es el rendimiento del mercado.\n",
    "- $ \\epsilon $ es el término de error, que captura factores específicos del activo que no se explican por el movimiento del mercado.\n",
    "\n",
    "**Aplicación de Mínimos Cuadrados**:\n",
    "Para estimar $ \\alpha $ y $ \\beta $, se utiliza el método de mínimos cuadrados. Esto implica ajustar una línea recta a un conjunto de datos históricos de rendimientos del activo ($ R_i $) y rendimientos del mercado ($ R_m $) de la siguiente manera:\n",
    "\n",
    "1. **Recolección de Datos**: Recolecta datos históricos de rendimientos para el activo y el mercado correspondiente.\n",
    "2. **Ajuste de la Línea**: Utiliza mínimos cuadrados para encontrar los valores de $ \\alpha $ y $ \\beta $ que minimizan la suma de los cuadrados de las diferencias entre los rendimientos observados del activo y los rendimientos predichos por el modelo CAPM para cada punto de datos.\n",
    "3. **Interpretación**:\n",
    "   - **$ \\alpha $**: Si es significativamente diferente de cero, podría indicar que el activo tiene un rendimiento anormalmente alto o bajo en comparación con lo esperado por el riesgo de mercado.\n",
    "   - **$ \\beta $**: Un valor mayor que 1 indica que el activo es más volátil que el mercado, mientras que un valor menor que 1 indica que es menos volátil.\n",
    "\n",
    "Este modelo es fundamental en finanzas, tanto para la gestión de riesgos como para la toma de decisiones de inversión, ya que proporciona una medida del riesgo sistemático de un activo y su relación con el mercado en general.\n"
   ]
  },
  {
   "cell_type": "code",
   "execution_count": 9,
   "metadata": {},
   "outputs": [],
   "source": [
    "import numpy as np\n",
    "import pandas as pandas\n",
    "import yfinance as yf\n",
    "import statsmodels.api as sm"
   ]
  },
  {
   "cell_type": "code",
   "execution_count": 24,
   "metadata": {},
   "outputs": [
    {
     "name": "stdout",
     "output_type": "stream",
     "text": [
      "[*********************100%%**********************]  2 of 2 completed\n"
     ]
    }
   ],
   "source": [
    "tickers=['META', '^IXIC']\n",
    "precios_df = yf.download(tickers, start='2018-01-01', end='2023-11-30', period='M')['Adj Close']\n",
    "retornos_df = np.log(precios_df).diff().dropna()"
   ]
  },
  {
   "cell_type": "code",
   "execution_count": 23,
   "metadata": {},
   "outputs": [
    {
     "name": "stdout",
     "output_type": "stream",
     "text": [
      "La beta es: 1.23\n"
     ]
    }
   ],
   "source": [
    "# split dependent and independent variable\n",
    "X = retornos_df['^IXIC']\n",
    "y = retornos_df['META']\n",
    "\n",
    "# Add a constant to the independent value\n",
    "X1 = sm.add_constant(X)\n",
    "\n",
    "# make regression model \n",
    "model = sm.OLS(y, X1)\n",
    "\n",
    "# fit model and print results\n",
    "results = model.fit()\n",
    "\n",
    "beta = results.params.iloc[1]\n",
    "print(f'La beta es: {beta:.2f}')"
   ]
  },
  {
   "cell_type": "markdown",
   "metadata": {},
   "source": [
    "Comprobamos si coincide con la beta que nos da yahoo finance:\n",
    "\n",
    "\n",
    "<img src=\"../imgs/beta-meta.png\" alt=\"CAPM\" width=\"700\"/>\n"
   ]
  },
  {
   "cell_type": "markdown",
   "metadata": {},
   "source": [
    "### **PROGRAMACIÓN LINEAL**\n",
    "\n",
    "Es un método de optimización para resolver problemas donde tanto la función objetivo como las restricciones son lineales.\n",
    "\n",
    "Se utiliza en diversas áreas como economía, ingeniería, gestión militar y ciencias de la computación para encontrar la mejor solución (máxima o mínima) en un modelo con restricciones lineales.\n",
    "\n",
    "minimizar $c^T x$\n",
    "\n",
    "sujeto a $a_i^T x \\leq b_i$, $\\qquad i= 1,...,m$\n",
    "\n",
    "No existe solución analítica pero existen algoritmos y programas muy eficientes:"
   ]
  },
  {
   "cell_type": "markdown",
   "metadata": {},
   "source": [
    "Supongamos que un inversor quiere distribuir su capital entre diferentes activos (como acciones, bonos, fondos mutuos) para maximizar el retorno esperado, sujeto a ciertas restricciones. Aquí está cómo se podría formular este problema:\n",
    "\n",
    "Objetivo:\n",
    "Maximizar el retorno total de la cartera.\n",
    "\n",
    "- Variables de Decisión: $x_1, x_2, ..., x_n$ Proporción del capital invertido en cada activo $i$\n",
    "\n",
    "- Función objetivo: Maximizar $R = r_1x_1+r_2x_2+...+r_nx_n$. Donde $r_i$ es el retorno esperado del activo $i$\n",
    "\n",
    "- Restricciones:\n",
    "\n",
    "    - Presupuesto: $x_1+x_2+...+x_n \\leq 1$\n",
    "    - Restricciones de riesgo: $x_i \\leq 0.1$, , $\\quad i= 1,...,m$\n",
    "    - Resticciones regulatorias o diversificación: $x_2+x_3 \\geq 0.3$\n",
    "    - No posiciones cortas: $x_i \\geq 0 \\quad \\forall i$\n",
    "\n"
   ]
  },
  {
   "cell_type": "code",
   "execution_count": 27,
   "metadata": {},
   "outputs": [
    {
     "name": "stdout",
     "output_type": "stream",
     "text": [
      "Solución óptima encontrada:\n",
      "Inversión en activo 0: 40.00 %\n",
      "Inversión en activo 1: 30.00 %\n",
      "Inversión en activo 2: 10.00 %\n",
      "Inversión en activo 3: 20.00 %\n"
     ]
    }
   ],
   "source": [
    "from scipy.optimize import linprog\n",
    "\n",
    "# Ejemplo de datos\n",
    "retornos = [0.12, 0.10, 0.08, 0.14]  # Retornos esperados de los activos\n",
    "limites_superiores = [0.4, 0.3, 0.3, 0.2]  # Límites en la inversión por activo\n",
    "n = len(retornos)  # Número de activos\n",
    "\n",
    "# Cambio de signo en la función objetivo para maximizar\n",
    "c = [-r for r in retornos]\n",
    "\n",
    "# Matriz de restricciones y vector de límites\n",
    "A_eq = [[1] * n]\n",
    "b_eq = [1]\n",
    "\n",
    "# Límites para cada variable\n",
    "x_bounds = [(0, limites_superiores[i]) for i in range(n)]\n",
    "\n",
    "# Resolver el problema\n",
    "res = linprog(c, A_eq=A_eq, b_eq=b_eq, bounds=x_bounds, method='highs')\n",
    "\n",
    "# Resultados\n",
    "if res.success:\n",
    "    print(\"Solución óptima encontrada:\")\n",
    "    for i in range(n):\n",
    "        print(f\"Inversión en activo {i}: {100*res.x[i]:.2f} %\")\n",
    "else:\n",
    "    print(\"No se encontró una solución óptima.\")\n"
   ]
  },
  {
   "cell_type": "markdown",
   "metadata": {},
   "source": [
    "### **OPTIMIZACIÓN CONVEXA**\n",
    "\n",
    "La optimización convexa es un subcampo de la optimización matemática que estudia cómo minimizar o maximizar una función convexa sobre un conjunto convexo.\n",
    "\n",
    "minimizar $f_0(x)$\n",
    "\n",
    "sujeto a $f_i(x) \\leq b_i$, $\\quad i=1,...,m$\n",
    "\n",
    "- tanto la función objetivo $f_0$ como las restricciones son convexas:\n",
    " \n",
    "  $\\qquad \\qquad f_i(\\alpha x+\\beta y) \\leq \\alpha f_i(x) + \\beta f_i(y)$\n",
    "\n",
    "  $\\qquad \\qquad \\quad \\alpha + \\beta =1, \\alpha \\geq0, \\beta \\geq 0$\n",
    "\n",
    "- LA OPTIMIZACIÓN CONVEXA INCLUYE LA DE MÍNIMOS CUADRADOS Y LA PROGRAMACIÓN LINEAL COMO CASOS ESPECIALES"
   ]
  },
  {
   "cell_type": "markdown",
   "metadata": {},
   "source": [
    "<img src=\"../imgs/convexa.jpg\" alt=\"CAPM\" width=\"400\"/>"
   ]
  },
  {
   "cell_type": "markdown",
   "metadata": {},
   "source": [
    "Las ventajas de los problemas de optimización convexa incluyen:\n",
    "\n",
    "- **Solución Óptima Global**: Cualquier mínimo local es también un mínimo global, lo que asegura que la solución encontrada es la mejor posible.\n",
    "\n",
    "- **Eficiencia Computacional**: Los algoritmos para resolver problemas convexos son generalmente eficientes y bien entendidos, lo que permite soluciones rápidas y confiables.\n",
    "\n",
    "- **Análisis Teórico Sólido**: La teoría subyacente es bien desarrollada, proporcionando una comprensión clara de las propiedades del problema y las soluciones.\n",
    "\n",
    "- **Amplia Aplicabilidad**: Los problemas de optimización convexa son relevantes en muchos campos, como la economía, la ingeniería, el machine learning y la investigación operativa.\n",
    "\n",
    "- **Existencia de Soluciones**: En muchos casos, se puede garantizar la existencia de una solución.\n",
    "\n",
    "- **Simplicidad de Implementación**: Los algoritmos para resolver problemas convexos son más sencillos de implementar en comparación con problemas de optimización no convexa.\n",
    "\n",
    "- **Robustez**: Los problemas convexos son menos sensibles a pequeñas variaciones en los datos, lo que los hace robustos en aplicaciones prácticas.\n"
   ]
  },
  {
   "cell_type": "markdown",
   "metadata": {},
   "source": [
    "Los **PROBLEMAS DE OPTIMIZACIÓN DE CARTERAS DE ACTIVOS FINANCIEROS SON PROBLEMAS DE OPTIMIZACIÓN CONVEXA**:\n",
    "\n",
    "1. **Función Objetivo Convexa**:\n",
    "   - En la optimización de carteras, como en el modelo de Markowitz, la función objetivo suele ser minimizar el riesgo (varianza o desviación estándar) o maximizar el rendimiento esperado.\n",
    "   - La varianza (riesgo) es una función cuadrática de los pesos de los activos, naturalmente convexa\n",
    "\n",
    "2. **Restricciones Convexas**:\n",
    "    - Las restricciones comunes, como la suma de los pesos igual a 1 y las restricciones de no-negatividad, son lineales (afines)\n",
    "    - Estas restricciones son convexas, lo que significa que el conjunto de soluciones posibles (el espacio factible) es un conjunto convexo."
   ]
  },
  {
   "cell_type": "markdown",
   "metadata": {},
   "source": [
    "Para más información sobre optimización convexa podéis estudiar el curso de Stanford [Convex Optimization](https://www.youtube.com/playlist?list=PL3940DD956CDF0622)"
   ]
  }
 ],
 "metadata": {
  "kernelspec": {
   "display_name": "Python 3",
   "language": "python",
   "name": "python3"
  },
  "language_info": {
   "codemirror_mode": {
    "name": "ipython",
    "version": 3
   },
   "file_extension": ".py",
   "mimetype": "text/x-python",
   "name": "python",
   "nbconvert_exporter": "python",
   "pygments_lexer": "ipython3",
   "version": "3.11.6"
  }
 },
 "nbformat": 4,
 "nbformat_minor": 2
}
