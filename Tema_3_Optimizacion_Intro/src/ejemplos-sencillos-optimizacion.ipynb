{
 "cells": [
  {
   "cell_type": "markdown",
   "metadata": {},
   "source": [
    "# Ejemplos de Optimización\n"
   ]
  },
  {
   "cell_type": "markdown",
   "metadata": {},
   "source": [
    "### **Ejercicio de maximización rentabilidad por dividendos:**"
   ]
  },
  {
   "cell_type": "markdown",
   "metadata": {},
   "source": [
    "_Objetivo:_ Maximizar la rentabilidad por dividendos de una cartera teniendo en cuenta que la exposición a moneda extranjera debe ser menos o igual al 33%:\n",
    "\n",
    "**Activos:**\n",
    "\n",
    "| Activo | Dividendo | % Ingresos Extranjero |\n",
    "|--------|-----------|-----------------------|\n",
    "| SAN    | 3.67%     | 60%                   |\n",
    "| REE    | 6.8%      | 10%                   |\n",
    "| BBVA   | 5.6%      | 50%                   |\n",
    "| REPSOL | 4.54%     | 45%                   |\n",
    "\n",
    "\n",
    "**Entrega:**\n",
    "Determinar las proporciones óptimas de inversión para cada activo, calculando la rentabilidad total y la exposición a moneda extranjera."
   ]
  },
  {
   "cell_type": "code",
   "execution_count": 1,
   "metadata": {},
   "outputs": [],
   "source": [
    "import numpy as np\n",
    "import pandas as pd\n",
    "import cvxpy as cp"
   ]
  },
  {
   "cell_type": "code",
   "execution_count": 47,
   "metadata": {},
   "outputs": [],
   "source": [
    "# datos almacenados en arrays\n",
    "dividendos = np.array([3.67, 4.2, 5.6, 5])\n",
    "ingresos = np.array([60, 10, 50, 25])"
   ]
  },
  {
   "cell_type": "code",
   "execution_count": 48,
   "metadata": {},
   "outputs": [],
   "source": [
    "# creacion de variables de decisión\n",
    "pesos = cp.Variable(dividendos.shape[0])"
   ]
  },
  {
   "cell_type": "code",
   "execution_count": 49,
   "metadata": {},
   "outputs": [],
   "source": [
    "# construcción de función objetivo\n",
    "objective = cp.sum(cp.multiply(pesos, dividendos))"
   ]
  },
  {
   "cell_type": "code",
   "execution_count": 50,
   "metadata": {
    "tags": []
   },
   "outputs": [],
   "source": [
    "# lista de expresiones representando las restricciones\n",
    "constraints = [\n",
    "    cp.sum(pesos) == 1.0,\n",
    "    cp.sum(cp.multiply(ingresos, pesos)) <= 40,\n",
    "    pesos >= 0.0\n",
    "]"
   ]
  },
  {
   "cell_type": "code",
   "execution_count": 51,
   "metadata": {},
   "outputs": [],
   "source": [
    "# instancia de un problema en CVXPY\n",
    "problem = cp.Problem(cp.Maximize(objective), constraints)"
   ]
  },
  {
   "cell_type": "code",
   "execution_count": 59,
   "metadata": {},
   "outputs": [
    {
     "name": "stdout",
     "output_type": "stream",
     "text": [
      "La rentabilidad por dividendo obtenida es: 5.36%\n"
     ]
    }
   ],
   "source": [
    "# resolución del problema y valor optimo\n",
    "result = problem.solve()\n",
    "print(f'La rentabilidad por dividendo obtenida es: {result:.2f}%')"
   ]
  },
  {
   "cell_type": "code",
   "execution_count": 54,
   "metadata": {},
   "outputs": [
    {
     "data": {
      "text/plain": [
       "array([1.25638459e-10, 6.71469679e-10, 5.99999999e-01, 4.00000000e-01])"
      ]
     },
     "execution_count": 54,
     "metadata": {},
     "output_type": "execute_result"
    }
   ],
   "source": [
    "# valor de las variables en el máximo de la función objetivo\n",
    "pesos.value"
   ]
  },
  {
   "cell_type": "code",
   "execution_count": 56,
   "metadata": {},
   "outputs": [
    {
     "data": {
      "text/plain": [
       "SAN        0.0\n",
       "REE        0.0\n",
       "BBVA      60.0\n",
       "REPSOL    40.0\n",
       "dtype: float64"
      ]
     },
     "execution_count": 56,
     "metadata": {},
     "output_type": "execute_result"
    }
   ],
   "source": [
    "pd.Series(100*pesos.value.round(2), index=['SAN', 'REE','BBVA','REPSOL'])"
   ]
  },
  {
   "cell_type": "markdown",
   "metadata": {},
   "source": [
    "### Apartado adicional\n",
    "- Resolver el problema anterior si además no se puede invertir más del 30% en un solo activo.\n"
   ]
  },
  {
   "cell_type": "code",
   "execution_count": 60,
   "metadata": {},
   "outputs": [],
   "source": [
    "# añadimos la nueva restricción\n",
    "constraints.append(pesos <= 0.3)"
   ]
  },
  {
   "cell_type": "code",
   "execution_count": 62,
   "metadata": {},
   "outputs": [
    {
     "name": "stdout",
     "output_type": "stream",
     "text": [
      "La rentabilidad por dividendo obtenida es: 4.81%\n"
     ]
    }
   ],
   "source": [
    "# resolución del problema y valor optimo\n",
    "problem = cp.Problem(cp.Maximize(objective), constraints)\n",
    "result = problem.solve()\n",
    "print(f'La rentabilidad por dividendo obtenida es: {result:.2f}%')"
   ]
  },
  {
   "cell_type": "code",
   "execution_count": 63,
   "metadata": {},
   "outputs": [
    {
     "data": {
      "text/plain": [
       "SAN       10.0\n",
       "REE       30.0\n",
       "BBVA      30.0\n",
       "REPSOL    30.0\n",
       "dtype: float64"
      ]
     },
     "execution_count": 63,
     "metadata": {},
     "output_type": "execute_result"
    }
   ],
   "source": [
    "pd.Series(100*pesos.value.round(2), index=['SAN', 'REE','BBVA','REPSOL'])"
   ]
  },
  {
   "cell_type": "markdown",
   "metadata": {},
   "source": [
    "---"
   ]
  },
  {
   "cell_type": "markdown",
   "metadata": {},
   "source": [
    "### **Ejercicio de Optimización de Portafolio con Mínimo Riesgo**\n",
    "\n",
    "**Objetivo**: Minimizar el riesgo de un portafolio de inversión.\n",
    "\n",
    "### Datos:\n",
    "- **Retornos Esperados**: Un array `retornos_esperados` que contiene el retorno esperado para cada activo.\n",
    "- **Matriz de Covarianza**: `matriz_cov`, describiendo la covarianza entre los activos y el riesgo combinado.\n",
    "\n",
    "\n",
    "### Restricciones:\n",
    "1. No se permiten posiciones cortas"
   ]
  },
  {
   "cell_type": "markdown",
   "metadata": {},
   "source": [
    "Recordad que la varianza de una cartera, $ \\sigma^2_p $, se calcula como:\n",
    "\n",
    "$ \\qquad \\qquad \\sigma^2_p = \\mathbf{w}^T \\Sigma \\mathbf{w} $\n",
    "\n",
    "donde:\n",
    "- $ \\mathbf{w} $ es el vector de pesos de la cartera. Cada elemento $ w_i $ representa la fracción del capital total invertido en el activo $ i $.\n",
    "- $ \\Sigma $ es la matriz de covarianza de los rendimientos de los activos. Cada elemento $ \\sigma_{ij} $ representa la covarianza entre los rendimientos de los activos $ i $ y $ j $.\n"
   ]
  },
  {
   "cell_type": "code",
   "execution_count": 153,
   "metadata": {},
   "outputs": [],
   "source": [
    "# Datos de retornos y covarianzas\n",
    "\n",
    "retornos_esperados = np.array([0.17, 0.10, 0.07, 0.09])  # Ejemplo de retornos esperados\n",
    "matriz_cov = np.array([[1.83977374, 1.23002575, 1.59282297, 0.69409837],\n",
    "       [1.23002575, 1.45345954, 1.7548078 , 1.31477996],\n",
    "       [1.59282297, 1.7548078 , 2.14425197, 1.55568552],\n",
    "       [0.69409837, 1.31477996, 1.55568552, 1.46502412]])"
   ]
  },
  {
   "cell_type": "code",
   "execution_count": 154,
   "metadata": {},
   "outputs": [],
   "source": [
    "# Variable de decisión\n",
    "pesos = cp.Variable(4)"
   ]
  },
  {
   "cell_type": "code",
   "execution_count": 155,
   "metadata": {},
   "outputs": [],
   "source": [
    "# Función objetivo\n",
    "riesgo = cp.quad_form(pesos, matriz_cov)\n",
    "objetivo = cp.Minimize(riesgo)"
   ]
  },
  {
   "cell_type": "code",
   "execution_count": 156,
   "metadata": {},
   "outputs": [],
   "source": [
    "# Restricciones\n",
    "constraints = [cp.sum(pesos) == 1, \n",
    "               pesos >= 0]"
   ]
  },
  {
   "cell_type": "code",
   "execution_count": 157,
   "metadata": {},
   "outputs": [],
   "source": [
    "# Problema de optimización\n",
    "problema = cp.Problem(objetivo, constraints)\n",
    "\n",
    "# Resolviendo el problema\n",
    "resultado = problema.solve()\n",
    "\n",
    "# Resultados\n",
    "pesos_optimos = pesos.value"
   ]
  },
  {
   "cell_type": "code",
   "execution_count": 158,
   "metadata": {},
   "outputs": [
    {
     "name": "stdout",
     "output_type": "stream",
     "text": [
      "El riesgo de la cartera es: 1.15\n",
      "La rentabilidad de la cartera es: 12.22%\n",
      "Los pesos que hacen que la cartera tenga el menor riesgo son: [40. -0. -0. 60.]\n"
     ]
    }
   ],
   "source": [
    "print(f'El riesgo de la cartera es: {riesgo.value:.2f}')\n",
    "print(f'La rentabilidad de la cartera es: {100*(retornos_esperados @ pesos_optimos).round(4)}%')\n",
    "print(f'Los pesos que hacen que la cartera tenga el menor riesgo son: {100*pesos_optimos.round(2)}')"
   ]
  },
  {
   "cell_type": "markdown",
   "metadata": {},
   "source": [
    "### Apartados adicionales\n",
    "- Resolver el problema anterior si además quieres una rentabilidad mínima del 14%"
   ]
  },
  {
   "cell_type": "code",
   "execution_count": 133,
   "metadata": {},
   "outputs": [],
   "source": [
    "constraints.append(retornos_esperados @ pesos >= 0.14)"
   ]
  },
  {
   "cell_type": "code",
   "execution_count": 134,
   "metadata": {},
   "outputs": [],
   "source": [
    "# Problema de optimización\n",
    "problema = cp.Problem(objetivo, constraints)\n",
    "\n",
    "# Resolviendo el problema\n",
    "resultado = problema.solve()\n",
    "\n",
    "# Resultados\n",
    "pesos_optimos = pesos.value"
   ]
  },
  {
   "cell_type": "code",
   "execution_count": 91,
   "metadata": {},
   "outputs": [
    {
     "data": {
      "text/plain": [
       "0.11"
      ]
     },
     "execution_count": 91,
     "metadata": {},
     "output_type": "execute_result"
    }
   ],
   "source": [
    "(retornos_esperados @ pesos_optimos).round(4)"
   ]
  },
  {
   "cell_type": "code",
   "execution_count": 135,
   "metadata": {},
   "outputs": [
    {
     "name": "stdout",
     "output_type": "stream",
     "text": [
      "El riesgo de la cartera es: 1.25\n",
      "La rentabilidad de la cartera es: 14.000000000000002%\n",
      "Los pesos que hacen que la cartera tenga el menor riesgo son: [62. -0. -0. 38.]\n"
     ]
    }
   ],
   "source": [
    "print(f'El riesgo de la cartera es: {riesgo.value:.2f}')\n",
    "print(f'La rentabilidad de la cartera es: {100*(retornos_esperados @ pesos_optimos).round(4)}%')\n",
    "print(f'Los pesos que hacen que la cartera tenga el menor riesgo son: {100*pesos_optimos.round(2)}')"
   ]
  },
  {
   "cell_type": "markdown",
   "metadata": {},
   "source": [
    "- ¿Y si la rentabilidad mínime es del 18%?"
   ]
  },
  {
   "cell_type": "code",
   "execution_count": 136,
   "metadata": {},
   "outputs": [],
   "source": [
    "# Restricciones\n",
    "constraints = [cp.sum(pesos) == 1, \n",
    "               pesos >= 0,\n",
    "               retornos_esperados @ pesos >= 0.18]\n",
    "\n",
    "\n",
    "# Problema de optimización\n",
    "problema = cp.Problem(objetivo, constraints)\n",
    "\n",
    "# Resolviendo el problema\n",
    "resultado = problema.solve()\n",
    "\n",
    "# Resultados\n",
    "pesos_optimos = pesos.value"
   ]
  },
  {
   "cell_type": "code",
   "execution_count": 137,
   "metadata": {},
   "outputs": [
    {
     "ename": "AttributeError",
     "evalue": "'NoneType' object has no attribute 'round'",
     "output_type": "error",
     "traceback": [
      "\u001b[0;31m---------------------------------------------------------------------------\u001b[0m",
      "\u001b[0;31mAttributeError\u001b[0m                            Traceback (most recent call last)",
      "Cell \u001b[0;32mIn[137], line 1\u001b[0m\n\u001b[0;32m----> 1\u001b[0m \u001b[38;5;28mprint\u001b[39m(\u001b[38;5;124mf\u001b[39m\u001b[38;5;124m'\u001b[39m\u001b[38;5;124mLos pesos que hacen que la cartera tenga el menor riesgo son: \u001b[39m\u001b[38;5;132;01m{\u001b[39;00m\u001b[38;5;241m100\u001b[39m\u001b[38;5;241m*\u001b[39m\u001b[43mpesos_optimos\u001b[49m\u001b[38;5;241;43m.\u001b[39;49m\u001b[43mround\u001b[49m(\u001b[38;5;241m2\u001b[39m)\u001b[38;5;132;01m}\u001b[39;00m\u001b[38;5;124m'\u001b[39m)\n",
      "\u001b[0;31mAttributeError\u001b[0m: 'NoneType' object has no attribute 'round'"
     ]
    }
   ],
   "source": [
    "print(f'Los pesos que hacen que la cartera tenga el menor riesgo son: {100*pesos_optimos.round(2)}')"
   ]
  },
  {
   "cell_type": "code",
   "execution_count": 101,
   "metadata": {},
   "outputs": [
    {
     "data": {
      "text/plain": [
       "inf"
      ]
     },
     "execution_count": 101,
     "metadata": {},
     "output_type": "execute_result"
    }
   ],
   "source": [
    "resultado"
   ]
  },
  {
   "cell_type": "markdown",
   "metadata": {},
   "source": [
    "Las restricciones establecidas en este problema de optimización hacen que no tenga solución.\n",
    "\n",
    "Dado que el rendimiento más alto de los activos es del 17%, es imposible lograr una rentabilidad del 18% con una cartera formada por estos activos."
   ]
  },
  {
   "cell_type": "markdown",
   "metadata": {},
   "source": [
    "---"
   ]
  },
  {
   "cell_type": "markdown",
   "metadata": {},
   "source": [
    "### **Ejercicio de Optimización de Portafolio con Máxima Rentabilidad dado un Riesgo**\n",
    "\n",
    "**Objetivo**: Maximizar la rentabilidad de un portafolio de inversión asegurando un riesgo máximo.\n",
    "\n",
    "### Datos:\n",
    "- **Retornos Esperados**: Un array `retornos_esperados` que contiene el retorno esperado para cada activo.\n",
    "- **Matriz de Covarianza**: `matriz_cov`, describiendo la covarianza entre los activos y el riesgo combinado.\n",
    "\n",
    "\n",
    "### Restricciones:\n",
    "1. No se permiten posiciones cortas"
   ]
  },
  {
   "cell_type": "code",
   "execution_count": 138,
   "metadata": {},
   "outputs": [],
   "source": [
    "# Datos de retornos y covarianzas\n",
    "\n",
    "retornos_esperados = np.array([0.17, 0.10, 0.07, 0.09])  # Ejemplo de retornos esperados\n",
    "matriz_cov = np.array([[1.83977374, 1.23002575, 1.59282297, 0.69409837],\n",
    "       [1.23002575, 1.45345954, 1.7548078 , 1.31477996],\n",
    "       [1.59282297, 1.7548078 , 2.14425197, 1.55568552],\n",
    "       [0.69409837, 1.31477996, 1.55568552, 1.46502412]])"
   ]
  },
  {
   "cell_type": "code",
   "execution_count": 139,
   "metadata": {},
   "outputs": [],
   "source": [
    "# Variable de decisión\n",
    "pesos = cp.Variable(4)"
   ]
  },
  {
   "cell_type": "code",
   "execution_count": 140,
   "metadata": {},
   "outputs": [],
   "source": [
    "# Función objetivo\n",
    "rentabilidad = retornos_esperados @ pesos\n",
    "objetivo = cp.Maximize(rentabilidad)"
   ]
  },
  {
   "cell_type": "code",
   "execution_count": 149,
   "metadata": {},
   "outputs": [],
   "source": [
    "# Restricciones\n",
    "riesgo = cp.quad_form(pesos, matriz_cov)\n",
    "\n",
    "constraints = [cp.sum(pesos) == 1, \n",
    "               pesos >= 0,\n",
    "               riesgo <= 1.20]\n",
    "\n",
    "riesgo = cp.quad_form(pesos, matriz_cov)"
   ]
  },
  {
   "cell_type": "code",
   "execution_count": 150,
   "metadata": {},
   "outputs": [],
   "source": [
    "# Problema de optimización\n",
    "problema = cp.Problem(objetivo, constraints)\n",
    "\n",
    "# Resolviendo el problema\n",
    "resultado = problema.solve()\n",
    "\n",
    "# Resultados\n",
    "pesos_optimos = pesos.value"
   ]
  },
  {
   "cell_type": "code",
   "execution_count": 151,
   "metadata": {},
   "outputs": [
    {
     "data": {
      "text/plain": [
       "0.13444668904708934"
      ]
     },
     "execution_count": 151,
     "metadata": {},
     "output_type": "execute_result"
    }
   ],
   "source": [
    "resultado"
   ]
  },
  {
   "cell_type": "code",
   "execution_count": 152,
   "metadata": {},
   "outputs": [
    {
     "name": "stdout",
     "output_type": "stream",
     "text": [
      "El riesgo de la cartera es: 1.20\n",
      "La rentabilidad de la cartera es: 13.44%\n",
      "Los pesos que hacen que la cartera tenga el menor riesgo son: [56.  0.  0. 44.]\n"
     ]
    }
   ],
   "source": [
    "print(f'El riesgo de la cartera es: {riesgo.value:.2f}')\n",
    "print(f'La rentabilidad de la cartera es: {100*(retornos_esperados @ pesos_optimos).round(4)}%')\n",
    "print(f'Los pesos que hacen que la cartera tenga el menor riesgo son: {100*pesos_optimos.round(2)}')"
   ]
  },
  {
   "cell_type": "markdown",
   "metadata": {},
   "source": [
    "---"
   ]
  },
  {
   "cell_type": "markdown",
   "metadata": {},
   "source": [
    "### **Ejercicio de Optimización de Portafolio usando ratio de sharpe**"
   ]
  },
  {
   "cell_type": "markdown",
   "metadata": {},
   "source": [
    "## Problema de Optimización del Ratio de Sharpe\n",
    "\n",
    "**Objetivo**: Maximizar el ratio de Sharpe cuadrático de un portafolio de inversión.\n",
    "\n",
    "### Datos:\n",
    "- **Retornos Esperados**: Vector `retornos_esperados` con el retorno esperado de cada activo.\n",
    "- **Matriz de Covarianza**: Matriz `matriz_cov` que representa la covarianza entre los rendimientos de los activos.\n",
    "- **Tasa Libre de Riesgo**: Valor `tasa_libre_riesgo`, representando la tasa de retorno sin riesgo.\n",
    "\n",
    "### Solución:\n",
    "Buscamos los pesos que conforman la cartera con el mayor ratio de Sharpe, optimizando así la relación entre el retorno esperado y la volatilidad del portafolio.\n"
   ]
  },
  {
   "cell_type": "code",
   "execution_count": 109,
   "metadata": {},
   "outputs": [],
   "source": [
    "# Datos de ejemplo\n",
    "retornos_esperados = np.array([0.12, 0.10, 0.07, 0.09])\n",
    "\n",
    "matriz_cov = np.array([[1.6768397 , 0.66434839, 1.26288857, 1.85128714],\n",
    "                        [0.66434839, 0.69280958, 0.87199711, 0.55437544],\n",
    "                        [1.26288857, 0.87199711, 1.92091975, 1.5573455 ],\n",
    "                        [1.85128714, 0.55437544, 1.5573455 , 2.51120125]])\n",
    "\n",
    "tasa_libre_riesgo = 0.03"
   ]
  },
  {
   "cell_type": "code",
   "execution_count": 110,
   "metadata": {},
   "outputs": [],
   "source": [
    "# Variable de decisión\n",
    "pesos = cp.Variable(4)"
   ]
  },
  {
   "cell_type": "code",
   "execution_count": 111,
   "metadata": {},
   "outputs": [],
   "source": [
    "# Función objetivo (Ratio de Sharpe)\n",
    "retorno_portafolio = retornos_esperados @ pesos\n",
    "volatilidad_portafolio = cp.sqrt(cp.quad_form(pesos, matriz_cov))\n",
    "ratio_sharpe = (retorno_portafolio - tasa_libre_riesgo) / volatilidad_portafolio"
   ]
  },
  {
   "cell_type": "code",
   "execution_count": 112,
   "metadata": {},
   "outputs": [],
   "source": [
    "# Restricciones\n",
    "constraints = [cp.sum(pesos) == 1, pesos >= 0]"
   ]
  },
  {
   "cell_type": "code",
   "execution_count": 113,
   "metadata": {},
   "outputs": [
    {
     "name": "stdout",
     "output_type": "stream",
     "text": [
      "Error al resolver el problema: Problem does not follow DCP rules. Specifically:\n",
      "The objective is not DCP. Its following subexpressions are not:\n",
      "power(QuadForm(var710, [[1.68 0.66 1.26 1.85]\n",
      " [0.66 0.69 0.87 0.55]\n",
      " [1.26 0.87 1.92 1.56]\n",
      " [1.85 0.55 1.56 2.51]]), 0.5)\n"
     ]
    }
   ],
   "source": [
    "# Definición del problema\n",
    "problema = cp.Problem(cp.Maximize(ratio_sharpe), constraints)\n",
    "\n",
    "# Intentando resolver el problema\n",
    "try:\n",
    "    problema.solve()\n",
    "except Exception as e:\n",
    "    print(\"Error al resolver el problema:\", e)"
   ]
  }
 ],
 "metadata": {
  "kernelspec": {
   "display_name": "Python 3 (ipykernel)",
   "language": "python",
   "name": "python3"
  },
  "language_info": {
   "codemirror_mode": {
    "name": "ipython",
    "version": 3
   },
   "file_extension": ".py",
   "mimetype": "text/x-python",
   "name": "python",
   "nbconvert_exporter": "python",
   "pygments_lexer": "ipython3",
   "version": "3.11.6"
  }
 },
 "nbformat": 4,
 "nbformat_minor": 4
}
